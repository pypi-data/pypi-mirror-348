{
 "cells": [
  {
   "cell_type": "code",
   "execution_count": null,
   "metadata": {
    "colab": {
     "base_uri": "https://localhost:8080/"
    },
    "id": "1jC9CYFpLUFK",
    "outputId": "f38c5041-f815-472c-a9ad-a74ec2c056ee"
   },
   "outputs": [],
   "source": [
    "# !pip install symusic mido pretty_midi miditoolkit music21 matplotlib"
   ]
  },
  {
   "cell_type": "code",
   "execution_count": null,
   "metadata": {
    "colab": {
     "base_uri": "https://localhost:8080/"
    },
    "id": "oygHeqhtLUFM",
    "outputId": "09aad19a-783f-4288-8dd3-b568c9b983c7"
   },
   "outputs": [],
   "source": [
    "# !wget https://github.com/lzqlzzq/minimidi/raw/main/example/mahler.mid"
   ]
  },
  {
   "cell_type": "markdown",
   "metadata": {
    "id": "gPtW8uG4LUFN"
   },
   "source": [
    "# Load MIDI File\n",
    "\n",
    "* print each objects in symusic could get the corresponding summaries\n",
    "* Time unit is a quarter.\n",
    "* A *pyi* file have been generated, you can browse the members and functions of each class in it."
   ]
  },
  {
   "cell_type": "code",
   "execution_count": 7,
   "metadata": {
    "colab": {
     "base_uri": "https://localhost:8080/"
    },
    "id": "lO5sIUDOLUFO",
    "outputId": "8c48c5c7-84c6-4106-97e6-e6f3fcfb36bf"
   },
   "outputs": [
    {
     "name": "stdout",
     "output_type": "stream",
     "text": [
      "note_num:  60411\n",
      "start_time:  0\n",
      "end_time:  1435615\n"
     ]
    }
   ],
   "source": [
    "from symusic import Score\n",
    "score = Score(\"mahler.mid\")\n",
    "print(\"note_num: \", score.note_num())\n",
    "print(\"start_time: \", score.start())\n",
    "print(\"end_time: \", score.end())"
   ]
  },
  {
   "cell_type": "code",
   "execution_count": null,
   "metadata": {
    "colab": {
     "base_uri": "https://localhost:8080/"
    },
    "id": "v6b6VcS3bQLT",
    "outputId": "ff8f0c88-3bb3-475a-e008-2e1d95eda2de"
   },
   "outputs": [],
   "source": [
    "print(score.tempos)\n",
    "print(score.key_signatures)\n",
    "print(score.time_signatures)"
   ]
  },
  {
   "cell_type": "code",
   "execution_count": null,
   "metadata": {
    "colab": {
     "base_uri": "https://localhost:8080/"
    },
    "id": "FYkaBzW-LUFP",
    "outputId": "632e695a-c9c6-415e-d704-d71d019f4c24"
   },
   "outputs": [],
   "source": [
    "print(score.tempos[0])\n",
    "print(score.key_signatures[0])\n",
    "print(score.time_signatures[0])"
   ]
  },
  {
   "cell_type": "code",
   "execution_count": null,
   "metadata": {
    "colab": {
     "base_uri": "https://localhost:8080/"
    },
    "id": "XdzfTIMULUFP",
    "outputId": "4eef7993-dfee-4550-84d6-ec1cd49cf5d0"
   },
   "outputs": [],
   "source": [
    "print(\"track name: \", score.tracks[0].name)\n",
    "print(\"is_drum: \", score.tracks[0].is_drum)\n",
    "print(\"note_num: \", score.tracks[0].note_num())\n",
    "print(\"start: \", score.tracks[0].start())\n",
    "print(\"end: \", score.tracks[0].end())\n",
    "print(\"notes[0]: \", score.tracks[0].notes[0])\n",
    "print(\"notes[-1]: \", score.tracks[0].notes[-1])"
   ]
  },
  {
   "cell_type": "code",
   "execution_count": null,
   "metadata": {
    "colab": {
     "base_uri": "https://localhost:8080/"
    },
    "id": "yrl6VKzwLUFQ",
    "outputId": "cbdb5d73-d13a-40fa-95c9-29d780adbedc"
   },
   "outputs": [],
   "source": [
    "note = score.tracks[0].notes[0]\n",
    "print(\"start:\\t\\t\", note.start)\n",
    "print(\"duration:\\t\", note.duration)\n",
    "print(\"pitch:\\t\\t\", note.pitch)\n",
    "print(\"velocity:\\t\", note.velocity)"
   ]
  },
  {
   "cell_type": "markdown",
   "metadata": {
    "id": "iaOZNxk6Yp88"
   },
   "source": [
    "# Batch Processing\n",
    "\n",
    "* sort\n",
    "* shift_time\n",
    "* shift_pitch\n",
    "* shift_velocity\n",
    "* clip(start: float, end: float, clip_end: bool)\n",
    "* filter_notes(func: Callable)\n",
    "* note_array"
   ]
  },
  {
   "cell_type": "code",
   "execution_count": null,
   "metadata": {
    "colab": {
     "base_uri": "https://localhost:8080/"
    },
    "id": "PYn1Fc9MYpGx",
    "outputId": "7763477f-c5ee-4799-acbe-a81fce3567a0"
   },
   "outputs": [],
   "source": [
    "# inplace operation\n",
    "print(score.sort())\n",
    "print(score.tracks[0].sort())"
   ]
  },
  {
   "cell_type": "code",
   "execution_count": null,
   "metadata": {
    "colab": {
     "base_uri": "https://localhost:8080/"
    },
    "id": "0u3hr6AGZFnR",
    "outputId": "db303e7b-8ea7-49d8-e6ae-f53400c4094c"
   },
   "outputs": [],
   "source": [
    "# method chaining\n",
    "score.shift_time(10) \\\n",
    "     .shift_pitch(-6) \\\n",
    "     .shift_velocity(-7) \\\n",
    "     .sort()"
   ]
  },
  {
   "cell_type": "code",
   "execution_count": null,
   "metadata": {
    "colab": {
     "base_uri": "https://localhost:8080/"
    },
    "id": "GGcz6q0yZoh6",
    "outputId": "4e22d9d7-467f-41cb-df90-08118fe1897e"
   },
   "outputs": [],
   "source": [
    "score.tracks[1].clip(1000, 100000, True) # start: float, end: float, clip_end: bool"
   ]
  },
  {
   "cell_type": "code",
   "execution_count": null,
   "metadata": {
    "colab": {
     "base_uri": "https://localhost:8080/"
    },
    "id": "eiU2D9XDc30t",
    "outputId": "e284d341-c07d-49dd-e64f-6aba03ae9566"
   },
   "outputs": [],
   "source": [
    "from matplotlib import pyplot as plt\n",
    "score = score.resample(tpq=16, min_dur=1)\n",
    "frame_pianoroll = score.tracks[3].pianoroll(modes=['frame'], pitch_range=(0, 128), encode_velocity=False)\n",
    "print(\"frame_pianoroll\", frame_pianoroll.dtype, frame_pianoroll.shape)\n",
    "onset_pianoroll = score.tracks[1].pianoroll(modes=['onset'], pitch_range =(0, 128), encode_velocity=False)\n",
    "print(\"onset_pianoroll\", onset_pianoroll.dtype, onset_pianoroll.shape)\n",
    "pianoroll = score.tracks[1].pianoroll(modes=['onset', 'frame'], pitch_range =(0, 128), encode_velocity=False)\n",
    "print(\"both_pianoroll\", pianoroll.dtype, pianoroll.shape)\n",
    "\n",
    "total = score.pianoroll(modes=['frame']).max(axis=(0, 1)).astype(int)\n",
    "plt.imshow(total, aspect='auto')"
   ]
  },
  {
   "cell_type": "markdown",
   "metadata": {
    "id": "TunMY7rGLUFQ"
   },
   "source": [
    "# Benchmark\n",
    "\n",
    "## MIDI Parsing\n",
    "\n",
    "* mido is writen in pure python, and only parsing midi file to event level\n",
    "* pretty_midi and miditoolkit is based on mido"
   ]
  },
  {
   "cell_type": "code",
   "execution_count": 8,
   "metadata": {
    "id": "KKKW8JljLUFR"
   },
   "outputs": [],
   "source": [
    "import mido, music21\n",
    "import pretty_midi as pm\n",
    "import miditoolkit as mtk\n",
    "p = \"mahler.mid\""
   ]
  },
  {
   "cell_type": "code",
   "execution_count": 9,
   "metadata": {
    "colab": {
     "base_uri": "https://localhost:8080/"
    },
    "id": "BZ7zTxdGLUFR",
    "outputId": "e451a265-42fd-47fc-b48d-5c83a94dc14d"
   },
   "outputs": [
    {
     "name": "stdout",
     "output_type": "stream",
     "text": [
      "3.22 ms ± 255 μs per loop (mean ± std. dev. of 7 runs, 100 loops each)\n"
     ]
    }
   ],
   "source": [
    "%%timeit\n",
    "Score(p)"
   ]
  },
  {
   "cell_type": "code",
   "execution_count": 10,
   "metadata": {
    "colab": {
     "base_uri": "https://localhost:8080/"
    },
    "id": "PFPvSmJBLUFS",
    "outputId": "534187bb-c8c3-4a61-bf57-56fb34be2c86"
   },
   "outputs": [
    {
     "name": "stdout",
     "output_type": "stream",
     "text": [
      "1.48 s ± 18.8 ms per loop (mean ± std. dev. of 7 runs, 1 loop each)\n"
     ]
    }
   ],
   "source": [
    "%%timeit\n",
    "# mido is writen in pure python, and only parsing midi file to event level\n",
    "mido.MidiFile(p)"
   ]
  },
  {
   "cell_type": "code",
   "execution_count": null,
   "metadata": {
    "colab": {
     "base_uri": "https://localhost:8080/"
    },
    "id": "wGJ0OnE6LUFS",
    "outputId": "0479eff7-3dc4-479d-f02b-f09734e7f928"
   },
   "outputs": [],
   "source": [
    "%%timeit\n",
    "pm.PrettyMIDI(p)"
   ]
  },
  {
   "cell_type": "code",
   "execution_count": null,
   "metadata": {
    "colab": {
     "base_uri": "https://localhost:8080/"
    },
    "id": "kTF9cTUBLUFT",
    "outputId": "6fbf0963-1329-47d7-ccc9-227b8914b9f1"
   },
   "outputs": [],
   "source": [
    "%%timeit\n",
    "mtk.MidiFile(p)"
   ]
  },
  {
   "cell_type": "code",
   "execution_count": null,
   "metadata": {
    "colab": {
     "base_uri": "https://localhost:8080/"
    },
    "id": "4aRmyoYPLUFT",
    "outputId": "effd7541-df89-4c87-8618-325d2073664c"
   },
   "outputs": [],
   "source": [
    "%%timeit\n",
    "music21.converter.parse(p)"
   ]
  },
  {
   "cell_type": "markdown",
   "metadata": {
    "id": "P4WwHyBwd2JC"
   },
   "source": [
    "## Bench Processing\n"
   ]
  },
  {
   "cell_type": "code",
   "execution_count": 19,
   "metadata": {
    "id": "nl7QrFqqeA0K"
   },
   "outputs": [],
   "source": [
    "score = Score(p)\n",
    "score2 = score.copy()\n",
    "score_quant = score.resample(tpq=16, min_dur=1)"
   ]
  },
  {
   "cell_type": "code",
   "execution_count": 16,
   "metadata": {
    "colab": {
     "base_uri": "https://localhost:8080/"
    },
    "id": "9kkPPSLYekkt",
    "outputId": "fdba9ddb-a5f2-454a-e5fc-7423c797599e"
   },
   "outputs": [
    {
     "name": "stdout",
     "output_type": "stream",
     "text": [
      "296 μs ± 23.5 μs per loop (mean ± std. dev. of 7 runs, 1,000 loops each)\n"
     ]
    }
   ],
   "source": [
    "%%timeit\n",
    "score.copy()"
   ]
  },
  {
   "cell_type": "code",
   "execution_count": 17,
   "metadata": {
    "colab": {
     "base_uri": "https://localhost:8080/"
    },
    "id": "SX7QdfpQd1eW",
    "outputId": "012d0540-fe24-4ceb-972c-8f1ac9707817"
   },
   "outputs": [
    {
     "name": "stdout",
     "output_type": "stream",
     "text": [
      "452 μs ± 24.4 μs per loop (mean ± std. dev. of 7 runs, 1,000 loops each)\n"
     ]
    }
   ],
   "source": [
    "%%timeit\n",
    "score.shift_pitch(10)"
   ]
  },
  {
   "cell_type": "code",
   "execution_count": 20,
   "metadata": {
    "colab": {
     "base_uri": "https://localhost:8080/"
    },
    "id": "w3mQlDdkeNbK",
    "outputId": "36028a05-3bcd-4473-e3a4-58e785f369bc"
   },
   "outputs": [
    {
     "name": "stdout",
     "output_type": "stream",
     "text": [
      "132 ms ± 8.34 ms per loop (mean ± std. dev. of 7 runs, 10 loops each)\n"
     ]
    }
   ],
   "source": [
    "%%timeit\n",
    "score_quant.pianoroll(modes=['frame', 'onset'], pitch_range=(0, 128), encode_velocity=True)"
   ]
  }
 ],
 "metadata": {
  "colab": {
   "provenance": []
  },
  "kernelspec": {
   "display_name": "Python 3 (ipykernel)",
   "language": "python",
   "name": "python3"
  },
  "language_info": {
   "codemirror_mode": {
    "name": "ipython",
    "version": 3
   },
   "file_extension": ".py",
   "mimetype": "text/x-python",
   "name": "python",
   "nbconvert_exporter": "python",
   "pygments_lexer": "ipython3",
   "version": "3.10.14"
  }
 },
 "nbformat": 4,
 "nbformat_minor": 1
}
