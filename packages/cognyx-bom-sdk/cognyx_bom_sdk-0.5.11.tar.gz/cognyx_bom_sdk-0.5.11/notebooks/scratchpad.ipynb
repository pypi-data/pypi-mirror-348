{
 "cells": [
  {
   "cell_type": "markdown",
   "metadata": {},
   "source": [
    "# Cognyx client debug notebook\n",
    "\n",
    "This notebook is used to debug the Cognyx client used in cognyx automations.\n",
    "you will need a .env file with a JWT token to run this notebook. You can get this after logging into the cognyx app.\n",
    "\n",
    "In the cell below, define the bom_id and view_id you want to use (view_id will default to default view if not provided)"
   ]
  },
  {
   "cell_type": "code",
   "execution_count": 1,
   "metadata": {},
   "outputs": [],
   "source": [
    "import os\n",
    "\n",
    "jwt = os.getenv(\"COGNYX_TOKEN\")\n",
    "\n",
    "bom_id = \"eca4a66c-43ab-4e44-b641-82ad9571672f\"\n",
    "view_id = None\n",
    "base_url = \"http://localhost:4000\"\n",
    "\n",
    "if not bom_id:\n",
    "    raise ValueError(\"bom_id is required\")"
   ]
  },
  {
   "cell_type": "markdown",
   "metadata": {},
   "source": [
    "It will load the bom data and return it."
   ]
  },
  {
   "cell_type": "code",
   "execution_count": 2,
   "metadata": {},
   "outputs": [
    {
     "name": "stdout",
     "output_type": "stream",
     "text": [
      "{'id': 'eca4a66c-43ab-4e44-b641-82ad9571672f', 'name': 'Automations Test', 'description': 'This bom demos automations', 'reference': 'AUTOMATIONS_TEST_1', 'image': '', 'status': 'draft', 'failure_reason': None, 'created_at': '2025-04-29T05:41:13.000000Z', 'updated_at': '2025-05-15T11:08:42.000000Z', 'auth': {'can': {'view': True, 'update': True, 'delete': True, 'share': True, 'comment': True, 'create': True, 'create_revision': True}}}\n"
     ]
    }
   ],
   "source": [
    "from cognyx_bom_sdk.cognyx import CognyxClient\n",
    "\n",
    "cognyx = CognyxClient(base_url=base_url, jwt_token=jwt)\n",
    "\n",
    "bom_data = await cognyx.load_bom_data(bom_id, view_id)"
   ]
  },
  {
   "cell_type": "markdown",
   "metadata": {},
   "source": [
    "When the bom is loaded it will then initialize the BomClient"
   ]
  },
  {
   "cell_type": "code",
   "execution_count": 3,
   "metadata": {},
   "outputs": [],
   "source": [
    "from cognyx_bom_sdk.client import BomClient\n",
    "\n",
    "\n",
    "def update_callback(update: dict) -> None:\n",
    "    \"\"\"Callback function to handle updates to the BOM.\"\"\"\n",
    "    print(\"Update:\", update)\n",
    "\n",
    "\n",
    "client = BomClient(bom_data=bom_data, update_callback=update_callback)"
   ]
  },
  {
   "cell_type": "code",
   "execution_count": 4,
   "metadata": {},
   "outputs": [
    {
     "name": "stdout",
     "output_type": "stream",
     "text": [
      "Upper Assembly\n",
      "Update: {'type': <BomUpdates.ATTRIBUTE_UPDATE: 'attribute_update'>, 'payload': {'instance_id': 'fe1ffe16-7a71-4060-b9f8-82f2780168fd', 'attribute_id': '29a09f20-2e12-487b-860f-ede201add37f', 'attribute_value': 1}}\n",
      "Update: {'type': <BomUpdates.ATTRIBUTE_UPDATE: 'attribute_update'>, 'payload': {'instance_id': 'fe1ffe16-7a71-4060-b9f8-82f2780168fd', 'attribute_id': 'b02d1827-2714-412a-a470-330ddb38d3a3', 'attribute_value': 200}}\n",
      "{'data': [{'id': 'fe1ffe16-7a71-4060-b9f8-82f2780168fd', 'entity_type_id': 'd032cb72-70fe-47a4-a685-b616304dff4e', 'sync_key': '6b7b3377-c2bc-4a33-bfbb-591c6c1c3c6d', 'reference': 'upper_assembly', 'name': 'Upper Assembly', 'description': 'Option F1 - Vibration welding', 'bom_id': 'eca4a66c-43ab-4e44-b641-82ad9571672f', 'parent_id': None, 'view_id': '2a39468f-c853-46f9-9d9b-ddd763b60263', 'quantity': 1, 'uom': 'pc', 'created_at': '2025-04-30T11:59:09.000000Z', 'updated_at': '2025-05-15T09:40:04.000000Z'}]}\n",
      "{'data': [{'id': 'fe1ffe16-7a71-4060-b9f8-82f2780168fd', 'entity_type_id': 'd032cb72-70fe-47a4-a685-b616304dff4e', 'sync_key': '6b7b3377-c2bc-4a33-bfbb-591c6c1c3c6d', 'reference': 'upper_assembly', 'name': 'Upper Assembly', 'description': 'Option F1 - Vibration welding', 'bom_id': 'eca4a66c-43ab-4e44-b641-82ad9571672f', 'parent_id': None, 'view_id': '2a39468f-c853-46f9-9d9b-ddd763b60263', 'quantity': 1, 'uom': 'pc', 'created_at': '2025-04-30T11:59:09.000000Z', 'updated_at': '2025-05-15T09:40:04.000000Z'}]}\n"
     ]
    }
   ],
   "source": [
    "instance = client.get_bom_instance_by_id(\"fe1ffe16-7a71-4060-b9f8-82f2780168fd\")\n",
    "\n",
    "print(instance.name)\n",
    "\n",
    "client.set_instance_attribute(instance.id, \"severity\", 1)\n",
    "client.set_instance_attribute(instance.id, \"Wall thickness (mm)\", 200)\n",
    "\n",
    "await cognyx.update_instance_attribute(instance.id, \"29a09f20-2e12-487b-860f-ede201add37f\", 1)\n",
    "\n",
    "await cognyx.update_instance_attribute(instance.id, \"b02d1827-2714-412a-a470-330ddb38d3a3\", 300)"
   ]
  },
  {
   "cell_type": "markdown",
   "metadata": {},
   "source": [
    "You can now use the client to interact with the BOM."
   ]
  },
  {
   "cell_type": "code",
   "execution_count": 5,
   "metadata": {},
   "outputs": [
    {
     "data": {
      "text/plain": [
       "0"
      ]
     },
     "execution_count": 5,
     "metadata": {},
     "output_type": "execute_result"
    }
   ],
   "source": [
    "from functools import reduce\n",
    "\n",
    "from cognyx_bom_sdk.models import BomInstance\n",
    "\n",
    "mass_attribute = \"added mass g\"\n",
    "\n",
    "\n",
    "def get_instance_mass(instance: BomInstance) -> int:\n",
    "    \"\"\"Get the mass of a BOM instance.\n",
    "\n",
    "    Args:\n",
    "        instance: BOM instance\n",
    "\n",
    "    Returns:\n",
    "        The mass of the instance\n",
    "    \"\"\"\n",
    "    instance_mass = client.get_instance_attribute(instance.id, mass_attribute)\n",
    "\n",
    "    if instance_mass is None:\n",
    "        return 0\n",
    "\n",
    "    print(f\"instance {instance.name} weighs {instance_mass}g\")\n",
    "    return instance.quantity * instance_mass\n",
    "\n",
    "\n",
    "reduce(lambda total, instance: total + get_instance_mass(instance), client.list_bom_instances(), 0)"
   ]
  },
  {
   "cell_type": "code",
   "execution_count": 6,
   "metadata": {},
   "outputs": [
    {
     "ename": "AttributeError",
     "evalue": "'NoneType' object has no attribute 'id'",
     "output_type": "error",
     "traceback": [
      "\u001b[31m---------------------------------------------------------------------------\u001b[39m",
      "\u001b[31mAttributeError\u001b[39m                            Traceback (most recent call last)",
      "\u001b[36mCell\u001b[39m\u001b[36m \u001b[39m\u001b[32mIn[6]\u001b[39m\u001b[32m, line 2\u001b[39m\n\u001b[32m      1\u001b[39m instance = client.get_bom_instance(\u001b[33m\"\u001b[39m\u001b[33mbranch a\u001b[39m\u001b[33m\"\u001b[39m)\n\u001b[32m----> \u001b[39m\u001b[32m2\u001b[39m attribute = client.get_instance_attribute(\u001b[43minstance\u001b[49m\u001b[43m.\u001b[49m\u001b[43mid\u001b[49m, \u001b[33m\"\u001b[39m\u001b[33mcountry\u001b[39m\u001b[33m\"\u001b[39m)\n\u001b[32m      4\u001b[39m result = \u001b[38;5;28;01mawait\u001b[39;00m cognyx.update_instance(instance.id, {\u001b[33m\"\u001b[39m\u001b[33mquantity\u001b[39m\u001b[33m\"\u001b[39m: \u001b[32m3\u001b[39m})\n\u001b[32m      7\u001b[39m attribute_change = \u001b[38;5;28;01mawait\u001b[39;00m cognyx.update_instance_attribute(\n\u001b[32m      8\u001b[39m     instance.id, \u001b[33m\"\u001b[39m\u001b[33mc782de11-0d87-4f07-91f3-9461edbbf3d2\u001b[39m\u001b[33m\"\u001b[39m, \u001b[33m\"\u001b[39m\u001b[33mIndia\u001b[39m\u001b[33m\"\u001b[39m\n\u001b[32m      9\u001b[39m )\n",
      "\u001b[31mAttributeError\u001b[39m: 'NoneType' object has no attribute 'id'"
     ]
    }
   ],
   "source": [
    "instance = client.get_bom_instance(\"branch a\")\n",
    "attribute = client.get_instance_attribute(instance.id, \"country\")\n",
    "\n",
    "result = await cognyx.update_instance(instance.id, {\"quantity\": 3})\n",
    "\n",
    "\n",
    "attribute_change = await cognyx.update_instance_attribute(\n",
    "    instance.id, \"c782de11-0d87-4f07-91f3-9461edbbf3d2\", \"India\"\n",
    ")\n",
    "\n",
    "attribute_value = None\n",
    "for attr in attribute_change.custom_attributes:\n",
    "    if attr.name.lower() == \"country\":\n",
    "        attribute_value = attr.value\n",
    "        break\n",
    "\n",
    "attribute_value"
   ]
  }
 ],
 "metadata": {
  "kernelspec": {
   "display_name": ".venv",
   "language": "python",
   "name": "python3"
  },
  "language_info": {
   "codemirror_mode": {
    "name": "ipython",
    "version": 3
   },
   "file_extension": ".py",
   "mimetype": "text/x-python",
   "name": "python",
   "nbconvert_exporter": "python",
   "pygments_lexer": "ipython3",
   "version": "3.11.11"
  }
 },
 "nbformat": 4,
 "nbformat_minor": 2
}
