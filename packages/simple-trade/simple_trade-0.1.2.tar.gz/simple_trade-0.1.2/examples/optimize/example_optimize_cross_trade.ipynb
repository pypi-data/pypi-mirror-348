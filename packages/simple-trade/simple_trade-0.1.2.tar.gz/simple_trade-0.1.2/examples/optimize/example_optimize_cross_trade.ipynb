{
 "cells": [
  {
   "cell_type": "markdown",
   "metadata": {},
   "source": [
    "### Load Functions"
   ]
  },
  {
   "cell_type": "code",
   "execution_count": 1,
   "metadata": {},
   "outputs": [],
   "source": [
    "from simple_trade import download_data, compute_indicator\n",
    "from simple_trade import CrossTradeBacktester\n",
    "from simple_trade import Optimizer"
   ]
  },
  {
   "cell_type": "markdown",
   "metadata": {},
   "source": [
    "### Load Data"
   ]
  },
  {
   "cell_type": "code",
   "execution_count": 2,
   "metadata": {},
   "outputs": [],
   "source": [
    "ticker = \"AAPL\"\n",
    "start_date = \"2020-01-01\"\n",
    "end_date = \"2023-12-31\"\n",
    "\n",
    "data = download_data(ticker, start_date, end_date)"
   ]
  },
  {
   "cell_type": "markdown",
   "metadata": {},
   "source": [
    "### Load Optimization Parameters"
   ]
  },
  {
   "cell_type": "code",
   "execution_count": 3,
   "metadata": {},
   "outputs": [],
   "source": [
    "# --- Optimization Parameters ---\n",
    "# Define the parameter grid to search\n",
    "param_grid = {\n",
    "    'short_window': [10, 20, 30],\n",
    "    'long_window': [50, 100, 150],\n",
    "}\n",
    "\n",
    "# Define constant parameters for the backtester\n",
    "initial_capital = 100000\n",
    "commission_fee_long = 0.001 # 0.1%\n",
    "commission_fee_short = 0.001 # 0.1%\n",
    "constant_params = {\n",
    "    'initial_cash': initial_capital, \n",
    "    'commission_long': commission_fee_long,\n",
    "    'commission_short': commission_fee_short,\n",
    "    'price_col': 'Close'\n",
    "}\n",
    "\n",
    "# Define the metric to optimize and whether to maximize or minimize\n",
    "metric_to_optimize = 'total_return_pct'\n",
    "maximize_metric = True"
   ]
  },
  {
   "cell_type": "markdown",
   "metadata": {},
   "source": [
    "### Define Wrapper Function"
   ]
  },
  {
   "cell_type": "code",
   "execution_count": 4,
   "metadata": {},
   "outputs": [],
   "source": [
    "# Define a wrapper function to handle computing indicators and running the backtest\n",
    "def run_cross_trade_with_windows(data, short_window, long_window, **kwargs):\n",
    "    # Work on a copy of the data\n",
    "    df = data.copy()\n",
    "    \n",
    "    # Compute the SMA indicators\n",
    "    df = compute_indicator(df, indicator='sma', parameters={'window': short_window}, columns={'close_col': 'Close'})\n",
    "    df = compute_indicator(df, indicator='sma', parameters={'window': long_window}, columns={'close_col': 'Close'})\n",
    "    \n",
    "    # Get the indicator column names\n",
    "    short_window_indicator = f\"SMA_{short_window}\"\n",
    "    long_window_indicator = f\"SMA_{long_window}\"\n",
    "    \n",
    "    # Create a backtester instance\n",
    "    backtester = CrossTradeBacktester(\n",
    "        initial_cash=kwargs.pop('initial_cash', 10000),\n",
    "        commission_long=kwargs.pop('commission_long', 0.001),\n",
    "        commission_short=kwargs.pop('commission_short', 0.001),\n",
    "        short_borrow_fee_inc_rate=kwargs.pop('short_borrow_fee_inc_rate', 0.0),\n",
    "        long_borrow_fee_inc_rate=kwargs.pop('long_borrow_fee_inc_rate', 0.0)\n",
    "    )\n",
    "    \n",
    "    # Run the backtest\n",
    "    return backtester.run_cross_trade(\n",
    "        data=df,\n",
    "        short_window_indicator=short_window_indicator,\n",
    "        long_window_indicator=long_window_indicator,\n",
    "        **kwargs\n",
    "    )"
   ]
  },
  {
   "cell_type": "markdown",
   "metadata": {},
   "source": [
    "### Start Optimizer"
   ]
  },
  {
   "cell_type": "code",
   "execution_count": 5,
   "metadata": {},
   "outputs": [
    {
     "name": "stdout",
     "output_type": "stream",
     "text": [
      "Initializing Optimizer...\n",
      "Generated 9 parameter combinations.\n",
      "\n",
      "Running Optimization (Parallel)...\n",
      "Starting optimization for 9 combinations...\n",
      "Metric: total_return_pct (Maximize) | Parallel: True (n_jobs=-1)\n",
      "Using 16 parallel jobs.\n"
     ]
    },
    {
     "name": "stderr",
     "output_type": "stream",
     "text": [
      "[Parallel(n_jobs=16)]: Using backend LokyBackend with 16 concurrent workers.\n",
      "[Parallel(n_jobs=16)]: Done   2 out of   9 | elapsed:    9.9s remaining:   35.0s\n",
      "[Parallel(n_jobs=16)]: Done   4 out of   9 | elapsed:   10.1s remaining:   12.7s\n",
      "[Parallel(n_jobs=16)]: Done   6 out of   9 | elapsed:   10.3s remaining:    5.1s\n"
     ]
    },
    {
     "name": "stdout",
     "output_type": "stream",
     "text": [
      "Optimization finished in 10.69 seconds.\n",
      "Best Parameters found: {'short_window': 10, 'long_window': 50}\n",
      "Best Metric Value (total_return_pct): 89.0500\n",
      "\n",
      "--- Optimization Results ---\n",
      "\n",
      "--- Top 5 Parameter Combinations ---\n",
      "1. Params: {'short_window': 10, 'long_window': 50}, Metric: 89.0500\n",
      "2. Params: {'short_window': 20, 'long_window': 50}, Metric: 76.6100\n",
      "3. Params: {'short_window': 30, 'long_window': 50}, Metric: 60.6400\n",
      "4. Params: {'short_window': 10, 'long_window': 150}, Metric: 19.4100\n",
      "5. Params: {'short_window': 20, 'long_window': 100}, Metric: 10.9600\n"
     ]
    },
    {
     "name": "stderr",
     "output_type": "stream",
     "text": [
      "[Parallel(n_jobs=16)]: Done   9 out of   9 | elapsed:   10.6s finished\n"
     ]
    }
   ],
   "source": [
    "# --- Instantiate and Run Optimizer ---\n",
    "print(\"Initializing Optimizer...\")\n",
    "optimizer = Optimizer(\n",
    "    data=data,\n",
    "    backtest_func=run_cross_trade_with_windows,  # Use our wrapper function\n",
    "    param_grid=param_grid,\n",
    "    metric_to_optimize=metric_to_optimize,\n",
    "    maximize_metric=maximize_metric,\n",
    "    constant_params=constant_params\n",
    ")\n",
    "\n",
    "print(\"\\nRunning Optimization (Parallel)...\")\n",
    "# Run optimization with parallel processing (adjust n_jobs as needed)\n",
    "results = optimizer.optimize(parallel=True, n_jobs=-1) # n_jobs=-1 uses all available cores\n",
    "\n",
    "# --- Display Results ---\n",
    "print(\"\\n--- Optimization Results ---\")\n",
    "\n",
    "# Unpack results\n",
    "best_params, best_metric_value, all_results = results\n",
    "\n",
    "print(\"\\n--- Top 5 Parameter Combinations ---\")\n",
    "# Sort results for display\n",
    "sorted_results = sorted(all_results, key=lambda x: x[1], reverse=maximize_metric)\n",
    "for i, (params, metric_val) in enumerate(sorted_results[:5]):\n",
    "    print(f\"{i+1}. Params: {params}, Metric: {metric_val:.4f}\")"
   ]
  }
 ],
 "metadata": {
  "kernelspec": {
   "display_name": "myenv",
   "language": "python",
   "name": "python3"
  },
  "language_info": {
   "codemirror_mode": {
    "name": "ipython",
    "version": 3
   },
   "file_extension": ".py",
   "mimetype": "text/x-python",
   "name": "python",
   "nbconvert_exporter": "python",
   "pygments_lexer": "ipython3",
   "version": "3.11.4"
  }
 },
 "nbformat": 4,
 "nbformat_minor": 2
}
