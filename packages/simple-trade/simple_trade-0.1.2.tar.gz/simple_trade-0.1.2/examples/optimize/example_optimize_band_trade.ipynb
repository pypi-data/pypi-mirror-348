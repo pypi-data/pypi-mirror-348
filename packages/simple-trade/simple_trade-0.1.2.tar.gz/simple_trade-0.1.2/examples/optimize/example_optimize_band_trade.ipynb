{
 "cells": [
  {
   "cell_type": "markdown",
   "metadata": {},
   "source": [
    "### Load Functions"
   ]
  },
  {
   "cell_type": "code",
   "execution_count": 1,
   "metadata": {},
   "outputs": [],
   "source": [
    "from simple_trade import download_data, compute_indicator\n",
    "from simple_trade import BandTradeBacktester\n",
    "from simple_trade import Optimizer"
   ]
  },
  {
   "cell_type": "markdown",
   "metadata": {},
   "source": [
    "### Load Data"
   ]
  },
  {
   "cell_type": "code",
   "execution_count": 2,
   "metadata": {},
   "outputs": [],
   "source": [
    "ticker = 'SPY'\n",
    "start_date = '2020-01-01'\n",
    "end_date = '2024-12-31'\n",
    "\n",
    "data = download_data(ticker, start_date, end_date)"
   ]
  },
  {
   "cell_type": "markdown",
   "metadata": {},
   "source": [
    "### Load Optimization Parameters"
   ]
  },
  {
   "cell_type": "code",
   "execution_count": 3,
   "metadata": {},
   "outputs": [],
   "source": [
    "# --- Optimization Parameters ---\n",
    "# Define the parameter grid to search\n",
    "param_grid = {\n",
    "    'rsi_window': [12, 14, 16],\n",
    "    'rsi_lower_threshold': [20, 30],\n",
    "    'rsi_upper_threshold': [70, 80],\n",
    "}\n",
    "\n",
    "# Define constant parameters for the backtester\n",
    "initial_capital = 100000\n",
    "commission_fee_long = 0.001 # 0.1%\n",
    "commission_fee_short = 0.001 # 0.1%\n",
    "constant_params = {\n",
    "    'initial_cash': initial_capital, \n",
    "    'commission_long': commission_fee_long,\n",
    "    'commission_short': commission_fee_short,\n",
    "    'price_col': 'Close'\n",
    "}\n",
    "\n",
    "# Define the metric to optimize and whether to maximize or minimize\n",
    "metric_to_optimize = 'total_return_pct'\n",
    "maximize_metric = True"
   ]
  },
  {
   "cell_type": "markdown",
   "metadata": {},
   "source": [
    "### Define Wrapper Function"
   ]
  },
  {
   "cell_type": "code",
   "execution_count": 4,
   "metadata": {},
   "outputs": [],
   "source": [
    "def run_band_trade_with_windows(data, rsi_upper_threshold, rsi_lower_threshold, rsi_window, **kwargs):\n",
    "    \"\"\"\n",
    "    Wrapper function to compute indicators and run the band trade backtest.\n",
    "    \"\"\"\n",
    "    # Work on a copy of the data\n",
    "    df = data.copy()\n",
    "    \n",
    "    # Set up threshold columns\n",
    "    upper_threshold_col = 'RSI_Upper'\n",
    "    lower_threshold_col = 'RSI_Lower'\n",
    "    df[upper_threshold_col] = rsi_upper_threshold\n",
    "    df[lower_threshold_col] = rsi_lower_threshold\n",
    "\n",
    "    # Compute RSI indicator\n",
    "    df = compute_indicator(df, indicator='rsi', parameters={'window': rsi_window}, columns={'close_col': 'Close'})\n",
    "    indicator_col = f'RSI_{rsi_window}'\n",
    "    \n",
    "    # Create a backtester instance\n",
    "    backtester = BandTradeBacktester(\n",
    "        initial_cash=kwargs.pop('initial_cash', 10000),\n",
    "        commission_long=kwargs.pop('commission_long', 0.001),\n",
    "        commission_short=kwargs.pop('commission_short', 0.001),\n",
    "        short_borrow_fee_inc_rate=kwargs.pop('short_borrow_fee_inc_rate', 0.0),\n",
    "        long_borrow_fee_inc_rate=kwargs.pop('long_borrow_fee_inc_rate', 0.0)\n",
    "    )\n",
    "    \n",
    "    # Run the backtest with the properly named method\n",
    "    return backtester.run_band_trade(\n",
    "        data=df,\n",
    "        indicator_col=indicator_col,\n",
    "        upper_band_col=upper_threshold_col,\n",
    "        lower_band_col=lower_threshold_col,\n",
    "        **kwargs\n",
    "    )"
   ]
  },
  {
   "cell_type": "markdown",
   "metadata": {},
   "source": [
    "### Start Optimizer"
   ]
  },
  {
   "cell_type": "code",
   "execution_count": 5,
   "metadata": {},
   "outputs": [
    {
     "name": "stdout",
     "output_type": "stream",
     "text": [
      "Initializing Optimizer...\n",
      "Generated 12 parameter combinations.\n",
      "\n",
      "Running Optimization (Parallel)...\n",
      "Starting optimization for 12 combinations...\n",
      "Metric: total_return_pct (Maximize) | Parallel: True (n_jobs=1)\n",
      "Using 1 parallel jobs.\n",
      "Computing RSI...\n",
      "Computing RSI...\n",
      "Computing RSI...\n",
      "Computing RSI...\n",
      "Computing RSI...\n",
      "Computing RSI...\n",
      "Computing RSI...\n",
      "Computing RSI...\n",
      "Computing RSI...\n",
      "Computing RSI...\n",
      "Computing RSI...\n",
      "Computing RSI...\n",
      "Optimization finished in 1.59 seconds.\n",
      "Best Parameters found: {'rsi_window': 12, 'rsi_lower_threshold': 30, 'rsi_upper_threshold': 80}\n",
      "Best Metric Value (total_return_pct): 38.4200\n",
      "\n",
      "--- Optimization Results ---\n",
      "\n",
      "--- Top 5 Parameter Combinations ---\n",
      "1. Params: {'rsi_window': 12, 'rsi_lower_threshold': 30, 'rsi_upper_threshold': 80}, Metric: 38.4200\n",
      "2. Params: {'rsi_window': 16, 'rsi_lower_threshold': 30, 'rsi_upper_threshold': 80}, Metric: 28.1200\n",
      "3. Params: {'rsi_window': 14, 'rsi_lower_threshold': 30, 'rsi_upper_threshold': 80}, Metric: 27.9500\n",
      "4. Params: {'rsi_window': 12, 'rsi_lower_threshold': 20, 'rsi_upper_threshold': 80}, Metric: 26.8200\n",
      "5. Params: {'rsi_window': 16, 'rsi_lower_threshold': 30, 'rsi_upper_threshold': 70}, Metric: 21.3300\n"
     ]
    },
    {
     "name": "stderr",
     "output_type": "stream",
     "text": [
      "[Parallel(n_jobs=1)]: Done  12 out of  12 | elapsed:    1.5s finished\n"
     ]
    }
   ],
   "source": [
    "# --- Instantiate and Run Optimizer ---\n",
    "print(\"Initializing Optimizer...\")\n",
    "optimizer = Optimizer(\n",
    "    data=data,\n",
    "    backtest_func=run_band_trade_with_windows,  # Use our wrapper function\n",
    "    param_grid=param_grid,\n",
    "    metric_to_optimize=metric_to_optimize,\n",
    "    maximize_metric=maximize_metric,\n",
    "    constant_params=constant_params\n",
    ")\n",
    "\n",
    "print(\"\\nRunning Optimization (Parallel)...\")\n",
    "# Run optimization with parallel processing (adjust n_jobs as needed)\n",
    "results = optimizer.optimize(parallel=True, n_jobs=1) # n_jobs=-1 uses all available cores\n",
    "\n",
    "# --- Display Results ---\n",
    "print(\"\\n--- Optimization Results ---\")\n",
    "\n",
    "# Unpack results\n",
    "best_params, best_metric_value, all_results = results\n",
    "\n",
    "print(\"\\n--- Top 5 Parameter Combinations ---\")\n",
    "# Sort results for display\n",
    "sorted_results = sorted(all_results, key=lambda x: x[1], reverse=maximize_metric)\n",
    "for i, (params, metric_val) in enumerate(sorted_results[:5]):\n",
    "    print(f\"{i+1}. Params: {params}, Metric: {metric_val:.4f}\")"
   ]
  }
 ],
 "metadata": {
  "kernelspec": {
   "display_name": "myenv",
   "language": "python",
   "name": "python3"
  },
  "language_info": {
   "codemirror_mode": {
    "name": "ipython",
    "version": 3
   },
   "file_extension": ".py",
   "mimetype": "text/x-python",
   "name": "python",
   "nbconvert_exporter": "python",
   "pygments_lexer": "ipython3",
   "version": "3.11.4"
  }
 },
 "nbformat": 4,
 "nbformat_minor": 2
}
