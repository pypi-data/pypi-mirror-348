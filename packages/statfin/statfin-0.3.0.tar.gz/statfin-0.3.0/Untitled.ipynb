{
 "cells": [
  {
   "cell_type": "code",
   "execution_count": 1,
   "id": "61e52c3c-965d-4205-8309-00111bb818ba",
   "metadata": {},
   "outputs": [],
   "source": [
    "import statfin\n",
    "from matplotlib import pyplot as plt"
   ]
  },
  {
   "cell_type": "code",
   "execution_count": 2,
   "id": "c6d1b958-97aa-4935-a8f5-f3bc63be7dfb",
   "metadata": {},
   "outputs": [
    {
     "data": {
      "text/plain": [
       "statfin.Table\n",
       "  url: https://statfin.stat.fi/PXWeb/api/v1/fi/StatFin/ehi/statfin_ehi_pxt_12ge.px\n",
       "  title: Polttonesteiden kuluttajahinnat (sisältää alv:n) muuttujina Kuukausi, Polttoneste ja Tiedot\n",
       "  variables:\n",
       "    [444] Kuukausi    Kuukausi   \n",
       "    [4]   Polttoneste Polttoneste\n",
       "    [2]   Tiedot      Tiedot     "
      ]
     },
     "execution_count": 2,
     "metadata": {},
     "output_type": "execute_result"
    }
   ],
   "source": [
    "db = statfin.Vero()\n",
    "tbl = db.Vero.Henk.lopulliset.\n",
    "tbl"
   ]
  },
  {
   "cell_type": "code",
   "execution_count": 7,
   "id": "e9b377a4-15ce-425e-a95c-b9e6ca2e903b",
   "metadata": {},
   "outputs": [],
   "source": [
    "df = tbl.query()()"
   ]
  },
  {
   "cell_type": "code",
   "execution_count": 8,
   "id": "0902a76d-0325-4d5d-b0d2-305b6c1932da",
   "metadata": {},
   "outputs": [
    {
     "data": {
      "text/plain": [
       "0      1988-01-01\n",
       "1      1988-01-01\n",
       "2      1988-01-01\n",
       "3      1988-01-01\n",
       "4      1988-02-01\n",
       "          ...    \n",
       "1771   2024-11-01\n",
       "1772   2024-12-01\n",
       "1773   2024-12-01\n",
       "1774   2024-12-01\n",
       "1775   2024-12-01\n",
       "Name: Kuukausi, Length: 1776, dtype: datetime64[ns]"
      ]
     },
     "execution_count": 8,
     "metadata": {},
     "output_type": "execute_result"
    }
   ],
   "source": [
    "df.Kuukausi"
   ]
  },
  {
   "cell_type": "code",
   "execution_count": null,
   "id": "0c5a661f-100b-4bbe-9bbf-c233de5f51ba",
   "metadata": {},
   "outputs": [],
   "source": []
  }
 ],
 "metadata": {
  "kernelspec": {
   "display_name": "Python 3 (ipykernel)",
   "language": "python",
   "name": "python3"
  },
  "language_info": {
   "codemirror_mode": {
    "name": "ipython",
    "version": 3
   },
   "file_extension": ".py",
   "mimetype": "text/x-python",
   "name": "python",
   "nbconvert_exporter": "python",
   "pygments_lexer": "ipython3",
   "version": "3.12.3"
  }
 },
 "nbformat": 4,
 "nbformat_minor": 5
}
