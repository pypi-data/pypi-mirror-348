{
 "cells": [
  {
   "cell_type": "markdown",
   "id": "0b4593e1-9640-4aa4-840c-aae358c3f8f3",
   "metadata": {},
   "source": [
    "Veroasteen käyttäytymisvaikutuksia kuvataan usein verotettavan tulon joustolla $\\epsilon$. Jos jousto on tarkastelualueella vakio (eli verotettava tulo on _isoelastinen_), niin korkeimpaan veroportaaseen osuvan verotettavan tulon $Y$ riippuvuutta veroasteesta $\\tau$ voidaan mallintaa kuten\n",
    "\n",
    "$$ Y(\\tau) = Y_0 (1 - \\tau)^{a \\epsilon}, $$\n",
    "\n",
    "jossa $a$ on tulojakauman muotoa kuvaava Pareto-parametri; mitä tasaisemmat tulot, sen korkeampi $a$. Suomessa ansiotuloilla $a \\approx 2.9$ ja kaikilla tuloilla $a \\approx 2.3$; Yhdysvalloissa on tietääksen ansiotulojen osalta selvästi $a<2$.\n",
    "\n",
    "\n",
    "Verotettavaa tuloa $Y(\\tau)$ vastaava verokertymä on $\\tau Y(\\tau)$, jonka maksimi löytyy veroasteelta\n",
    "\n",
    "$$ \\tau^\\star = \\frac{1}{1 + a \\epsilon}. $$\n",
    "\n",
    "Jos nyt veroastetta lasketaan $\\tau_1 \\rightarrow \\tau_2$, veronalennuksen staattinen kustannus (eli jos $Y$ ei muutu) on\n",
    "\n",
    "$$ \\delta_S = \\tau_1 Y(\\tau_1) - \\tau_2 Y(\\tau_1), $$\n",
    "\n",
    "ja käyttäytymisvaikutukset huomioiden (eli $Y$ muuttuu jouston mukaisesti)\n",
    "\n",
    "$$ \\delta_D = \\tau_1 Y(\\tau_1) - \\tau_2 Y(\\tau_2). $$\n",
    "\n",
    "Itserahoitusaste, eli paljonko staattisista kustannuksista kumoutuu käyttäytymisvaikutuksilla, on\n",
    "\n",
    "$$ \\eta = \\frac{\\delta_S - \\delta_D}{\\delta_S} = 1 - \\frac{\\delta_D}{\\delta_S}. $$"
   ]
  },
  {
   "cell_type": "code",
   "execution_count": 18,
   "id": "b8458ca9-a939-43f5-9563-9c7529f26324",
   "metadata": {},
   "outputs": [
    {
     "name": "stdout",
     "output_type": "stream",
     "text": [
      "  ε    τ*    η\n",
      "0.40  46%  142%\n",
      "0.25  58%   86%\n",
      "0.12  74%   41%\n"
     ]
    }
   ],
   "source": [
    "Y = lambda t, e, a: (1 - t) ** (a * e)\n",
    "T = lambda e, a: 1 / (1 + a * e)\n",
    "dS = lambda t1, t2, e, a: t1 * Y(t1, e, a) - t2 * Y(t1, e, a)\n",
    "dD = lambda t1, t2, e, a: t1 * Y(t1, e, a) - t2 * Y(t2, e, a)\n",
    "eta = lambda t1, t2, e, a: 1 - dD(t1, t2, e, a) / dS(t1, t2, e, a)\n",
    "print(f\"  ε    τ*    η\")\n",
    "print(f\"0.40  {100 * T(0.40, 2.9):>2.0f}%  {100 * eta(0.57, 0.52, 0.40, 2.9):>3.0f}%\")\n",
    "print(f\"0.25  {100 * T(0.25, 2.9):>2.0f}%  {100 * eta(0.57, 0.52, 0.25, 2.9):>3.0f}%\")\n",
    "print(f\"0.12  {100 * T(0.12, 2.9):>2.0f}%  {100 * eta(0.57, 0.52, 0.12, 2.9):>3.0f}%\")"
   ]
  },
  {
   "cell_type": "code",
   "execution_count": null,
   "id": "2a28e5e0-7c24-42c7-baca-5f76ff48c1a9",
   "metadata": {},
   "outputs": [],
   "source": []
  }
 ],
 "metadata": {
  "kernelspec": {
   "display_name": "Python 3 (ipykernel)",
   "language": "python",
   "name": "python3"
  },
  "language_info": {
   "codemirror_mode": {
    "name": "ipython",
    "version": 3
   },
   "file_extension": ".py",
   "mimetype": "text/x-python",
   "name": "python",
   "nbconvert_exporter": "python",
   "pygments_lexer": "ipython3",
   "version": "3.12.3"
  }
 },
 "nbformat": 4,
 "nbformat_minor": 5
}
