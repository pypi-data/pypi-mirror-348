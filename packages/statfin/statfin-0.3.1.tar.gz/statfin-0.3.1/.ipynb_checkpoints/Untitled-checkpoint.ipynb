{
 "cells": [
  {
   "cell_type": "code",
   "execution_count": 1,
   "id": "61e52c3c-965d-4205-8309-00111bb818ba",
   "metadata": {},
   "outputs": [],
   "source": [
    "import statfin"
   ]
  },
  {
   "cell_type": "code",
   "execution_count": 3,
   "id": "c6d1b958-97aa-4935-a8f5-f3bc63be7dfb",
   "metadata": {},
   "outputs": [
    {
     "ename": "AttributeError",
     "evalue": "module 'statfin' has no attribute 'Vero'",
     "output_type": "error",
     "traceback": [
      "\u001b[0;31m---------------------------------------------------------------------------\u001b[0m",
      "\u001b[0;31mAttributeError\u001b[0m                            Traceback (most recent call last)",
      "Cell \u001b[0;32mIn[3], line 1\u001b[0m\n\u001b[0;32m----> 1\u001b[0m db \u001b[38;5;241m=\u001b[39m \u001b[43mstatfin\u001b[49m\u001b[38;5;241;43m.\u001b[39;49m\u001b[43mVero\u001b[49m()\n\u001b[1;32m      2\u001b[0m db\n",
      "\u001b[0;31mAttributeError\u001b[0m: module 'statfin' has no attribute 'Vero'"
     ]
    }
   ],
   "source": [
    "db = statfin.Vero()\n",
    "db"
   ]
  },
  {
   "cell_type": "code",
   "execution_count": 7,
   "id": "ec1a37a3-3296-4bda-9a73-d916e34a1358",
   "metadata": {},
   "outputs": [],
   "source": [
    "df = tulot.query({\n",
    "    \"Verovuosi\": 2022,\n",
    "    \"Erä\": \"HVT_TULOT_70\",\n",
    "    \"Tulonsaajaryhmä\": \"Y\",\n",
    "    \"Tuloluokka\": \"*\",\n",
    "    \"Tunnusluvut\": \"*\"\n",
    "})"
   ]
  },
  {
   "cell_type": "code",
   "execution_count": 36,
   "id": "c456915d-87c3-469b-a327-25d1ccb6f58c",
   "metadata": {},
   "outputs": [
    {
     "name": "stdout",
     "output_type": "stream",
     "text": [
      "173384: 20.47 - 15.29 = 5.17 mrd.\n"
     ]
    }
   ],
   "source": [
    "tuloluokat = [str(x) for x in range(19,28)]\n",
    "df = df[df.Tuloluokka.isin(tuloluokat)]\n",
    "N = df.N.to_numpy().sum()\n",
    "s = df.Sum.to_numpy().sum()\n",
    "r = 88_200 * N\n",
    "print(f\"{int(N)}: {s/1e9:.2f} - {r/1e9:.2f} = {(s-r)/1e9:.2f} mrd.\")"
   ]
  },
  {
   "cell_type": "code",
   "execution_count": 25,
   "id": "365b68cc-29ab-4650-a6f1-31a7e646470f",
   "metadata": {},
   "outputs": [
    {
     "name": "stdout",
     "output_type": "stream",
     "text": [
      " 31781.26 16.631 1.064\n",
      " 34141.11 4.372 1.297\n",
      " 35966.13 2.982 1.505\n",
      " 39626.11 2.323 1.756\n",
      " 43286.52 1.976 2.025\n",
      " 46948.48 1.755 2.324\n",
      " 50908.35 1.611 2.635\n",
      " 55457.96 1.524 2.909\n",
      " 60560.49 1.475 3.105\n",
      " 65951.07 1.443 3.256\n",
      " 71514.49 1.423 3.363\n",
      " 77251.80 1.413 3.423\n",
      " 83062.39 1.408 3.454\n",
      " 88924.59 1.403 3.483\n",
      " 94772.25 1.403 3.480\n",
      "100586.98 1.405 3.471\n",
      "106404.65 1.404 3.473\n",
      "112250.50 1.405 3.467\n",
      "118037.98 1.405 3.470\n",
      "123724.25 1.408 3.448\n",
      "129371.74 1.247 5.042\n",
      "181502.32 1.291 4.435\n",
      "224511.59 1.309 4.231\n",
      "259817.37 1.325 4.078\n",
      "288244.99 1.259 4.865\n",
      "375026.69 1.251 4.984\n"
     ]
    },
    {
     "data": {
      "image/png": "[encoded data removed]",
      "text/plain": [
       "<Figure size 1200x400 with 1 Axes>"
      ]
     },
     "metadata": {},
     "output_type": "display_data"
    }
   ],
   "source": [
    "from matplotlib import pyplot as plt\n",
    "\n",
    "xx = []\n",
    "rr = []\n",
    "aa = []\n",
    "for i in range(1, 27):\n",
    "    luokat = [str(n) for n in range(i, 28)]\n",
    "    df_ = df[df.Tuloluokka.isin(luokat)]\n",
    "    S = df_.Sum.to_numpy().sum()\n",
    "    N = df_.N.to_numpy().sum()\n",
    "    L = df[df.Tuloluokka == str(i)].Mean.to_numpy().sum()\n",
    "    m = S / N\n",
    "    r = m / L\n",
    "    a = r / (r - 1)\n",
    "    print(f\"{m:>9.2f} {m/L:>.3f} {a:>.3f}\")\n",
    "    xx.append(L)\n",
    "    rr.append(r)\n",
    "    aa.append(a)\n",
    "\n",
    "plt.figure(figsize=(12, 4))\n",
    "plt.plot(xx, rr)\n",
    "plt.plot(xx, aa)\n",
    "plt.ylim(0, 5)\n",
    "plt.grid()"
   ]
  },
  {
   "cell_type": "code",
   "execution_count": 16,
   "id": "7248f6e3-a345-49a5-91ed-55e4a2bb065a",
   "metadata": {},
   "outputs": [
    {
     "data": {
      "text/plain": [
       "0.56"
      ]
     },
     "execution_count": 16,
     "metadata": {},
     "output_type": "execute_result"
    }
   ],
   "source": [
    "3.5*0.16"
   ]
  },
  {
   "cell_type": "code",
   "execution_count": 17,
   "id": "ed776eda-9232-429b-a529-69fe2e2e99d1",
   "metadata": {},
   "outputs": [
    {
     "data": {
      "text/plain": [
       "0.641025641025641"
      ]
     },
     "execution_count": 17,
     "metadata": {},
     "output_type": "execute_result"
    }
   ],
   "source": [
    "1 / (1 + 0.56)"
   ]
  },
  {
   "cell_type": "code",
   "execution_count": null,
   "id": "c33b4166-b5e5-4c05-b50d-f5ef12b6b5b4",
   "metadata": {},
   "outputs": [],
   "source": []
  }
 ],
 "metadata": {
  "kernelspec": {
   "display_name": "Python 3 (ipykernel)",
   "language": "python",
   "name": "python3"
  },
  "language_info": {
   "codemirror_mode": {
    "name": "ipython",
    "version": 3
   },
   "file_extension": ".py",
   "mimetype": "text/x-python",
   "name": "python",
   "nbconvert_exporter": "python",
   "pygments_lexer": "ipython3",
   "version": "3.12.3"
  }
 },
 "nbformat": 4,
 "nbformat_minor": 5
}
