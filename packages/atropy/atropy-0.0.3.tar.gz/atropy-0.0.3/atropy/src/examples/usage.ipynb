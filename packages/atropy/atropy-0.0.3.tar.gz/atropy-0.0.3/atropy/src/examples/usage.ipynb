{
 "cells": [
  {
   "cell_type": "markdown",
   "metadata": {},
   "source": [
    "# Usage of generator.py\n",
    "\n",
    "In this writeup we will describe different ways on how to use the functions in generator.py to generate models, set up our tree with initial conditions and run the atropos code.\n",
    "For that we will consider the bax example.\n",
    "\n",
    "## Model generation\n",
    "\n",
    "Before we can generate our model, we need to import the necessary libraries and define our Sympy variables."
   ]
  },
  {
   "cell_type": "code",
   "execution_count": null,
   "metadata": {},
   "outputs": [],
   "source": [
    "import numpy as np\n",
    "import sympy as sp\n",
    "\n",
    "from atropy.src.generator import Model, Partitioning, run, species\n",
    "\n",
    "S0, S1, S2, S3, S4, S5, S6, S7, S8, S9, S10 = species(\n",
    "    \"S0, S1, S2, S3, S4, S5, S6, S7, S8, S9, S10\"\n",
    ")"
   ]
  },
  {
   "cell_type": "markdown",
   "metadata": {},
   "source": [
    "Next we initialize our model and define parameters used in our propensities."
   ]
  },
  {
   "cell_type": "code",
   "execution_count": null,
   "metadata": {},
   "outputs": [],
   "source": [
    "model = Model((S0, S1, S2, S3, S4, S5, S6, S7, S8, S9, S10))\n",
    "\n",
    "kA0 = 0.0002\n",
    "kA1 = 0.001\n",
    "kA2 = 0.0002\n",
    "kA3 = 0.001\n",
    "kA4 = 0.0002\n",
    "kA5 = 0.001\n",
    "kA6 = 0.0002\n",
    "kA7 = 0.001\n",
    "kA8 = 0.0002\n",
    "kA9 = 0.001\n",
    "\n",
    "kA10 = 3.0e-5\n",
    "kA11 = 0.001\n",
    "kA12 = 10.0\n",
    "kA13 = 3.0e-5\n",
    "kA14 = 0.001\n",
    "kA15 = 10.0\n",
    "kA16 = 3.0e-5\n",
    "kA17 = 0.001\n",
    "kA18 = 10.0"
   ]
  },
  {
   "cell_type": "markdown",
   "metadata": {},
   "source": [
    "Now there are 3 different ways to add reactions to our equation (only one of those should be run).\n",
    "\n",
    "We will first look at the most simple way, where we add a reaction by giving the parameters reactants, products and propensities."
   ]
  },
  {
   "cell_type": "code",
   "execution_count": null,
   "metadata": {},
   "outputs": [],
   "source": [
    "model.add_reaction(2 * S0, S1, {S0: 0.5 * kA0 * S0 * (S0 - 1.0)})\n",
    "model.add_reaction(S1, 2 * S0, {S1: kA1 * S1})\n",
    "model.add_reaction(S0 + S1, S2, {S0: np.sqrt(kA2) * S0, S1: np.sqrt(kA2) * S1})\n",
    "model.add_reaction(S2, S0 + S1, {S2: kA3 * S2})\n",
    "model.add_reaction(S0 + S2, S3, {S0: np.sqrt(kA4) * S0, S2: np.sqrt(kA4) * S2})\n",
    "model.add_reaction(S3, S0 + S2, {S3: kA5 * S3})\n",
    "model.add_reaction(S0 + S3, S4, {S0: np.sqrt(kA6) * S0, S3: np.sqrt(kA6) * S3})\n",
    "model.add_reaction(S4, S0 + S3, {S4: kA7 * S4})\n",
    "model.add_reaction(S0 + S4, S5, {S0: np.sqrt(kA8) * S0, S4: np.sqrt(kA8) * S4})\n",
    "model.add_reaction(S5, S0 + S4, {S5: kA9 * S5})\n",
    "model.add_reaction(S3 + S9, S6, {S3: np.sqrt(kA10) * S3, S9: np.sqrt(kA10) * S9})\n",
    "model.add_reaction(S6, S3 + S9, {S6: kA11 * S6})\n",
    "model.add_reaction(S6, S3 + S10, {S6: kA12 * S6})\n",
    "model.add_reaction(S4 + S9, S7, {S4: np.sqrt(kA13) * S4, S9: np.sqrt(kA13) * S9})\n",
    "model.add_reaction(S7, S4 + S9, {S7: kA14 * S7})\n",
    "model.add_reaction(S7, S4 + S10, {S7: kA15 * S7})\n",
    "model.add_reaction(S5 + S9, S8, {S5: np.sqrt(kA16) * S5, S9: np.sqrt(kA16) * S9})\n",
    "model.add_reaction(S8, S5 + S9, {S8: kA17 * S8})\n",
    "model.add_reaction(S8, S5 + S10, {S8: kA18 * S8})"
   ]
  },
  {
   "cell_type": "markdown",
   "metadata": {},
   "source": [
    "If we have standard propensities (like it is the case in this example), it is also enough to just give the coefficient insted of the propensity dictionary."
   ]
  },
  {
   "cell_type": "code",
   "execution_count": null,
   "metadata": {},
   "outputs": [],
   "source": [
    "model.add_reaction(2 * S0, S1, kA0)\n",
    "model.add_reaction(S1, 2 * S0, kA1)\n",
    "model.add_reaction(S0 + S1, S2, kA2)\n",
    "model.add_reaction(S2, S0 + S1, kA3)\n",
    "model.add_reaction(S0 + S2, S3, kA4)\n",
    "model.add_reaction(S3, S0 + S2, kA5)\n",
    "model.add_reaction(S0 + S3, S4, kA6)\n",
    "model.add_reaction(S4, S0 + S3, kA7)\n",
    "model.add_reaction(S0 + S4, S5, kA8)\n",
    "model.add_reaction(S5, S0 + S4, kA9)\n",
    "model.add_reaction(S3 + S9, S6, kA10)\n",
    "model.add_reaction(S6, S3 + S9, kA11)\n",
    "model.add_reaction(S6, S3 + S10, kA12)\n",
    "model.add_reaction(S4 + S9, S7, kA13)\n",
    "model.add_reaction(S7, S4 + S9, kA14)\n",
    "model.add_reaction(S7, S4 + S10, kA15)\n",
    "model.add_reaction(S5 + S9, S8, kA16)\n",
    "model.add_reaction(S8, S5 + S9, kA17)\n",
    "model.add_reaction(S8, S5 + S10, kA18)"
   ]
  },
  {
   "cell_type": "markdown",
   "metadata": {},
   "source": [
    "Another possibility is to add multiple reactions in 1 line. For that we use add_reactions and as parameters a list of reactants, products and propensities (or coefficients). E.g. we could add the first three reactions from above in the following way."
   ]
  },
  {
   "cell_type": "code",
   "execution_count": null,
   "metadata": {},
   "outputs": [],
   "source": [
    "model.add_reactions([2 * S0, S1, S0 + S1], [S1, 2 * S0, S2], [kA0, kA1, kA2])"
   ]
  },
  {
   "cell_type": "markdown",
   "metadata": {},
   "source": [
    "After we have added all our reactions, we need to generate the reactions system."
   ]
  },
  {
   "cell_type": "code",
   "execution_count": null,
   "metadata": {},
   "outputs": [],
   "source": [
    "model.generate_reaction_system()"
   ]
  },
  {
   "cell_type": "markdown",
   "metadata": {},
   "source": [
    "## Tree generation and initial condition\n",
    "\n",
    "In the following we want to generate our tree and set our initial condition.\n",
    "For that we first need to initialize our partitioning by inputting our rank as an array and our partition as a string."
   ]
  },
  {
   "cell_type": "code",
   "execution_count": null,
   "metadata": {},
   "outputs": [],
   "source": [
    "r = np.array([5, 4, 3])\n",
    "p0 = \"(S0 S1 S2)(((S3 S4 S6 S7)(S5 S8))(S9 S10))\"\n",
    "partitioning = Partitioning(p0, r, model)"
   ]
  },
  {
   "cell_type": "markdown",
   "metadata": {},
   "source": [
    "Next we can add our grid parameters."
   ]
  },
  {
   "cell_type": "code",
   "execution_count": null,
   "metadata": {},
   "outputs": [],
   "source": [
    "n = np.array([46, 16, 16, 11, 11, 11, 4, 4, 4, 56, 56])\n",
    "d = n.size\n",
    "binsize = np.ones(d, dtype=int)\n",
    "liml = np.zeros(d)\n",
    "partitioning.add_grid_params(n, binsize, liml)"
   ]
  },
  {
   "cell_type": "markdown",
   "metadata": {},
   "source": [
    "Now we need to generate the tree."
   ]
  },
  {
   "cell_type": "code",
   "execution_count": null,
   "metadata": {},
   "outputs": [],
   "source": [
    "partitioning.generate_tree()"
   ]
  },
  {
   "cell_type": "markdown",
   "metadata": {},
   "source": [
    "Next we will generate our inital condition."
   ]
  },
  {
   "cell_type": "code",
   "execution_count": null,
   "metadata": {},
   "outputs": [],
   "source": [
    "n_basisfunctions = np.ones(r.size, dtype=\"int\")\n",
    "\n",
    "partitioning.generate_initial_condition(n_basisfunctions)"
   ]
  },
  {
   "cell_type": "markdown",
   "metadata": {},
   "source": [
    "To set the values we have two options. We can either use the pre implemented function set_initial_condition (if possible), or do it by ourself.\n",
    "\n",
    "In this example we use the pre implemented function."
   ]
  },
  {
   "cell_type": "code",
   "execution_count": null,
   "metadata": {},
   "outputs": [],
   "source": [
    "C = 0.2\n",
    "Cinv = 1 / C\n",
    "mu = np.array([40, 0, 0, 0, 0, 0, 0, 0, 0, 50, 0])\n",
    "mu_perm = mu[partitioning.tree.species]\n",
    "\n",
    "polynomials_dict = {\n",
    "    S0: sp.exp(-0.5 * Cinv * (S0 - mu_perm[0]) ** 2),\n",
    "    S1: sp.exp(-0.5 * Cinv * (S1 - mu_perm[1]) ** 2),\n",
    "    S2: sp.exp(-0.5 * Cinv * (S2 - mu_perm[2]) ** 2),\n",
    "    S3: sp.exp(-0.5 * Cinv * (S3 - mu_perm[3]) ** 2),\n",
    "    S4: sp.exp(-0.5 * Cinv * (S4 - mu_perm[4]) ** 2),\n",
    "    S5: sp.exp(-0.5 * Cinv * (S5 - mu_perm[5]) ** 2),\n",
    "    S6: sp.exp(-0.5 * Cinv * (S6 - mu_perm[6]) ** 2),\n",
    "    S7: sp.exp(-0.5 * Cinv * (S7 - mu_perm[7]) ** 2),\n",
    "    S8: sp.exp(-0.5 * Cinv * (S8 - mu_perm[8]) ** 2),\n",
    "    S9: sp.exp(-0.5 * Cinv * (S9 - mu_perm[9]) ** 2),\n",
    "    S10: sp.exp(-0.5 * Cinv * (S10 - mu_perm[10]) ** 2),\n",
    "}\n",
    "partitioning.set_initial_condition(polynomials_dict)"
   ]
  },
  {
   "cell_type": "markdown",
   "metadata": {},
   "source": [
    "Lastly we will normalize some values and output our tree."
   ]
  },
  {
   "cell_type": "code",
   "execution_count": null,
   "metadata": {},
   "outputs": [],
   "source": [
    "_, marginal_distribution = partitioning.tree.calculateObservables(\n",
    "    np.zeros(partitioning.tree.root.grid.d(), dtype=\"int\")\n",
    ")\n",
    "norm = np.sum(marginal_distribution[partitioning.tree.species_names[0]])\n",
    "print(\"norm:\", norm)\n",
    "partitioning.tree.root.Q[0, 0, 0] /= norm\n",
    "\n",
    "print(partitioning.tree)"
   ]
  },
  {
   "cell_type": "markdown",
   "metadata": {},
   "source": [
    "## Running the code\n",
    "\n",
    "The last step is to run the code. For that we will use the function run.\n",
    "\n",
    "The parameters are: partitioning, output name, timestep size, final time, number of snapshots, substeps and the method.\n",
    "\n",
    "For method one can choose: implicit_Euler, explicit_Euler, Crank-Nicolson, RK4. If no input is given, RK4 will be used.\n",
    "\n",
    "The standard value for snapshot is 2 and for substeps it is 1."
   ]
  },
  {
   "cell_type": "code",
   "execution_count": null,
   "metadata": {},
   "outputs": [],
   "source": [
    "run(partitioning, \"bax_Stefan\", 1e-3, 1, snapshot=10, method=\"implicit_Euler\")"
   ]
  }
 ],
 "metadata": {
  "kernelspec": {
   "display_name": "my_venv",
   "language": "python",
   "name": "python3"
  },
  "language_info": {
   "codemirror_mode": {
    "name": "ipython",
    "version": 3
   },
   "file_extension": ".py",
   "mimetype": "text/x-python",
   "name": "python",
   "nbconvert_exporter": "python",
   "pygments_lexer": "ipython3",
   "version": "3.12.5"
  }
 },
 "nbformat": 4,
 "nbformat_minor": 2
}
