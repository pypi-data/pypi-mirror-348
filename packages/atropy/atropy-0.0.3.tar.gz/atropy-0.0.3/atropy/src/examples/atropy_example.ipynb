{
 "cells": [
  {
   "cell_type": "markdown",
   "metadata": {},
   "source": [
    "# An atropy example\n",
    "\n",
    "This example will provide all necessary information to use the functionalities provided by `atropy`. It helps the user understand how to translate chemical reactions into our implementation and explains some ideas behind our code. We show how to run stochastic simulations of a chemical reaction network by using the Python interface of the `atropy` code. We will show how to setup a model, specify the low-rank algorithm used and run the simulations for the lambda phage example.\n",
    "\n",
    "## The lambda phage model\n",
    "\n",
    "First we need to take a look at the lambda phage model and its chemical reactions. The lambda phage is a bacteriophage that infects the bacterial species E. coli. and stays dormant in the host or breaks out of the host, after multiplying and reassembling itself. The model consists out of 5 species and 10 reactions with a corresponding propensity function, visualized in this table:"
   ]
  },
  {
   "cell_type": "markdown",
   "metadata": {},
   "source": [
    "$$\n",
    "\\begin{array}{|c|c|c|}\n",
    "\\hline\n",
    "\\mu & \\text{Reaction } R_\\mu & \\text{Propensity function } \\alpha_\\mu(\\mathbf{x}) \\\\\n",
    "\\hline\n",
    "0 & \\star \\rightarrow S_0 & a_0 b_0/(b_0 + x_1) \\\\\n",
    "1 & \\star \\rightarrow S_1 & (a_1 + x_4) b_1/(b_1 + x_0) \\\\\n",
    "2 & \\star \\rightarrow S_2 & a_2 b_2 x_1/(b_2 x_1 + 1) \\\\\n",
    "3 & \\star \\rightarrow S_3 & a_3 b_3 x_2/(b_3 x_2 + 1) \\\\\n",
    "4 & \\star \\rightarrow S_4 & a_4 b_4 x_2/(b_4 x_2 + 1) \\\\\n",
    "5 & S_0 \\rightarrow \\star & c_0 \\cdot x_0 \\\\\n",
    "6 & S_1 \\rightarrow \\star & c_1 \\cdot x_1 \\\\\n",
    "7 & S_2 \\rightarrow \\star & c_2 \\cdot x_2 \\\\\n",
    "8 & S_3 \\rightarrow \\star & c_3 \\cdot x_3 \\\\\n",
    "9 & S_4 \\rightarrow \\star & c_4 \\cdot x_4 \\\\\n",
    "\\hline\n",
    "\\end{array}\n",
    "$$"
   ]
  },
  {
   "cell_type": "markdown",
   "metadata": {},
   "source": [
    "The coeffiecients used for the propensity function are given by"
   ]
  },
  {
   "cell_type": "markdown",
   "metadata": {},
   "source": [
    "$$\n",
    "\\renewcommand{\\arraystretch}{1.5} % Increase line spacing\n",
    "\\begin{array}{|c|c|c|c|}\n",
    "\\hline\n",
    "i & a_i & b_i & c_i \\\\\n",
    "\\hline\n",
    "0 & 0.5 & 0.12 & 0.0025 \\\\\n",
    "1 & 1 & 0.6 & 0.0007 \\\\\n",
    "2 & 0.15 & 1 & 0.0231 \\\\\n",
    "3 & 0.3 & 1 & 0.01 \\\\\n",
    "4 & 0.3 & 1 & 0.01 \\\\\n",
    "\\hline\n",
    "\\end{array}\n",
    "$$"
   ]
  },
  {
   "cell_type": "markdown",
   "metadata": {},
   "source": [
    "## Translating the model to the implementation\n",
    "\n",
    "We are interested in how to translate the model to the `atropy` implementation. Before we can begin, we need to import some necessary libraries. Both numpy and sympy are used when generating the inital condition. For plotting we need matplotlib and atropy_core, the core library of `atropy`. It gets installed automatically when installing `atropy` and is thus instantly available. Lastly, from atropy.src.generator, we import the necessary classes and functions to set up our model and partition and also run the code."
   ]
  },
  {
   "cell_type": "code",
   "execution_count": null,
   "metadata": {},
   "outputs": [],
   "source": [
    "import matplotlib.pyplot as plt\n",
    "import numpy as np\n",
    "import sympy as sp\n",
    "\n",
    "from atropy_core.output_helper import TimeSeries\n",
    "\n",
    "from atropy.src.generator import Model, Partitioning, run, species"
   ]
  },
  {
   "cell_type": "markdown",
   "metadata": {},
   "source": [
    "Before we can set up our reaction system, we need to define the species. For this the function `species` from the `atropy` library is used. In our reaction network for the lambda phage example there are 5 species. Thus we define"
   ]
  },
  {
   "cell_type": "code",
   "execution_count": null,
   "metadata": {},
   "outputs": [],
   "source": [
    "S0, S1, S2, S3, S4 = species(\"S0, S1, S2, S3, S4\")"
   ]
  },
  {
   "cell_type": "markdown",
   "metadata": {},
   "source": [
    "Next we need to initialize the model class. To do so, we pass our defined species to the class `Model` in `atropy`."
   ]
  },
  {
   "cell_type": "code",
   "execution_count": null,
   "metadata": {},
   "outputs": [],
   "source": [
    "model = Model((S0, S1, S2, S3, S4))"
   ]
  },
  {
   "cell_type": "markdown",
   "metadata": {},
   "source": [
    "To add our reactions, we do not only need the reaction itself, but also the corresponding propensity function. Thus we need to define the coefficients used for the propensity functions from our lambda phage reaction network."
   ]
  },
  {
   "cell_type": "code",
   "execution_count": null,
   "metadata": {},
   "outputs": [],
   "source": [
    "a0 = 0.5\n",
    "a1 = 1.0\n",
    "a2 = 0.15\n",
    "a3 = 0.3\n",
    "a4 = 0.3\n",
    "\n",
    "b0 = 0.12\n",
    "b1 = 0.6\n",
    "b2 = 1.0\n",
    "b3 = 1.0\n",
    "b4 = 1.0\n",
    "\n",
    "c0 = 0.0025\n",
    "c1 = 0.0007\n",
    "c2 = 0.0231\n",
    "c3 = 0.01\n",
    "c4 = 0.01"
   ]
  },
  {
   "cell_type": "markdown",
   "metadata": {},
   "source": [
    "Now let us consider how to translate our chemical reactions to the implementation. For better understanding we will first consider only two reactions, namely reaction $R_1$ and $R_5$. For reaction $R_1$, our species $S_1$ gets generated from unknown elements. The propensity function is given by $(a_1 + x_4) b_1 / (b_1 + x_0)$. In our code we exchange $x_i$ for $S_i$. In this way we do not need to define any more variables. Also note that the propensity function needs to be factorizable. The reaction can be added using the preimpemented function `add_reaction`, which is part of the `Model` class. The first parameter for the function are the reactants, the second the products and the third the propensity function. The propensity function can be passed to `add_reaction` in factorized form using a dictionary or in a non factorized form. If added in non factorized form, `atropy` will try to factorize it and send an error, if not possible. We can add reaction $R_1$ to our model:"
   ]
  },
  {
   "cell_type": "code",
   "execution_count": null,
   "metadata": {},
   "outputs": [],
   "source": [
    "model.add_reaction(0, S1, {S0: b1 / (b1 + S0), S4: a1 + S4})"
   ]
  },
  {
   "cell_type": "markdown",
   "metadata": {},
   "source": [
    "Let us add reaction $R_5$. Here species $S_0$ decays into unknown elements. Our propensity function is given by the law of mass action. Therefore we can use an abreviated form and only pass the coefficient instead of the full dictionary for the propensity function:"
   ]
  },
  {
   "cell_type": "code",
   "execution_count": null,
   "metadata": {},
   "outputs": [],
   "source": [
    "model.add_reaction(S0, 0, c0)"
   ]
  },
  {
   "cell_type": "markdown",
   "metadata": {},
   "source": [
    "There is also the functionality of adding multiple reactions with just one function call. This is possible using the function `add_reactions` and passing a list of reactants, products and propensity functions. We could add reaction $R_1$ and $R_5$ by "
   ]
  },
  {
   "cell_type": "code",
   "execution_count": null,
   "metadata": {},
   "outputs": [],
   "source": [
    "model.add_reactions([0, S0], [S1, 0], [{S0: b1 / (b1 + S0), S4: a1 + S4}, c0])"
   ]
  },
  {
   "cell_type": "markdown",
   "metadata": {},
   "source": [
    "Note that using this method can be confusing and is not recommended. Adding the full reaction network for the lambda phage example in a clearly structured way can be done like this:"
   ]
  },
  {
   "cell_type": "code",
   "execution_count": null,
   "metadata": {},
   "outputs": [],
   "source": [
    "model.add_reaction(0, S0, {S1: a0 * b0 / (b0 + S1)})\n",
    "model.add_reaction(0, S1, {S0: b1 / (b1 + S0), S4: a1 + S4})\n",
    "model.add_reaction(0, S2, {S1: a2 * b2 * S1 / (b2 * S1 + 1.0)})\n",
    "model.add_reaction(0, S3, {S2: a3 * b3 * S2 / (b3 * S2 + 1.0)})\n",
    "model.add_reaction(0, S4, {S2: a4 * b4 * S2 / (b4 * S2 + 1.0)})\n",
    "model.add_reaction(S0, 0, c0)\n",
    "model.add_reaction(S1, 0, c1)\n",
    "model.add_reaction(S2, 0, c2)\n",
    "model.add_reaction(S3, 0, c3)\n",
    "model.add_reaction(S4, 0, c4)"
   ]
  },
  {
   "cell_type": "markdown",
   "metadata": {},
   "source": [
    "When we finally added all of our reactions to the model, all left to do is generating the reaction system, using the corresponding function:"
   ]
  },
  {
   "cell_type": "code",
   "execution_count": null,
   "metadata": {},
   "outputs": [],
   "source": [
    "model.generate_reaction_system()"
   ]
  },
  {
   "cell_type": "markdown",
   "metadata": {},
   "source": [
    "## Setup the low-rank solver\n",
    "\n",
    "To setup our low rank solver, we need to take a closer look at our species and the reaction propensities. We want to use a good partition which reduces the computational complexity of our problem, but still gives accurate results. The idea is to form cuts between dependencies of species in our dependecy graph and generate tree structures hierarchically. To understand this better, we will look at the dependency graph of our lambda phage example with some already proposed cuts:"
   ]
  },
  {
   "cell_type": "code",
   "execution_count": null,
   "metadata": {
    "hide_input": true
   },
   "outputs": [
    {
     "data": {
      "image/svg+xml": [
       "<svg xmlns:ns1=\"http://www.iki.fi/pav/software/textext/\" xmlns:dc=\"http://purl.org/dc/elements/1.1/\" xmlns:cc=\"http://creativecommons.org/ns#\" xmlns:rdf=\"http://www.w3.org/1999/02/22-rdf-syntax-ns#\" xmlns:svg=\"http://www.w3.org/2000/svg\" xmlns=\"http://www.w3.org/2000/svg\" xmlns:sodipodi=\"http://sodipodi.sourceforge.net/DTD/sodipodi-0.dtd\" xmlns:inkscape=\"http://www.inkscape.org/namespaces/inkscape\" version=\"1.1\" id=\"svg1538\" xml:space=\"preserve\" width=\"339.00787\" height=\"308\" viewBox=\"0 0 339.00788 308\" sodipodi:docname=\"lambda_phage_g0_n.svg\" inkscape:version=\"1.0.2 (e86c8708, 2021-01-15)\"><metadata id=\"metadata1544\"><rdf:RDF><cc:Work rdf:about=\"\"><dc:format>image/svg+xml</dc:format><dc:type rdf:resource=\"http://purl.org/dc/dcmitype/StillImage\"/><dc:title/></cc:Work></rdf:RDF></metadata><defs id=\"defs1542\"><inkscape:path-effect effect=\"bspline\" id=\"path-effect5778\" is_visible=\"true\" lpeversion=\"1\" weight=\"33.333333\" steps=\"2\" helper_size=\"0\" apply_no_weight=\"true\" apply_with_weight=\"true\" only_selected=\"false\"/><inkscape:path-effect effect=\"bspline\" id=\"path-effect5773\" is_visible=\"true\" lpeversion=\"1\" weight=\"33.333333\" steps=\"2\" helper_size=\"0\" apply_no_weight=\"true\" apply_with_weight=\"true\" only_selected=\"false\"/><inkscape:path-effect effect=\"bspline\" id=\"path-effect5726\" is_visible=\"true\" lpeversion=\"1\" weight=\"33.333333\" steps=\"2\" helper_size=\"0\" apply_no_weight=\"true\" apply_with_weight=\"true\" only_selected=\"false\"/><g id=\"g10173\" style=\"fill:#ffffff;stroke-width:0\"><symbol overflow=\"visible\" id=\"symbol10159\" style=\"fill:#ffffff;stroke-width:0\"><path style=\"fill:#ffffff;stroke:#ffffff;stroke-width:0\" d=\"\" id=\"path10157\"/></symbol><symbol overflow=\"visible\" id=\"symbol10163\" style=\"fill:#ffffff;stroke-width:0\"><path style=\"fill:#ffffff;stroke:#ffffff;stroke-width:0\" d=\"m 9.109375,-9.96875 c 0,-0.125 -0.09375,-0.125 -0.125,-0.125 -0.0625,0 -0.078125,0.01563 -0.25,0.21875 C 8.65625,-9.765625 8.0625,-9.015625 8.046875,-9.015625 7.578125,-9.9375 6.625,-10.09375 6.03125,-10.09375 c -1.828125,0 -3.484375,1.65625 -3.484375,3.28125 0,1.078125 0.65625,1.703125 1.359375,1.953125 0.15625,0.046875 1,0.28125 1.421875,0.390625 0.734375,0.1875 0.921875,0.25 1.234375,0.5625 0.046875,0.078125 0.34375,0.40625 0.34375,1.078125 0,1.34375 -1.234375,2.71875 -2.671875,2.71875 -1.171875,0 -2.484375,-0.5 -2.484375,-2.109375 0,-0.28125 0.0625,-0.625 0.09375,-0.765625 0,-0.046875 0.015625,-0.109375 0.015625,-0.140625 0,-0.0625 -0.015625,-0.125 -0.140625,-0.125 -0.125,0 -0.140625,0.015625 -0.203125,0.265625 l -0.734375,2.9375 c 0,0.015625 -0.046875,0.203125 -0.046875,0.21875 0,0.125 0.109375,0.125 0.140625,0.125 0.0625,0 0.078125,-0.015625 0.25,-0.21875 L 1.78125,-0.78125 C 2.125,-0.265625 2.875,0.296875 4.203125,0.296875 6.046875,0.296875 7.75,-1.484375 7.75,-3.28125 7.75,-3.890625 7.609375,-4.421875 7.0625,-4.953125 6.75,-5.25 6.5,-5.328125 5.171875,-5.671875 4.21875,-5.921875 4.09375,-5.96875 3.828125,-6.203125 3.578125,-6.4375 3.40625,-6.78125 3.40625,-7.265625 c 0,-1.21875 1.21875,-2.4375 2.578125,-2.4375 1.40625,0 2.0625,0.859375 2.0625,2.21875 0,0.375 -0.078125,0.75 -0.078125,0.8125 0,0.125 0.125,0.125 0.171875,0.125 0.125,0 0.140625,-0.03125 0.1875,-0.265625 z m 0,0\" id=\"path10161\"/></symbol><symbol overflow=\"visible\" id=\"symbol10167\" style=\"fill:#ffffff;stroke-width:0\"><path style=\"fill:#ffffff;stroke:#ffffff;stroke-width:0\" d=\"\" id=\"path10165\"/></symbol><symbol overflow=\"visible\" id=\"symbol10171\" style=\"fill:#ffffff;stroke-width:0\"><path style=\"fill:#ffffff;stroke:#ffffff;stroke-width:0\" d=\"m 4.578125,-3.1875 c 0,-0.796875 -0.046875,-1.59375 -0.390625,-2.328125 -0.453125,-0.96875 -1.28125,-1.125 -1.6875,-1.125 -0.609375,0 -1.328125,0.265625 -1.75,1.1875 -0.3125,0.6875 -0.359375,1.46875 -0.359375,2.265625 0,0.75 0.03125,1.640625 0.453125,2.40625 0.421875,0.796875 1.15625,1 1.640625,1 0.53125,0 1.296875,-0.203125 1.734375,-1.15625 0.3125,-0.6875 0.359375,-1.46875 0.359375,-2.25 z M 2.484375,0 C 2.09375,0 1.5,-0.25 1.328125,-1.203125 1.21875,-1.796875 1.21875,-2.71875 1.21875,-3.3125 c 0,-0.640625 0,-1.296875 0.078125,-1.828125 0.1875,-1.1875 0.9375,-1.28125 1.1875,-1.28125 0.328125,0 0.984375,0.1875 1.171875,1.171875 0.109375,0.5625 0.109375,1.3125 0.109375,1.9375 0,0.75 0,1.421875 -0.109375,2.0625 C 3.5,-0.296875 2.9375,0 2.484375,0 Z m 0,0\" id=\"path10169\"/></symbol></g><g id=\"g10200\" style=\"opacity:1;fill:#000000;fill-opacity:1;stroke-width:0;stroke-opacity:1\"><symbol overflow=\"visible\" id=\"symbol10186\" style=\"opacity:1;fill:#000000;fill-opacity:1;stroke-width:0;stroke-opacity:1\"><path style=\"opacity:1;fill:#000000;fill-opacity:1;stroke:#000000;stroke-width:0;stroke-opacity:1\" d=\"\" id=\"path10184\"/></symbol><symbol overflow=\"visible\" id=\"symbol10190\" style=\"opacity:1;fill:#000000;fill-opacity:1;stroke-width:0;stroke-opacity:1\"><path style=\"opacity:1;fill:#000000;fill-opacity:1;stroke:#000000;stroke-width:0;stroke-opacity:1\" d=\"m 9.109375,-9.96875 c 0,-0.125 -0.09375,-0.125 -0.125,-0.125 -0.0625,0 -0.078125,0.01563 -0.25,0.21875 C 8.65625,-9.765625 8.0625,-9.015625 8.046875,-9.015625 7.578125,-9.9375 6.625,-10.09375 6.03125,-10.09375 c -1.828125,0 -3.484375,1.65625 -3.484375,3.28125 0,1.078125 0.65625,1.703125 1.359375,1.953125 0.15625,0.046875 1,0.28125 1.421875,0.390625 0.734375,0.1875 0.921875,0.25 1.234375,0.5625 0.046875,0.078125 0.34375,0.40625 0.34375,1.078125 0,1.34375 -1.234375,2.71875 -2.671875,2.71875 -1.171875,0 -2.484375,-0.5 -2.484375,-2.109375 0,-0.28125 0.0625,-0.625 0.09375,-0.765625 0,-0.046875 0.015625,-0.109375 0.015625,-0.140625 0,-0.0625 -0.015625,-0.125 -0.140625,-0.125 -0.125,0 -0.140625,0.015625 -0.203125,0.265625 l -0.734375,2.9375 c 0,0.015625 -0.046875,0.203125 -0.046875,0.21875 0,0.125 0.109375,0.125 0.140625,0.125 0.0625,0 0.078125,-0.015625 0.25,-0.21875 L 1.78125,-0.78125 C 2.125,-0.265625 2.875,0.296875 4.203125,0.296875 6.046875,0.296875 7.75,-1.484375 7.75,-3.28125 7.75,-3.890625 7.609375,-4.421875 7.0625,-4.953125 6.75,-5.25 6.5,-5.328125 5.171875,-5.671875 4.21875,-5.921875 4.09375,-5.96875 3.828125,-6.203125 3.578125,-6.4375 3.40625,-6.78125 3.40625,-7.265625 c 0,-1.21875 1.21875,-2.4375 2.578125,-2.4375 1.40625,0 2.0625,0.859375 2.0625,2.21875 0,0.375 -0.078125,0.75 -0.078125,0.8125 0,0.125 0.125,0.125 0.171875,0.125 0.125,0 0.140625,-0.03125 0.1875,-0.265625 z m 0,0\" id=\"path10188\"/></symbol><symbol overflow=\"visible\" id=\"symbol10194\" style=\"opacity:1;fill:#000000;fill-opacity:1;stroke-width:0;stroke-opacity:1\"><path style=\"opacity:1;fill:#000000;fill-opacity:1;stroke:#000000;stroke-width:0;stroke-opacity:1\" d=\"\" id=\"path10192\"/></symbol><symbol overflow=\"visible\" id=\"symbol10198\" style=\"opacity:1;fill:#000000;fill-opacity:1;stroke-width:0;stroke-opacity:1\"><path style=\"opacity:1;fill:#000000;fill-opacity:1;stroke:#000000;stroke-width:0;stroke-opacity:1\" d=\"m 2.9375,-6.375 c 0,-0.25 0,-0.265625 -0.234375,-0.265625 C 2.078125,-6 1.203125,-6 0.890625,-6 v 0.3125 c 0.203125,0 0.78125,0 1.296875,-0.265625 v 5.171875 c 0,0.359375 -0.03125,0.46875 -0.921875,0.46875 h -0.3125 V 0 c 0.34375,-0.03125 1.203125,-0.03125 1.609375,-0.03125 0.390625,0 1.265625,0 1.609375,0.03125 v -0.3125 h -0.3125 c -0.90625,0 -0.921875,-0.109375 -0.921875,-0.46875 z m 0,0\" id=\"path10196\"/></symbol></g><g id=\"g10227\" style=\"fill:#ffffff;stroke-width:0\"><symbol overflow=\"visible\" id=\"symbol10213\" style=\"fill:#ffffff;stroke-width:0\"><path style=\"fill:#ffffff;stroke:#ffffff;stroke-width:0\" d=\"\" id=\"path10211\"/></symbol><symbol overflow=\"visible\" id=\"symbol10217\" style=\"fill:#ffffff;stroke-width:0\"><path style=\"fill:#ffffff;stroke:#ffffff;stroke-width:0\" d=\"m 9.109375,-9.96875 c 0,-0.125 -0.09375,-0.125 -0.125,-0.125 -0.0625,0 -0.078125,0.01563 -0.25,0.21875 C 8.65625,-9.765625 8.0625,-9.015625 8.046875,-9.015625 7.578125,-9.9375 6.625,-10.09375 6.03125,-10.09375 c -1.828125,0 -3.484375,1.65625 -3.484375,3.28125 0,1.078125 0.65625,1.703125 1.359375,1.953125 0.15625,0.046875 1,0.28125 1.421875,0.390625 0.734375,0.1875 0.921875,0.25 1.234375,0.5625 0.046875,0.078125 0.34375,0.40625 0.34375,1.078125 0,1.34375 -1.234375,2.71875 -2.671875,2.71875 -1.171875,0 -2.484375,-0.5 -2.484375,-2.109375 0,-0.28125 0.0625,-0.625 0.09375,-0.765625 0,-0.046875 0.015625,-0.109375 0.015625,-0.140625 0,-0.0625 -0.015625,-0.125 -0.140625,-0.125 -0.125,0 -0.140625,0.015625 -0.203125,0.265625 l -0.734375,2.9375 c 0,0.015625 -0.046875,0.203125 -0.046875,0.21875 0,0.125 0.109375,0.125 0.140625,0.125 0.0625,0 0.078125,-0.015625 0.25,-0.21875 L 1.78125,-0.78125 C 2.125,-0.265625 2.875,0.296875 4.203125,0.296875 6.046875,0.296875 7.75,-1.484375 7.75,-3.28125 7.75,-3.890625 7.609375,-4.421875 7.0625,-4.953125 6.75,-5.25 6.5,-5.328125 5.171875,-5.671875 4.21875,-5.921875 4.09375,-5.96875 3.828125,-6.203125 3.578125,-6.4375 3.40625,-6.78125 3.40625,-7.265625 c 0,-1.21875 1.21875,-2.4375 2.578125,-2.4375 1.40625,0 2.0625,0.859375 2.0625,2.21875 0,0.375 -0.078125,0.75 -0.078125,0.8125 0,0.125 0.125,0.125 0.171875,0.125 0.125,0 0.140625,-0.03125 0.1875,-0.265625 z m 0,0\" id=\"path10215\"/></symbol><symbol overflow=\"visible\" id=\"symbol10221\" style=\"fill:#ffffff;stroke-width:0\"><path style=\"fill:#ffffff;stroke:#ffffff;stroke-width:0\" d=\"\" id=\"path10219\"/></symbol><symbol overflow=\"visible\" id=\"symbol10225\" style=\"fill:#ffffff;stroke-width:0\"><path style=\"fill:#ffffff;stroke:#ffffff;stroke-width:0\" d=\"m 1.265625,-0.765625 1.0625,-1.03125 c 1.546875,-1.375 2.140625,-1.90625 2.140625,-2.90625 0,-1.140625 -0.890625,-1.9375 -2.109375,-1.9375 -1.125,0 -1.859375,0.921875 -1.859375,1.8125 0,0.546875 0.5,0.546875 0.53125,0.546875 0.171875,0 0.515625,-0.109375 0.515625,-0.53125 0,-0.25 -0.1875,-0.515625 -0.53125,-0.515625 -0.078125,0 -0.09375,0 -0.125,0.015625 0.21875,-0.65625 0.765625,-1.015625 1.34375,-1.015625 0.90625,0 1.328125,0.8125 1.328125,1.625 C 3.5625,-3.90625 3.078125,-3.125 2.515625,-2.5 l -1.90625,2.125 C 0.5,-0.265625 0.5,-0.234375 0.5,0 H 4.203125 L 4.46875,-1.734375 H 4.234375 C 4.171875,-1.4375 4.109375,-1 4,-0.84375 3.9375,-0.765625 3.28125,-0.765625 3.0625,-0.765625 Z m 0,0\" id=\"path10223\"/></symbol></g><g id=\"g10254\" style=\"fill:#ffffff;stroke-width:0\"><symbol overflow=\"visible\" id=\"symbol10240\" style=\"fill:#ffffff;stroke-width:0\"><path style=\"fill:#ffffff;stroke:#ffffff;stroke-width:0\" d=\"\" id=\"path10238\"/></symbol><symbol overflow=\"visible\" id=\"symbol10244\" style=\"fill:#ffffff;stroke-width:0\"><path style=\"fill:#ffffff;stroke:#ffffff;stroke-width:0\" d=\"m 9.109375,-9.96875 c 0,-0.125 -0.09375,-0.125 -0.125,-0.125 -0.0625,0 -0.078125,0.01563 -0.25,0.21875 C 8.65625,-9.765625 8.0625,-9.015625 8.046875,-9.015625 7.578125,-9.9375 6.625,-10.09375 6.03125,-10.09375 c -1.828125,0 -3.484375,1.65625 -3.484375,3.28125 0,1.078125 0.65625,1.703125 1.359375,1.953125 0.15625,0.046875 1,0.28125 1.421875,0.390625 0.734375,0.1875 0.921875,0.25 1.234375,0.5625 0.046875,0.078125 0.34375,0.40625 0.34375,1.078125 0,1.34375 -1.234375,2.71875 -2.671875,2.71875 -1.171875,0 -2.484375,-0.5 -2.484375,-2.109375 0,-0.28125 0.0625,-0.625 0.09375,-0.765625 0,-0.046875 0.015625,-0.109375 0.015625,-0.140625 0,-0.0625 -0.015625,-0.125 -0.140625,-0.125 -0.125,0 -0.140625,0.015625 -0.203125,0.265625 l -0.734375,2.9375 c 0,0.015625 -0.046875,0.203125 -0.046875,0.21875 0,0.125 0.109375,0.125 0.140625,0.125 0.0625,0 0.078125,-0.015625 0.25,-0.21875 L 1.78125,-0.78125 C 2.125,-0.265625 2.875,0.296875 4.203125,0.296875 6.046875,0.296875 7.75,-1.484375 7.75,-3.28125 7.75,-3.890625 7.609375,-4.421875 7.0625,-4.953125 6.75,-5.25 6.5,-5.328125 5.171875,-5.671875 4.21875,-5.921875 4.09375,-5.96875 3.828125,-6.203125 3.578125,-6.4375 3.40625,-6.78125 3.40625,-7.265625 c 0,-1.21875 1.21875,-2.4375 2.578125,-2.4375 1.40625,0 2.0625,0.859375 2.0625,2.21875 0,0.375 -0.078125,0.75 -0.078125,0.8125 0,0.125 0.125,0.125 0.171875,0.125 0.125,0 0.140625,-0.03125 0.1875,-0.265625 z m 0,0\" id=\"path10242\"/></symbol><symbol overflow=\"visible\" id=\"symbol10248\" style=\"fill:#ffffff;stroke-width:0\"><path style=\"fill:#ffffff;stroke:#ffffff;stroke-width:0\" d=\"\" id=\"path10246\"/></symbol><symbol overflow=\"visible\" id=\"symbol10252\" style=\"fill:#ffffff;stroke-width:0\"><path style=\"fill:#ffffff;stroke:#ffffff;stroke-width:0\" d=\"m 2.890625,-3.515625 c 0.8125,-0.265625 1.390625,-0.953125 1.390625,-1.75 0,-0.8125 -0.875,-1.375 -1.828125,-1.375 -1,0 -1.765625,0.59375 -1.765625,1.359375 0,0.328125 0.21875,0.515625 0.515625,0.515625 0.296875,0 0.5,-0.21875 0.5,-0.515625 0,-0.484375 -0.46875,-0.484375 -0.609375,-0.484375 0.296875,-0.5 0.953125,-0.625 1.3125,-0.625 0.421875,0 0.96875,0.21875 0.96875,1.109375 0,0.125 -0.03125,0.703125 -0.28125,1.140625 C 2.796875,-3.65625 2.453125,-3.625 2.203125,-3.625 2.125,-3.609375 1.890625,-3.59375 1.8125,-3.59375 c -0.078125,0.015625 -0.140625,0.03125 -0.140625,0.125 0,0.109375 0.0625,0.109375 0.234375,0.109375 h 0.4375 c 0.8125,0 1.1875,0.671875 1.1875,1.65625 0,1.359375 -0.6875,1.640625 -1.125,1.640625 -0.4375,0 -1.1875,-0.171875 -1.53125,-0.75 0.34375,0.046875 0.65625,-0.171875 0.65625,-0.546875 0,-0.359375 -0.265625,-0.5625 -0.546875,-0.5625 -0.25,0 -0.5625,0.140625 -0.5625,0.578125 0,0.90625 0.921875,1.5625 2.015625,1.5625 1.21875,0 2.125,-0.90625 2.125,-1.921875 0,-0.8125 -0.640625,-1.59375 -1.671875,-1.8125 z m 0,0\" id=\"path10250\"/></symbol></g><g id=\"g10281\" style=\"fill:#000000;stroke-width:0\"><symbol overflow=\"visible\" id=\"symbol10267\" style=\"fill:#000000;stroke-width:0\"><path style=\"fill:#000000;stroke:#000000;stroke-width:0\" d=\"\" id=\"path10265\"/></symbol><symbol overflow=\"visible\" id=\"symbol10271\" style=\"fill:#000000;stroke-width:0\"><path style=\"fill:#000000;stroke:#000000;stroke-width:0\" d=\"m 9.109375,-9.96875 c 0,-0.125 -0.09375,-0.125 -0.125,-0.125 -0.0625,0 -0.078125,0.01563 -0.25,0.21875 C 8.65625,-9.765625 8.0625,-9.015625 8.046875,-9.015625 7.578125,-9.9375 6.625,-10.09375 6.03125,-10.09375 c -1.828125,0 -3.484375,1.65625 -3.484375,3.28125 0,1.078125 0.65625,1.703125 1.359375,1.953125 0.15625,0.046875 1,0.28125 1.421875,0.390625 0.734375,0.1875 0.921875,0.25 1.234375,0.5625 0.046875,0.078125 0.34375,0.40625 0.34375,1.078125 0,1.34375 -1.234375,2.71875 -2.671875,2.71875 -1.171875,0 -2.484375,-0.5 -2.484375,-2.109375 0,-0.28125 0.0625,-0.625 0.09375,-0.765625 0,-0.046875 0.015625,-0.109375 0.015625,-0.140625 0,-0.0625 -0.015625,-0.125 -0.140625,-0.125 -0.125,0 -0.140625,0.015625 -0.203125,0.265625 l -0.734375,2.9375 c 0,0.015625 -0.046875,0.203125 -0.046875,0.21875 0,0.125 0.109375,0.125 0.140625,0.125 0.0625,0 0.078125,-0.015625 0.25,-0.21875 L 1.78125,-0.78125 C 2.125,-0.265625 2.875,0.296875 4.203125,0.296875 6.046875,0.296875 7.75,-1.484375 7.75,-3.28125 7.75,-3.890625 7.609375,-4.421875 7.0625,-4.953125 6.75,-5.25 6.5,-5.328125 5.171875,-5.671875 4.21875,-5.921875 4.09375,-5.96875 3.828125,-6.203125 3.578125,-6.4375 3.40625,-6.78125 3.40625,-7.265625 c 0,-1.21875 1.21875,-2.4375 2.578125,-2.4375 1.40625,0 2.0625,0.859375 2.0625,2.21875 0,0.375 -0.078125,0.75 -0.078125,0.8125 0,0.125 0.125,0.125 0.171875,0.125 0.125,0 0.140625,-0.03125 0.1875,-0.265625 z m 0,0\" id=\"path10269\"/></symbol><symbol overflow=\"visible\" id=\"symbol10275\" style=\"fill:#000000;stroke-width:0\"><path style=\"fill:#000000;stroke:#000000;stroke-width:0\" d=\"\" id=\"path10273\"/></symbol><symbol overflow=\"visible\" id=\"symbol10279\" style=\"fill:#000000;stroke-width:0\"><path style=\"fill:#000000;stroke:#000000;stroke-width:0\" d=\"m 2.9375,-1.640625 v 0.859375 c 0,0.359375 -0.03125,0.46875 -0.765625,0.46875 H 1.96875 V 0 C 2.375,-0.03125 2.890625,-0.03125 3.3125,-0.03125 c 0.421875,0 0.9375,0 1.359375,0.03125 v -0.3125 h -0.21875 c -0.734375,0 -0.75,-0.109375 -0.75,-0.46875 V -1.640625 H 4.6875 v -0.3125 H 3.703125 v -4.53125 c 0,-0.203125 0,-0.265625 -0.171875,-0.265625 -0.078125,0 -0.109375,0 -0.1875,0.125 l -3.0625,4.671875 v 0.3125 z m 0.046875,-0.3125 H 0.5625 l 2.421875,-3.71875 z m 0,0\" id=\"path10277\"/></symbol></g><g id=\"g10173-7\" style=\"fill:#ffffff;stroke-width:0\"><symbol overflow=\"visible\" id=\"symbol10159-8\" style=\"fill:#ffffff;stroke-width:0\"><path style=\"fill:#ffffff;stroke:#ffffff;stroke-width:0\" d=\"\" id=\"path10157-1\"/></symbol><symbol overflow=\"visible\" id=\"symbol10163-6\" style=\"fill:#ffffff;stroke-width:0\"><path style=\"fill:#ffffff;stroke:#ffffff;stroke-width:0\" d=\"m 9.109375,-9.96875 c 0,-0.125 -0.09375,-0.125 -0.125,-0.125 -0.0625,0 -0.078125,0.01563 -0.25,0.21875 C 8.65625,-9.765625 8.0625,-9.015625 8.046875,-9.015625 7.578125,-9.9375 6.625,-10.09375 6.03125,-10.09375 c -1.828125,0 -3.484375,1.65625 -3.484375,3.28125 0,1.078125 0.65625,1.703125 1.359375,1.953125 0.15625,0.046875 1,0.28125 1.421875,0.390625 0.734375,0.1875 0.921875,0.25 1.234375,0.5625 0.046875,0.078125 0.34375,0.40625 0.34375,1.078125 0,1.34375 -1.234375,2.71875 -2.671875,2.71875 -1.171875,0 -2.484375,-0.5 -2.484375,-2.109375 0,-0.28125 0.0625,-0.625 0.09375,-0.765625 0,-0.046875 0.015625,-0.109375 0.015625,-0.140625 0,-0.0625 -0.015625,-0.125 -0.140625,-0.125 -0.125,0 -0.140625,0.015625 -0.203125,0.265625 l -0.734375,2.9375 c 0,0.015625 -0.046875,0.203125 -0.046875,0.21875 0,0.125 0.109375,0.125 0.140625,0.125 0.0625,0 0.078125,-0.015625 0.25,-0.21875 L 1.78125,-0.78125 C 2.125,-0.265625 2.875,0.296875 4.203125,0.296875 6.046875,0.296875 7.75,-1.484375 7.75,-3.28125 7.75,-3.890625 7.609375,-4.421875 7.0625,-4.953125 6.75,-5.25 6.5,-5.328125 5.171875,-5.671875 4.21875,-5.921875 4.09375,-5.96875 3.828125,-6.203125 3.578125,-6.4375 3.40625,-6.78125 3.40625,-7.265625 c 0,-1.21875 1.21875,-2.4375 2.578125,-2.4375 1.40625,0 2.0625,0.859375 2.0625,2.21875 0,0.375 -0.078125,0.75 -0.078125,0.8125 0,0.125 0.125,0.125 0.171875,0.125 0.125,0 0.140625,-0.03125 0.1875,-0.265625 z m 0,0\" id=\"path10161-4\"/></symbol><symbol overflow=\"visible\" id=\"symbol10167-7\" style=\"fill:#ffffff;stroke-width:0\"><path style=\"fill:#ffffff;stroke:#ffffff;stroke-width:0\" d=\"\" id=\"path10165-3\"/></symbol><symbol overflow=\"visible\" id=\"symbol10171-3\" style=\"fill:#ffffff;stroke-width:0\"><path style=\"fill:#ffffff;stroke:#ffffff;stroke-width:0\" d=\"m 4.578125,-3.1875 c 0,-0.796875 -0.046875,-1.59375 -0.390625,-2.328125 -0.453125,-0.96875 -1.28125,-1.125 -1.6875,-1.125 -0.609375,0 -1.328125,0.265625 -1.75,1.1875 -0.3125,0.6875 -0.359375,1.46875 -0.359375,2.265625 0,0.75 0.03125,1.640625 0.453125,2.40625 0.421875,0.796875 1.15625,1 1.640625,1 0.53125,0 1.296875,-0.203125 1.734375,-1.15625 0.3125,-0.6875 0.359375,-1.46875 0.359375,-2.25 z M 2.484375,0 C 2.09375,0 1.5,-0.25 1.328125,-1.203125 1.21875,-1.796875 1.21875,-2.71875 1.21875,-3.3125 c 0,-0.640625 0,-1.296875 0.078125,-1.828125 0.1875,-1.1875 0.9375,-1.28125 1.1875,-1.28125 0.328125,0 0.984375,0.1875 1.171875,1.171875 0.109375,0.5625 0.109375,1.3125 0.109375,1.9375 0,0.75 0,1.421875 -0.109375,2.0625 C 3.5,-0.296875 2.9375,0 2.484375,0 Z m 0,0\" id=\"path10169-2\"/></symbol></g><g id=\"g10200-6\" style=\"opacity:1;fill:#000000;fill-opacity:1;stroke-width:0;stroke-opacity:1\"><symbol overflow=\"visible\" id=\"symbol10186-4\" style=\"opacity:1;fill:#000000;fill-opacity:1;stroke-width:0;stroke-opacity:1\"><path style=\"opacity:1;fill:#000000;fill-opacity:1;stroke:#000000;stroke-width:0;stroke-opacity:1\" d=\"\" id=\"path10184-4\"/></symbol><symbol overflow=\"visible\" id=\"symbol10190-6\" style=\"opacity:1;fill:#000000;fill-opacity:1;stroke-width:0;stroke-opacity:1\"><path style=\"opacity:1;fill:#000000;fill-opacity:1;stroke:#000000;stroke-width:0;stroke-opacity:1\" d=\"m 9.109375,-9.96875 c 0,-0.125 -0.09375,-0.125 -0.125,-0.125 -0.0625,0 -0.078125,0.01563 -0.25,0.21875 C 8.65625,-9.765625 8.0625,-9.015625 8.046875,-9.015625 7.578125,-9.9375 6.625,-10.09375 6.03125,-10.09375 c -1.828125,0 -3.484375,1.65625 -3.484375,3.28125 0,1.078125 0.65625,1.703125 1.359375,1.953125 0.15625,0.046875 1,0.28125 1.421875,0.390625 0.734375,0.1875 0.921875,0.25 1.234375,0.5625 0.046875,0.078125 0.34375,0.40625 0.34375,1.078125 0,1.34375 -1.234375,2.71875 -2.671875,2.71875 -1.171875,0 -2.484375,-0.5 -2.484375,-2.109375 0,-0.28125 0.0625,-0.625 0.09375,-0.765625 0,-0.046875 0.015625,-0.109375 0.015625,-0.140625 0,-0.0625 -0.015625,-0.125 -0.140625,-0.125 -0.125,0 -0.140625,0.015625 -0.203125,0.265625 l -0.734375,2.9375 c 0,0.015625 -0.046875,0.203125 -0.046875,0.21875 0,0.125 0.109375,0.125 0.140625,0.125 0.0625,0 0.078125,-0.015625 0.25,-0.21875 L 1.78125,-0.78125 C 2.125,-0.265625 2.875,0.296875 4.203125,0.296875 6.046875,0.296875 7.75,-1.484375 7.75,-3.28125 7.75,-3.890625 7.609375,-4.421875 7.0625,-4.953125 6.75,-5.25 6.5,-5.328125 5.171875,-5.671875 4.21875,-5.921875 4.09375,-5.96875 3.828125,-6.203125 3.578125,-6.4375 3.40625,-6.78125 3.40625,-7.265625 c 0,-1.21875 1.21875,-2.4375 2.578125,-2.4375 1.40625,0 2.0625,0.859375 2.0625,2.21875 0,0.375 -0.078125,0.75 -0.078125,0.8125 0,0.125 0.125,0.125 0.171875,0.125 0.125,0 0.140625,-0.03125 0.1875,-0.265625 z m 0,0\" id=\"path10188-0\"/></symbol><symbol overflow=\"visible\" id=\"symbol10194-2\" style=\"opacity:1;fill:#000000;fill-opacity:1;stroke-width:0;stroke-opacity:1\"><path style=\"opacity:1;fill:#000000;fill-opacity:1;stroke:#000000;stroke-width:0;stroke-opacity:1\" d=\"\" id=\"path10192-9\"/></symbol><symbol overflow=\"visible\" id=\"symbol10198-9\" style=\"opacity:1;fill:#000000;fill-opacity:1;stroke-width:0;stroke-opacity:1\"><path style=\"opacity:1;fill:#000000;fill-opacity:1;stroke:#000000;stroke-width:0;stroke-opacity:1\" d=\"m 2.9375,-6.375 c 0,-0.25 0,-0.265625 -0.234375,-0.265625 C 2.078125,-6 1.203125,-6 0.890625,-6 v 0.3125 c 0.203125,0 0.78125,0 1.296875,-0.265625 v 5.171875 c 0,0.359375 -0.03125,0.46875 -0.921875,0.46875 h -0.3125 V 0 c 0.34375,-0.03125 1.203125,-0.03125 1.609375,-0.03125 0.390625,0 1.265625,0 1.609375,0.03125 v -0.3125 h -0.3125 c -0.90625,0 -0.921875,-0.109375 -0.921875,-0.46875 z m 0,0\" id=\"path10196-4\"/></symbol></g><g id=\"g10227-1\" style=\"fill:#ffffff;stroke-width:0\"><symbol overflow=\"visible\" id=\"symbol10213-5\" style=\"fill:#ffffff;stroke-width:0\"><path style=\"fill:#ffffff;stroke:#ffffff;stroke-width:0\" d=\"\" id=\"path10211-9\"/></symbol><symbol overflow=\"visible\" id=\"symbol10217-8\" style=\"fill:#ffffff;stroke-width:0\"><path style=\"fill:#ffffff;stroke:#ffffff;stroke-width:0\" d=\"m 9.109375,-9.96875 c 0,-0.125 -0.09375,-0.125 -0.125,-0.125 -0.0625,0 -0.078125,0.01563 -0.25,0.21875 C 8.65625,-9.765625 8.0625,-9.015625 8.046875,-9.015625 7.578125,-9.9375 6.625,-10.09375 6.03125,-10.09375 c -1.828125,0 -3.484375,1.65625 -3.484375,3.28125 0,1.078125 0.65625,1.703125 1.359375,1.953125 0.15625,0.046875 1,0.28125 1.421875,0.390625 0.734375,0.1875 0.921875,0.25 1.234375,0.5625 0.046875,0.078125 0.34375,0.40625 0.34375,1.078125 0,1.34375 -1.234375,2.71875 -2.671875,2.71875 -1.171875,0 -2.484375,-0.5 -2.484375,-2.109375 0,-0.28125 0.0625,-0.625 0.09375,-0.765625 0,-0.046875 0.015625,-0.109375 0.015625,-0.140625 0,-0.0625 -0.015625,-0.125 -0.140625,-0.125 -0.125,0 -0.140625,0.015625 -0.203125,0.265625 l -0.734375,2.9375 c 0,0.015625 -0.046875,0.203125 -0.046875,0.21875 0,0.125 0.109375,0.125 0.140625,0.125 0.0625,0 0.078125,-0.015625 0.25,-0.21875 L 1.78125,-0.78125 C 2.125,-0.265625 2.875,0.296875 4.203125,0.296875 6.046875,0.296875 7.75,-1.484375 7.75,-3.28125 7.75,-3.890625 7.609375,-4.421875 7.0625,-4.953125 6.75,-5.25 6.5,-5.328125 5.171875,-5.671875 4.21875,-5.921875 4.09375,-5.96875 3.828125,-6.203125 3.578125,-6.4375 3.40625,-6.78125 3.40625,-7.265625 c 0,-1.21875 1.21875,-2.4375 2.578125,-2.4375 1.40625,0 2.0625,0.859375 2.0625,2.21875 0,0.375 -0.078125,0.75 -0.078125,0.8125 0,0.125 0.125,0.125 0.171875,0.125 0.125,0 0.140625,-0.03125 0.1875,-0.265625 z m 0,0\" id=\"path10215-6\"/></symbol><symbol overflow=\"visible\" id=\"symbol10221-4\" style=\"fill:#ffffff;stroke-width:0\"><path style=\"fill:#ffffff;stroke:#ffffff;stroke-width:0\" d=\"\" id=\"path10219-2\"/></symbol><symbol overflow=\"visible\" id=\"symbol10225-7\" style=\"fill:#ffffff;stroke-width:0\"><path style=\"fill:#ffffff;stroke:#ffffff;stroke-width:0\" d=\"m 1.265625,-0.765625 1.0625,-1.03125 c 1.546875,-1.375 2.140625,-1.90625 2.140625,-2.90625 0,-1.140625 -0.890625,-1.9375 -2.109375,-1.9375 -1.125,0 -1.859375,0.921875 -1.859375,1.8125 0,0.546875 0.5,0.546875 0.53125,0.546875 0.171875,0 0.515625,-0.109375 0.515625,-0.53125 0,-0.25 -0.1875,-0.515625 -0.53125,-0.515625 -0.078125,0 -0.09375,0 -0.125,0.015625 0.21875,-0.65625 0.765625,-1.015625 1.34375,-1.015625 0.90625,0 1.328125,0.8125 1.328125,1.625 C 3.5625,-3.90625 3.078125,-3.125 2.515625,-2.5 l -1.90625,2.125 C 0.5,-0.265625 0.5,-0.234375 0.5,0 H 4.203125 L 4.46875,-1.734375 H 4.234375 C 4.171875,-1.4375 4.109375,-1 4,-0.84375 3.9375,-0.765625 3.28125,-0.765625 3.0625,-0.765625 Z m 0,0\" id=\"path10223-8\"/></symbol></g><g id=\"g10254-8\" style=\"fill:#ffffff;stroke-width:0\"><symbol overflow=\"visible\" id=\"symbol10240-2\" style=\"fill:#ffffff;stroke-width:0\"><path style=\"fill:#ffffff;stroke:#ffffff;stroke-width:0\" d=\"\" id=\"path10238-9\"/></symbol><symbol overflow=\"visible\" id=\"symbol10244-3\" style=\"fill:#ffffff;stroke-width:0\"><path style=\"fill:#ffffff;stroke:#ffffff;stroke-width:0\" d=\"m 9.109375,-9.96875 c 0,-0.125 -0.09375,-0.125 -0.125,-0.125 -0.0625,0 -0.078125,0.01563 -0.25,0.21875 C 8.65625,-9.765625 8.0625,-9.015625 8.046875,-9.015625 7.578125,-9.9375 6.625,-10.09375 6.03125,-10.09375 c -1.828125,0 -3.484375,1.65625 -3.484375,3.28125 0,1.078125 0.65625,1.703125 1.359375,1.953125 0.15625,0.046875 1,0.28125 1.421875,0.390625 0.734375,0.1875 0.921875,0.25 1.234375,0.5625 0.046875,0.078125 0.34375,0.40625 0.34375,1.078125 0,1.34375 -1.234375,2.71875 -2.671875,2.71875 -1.171875,0 -2.484375,-0.5 -2.484375,-2.109375 0,-0.28125 0.0625,-0.625 0.09375,-0.765625 0,-0.046875 0.015625,-0.109375 0.015625,-0.140625 0,-0.0625 -0.015625,-0.125 -0.140625,-0.125 -0.125,0 -0.140625,0.015625 -0.203125,0.265625 l -0.734375,2.9375 c 0,0.015625 -0.046875,0.203125 -0.046875,0.21875 0,0.125 0.109375,0.125 0.140625,0.125 0.0625,0 0.078125,-0.015625 0.25,-0.21875 L 1.78125,-0.78125 C 2.125,-0.265625 2.875,0.296875 4.203125,0.296875 6.046875,0.296875 7.75,-1.484375 7.75,-3.28125 7.75,-3.890625 7.609375,-4.421875 7.0625,-4.953125 6.75,-5.25 6.5,-5.328125 5.171875,-5.671875 4.21875,-5.921875 4.09375,-5.96875 3.828125,-6.203125 3.578125,-6.4375 3.40625,-6.78125 3.40625,-7.265625 c 0,-1.21875 1.21875,-2.4375 2.578125,-2.4375 1.40625,0 2.0625,0.859375 2.0625,2.21875 0,0.375 -0.078125,0.75 -0.078125,0.8125 0,0.125 0.125,0.125 0.171875,0.125 0.125,0 0.140625,-0.03125 0.1875,-0.265625 z m 0,0\" id=\"path10242-6\"/></symbol><symbol overflow=\"visible\" id=\"symbol10248-4\" style=\"fill:#ffffff;stroke-width:0\"><path style=\"fill:#ffffff;stroke:#ffffff;stroke-width:0\" d=\"\" id=\"path10246-6\"/></symbol><symbol overflow=\"visible\" id=\"symbol10252-0\" style=\"fill:#ffffff;stroke-width:0\"><path style=\"fill:#ffffff;stroke:#ffffff;stroke-width:0\" d=\"m 2.890625,-3.515625 c 0.8125,-0.265625 1.390625,-0.953125 1.390625,-1.75 0,-0.8125 -0.875,-1.375 -1.828125,-1.375 -1,0 -1.765625,0.59375 -1.765625,1.359375 0,0.328125 0.21875,0.515625 0.515625,0.515625 0.296875,0 0.5,-0.21875 0.5,-0.515625 0,-0.484375 -0.46875,-0.484375 -0.609375,-0.484375 0.296875,-0.5 0.953125,-0.625 1.3125,-0.625 0.421875,0 0.96875,0.21875 0.96875,1.109375 0,0.125 -0.03125,0.703125 -0.28125,1.140625 C 2.796875,-3.65625 2.453125,-3.625 2.203125,-3.625 2.125,-3.609375 1.890625,-3.59375 1.8125,-3.59375 c -0.078125,0.015625 -0.140625,0.03125 -0.140625,0.125 0,0.109375 0.0625,0.109375 0.234375,0.109375 h 0.4375 c 0.8125,0 1.1875,0.671875 1.1875,1.65625 0,1.359375 -0.6875,1.640625 -1.125,1.640625 -0.4375,0 -1.1875,-0.171875 -1.53125,-0.75 0.34375,0.046875 0.65625,-0.171875 0.65625,-0.546875 0,-0.359375 -0.265625,-0.5625 -0.546875,-0.5625 -0.25,0 -0.5625,0.140625 -0.5625,0.578125 0,0.90625 0.921875,1.5625 2.015625,1.5625 1.21875,0 2.125,-0.90625 2.125,-1.921875 0,-0.8125 -0.640625,-1.59375 -1.671875,-1.8125 z m 0,0\" id=\"path10250-6\"/></symbol></g><g id=\"g10281-0\" style=\"fill:#000000;stroke-width:0\"><symbol overflow=\"visible\" id=\"symbol10267-9\" style=\"fill:#000000;stroke-width:0\"><path style=\"fill:#000000;stroke:#000000;stroke-width:0\" d=\"\" id=\"path10265-1\"/></symbol><symbol overflow=\"visible\" id=\"symbol10271-5\" style=\"fill:#000000;stroke-width:0\"><path style=\"fill:#000000;stroke:#000000;stroke-width:0\" d=\"m 9.109375,-9.96875 c 0,-0.125 -0.09375,-0.125 -0.125,-0.125 -0.0625,0 -0.078125,0.01563 -0.25,0.21875 C 8.65625,-9.765625 8.0625,-9.015625 8.046875,-9.015625 7.578125,-9.9375 6.625,-10.09375 6.03125,-10.09375 c -1.828125,0 -3.484375,1.65625 -3.484375,3.28125 0,1.078125 0.65625,1.703125 1.359375,1.953125 0.15625,0.046875 1,0.28125 1.421875,0.390625 0.734375,0.1875 0.921875,0.25 1.234375,0.5625 0.046875,0.078125 0.34375,0.40625 0.34375,1.078125 0,1.34375 -1.234375,2.71875 -2.671875,2.71875 -1.171875,0 -2.484375,-0.5 -2.484375,-2.109375 0,-0.28125 0.0625,-0.625 0.09375,-0.765625 0,-0.046875 0.015625,-0.109375 0.015625,-0.140625 0,-0.0625 -0.015625,-0.125 -0.140625,-0.125 -0.125,0 -0.140625,0.015625 -0.203125,0.265625 l -0.734375,2.9375 c 0,0.015625 -0.046875,0.203125 -0.046875,0.21875 0,0.125 0.109375,0.125 0.140625,0.125 0.0625,0 0.078125,-0.015625 0.25,-0.21875 L 1.78125,-0.78125 C 2.125,-0.265625 2.875,0.296875 4.203125,0.296875 6.046875,0.296875 7.75,-1.484375 7.75,-3.28125 7.75,-3.890625 7.609375,-4.421875 7.0625,-4.953125 6.75,-5.25 6.5,-5.328125 5.171875,-5.671875 4.21875,-5.921875 4.09375,-5.96875 3.828125,-6.203125 3.578125,-6.4375 3.40625,-6.78125 3.40625,-7.265625 c 0,-1.21875 1.21875,-2.4375 2.578125,-2.4375 1.40625,0 2.0625,0.859375 2.0625,2.21875 0,0.375 -0.078125,0.75 -0.078125,0.8125 0,0.125 0.125,0.125 0.171875,0.125 0.125,0 0.140625,-0.03125 0.1875,-0.265625 z m 0,0\" id=\"path10269-1\"/></symbol><symbol overflow=\"visible\" id=\"symbol10275-6\" style=\"fill:#000000;stroke-width:0\"><path style=\"fill:#000000;stroke:#000000;stroke-width:0\" d=\"\" id=\"path10273-1\"/></symbol><symbol overflow=\"visible\" id=\"symbol10279-9\" style=\"fill:#000000;stroke-width:0\"><path style=\"fill:#000000;stroke:#000000;stroke-width:0\" d=\"m 2.9375,-1.640625 v 0.859375 c 0,0.359375 -0.03125,0.46875 -0.765625,0.46875 H 1.96875 V 0 C 2.375,-0.03125 2.890625,-0.03125 3.3125,-0.03125 c 0.421875,0 0.9375,0 1.359375,0.03125 v -0.3125 h -0.21875 c -0.734375,0 -0.75,-0.109375 -0.75,-0.46875 V -1.640625 H 4.6875 v -0.3125 H 3.703125 v -4.53125 c 0,-0.203125 0,-0.265625 -0.171875,-0.265625 -0.078125,0 -0.109375,0 -0.1875,0.125 l -3.0625,4.671875 v 0.3125 z m 0.046875,-0.3125 H 0.5625 l 2.421875,-3.71875 z m 0,0\" id=\"path10277-4\"/></symbol></g><g id=\"id-837e5947-6dcc-4300-9676-f69286b7dd4c-2\" style=\"fill:#000000;fill-opacity:1;stroke-width:0;stroke-opacity:1\"><symbol overflow=\"visible\" id=\"id-25c7b55e-bafc-4ee0-9912-c467948dab4d-3\" style=\"fill:#000000;fill-opacity:1;stroke-width:0;stroke-opacity:1\"><path style=\"fill:#000000;fill-opacity:1;stroke:#000000;stroke-width:0;stroke-opacity:1\" d=\"\" id=\"id-d8828ceb-e950-4cb9-a200-52194250d7d1-1\"/></symbol><symbol overflow=\"visible\" id=\"id-5d41453f-6269-4f41-b620-c7db4ca10791-6\" style=\"fill:#000000;fill-opacity:1;stroke-width:0;stroke-opacity:1\"><path style=\"fill:#000000;fill-opacity:1;stroke:#000000;stroke-width:0;stroke-opacity:1\" d=\"m 8.578125,-8.171875 0.5625,-2.21875 c -0.6875,-0.546875 -1.859375,-0.8125 -2.828125,-0.8125 -2.78125,0 -3.65625,1.8125 -3.65625,3.140625 0,1.484375 1.015625,2.265625 2.296875,2.875 1.28125,0.640625 2.03125,1.3125 2.03125,2.578125 0,1.125 -0.8125,2.296875 -2.390625,2.296875 -1.453125,0 -2.71875,-1.0625 -2.625,-3.171875 H 1.5 L 1.09375,-1.0625 c 0.625,0.828125 2.15625,1.296875 3.3125,1.296875 3.078125,-0.03125 4,-1.796875 4,-3.5 0,-1.421875 -0.765625,-2.328125 -2.375,-3.15625 C 5.125,-6.890625 4,-7.4375 4,-8.640625 c 0,-1.125 0.8125,-2 2.1875,-2 1.53125,0 2.109375,0.828125 1.921875,2.46875 z m 0,0\" id=\"id-c0041102-c64c-4a79-9bfd-1dd8ff23262d-8\"/></symbol><symbol overflow=\"visible\" id=\"id-b5cf6baf-e97b-43cf-9393-cd9b05a19893-4\" style=\"fill:#000000;fill-opacity:1;stroke-width:0;stroke-opacity:1\"><path style=\"fill:#000000;fill-opacity:1;stroke:#000000;stroke-width:0;stroke-opacity:1\" d=\"\" id=\"id-9104c323-8922-4399-a6ec-0776e4388bc5-0\"/></symbol><symbol overflow=\"visible\" id=\"id-f781ca08-0ea3-4bc9-946b-ea0cdbff224e-2\" style=\"fill:#000000;fill-opacity:1;stroke-width:0;stroke-opacity:1\"><path style=\"fill:#000000;fill-opacity:1;stroke:#000000;stroke-width:0;stroke-opacity:1\" d=\"M 4.8125,0 V -0.3125 L 3.890625,-0.390625 C 3.65625,-0.421875 3.515625,-0.5 3.515625,-0.9375 V -7.40625 L 3.46875,-7.484375 1.203125,-7.09375 v 0.28125 l 1.015625,0.109375 c 0.1875,0.03125 0.265625,0.109375 0.265625,0.4375 V -0.9375 c 0,0.21875 -0.03125,0.34375 -0.09375,0.421875 C 2.328125,-0.4375 2.25,-0.40625 2.125,-0.390625 L 1.203125,-0.3125 V 0 Z m 0,0\" id=\"id-a976a541-7cde-4d7c-862a-52c40b5dbeb4-5\"/></symbol></g><g id=\"id-9f61d8e4-c799-4f9c-8b77-88fef0551c25-9\" style=\"fill:#000000;fill-opacity:1;stroke-width:0;stroke-opacity:1\"><symbol overflow=\"visible\" id=\"id-54c1acc5-05bd-4e28-a89b-aa1292c656ed-9\" style=\"fill:#000000;fill-opacity:1;stroke-width:0;stroke-opacity:1\"><path style=\"fill:#000000;fill-opacity:1;stroke:#000000;stroke-width:0;stroke-opacity:1\" d=\"\" id=\"id-ffc5e6bd-9bb8-435e-9245-c9acb8826e06-2\"/></symbol><symbol overflow=\"visible\" id=\"id-5e01882c-f4dc-43e5-a9c8-36fe401ddd5a-7\" style=\"fill:#000000;fill-opacity:1;stroke-width:0;stroke-opacity:1\"><path style=\"fill:#000000;fill-opacity:1;stroke:#000000;stroke-width:0;stroke-opacity:1\" d=\"M 7.265625,0 V -0.609375 L 6.1875,-0.703125 C 5.8125,-0.734375 5.640625,-0.84375 5.640625,-1.34375 v -9.296875 L 5.5,-10.78125 l -3.78125,0.625 v 0.484375 l 0.96875,0.21875 C 3.109375,-9.375 3.25,-9.234375 3.25,-8.671875 v 7.328125 c 0,0.5 -0.171875,0.609375 -0.5625,0.640625 l -1.078125,0.09375 V 0 Z m 0,0\" id=\"id-23b3c296-8fd8-46da-bcb5-d3d7ce8416e2-1\"/></symbol></g></defs><sodipodi:namedview pagecolor=\"#ffffff\" bordercolor=\"#666666\" borderopacity=\"1\" objecttolerance=\"10\" gridtolerance=\"10\" guidetolerance=\"10\" inkscape:pageopacity=\"0\" inkscape:pageshadow=\"2\" inkscape:window-width=\"1440\" inkscape:window-height=\"740\" id=\"namedview1540\" showgrid=\"false\" inkscape:zoom=\"0.74354586\" inkscape:cx=\"294.82393\" inkscape:cy=\"55.491478\" inkscape:window-x=\"0\" inkscape:window-y=\"25\" inkscape:window-maximized=\"0\" inkscape:current-layer=\"g1548\" inkscape:document-rotation=\"0\"/><g id=\"g1546\" inkscape:groupmode=\"layer\" inkscape:label=\"example-network\" transform=\"matrix(1.3333333,0,0,1.3333333,0.66666665,0.66666665)\"><g id=\"g1548\"><g id=\"g1570\"><path d=\"m 97.211,115 c -15.043,0 -36.777,0 -53.676,0\" style=\"fill:none;stroke:#a9a9a9;stroke-width:1.3;stroke-linecap:butt;stroke-linejoin:miter;stroke-miterlimit:10;stroke-dasharray:none;stroke-opacity:1\" id=\"path1572\"/></g><g id=\"g1574\" style=\"fill:#999999;stroke:#999999\"><path d=\"m 43.648,117.102 -6,-2.102 6,-2.102 z\" style=\"fill:#999999;fill-opacity:1;fill-rule:nonzero;stroke:#999999;stroke-width:1.3;stroke-linecap:butt;stroke-linejoin:miter;stroke-miterlimit:10;stroke-dasharray:none;stroke-opacity:1\" id=\"path1576\"/></g><g id=\"g1588\" style=\"fill:#999999;stroke:#999999\"><path d=\"m 127.68,127.68 c 16.851,16.847 46.73,46.722 66.019,66.015\" style=\"fill:#999999;stroke:#999999;stroke-width:1.3;stroke-linecap:butt;stroke-linejoin:miter;stroke-miterlimit:10;stroke-dasharray:none;stroke-opacity:1\" id=\"path1590\"/></g><g id=\"g1592\" style=\"fill:#999999;stroke:#999999\"><path d=\"m 195.172,192.195 2.758,5.731 -5.727,-2.762 z\" style=\"fill:#999999;fill-opacity:1;fill-rule:nonzero;stroke:#999999;stroke-width:1.3;stroke-linecap:butt;stroke-linejoin:miter;stroke-miterlimit:10;stroke-dasharray:none;stroke-opacity:1\" id=\"path1594\"/></g><g id=\"g1606\" style=\"fill:#999999;stroke:#999999\"><path d=\"m 212,194.207 c 0,-15.039 0,-36.773 0,-53.672\" style=\"fill:#999999;stroke:#999999;stroke-width:1.3;stroke-linecap:butt;stroke-linejoin:miter;stroke-miterlimit:10;stroke-dasharray:none;stroke-opacity:1\" id=\"path1608\"/></g><g id=\"g1610\" style=\"fill:#999999;stroke:#999999\"><path d=\"m 209.898,140.645 2.102,-6 2.102,6 z\" style=\"fill:#999999;fill-opacity:1;fill-rule:nonzero;stroke:#999999;stroke-width:1.3;stroke-linecap:butt;stroke-linejoin:miter;stroke-miterlimit:10;stroke-dasharray:none;stroke-opacity:1\" id=\"path1612\"/></g><g id=\"g1614\" style=\"fill:#999999;stroke:#999999\"><path d=\"m 194.211,115 c -15.039,0 -36.77,0 -53.672,0\" style=\"fill:#999999;stroke:#999999;stroke-width:1.3;stroke-linecap:butt;stroke-linejoin:miter;stroke-miterlimit:10;stroke-dasharray:none;stroke-opacity:1\" id=\"path1616\"/></g><g id=\"g1618\" style=\"fill:#999999;stroke:#999999\"><path d=\"m 140.648,117.102 -6,-2.102 6,-2.102 z\" style=\"fill:#999999;fill-opacity:1;fill-rule:nonzero;stroke:#999999;stroke-width:1.3;stroke-linecap:butt;stroke-linejoin:miter;stroke-miterlimit:10;stroke-dasharray:none;stroke-opacity:1\" id=\"path1620\"/></g><g id=\"g1648\" style=\"fill:#999999;stroke:#999999\"><path d=\"m 212,35.793 c 0,15.039 0,36.773 0,53.672\" style=\"fill:#999999;stroke:#999999;stroke-width:1.3;stroke-linecap:butt;stroke-linejoin:miter;stroke-miterlimit:10;stroke-dasharray:none;stroke-opacity:1\" id=\"path1650\"/></g><g id=\"g1652\" style=\"fill:#999999;stroke:#999999\"><path d=\"m 214.102,89.355 -2.102,6 -2.102,-6 z\" style=\"fill:#999999;fill-opacity:1;fill-rule:nonzero;stroke:#999999;stroke-width:1.3;stroke-linecap:butt;stroke-linejoin:miter;stroke-miterlimit:10;stroke-dasharray:none;stroke-opacity:1\" id=\"path1654\"/></g><g transform=\"translate(11.9839,107.95)\" ns1:version=\"1.7.0\" ns1:texconverter=\"pdflatex\" ns1:pdfconverter=\"inkscape\" ns1:text=\"\\\\LARGE $S_0$\" ns1:preamble=\"/Users/julianmangott/Documents/UIBK/PhD/thesis/textext_style.sty\" ns1:scale=\"1.0\" ns1:alignment=\"middle center\" ns1:stroke-to-path=\"0\" ns1:inkscapeversion=\"1.0.2\" ns1:jacobian_sqrt=\"1.0\" style=\"fill:#000000;stroke-width:0\" id=\"g4381\"><defs id=\"id-4e4739d4-d3af-4fe6-870a-408cc0d5499f\">\n",
       "    <g id=\"id-905593a0-683a-4978-b04f-e97a3464bbc3\" style=\"fill:#000000;stroke-width:0\">\n",
       "      <symbol overflow=\"visible\" id=\"id-ef704027-dfb4-49bb-a803-4442d76c1a8d\" style=\"fill:#000000;stroke-width:0\">\n",
       "        <path style=\"fill:#000000;stroke:#000000;stroke-width:0\" d=\"\" id=\"id-63b7bf73-6bda-4837-976e-cdac2a48b3f8\"/>\n",
       "      </symbol>\n",
       "      <symbol overflow=\"visible\" id=\"id-1694091d-62af-43b7-8969-5cc6a4b69542\" style=\"fill:#000000;stroke-width:0\">\n",
       "        <path style=\"fill:#000000;stroke:#000000;stroke-width:0\" d=\"m 8.578125,-8.171875 0.5625,-2.21875 c -0.6875,-0.546875 -1.859375,-0.8125 -2.828125,-0.8125 -2.78125,0 -3.65625,1.8125 -3.65625,3.140625 0,1.484375 1.015625,2.265625 2.296875,2.875 1.28125,0.640625 2.03125,1.3125 2.03125,2.578125 0,1.125 -0.8125,2.296875 -2.390625,2.296875 -1.453125,0 -2.71875,-1.0625 -2.625,-3.171875 H 1.5 L 1.09375,-1.0625 c 0.625,0.828125 2.15625,1.296875 3.3125,1.296875 3.078125,-0.03125 4,-1.796875 4,-3.5 0,-1.421875 -0.765625,-2.328125 -2.375,-3.15625 C 5.125,-6.890625 4,-7.4375 4,-8.640625 c 0,-1.125 0.8125,-2 2.1875,-2 1.53125,0 2.109375,0.828125 1.921875,2.46875 z m 0,0\" id=\"id-c25365af-4251-4548-aaf4-d57b1b5629a8\"/>\n",
       "      </symbol>\n",
       "      <symbol overflow=\"visible\" id=\"id-b65908c5-e33f-44c5-98d9-33ce824176e8\" style=\"fill:#000000;stroke-width:0\">\n",
       "        <path style=\"fill:#000000;stroke:#000000;stroke-width:0\" d=\"\" id=\"id-d3848bbc-ee1f-40de-8c82-6ef7a4f5cdca\"/>\n",
       "      </symbol>\n",
       "      <symbol overflow=\"visible\" id=\"id-0f592219-83e5-400d-8665-b1cd868904e2\" style=\"fill:#000000;stroke-width:0\">\n",
       "        <path style=\"fill:#000000;stroke:#000000;stroke-width:0\" d=\"m 2.921875,-7.09375 c 1.03125,0 1.328125,1.625 1.328125,3.421875 C 4.25,-1.875 3.953125,-0.25 2.921875,-0.25 c -1.046875,0 -1.34375,-1.625 -1.34375,-3.421875 0,-1.796875 0.296875,-3.421875 1.34375,-3.421875 z m 0,-0.390625 c -1.828125,0 -2.46875,1.609375 -2.46875,3.8125 0,2.203125 0.640625,3.796875 2.46875,3.796875 1.8125,0 2.453125,-1.59375 2.453125,-3.796875 0,-2.203125 -0.640625,-3.8125 -2.453125,-3.8125 z m 0,0\" id=\"id-8cec0370-7551-457c-a945-6b9fb20d0a81\"/>\n",
       "      </symbol>\n",
       "    </g>\n",
       "  </defs>\n",
       "  <g id=\"id-09d3d2c9-18c3-4a0b-96a2-81bd9d7da3af\" transform=\"translate(-86.9037,-93.4299)\" style=\"fill:#000000;stroke-width:0\">\n",
       "    <g style=\"fill:#000000;fill-opacity:1;stroke-width:0\" id=\"id-b5d733fe-2ca8-4f82-8023-4c81dd7569cd\">\n",
       "      <g transform=\"translate(85.81,104.633)\" style=\"fill:#000000;stroke-width:0\" id=\"g4668\"><path style=\"fill:#000000;stroke:#000000;stroke-width:0\" d=\"m 8.578125,-8.171875 0.5625,-2.21875 c -0.6875,-0.546875 -1.859375,-0.8125 -2.828125,-0.8125 -2.78125,0 -3.65625,1.8125 -3.65625,3.140625 0,1.484375 1.015625,2.265625 2.296875,2.875 1.28125,0.640625 2.03125,1.3125 2.03125,2.578125 0,1.125 -0.8125,2.296875 -2.390625,2.296875 -1.453125,0 -2.71875,-1.0625 -2.625,-3.171875 H 1.5 L 1.09375,-1.0625 c 0.625,0.828125 2.15625,1.296875 3.3125,1.296875 3.078125,-0.03125 4,-1.796875 4,-3.5 0,-1.421875 -0.765625,-2.328125 -2.375,-3.15625 C 5.125,-6.890625 4,-7.4375 4,-8.640625 c 0,-1.125 0.8125,-2 2.1875,-2 1.53125,0 2.109375,0.828125 1.921875,2.46875 z m 0,0\" id=\"id-7b81776a-c673-4cb7-9d9c-82ebf93f688b\"/>\n",
       "      </g></g>\n",
       "    <g style=\"fill:#000000;fill-opacity:1;stroke-width:0\" id=\"id-3ffca718-b6c7-4d9d-aecb-c8b77f9bb1e7\">\n",
       "      <g transform=\"translate(95.106,107.215)\" style=\"fill:#000000;stroke-width:0\" id=\"g4672\"><path style=\"fill:#000000;stroke:#000000;stroke-width:0\" d=\"m 2.921875,-7.09375 c 1.03125,0 1.328125,1.625 1.328125,3.421875 C 4.25,-1.875 3.953125,-0.25 2.921875,-0.25 c -1.046875,0 -1.34375,-1.625 -1.34375,-3.421875 0,-1.796875 0.296875,-3.421875 1.34375,-3.421875 z m 0,-0.390625 c -1.828125,0 -2.46875,1.609375 -2.46875,3.8125 0,2.203125 0.640625,3.796875 2.46875,3.796875 1.8125,0 2.453125,-1.59375 2.453125,-3.796875 0,-2.203125 -0.640625,-3.8125 -2.453125,-3.8125 z m 0,0\" id=\"id-c77448af-4aaf-417c-9a03-afa320bb8615\"/>\n",
       "      </g></g>\n",
       "  </g>\n",
       "</g><g transform=\"translate(109.25,108.013)\" ns1:version=\"1.7.0\" ns1:texconverter=\"pdflatex\" ns1:pdfconverter=\"inkscape\" ns1:text=\"\\\\LARGE $S_1$\" ns1:preamble=\"/Users/julianmangott/Documents/UIBK/PhD/thesis/textext_style.sty\" ns1:scale=\"1.0\" ns1:alignment=\"middle center\" ns1:stroke-to-path=\"0\" ns1:inkscapeversion=\"1.0.2\" ns1:jacobian_sqrt=\"1.0\" style=\"fill:#000000;fill-opacity:1;stroke-width:0;stroke-opacity:1\" id=\"g4381-9\"><defs id=\"id-3a1393e8-8f6b-459a-bb71-d12b292292d2\">\n",
       "    <g id=\"id-837e5947-6dcc-4300-9676-f69286b7dd4c\" style=\"fill:#000000;fill-opacity:1;stroke-width:0;stroke-opacity:1\">\n",
       "      <symbol overflow=\"visible\" id=\"id-25c7b55e-bafc-4ee0-9912-c467948dab4d\" style=\"fill:#000000;fill-opacity:1;stroke-width:0;stroke-opacity:1\">\n",
       "        <path style=\"fill:#000000;fill-opacity:1;stroke:#000000;stroke-width:0;stroke-opacity:1\" d=\"\" id=\"id-d8828ceb-e950-4cb9-a200-52194250d7d1\"/>\n",
       "      </symbol>\n",
       "      <symbol overflow=\"visible\" id=\"id-5d41453f-6269-4f41-b620-c7db4ca10791\" style=\"fill:#000000;fill-opacity:1;stroke-width:0;stroke-opacity:1\">\n",
       "        <path style=\"fill:#000000;fill-opacity:1;stroke:#000000;stroke-width:0;stroke-opacity:1\" d=\"m 8.578125,-8.171875 0.5625,-2.21875 c -0.6875,-0.546875 -1.859375,-0.8125 -2.828125,-0.8125 -2.78125,0 -3.65625,1.8125 -3.65625,3.140625 0,1.484375 1.015625,2.265625 2.296875,2.875 1.28125,0.640625 2.03125,1.3125 2.03125,2.578125 0,1.125 -0.8125,2.296875 -2.390625,2.296875 -1.453125,0 -2.71875,-1.0625 -2.625,-3.171875 H 1.5 L 1.09375,-1.0625 c 0.625,0.828125 2.15625,1.296875 3.3125,1.296875 3.078125,-0.03125 4,-1.796875 4,-3.5 0,-1.421875 -0.765625,-2.328125 -2.375,-3.15625 C 5.125,-6.890625 4,-7.4375 4,-8.640625 c 0,-1.125 0.8125,-2 2.1875,-2 1.53125,0 2.109375,0.828125 1.921875,2.46875 z m 0,0\" id=\"id-c0041102-c64c-4a79-9bfd-1dd8ff23262d\"/>\n",
       "      </symbol>\n",
       "      <symbol overflow=\"visible\" id=\"id-b5cf6baf-e97b-43cf-9393-cd9b05a19893\" style=\"fill:#000000;fill-opacity:1;stroke-width:0;stroke-opacity:1\">\n",
       "        <path style=\"fill:#000000;fill-opacity:1;stroke:#000000;stroke-width:0;stroke-opacity:1\" d=\"\" id=\"id-9104c323-8922-4399-a6ec-0776e4388bc5\"/>\n",
       "      </symbol>\n",
       "      <symbol overflow=\"visible\" id=\"id-f781ca08-0ea3-4bc9-946b-ea0cdbff224e\" style=\"fill:#000000;fill-opacity:1;stroke-width:0;stroke-opacity:1\">\n",
       "        <path style=\"fill:#000000;fill-opacity:1;stroke:#000000;stroke-width:0;stroke-opacity:1\" d=\"M 4.8125,0 V -0.3125 L 3.890625,-0.390625 C 3.65625,-0.421875 3.515625,-0.5 3.515625,-0.9375 V -7.40625 L 3.46875,-7.484375 1.203125,-7.09375 v 0.28125 l 1.015625,0.109375 c 0.1875,0.03125 0.265625,0.109375 0.265625,0.4375 V -0.9375 c 0,0.21875 -0.03125,0.34375 -0.09375,0.421875 C 2.328125,-0.4375 2.25,-0.40625 2.125,-0.390625 L 1.203125,-0.3125 V 0 Z m 0,0\" id=\"id-a976a541-7cde-4d7c-862a-52c40b5dbeb4\"/>\n",
       "      </symbol>\n",
       "    </g>\n",
       "  </defs>\n",
       "  <g id=\"id-b235ea40-d75a-4aa8-a8f4-d6103369df2e\" transform=\"translate(-86.9037,-93.4299)\" style=\"fill:#000000;fill-opacity:1;stroke-width:0;stroke-opacity:1\">\n",
       "    <g style=\"fill:#000000;fill-opacity:1;stroke-width:0;stroke-opacity:1\" id=\"id-e6051c1c-dfad-4e54-9c00-5cba8270c6b3\">\n",
       "      <g transform=\"translate(85.81,104.633)\" style=\"fill:#000000;fill-opacity:1;stroke-width:0;stroke-opacity:1\" id=\"g4907\"><path style=\"fill:#000000;fill-opacity:1;stroke:#000000;stroke-width:0;stroke-opacity:1\" d=\"m 8.578125,-8.171875 0.5625,-2.21875 c -0.6875,-0.546875 -1.859375,-0.8125 -2.828125,-0.8125 -2.78125,0 -3.65625,1.8125 -3.65625,3.140625 0,1.484375 1.015625,2.265625 2.296875,2.875 1.28125,0.640625 2.03125,1.3125 2.03125,2.578125 0,1.125 -0.8125,2.296875 -2.390625,2.296875 -1.453125,0 -2.71875,-1.0625 -2.625,-3.171875 H 1.5 L 1.09375,-1.0625 c 0.625,0.828125 2.15625,1.296875 3.3125,1.296875 3.078125,-0.03125 4,-1.796875 4,-3.5 0,-1.421875 -0.765625,-2.328125 -2.375,-3.15625 C 5.125,-6.890625 4,-7.4375 4,-8.640625 c 0,-1.125 0.8125,-2 2.1875,-2 1.53125,0 2.109375,0.828125 1.921875,2.46875 z m 0,0\" id=\"id-4d5e919a-4da3-4b01-a3f2-ea1471cb9481\"/>\n",
       "      </g></g>\n",
       "    <g style=\"fill:#000000;fill-opacity:1;stroke-width:0;stroke-opacity:1\" id=\"id-3f9c48b1-8f8a-4ccf-83a9-537057dd7613\">\n",
       "      <g transform=\"translate(95.106,107.215)\" style=\"fill:#000000;fill-opacity:1;stroke-width:0;stroke-opacity:1\" id=\"g4911\"><path style=\"fill:#000000;fill-opacity:1;stroke:#000000;stroke-width:0;stroke-opacity:1\" d=\"M 4.8125,0 V -0.3125 L 3.890625,-0.390625 C 3.65625,-0.421875 3.515625,-0.5 3.515625,-0.9375 V -7.40625 L 3.46875,-7.484375 1.203125,-7.09375 v 0.28125 l 1.015625,0.109375 c 0.1875,0.03125 0.265625,0.109375 0.265625,0.4375 V -0.9375 c 0,0.21875 -0.03125,0.34375 -0.09375,0.421875 C 2.328125,-0.4375 2.25,-0.40625 2.125,-0.390625 L 1.203125,-0.3125 V 0 Z m 0,0\" id=\"id-279c6b19-d393-4cb7-8ab6-78b1f54ffcfd\"/>\n",
       "      </g></g>\n",
       "  </g>\n",
       "</g><g transform=\"translate(206.055,108.013)\" ns1:version=\"1.7.0\" ns1:texconverter=\"pdflatex\" ns1:pdfconverter=\"inkscape\" ns1:text=\"\\\\LARGE $S_2$\" ns1:preamble=\"/Users/julianmangott/Documents/UIBK/PhD/thesis/textext_style.sty\" ns1:scale=\"1.0\" ns1:alignment=\"middle center\" ns1:stroke-to-path=\"0\" ns1:inkscapeversion=\"1.0.2\" ns1:jacobian_sqrt=\"1.0\" style=\"fill:#000000;stroke-width:0\" id=\"g4381-9-2\"><defs id=\"id-d1353e62-9785-46bf-817f-dacc99882cd3\">\n",
       "    <g id=\"id-83cda4b2-c3c1-4a85-93ed-8ba9bf9029de\" style=\"fill:#000000;stroke-width:0\">\n",
       "      <symbol overflow=\"visible\" id=\"id-3fe95cdc-9097-4613-8b77-320e5dc8f08b\" style=\"fill:#000000;stroke-width:0\">\n",
       "        <path style=\"fill:#000000;stroke:#000000;stroke-width:0\" d=\"\" id=\"id-f3dc0e0b-0b94-4656-8bbb-943d9385e299\"/>\n",
       "      </symbol>\n",
       "      <symbol overflow=\"visible\" id=\"id-b08b4bb3-53b6-4e04-8987-bbea33aa773a\" style=\"fill:#000000;stroke-width:0\">\n",
       "        <path style=\"fill:#000000;stroke:#000000;stroke-width:0\" d=\"m 8.578125,-8.171875 0.5625,-2.21875 c -0.6875,-0.546875 -1.859375,-0.8125 -2.828125,-0.8125 -2.78125,0 -3.65625,1.8125 -3.65625,3.140625 0,1.484375 1.015625,2.265625 2.296875,2.875 1.28125,0.640625 2.03125,1.3125 2.03125,2.578125 0,1.125 -0.8125,2.296875 -2.390625,2.296875 -1.453125,0 -2.71875,-1.0625 -2.625,-3.171875 H 1.5 L 1.09375,-1.0625 c 0.625,0.828125 2.15625,1.296875 3.3125,1.296875 3.078125,-0.03125 4,-1.796875 4,-3.5 0,-1.421875 -0.765625,-2.328125 -2.375,-3.15625 C 5.125,-6.890625 4,-7.4375 4,-8.640625 c 0,-1.125 0.8125,-2 2.1875,-2 1.53125,0 2.109375,0.828125 1.921875,2.46875 z m 0,0\" id=\"id-941c062f-ac44-4214-a3d4-4a74e9845143\"/>\n",
       "      </symbol>\n",
       "      <symbol overflow=\"visible\" id=\"id-65f73a72-897e-4e09-8bd5-ced78f967c56\" style=\"fill:#000000;stroke-width:0\">\n",
       "        <path style=\"fill:#000000;stroke:#000000;stroke-width:0\" d=\"\" id=\"id-33fcccba-ffb6-493e-8177-9e30571e6804\"/>\n",
       "      </symbol>\n",
       "      <symbol overflow=\"visible\" id=\"id-53bd63a0-2a51-4bef-8ee2-360589572bf9\" style=\"fill:#000000;stroke-width:0\">\n",
       "        <path style=\"fill:#000000;stroke:#000000;stroke-width:0\" d=\"M 5.328125,-1.453125 5.03125,-1.5 C 4.796875,-0.90625 4.578125,-0.84375 4.140625,-0.84375 H 1.3125 C 1.5,-1.40625 2.140625,-2.1875 3.171875,-2.921875 c 1.046875,-0.78125 1.859375,-1.265625 1.859375,-2.5 0,-1.53125 -1,-2.0625 -2.15625,-2.0625 -1.515625,0 -2.296875,0.921875 -2.296875,1.484375 0,0.375 0.421875,0.5625 0.609375,0.5625 0.203125,0 0.28125,-0.125 0.3125,-0.296875 0.1875,-0.75 0.609375,-1.359375 1.296875,-1.359375 0.84375,0 1.09375,0.71875 1.09375,1.515625 0,1.171875 -0.609375,1.84375 -1.5625,2.6875 C 0.984375,-1.71875 0.5,-0.96875 0.296875,-0.109375 L 0.40625,0 h 4.5625 z m 0,0\" id=\"id-a27709fa-7e19-41b5-849c-b214aa5a612c\"/>\n",
       "      </symbol>\n",
       "    </g>\n",
       "  </defs>\n",
       "  <g id=\"id-8b2ca80b-b677-482a-aed8-d7215ea85660\" transform=\"translate(-86.9037,-93.4299)\" style=\"fill:#000000;stroke-width:0\">\n",
       "    <g style=\"fill:#000000;fill-opacity:1;stroke-width:0\" id=\"id-3f6bb14a-805e-4250-b53d-a3aeaa9921ec\">\n",
       "      <g transform=\"translate(85.81,104.633)\" style=\"fill:#000000;stroke-width:0\" id=\"g5146\"><path style=\"fill:#000000;stroke:#000000;stroke-width:0\" d=\"m 8.578125,-8.171875 0.5625,-2.21875 c -0.6875,-0.546875 -1.859375,-0.8125 -2.828125,-0.8125 -2.78125,0 -3.65625,1.8125 -3.65625,3.140625 0,1.484375 1.015625,2.265625 2.296875,2.875 1.28125,0.640625 2.03125,1.3125 2.03125,2.578125 0,1.125 -0.8125,2.296875 -2.390625,2.296875 -1.453125,0 -2.71875,-1.0625 -2.625,-3.171875 H 1.5 L 1.09375,-1.0625 c 0.625,0.828125 2.15625,1.296875 3.3125,1.296875 3.078125,-0.03125 4,-1.796875 4,-3.5 0,-1.421875 -0.765625,-2.328125 -2.375,-3.15625 C 5.125,-6.890625 4,-7.4375 4,-8.640625 c 0,-1.125 0.8125,-2 2.1875,-2 1.53125,0 2.109375,0.828125 1.921875,2.46875 z m 0,0\" id=\"id-029edb0f-1483-4833-bc10-e49e61ac32cd\"/>\n",
       "      </g></g>\n",
       "    <g style=\"fill:#000000;fill-opacity:1;stroke-width:0\" id=\"id-39bada1d-2d77-4a05-bb0e-4254efb09d25\">\n",
       "      <g transform=\"translate(95.106,107.215)\" style=\"fill:#000000;stroke-width:0\" id=\"g5150\"><path style=\"fill:#000000;stroke:#000000;stroke-width:0\" d=\"M 5.328125,-1.453125 5.03125,-1.5 C 4.796875,-0.90625 4.578125,-0.84375 4.140625,-0.84375 H 1.3125 C 1.5,-1.40625 2.140625,-2.1875 3.171875,-2.921875 c 1.046875,-0.78125 1.859375,-1.265625 1.859375,-2.5 0,-1.53125 -1,-2.0625 -2.15625,-2.0625 -1.515625,0 -2.296875,0.921875 -2.296875,1.484375 0,0.375 0.421875,0.5625 0.609375,0.5625 0.203125,0 0.28125,-0.125 0.3125,-0.296875 0.1875,-0.75 0.609375,-1.359375 1.296875,-1.359375 0.84375,0 1.09375,0.71875 1.09375,1.515625 0,1.171875 -0.609375,1.84375 -1.5625,2.6875 C 0.984375,-1.71875 0.5,-0.96875 0.296875,-0.109375 L 0.40625,0 h 4.5625 z m 0,0\" id=\"id-47a197f0-25cd-408a-b220-9e67673a85fb\"/>\n",
       "      </g></g>\n",
       "  </g>\n",
       "</g><g transform=\"translate(206.009,205.548)\" ns1:version=\"1.7.0\" ns1:texconverter=\"pdflatex\" ns1:pdfconverter=\"inkscape\" ns1:text=\"\\\\LARGE $S_4$\" ns1:preamble=\"/Users/julianmangott/Documents/UIBK/PhD/thesis/textext_style.sty\" ns1:scale=\"1.0\" ns1:alignment=\"middle center\" ns1:stroke-to-path=\"0\" ns1:inkscapeversion=\"1.0.2\" ns1:jacobian_sqrt=\"1.0\" style=\"fill:#000000;stroke-width:0\" id=\"g4381-9-2-7-6\"><defs id=\"id-06a921a8-2489-48b2-9400-2bd9e9f3d21e\">\n",
       "    <g id=\"id-39c4182f-6eda-4a58-9976-47a78c284aa5\" style=\"fill:#000000;stroke-width:0\">\n",
       "      <symbol overflow=\"visible\" id=\"id-dc32cc80-d5ad-47c3-985c-5487f8c81bdf\" style=\"fill:#000000;stroke-width:0\">\n",
       "        <path style=\"fill:#000000;stroke:#000000;stroke-width:0\" d=\"\" id=\"id-2604ac95-eb07-4313-8986-a44af67beeb2\"/>\n",
       "      </symbol>\n",
       "      <symbol overflow=\"visible\" id=\"id-8a54efbb-60b4-4520-88ae-9834bee856ee\" style=\"fill:#000000;stroke-width:0\">\n",
       "        <path style=\"fill:#000000;stroke:#000000;stroke-width:0\" d=\"m 8.578125,-8.171875 0.5625,-2.21875 c -0.6875,-0.546875 -1.859375,-0.8125 -2.828125,-0.8125 -2.78125,0 -3.65625,1.8125 -3.65625,3.140625 0,1.484375 1.015625,2.265625 2.296875,2.875 1.28125,0.640625 2.03125,1.3125 2.03125,2.578125 0,1.125 -0.8125,2.296875 -2.390625,2.296875 -1.453125,0 -2.71875,-1.0625 -2.625,-3.171875 H 1.5 L 1.09375,-1.0625 c 0.625,0.828125 2.15625,1.296875 3.3125,1.296875 3.078125,-0.03125 4,-1.796875 4,-3.5 0,-1.421875 -0.765625,-2.328125 -2.375,-3.15625 C 5.125,-6.890625 4,-7.4375 4,-8.640625 c 0,-1.125 0.8125,-2 2.1875,-2 1.53125,0 2.109375,0.828125 1.921875,2.46875 z m 0,0\" id=\"id-fe1bb1de-b606-45f7-b092-909049e08502\"/>\n",
       "      </symbol>\n",
       "      <symbol overflow=\"visible\" id=\"id-712f3baa-aa62-418d-9c71-769cea0d5a17\" style=\"fill:#000000;stroke-width:0\">\n",
       "        <path style=\"fill:#000000;stroke:#000000;stroke-width:0\" d=\"\" id=\"id-e121a26e-5647-4ee5-9fe2-c660ad2a5f64\"/>\n",
       "      </symbol>\n",
       "      <symbol overflow=\"visible\" id=\"id-4e5580e4-a88c-4c4e-8d86-0352f2650ff4\" style=\"fill:#000000;stroke-width:0\">\n",
       "        <path style=\"fill:#000000;stroke:#000000;stroke-width:0\" d=\"m 3.296875,-1.96875 v 1.125 c 0,0.375 -0.125,0.4375 -0.375,0.453125 L 2.21875,-0.3125 V 0 H 5.109375 V -0.3125 L 4.625,-0.375 C 4.359375,-0.40625 4.296875,-0.46875 4.296875,-0.84375 v -1.125 h 1.125 v -0.515625 h -1.125 V -7.34375 h -0.8125 c -1.03125,1.515625 -2.265625,3.421875 -3.28125,5.140625 L 0.3125,-1.96875 Z M 1,-2.484375 C 1.65625,-3.6875 2.4375,-4.953125 3.28125,-6.28125 h 0.015625 v 3.796875 z m 0,0\" id=\"id-06bfe9dc-1153-473b-b225-518df8091a83\"/>\n",
       "      </symbol>\n",
       "    </g>\n",
       "  </defs>\n",
       "  <g id=\"id-4ea8147b-7864-482d-b6b9-7e8c69a81000\" transform=\"translate(-86.9037,-93.4299)\" style=\"fill:#000000;stroke-width:0\">\n",
       "    <g style=\"fill:#000000;fill-opacity:1;stroke-width:0\" id=\"id-3286fd93-437f-498f-bb80-61bf2493fa21\">\n",
       "      <g transform=\"translate(85.81,104.633)\" style=\"fill:#000000;stroke-width:0\" id=\"g5385\"><path style=\"fill:#000000;stroke:#000000;stroke-width:0\" d=\"m 8.578125,-8.171875 0.5625,-2.21875 c -0.6875,-0.546875 -1.859375,-0.8125 -2.828125,-0.8125 -2.78125,0 -3.65625,1.8125 -3.65625,3.140625 0,1.484375 1.015625,2.265625 2.296875,2.875 1.28125,0.640625 2.03125,1.3125 2.03125,2.578125 0,1.125 -0.8125,2.296875 -2.390625,2.296875 -1.453125,0 -2.71875,-1.0625 -2.625,-3.171875 H 1.5 L 1.09375,-1.0625 c 0.625,0.828125 2.15625,1.296875 3.3125,1.296875 3.078125,-0.03125 4,-1.796875 4,-3.5 0,-1.421875 -0.765625,-2.328125 -2.375,-3.15625 C 5.125,-6.890625 4,-7.4375 4,-8.640625 c 0,-1.125 0.8125,-2 2.1875,-2 1.53125,0 2.109375,0.828125 1.921875,2.46875 z m 0,0\" id=\"id-e8dd1ebc-8109-4a4e-a0e5-c8555b4a373d\"/>\n",
       "      </g></g>\n",
       "    <g style=\"fill:#000000;fill-opacity:1;stroke-width:0\" id=\"id-fcabba03-bca9-4ecb-9620-7c0728446e0c\">\n",
       "      <g transform=\"translate(95.106,107.215)\" style=\"fill:#000000;stroke-width:0\" id=\"g5389\"><path style=\"fill:#000000;stroke:#000000;stroke-width:0\" d=\"m 3.296875,-1.96875 v 1.125 c 0,0.375 -0.125,0.4375 -0.375,0.453125 L 2.21875,-0.3125 V 0 H 5.109375 V -0.3125 L 4.625,-0.375 C 4.359375,-0.40625 4.296875,-0.46875 4.296875,-0.84375 v -1.125 h 1.125 v -0.515625 h -1.125 V -7.34375 h -0.8125 c -1.03125,1.515625 -2.265625,3.421875 -3.28125,5.140625 L 0.3125,-1.96875 Z M 1,-2.484375 C 1.65625,-3.6875 2.4375,-4.953125 3.28125,-6.28125 h 0.015625 v 3.796875 z m 0,0\" id=\"id-38d9a1ea-ee60-4b01-88b0-dcab97e4571e\"/>\n",
       "      </g></g>\n",
       "  </g>\n",
       "</g><g transform=\"translate(206.119,11.3369)\" ns1:version=\"1.7.0\" ns1:texconverter=\"pdflatex\" ns1:pdfconverter=\"inkscape\" ns1:text=\"\\\\LARGE $S_3$\" ns1:preamble=\"/Users/julianmangott/Documents/UIBK/PhD/thesis/textext_style.sty\" ns1:scale=\"1.0\" ns1:alignment=\"middle center\" ns1:stroke-to-path=\"0\" ns1:inkscapeversion=\"1.0.2\" ns1:jacobian_sqrt=\"1.0\" style=\"fill:#000000;stroke-width:0\" id=\"g4381-9-2-7\"><defs id=\"id-810404b4-4ed6-497d-89cf-aba273787d3d\">\n",
       "    <g id=\"id-5b18d690-dc6e-4aa8-9408-404e52a9be52\" style=\"fill:#000000;stroke-width:0\">\n",
       "      <symbol overflow=\"visible\" id=\"id-c1cb57d4-679e-4fb6-8333-5297806d43e9\" style=\"fill:#000000;stroke-width:0\">\n",
       "        <path style=\"fill:#000000;stroke:#000000;stroke-width:0\" d=\"\" id=\"id-37a8b187-9a65-470f-8771-9220231882b6\"/>\n",
       "      </symbol>\n",
       "      <symbol overflow=\"visible\" id=\"id-9163f55f-fdfa-4857-b2c7-46e4ba61f667\" style=\"fill:#000000;stroke-width:0\">\n",
       "        <path style=\"fill:#000000;stroke:#000000;stroke-width:0\" d=\"m 8.578125,-8.171875 0.5625,-2.21875 c -0.6875,-0.546875 -1.859375,-0.8125 -2.828125,-0.8125 -2.78125,0 -3.65625,1.8125 -3.65625,3.140625 0,1.484375 1.015625,2.265625 2.296875,2.875 1.28125,0.640625 2.03125,1.3125 2.03125,2.578125 0,1.125 -0.8125,2.296875 -2.390625,2.296875 -1.453125,0 -2.71875,-1.0625 -2.625,-3.171875 H 1.5 L 1.09375,-1.0625 c 0.625,0.828125 2.15625,1.296875 3.3125,1.296875 3.078125,-0.03125 4,-1.796875 4,-3.5 0,-1.421875 -0.765625,-2.328125 -2.375,-3.15625 C 5.125,-6.890625 4,-7.4375 4,-8.640625 c 0,-1.125 0.8125,-2 2.1875,-2 1.53125,0 2.109375,0.828125 1.921875,2.46875 z m 0,0\" id=\"id-4afb5150-de9a-43c4-a1e3-49ce8a759af2\"/>\n",
       "      </symbol>\n",
       "      <symbol overflow=\"visible\" id=\"id-2643af22-7dd6-4a0f-a14b-3056a0e224e9\" style=\"fill:#000000;stroke-width:0\">\n",
       "        <path style=\"fill:#000000;stroke:#000000;stroke-width:0\" d=\"\" id=\"id-fcab7f13-4bbc-4c81-bea5-8d29e4709e09\"/>\n",
       "      </symbol>\n",
       "      <symbol overflow=\"visible\" id=\"id-54fe9000-7a8e-4fe2-a1f8-1f1fac8375b5\" style=\"fill:#000000;stroke-width:0\">\n",
       "        <path style=\"fill:#000000;stroke:#000000;stroke-width:0\" d=\"m 1.4375,-4.03125 c 0,0.1875 0.046875,0.3125 0.1875,0.3125 0.140625,0 0.4375,-0.109375 0.953125,-0.109375 0.9375,0 1.46875,0.84375 1.46875,1.796875 0,1.3125 -0.640625,1.78125 -1.421875,1.78125 -0.734375,0 -1.203125,-0.546875 -1.421875,-1.171875 -0.0625,-0.203125 -0.171875,-0.3125 -0.328125,-0.3125 -0.1875,0 -0.578125,0.21875 -0.578125,0.609375 0,0.46875 0.765625,1.25 2.3125,1.25 1.59375,0 2.59375,-0.796875 2.59375,-2.203125 0,-1.46875 -1.265625,-1.921875 -1.875,-1.96875 V -4.09375 c 0.59375,-0.09375 1.5625,-0.53125 1.5625,-1.625 0,-1.21875 -0.96875,-1.765625 -2.140625,-1.765625 -1.453125,0 -2.171875,0.84375 -2.171875,1.3125 0,0.34375 0.390625,0.53125 0.546875,0.53125 0.140625,0 0.234375,-0.078125 0.265625,-0.21875 0.25,-0.75 0.671875,-1.234375 1.28125,-1.234375 0.875,0 1.078125,0.765625 1.078125,1.390625 0,0.65625 -0.234375,1.484375 -1.171875,1.484375 -0.515625,0 -0.8125,-0.109375 -0.953125,-0.109375 -0.140625,0 -0.1875,0.109375 -0.1875,0.296875 z m 0,0\" id=\"id-ee87b7f2-84c1-4490-a8d7-8b5d6933ccab\"/>\n",
       "      </symbol>\n",
       "    </g>\n",
       "  </defs>\n",
       "  <g id=\"id-b8794904-0f82-4d41-b7a6-c529f65b6300\" transform=\"translate(-86.9037,-93.4299)\" style=\"fill:#000000;stroke-width:0\">\n",
       "    <g style=\"fill:#000000;fill-opacity:1;stroke-width:0\" id=\"id-3ae84c2b-b230-4adf-8e92-1a62b4b98ebf\">\n",
       "      <g transform=\"translate(85.81,104.633)\" style=\"fill:#000000;stroke-width:0\" id=\"g5624\"><path style=\"fill:#000000;stroke:#000000;stroke-width:0\" d=\"m 8.578125,-8.171875 0.5625,-2.21875 c -0.6875,-0.546875 -1.859375,-0.8125 -2.828125,-0.8125 -2.78125,0 -3.65625,1.8125 -3.65625,3.140625 0,1.484375 1.015625,2.265625 2.296875,2.875 1.28125,0.640625 2.03125,1.3125 2.03125,2.578125 0,1.125 -0.8125,2.296875 -2.390625,2.296875 -1.453125,0 -2.71875,-1.0625 -2.625,-3.171875 H 1.5 L 1.09375,-1.0625 c 0.625,0.828125 2.15625,1.296875 3.3125,1.296875 3.078125,-0.03125 4,-1.796875 4,-3.5 0,-1.421875 -0.765625,-2.328125 -2.375,-3.15625 C 5.125,-6.890625 4,-7.4375 4,-8.640625 c 0,-1.125 0.8125,-2 2.1875,-2 1.53125,0 2.109375,0.828125 1.921875,2.46875 z m 0,0\" id=\"id-9b8dd1da-0405-4ce5-a9a9-c6a31b284299\"/>\n",
       "      </g></g>\n",
       "    <g style=\"fill:#000000;fill-opacity:1;stroke-width:0\" id=\"id-34305edc-1a56-41ff-a389-b7d0b0bc1243\">\n",
       "      <g transform=\"translate(95.106,107.215)\" style=\"fill:#000000;stroke-width:0\" id=\"g5628\"><path style=\"fill:#000000;stroke:#000000;stroke-width:0\" d=\"m 1.4375,-4.03125 c 0,0.1875 0.046875,0.3125 0.1875,0.3125 0.140625,0 0.4375,-0.109375 0.953125,-0.109375 0.9375,0 1.46875,0.84375 1.46875,1.796875 0,1.3125 -0.640625,1.78125 -1.421875,1.78125 -0.734375,0 -1.203125,-0.546875 -1.421875,-1.171875 -0.0625,-0.203125 -0.171875,-0.3125 -0.328125,-0.3125 -0.1875,0 -0.578125,0.21875 -0.578125,0.609375 0,0.46875 0.765625,1.25 2.3125,1.25 1.59375,0 2.59375,-0.796875 2.59375,-2.203125 0,-1.46875 -1.265625,-1.921875 -1.875,-1.96875 V -4.09375 c 0.59375,-0.09375 1.5625,-0.53125 1.5625,-1.625 0,-1.21875 -0.96875,-1.765625 -2.140625,-1.765625 -1.453125,0 -2.171875,0.84375 -2.171875,1.3125 0,0.34375 0.390625,0.53125 0.546875,0.53125 0.140625,0 0.234375,-0.078125 0.265625,-0.21875 0.25,-0.75 0.671875,-1.234375 1.28125,-1.234375 0.875,0 1.078125,0.765625 1.078125,1.390625 0,0.65625 -0.234375,1.484375 -1.171875,1.484375 -0.515625,0 -0.8125,-0.109375 -0.953125,-0.109375 -0.140625,0 -0.1875,0.109375 -0.1875,0.296875 z m 0,0\" id=\"id-8badb106-ef2a-43c9-af30-5deaaf5d1a61\"/>\n",
       "      </g></g>\n",
       "  </g>\n",
       "</g><g id=\"g5690\" transform=\"rotate(180,58.141118,104.97077)\" style=\"fill:#999999;stroke:#999999\"><g id=\"g1570-8\" transform=\"translate(-16.928765,-20.058466)\" style=\"fill:#999999;stroke:#999999\"><path d=\"m 97.211,115 c -15.043,0 -36.777,0 -53.676,0\" style=\"fill:#999999;stroke:#999999;stroke-width:1.3;stroke-linecap:butt;stroke-linejoin:miter;stroke-miterlimit:10;stroke-dasharray:none;stroke-opacity:1\" id=\"path1572-1\"/></g><g id=\"g1574-3\" transform=\"translate(-16.928765,-20.058466)\" style=\"fill:#999999;stroke:#999999\"><path d=\"m 43.648,117.102 -6,-2.102 6,-2.102 z\" style=\"fill:#999999;fill-opacity:1;fill-rule:nonzero;stroke:#999999;stroke-width:1.3;stroke-linecap:butt;stroke-linejoin:miter;stroke-miterlimit:10;stroke-dasharray:none;stroke-opacity:1\" id=\"path1576-7\"/></g></g><path d=\"m 36,115 c 0,9.941 -8.059,18 -18,18 -9.941,0 -18,-8.059 -18,-18 0,-9.941 8.059,-18 18,-18 9.941,0 18,8.059 18,18\" style=\"fill:none;fill-opacity:1;fill-rule:nonzero;stroke:#000000;stroke-opacity:1\" id=\"path1550\"/><path d=\"m 133,115 c 0,9.941 -8.059,18 -18,18 -9.941,0 -18,-8.059 -18,-18 0,-9.941 8.059,-18 18,-18 9.941,0 18,8.059 18,18\" style=\"fill:none;fill-opacity:1;fill-rule:nonzero;stroke:#000000;stroke-opacity:1\" id=\"path1560\"/><path d=\"m 230,212 c 0,9.941 -8.059,18 -18,18 -9.941,0 -18,-8.059 -18,-18 0,-9.941 8.059,-18 18,-18 9.941,0 18,8.059 18,18\" style=\"fill:none;fill-opacity:1;fill-rule:nonzero;stroke:#000000;stroke-opacity:1\" id=\"path1578\"/><path d=\"m 230,115 c 0,9.941 -8.059,18 -18,18 -9.941,0 -18,-8.059 -18,-18 0,-9.941 8.059,-18 18,-18 9.941,0 18,8.059 18,18\" style=\"fill:none;fill-opacity:1;fill-rule:nonzero;stroke:#000000;stroke-opacity:1\" id=\"path1596\"/><path d=\"m 230,18 c 0,9.941 -8.059,18 -18,18 -9.941,0 -18,-8.059 -18,-18 0,-9.941 8.059,-18 18,-18 9.941,0 18,8.059 18,18\" style=\"fill:none;fill-opacity:1;fill-rule:nonzero;stroke:#000000;stroke-opacity:1\" id=\"path1622\"/><path style=\"fill:none;stroke:#348abd;stroke-width:1.5;stroke-linecap:round;stroke-linejoin:miter;stroke-miterlimit:4;stroke-dasharray:6, 6;stroke-dashoffset:0;stroke-opacity:1\" d=\"m 167.92556,72.750485 c 0,42.341925 0,84.683095 0,127.023525\" id=\"path5724\" inkscape:path-effect=\"#path-effect5726\" inkscape:original-d=\"m 167.92556,72.750485 c 7.5e-4,42.341925 7.5e-4,84.683095 0,127.023525\"/><path style=\"fill:none;stroke:#348abd;stroke-width:1.5;stroke-linecap:round;stroke-linejoin:miter;stroke-miterlimit:4;stroke-dasharray:6, 6;stroke-dashoffset:0;stroke-opacity:1\" d=\"m 185.06163,168.42175 c 18.65446,0 37.30818,0 55.96114,0\" id=\"path5776\" inkscape:path-effect=\"#path-effect5778\" inkscape:original-d=\"m 185.06163,168.42175 c 18.65446,7.5e-4 37.30818,7.5e-4 55.96114,0\" sodipodi:nodetypes=\"cc\"/><g transform=\"translate(164.521,205.732)\" ns1:version=\"1.7.0\" ns1:texconverter=\"pdflatex\" ns1:pdfconverter=\"inkscape\" ns1:text=\"\\\\huge \\\\textbf{1}\" ns1:preamble=\"/Users/julianmangott/Documents/UIBK/PhD/thesis/textext_style.sty\" ns1:scale=\"1.0\" ns1:alignment=\"middle center\" ns1:stroke-to-path=\"0\" ns1:inkscapeversion=\"1.0.2\" ns1:jacobian_sqrt=\"1.0\" style=\"fill:#348abd;fill-opacity:1;stroke-width:0;stroke-opacity:1\" id=\"g4381-9-8\"><defs id=\"id-fbbe3cd0-923f-4cd0-b4c0-3a6b60c0de42\">\n",
       "    <g id=\"id-55d281ce-f207-4efa-9fca-63500ac6011f\" style=\"fill:#348abd;fill-opacity:1;stroke-width:0;stroke-opacity:1\">\n",
       "      <symbol overflow=\"visible\" id=\"id-f21468fb-2a29-4b04-86db-374f1ab9e604\" style=\"fill:#348abd;fill-opacity:1;stroke-width:0;stroke-opacity:1\">\n",
       "        <path style=\"fill:#348abd;fill-opacity:1;stroke:#348abd;stroke-width:0;stroke-opacity:1\" d=\"\" id=\"id-6427a063-43d2-4c3b-ab22-443c67b371c6\"/>\n",
       "      </symbol>\n",
       "      <symbol overflow=\"visible\" id=\"id-acb63f7f-6482-4cfe-91ad-3fd765e57f7a\" style=\"fill:#348abd;fill-opacity:1;stroke-width:0;stroke-opacity:1\">\n",
       "        <path style=\"fill:#348abd;fill-opacity:1;stroke:#348abd;stroke-width:0;stroke-opacity:1\" d=\"M 8.734375,0 V -0.71875 L 7.4375,-0.84375 C 6.984375,-0.875 6.765625,-1.015625 6.765625,-1.609375 V -12.78125 l -0.171875,-0.15625 -4.546875,0.75 v 0.59375 l 1.1875,0.234375 c 0.5,0.109375 0.65625,0.265625 0.65625,0.953125 v 8.796875 c 0,0.59375 -0.203125,0.734375 -0.65625,0.765625 L 1.9375,-0.71875 V 0 Z m 0,0\" id=\"id-a8ff6c53-5312-4a55-a1c7-f23fbffb4ace\"/>\n",
       "      </symbol>\n",
       "    </g>\n",
       "  </defs>\n",
       "  <g id=\"id-727c6d42-0a91-45f3-ad67-3a61617392e9\" transform=\"translate(-87.7475,-93.5515)\" style=\"fill:#348abd;fill-opacity:1;stroke-width:0;stroke-opacity:1\">\n",
       "    <g style=\"fill:#348abd;fill-opacity:1;stroke-width:0;stroke-opacity:1\" id=\"id-453a0ad7-27cb-403c-831e-e5814574bfe5\">\n",
       "      <g transform=\"translate(85.81,106.489)\" style=\"fill:#348abd;fill-opacity:1;stroke-width:0;stroke-opacity:1\" id=\"g6732\"><path style=\"fill:#348abd;fill-opacity:1;stroke:#348abd;stroke-width:0;stroke-opacity:1\" d=\"M 8.734375,0 V -0.71875 L 7.4375,-0.84375 C 6.984375,-0.875 6.765625,-1.015625 6.765625,-1.609375 V -12.78125 l -0.171875,-0.15625 -4.546875,0.75 v 0.59375 l 1.1875,0.234375 c 0.5,0.109375 0.65625,0.265625 0.65625,0.953125 v 8.796875 c 0,0.59375 -0.203125,0.734375 -0.65625,0.765625 L 1.9375,-0.71875 V 0 Z m 0,0\" id=\"id-82fee5cc-1dd7-43d8-9bdd-002780b339ac\"/>\n",
       "      </g></g>\n",
       "  </g>\n",
       "</g><g transform=\"translate(244.084,161.671)\" ns1:version=\"1.7.0\" ns1:texconverter=\"pdflatex\" ns1:pdfconverter=\"inkscape\" ns1:text=\"\\\\huge \\\\textbf{2}\" ns1:preamble=\"/Users/julianmangott/Documents/UIBK/PhD/thesis/textext_style.sty\" ns1:scale=\"1.0\" ns1:alignment=\"middle center\" ns1:stroke-to-path=\"0\" ns1:inkscapeversion=\"1.0.2\" ns1:jacobian_sqrt=\"1.0\" style=\"fill:#348abd;fill-opacity:1;stroke-width:0;stroke-opacity:1\" id=\"g4381-9-8-5\"><defs id=\"id-8085bd95-f757-45df-ac95-b896e8a55342\">\n",
       "    <g id=\"id-150c04e1-c4b3-43c1-9d79-c8c52722a7e9\" style=\"fill:#348abd;fill-opacity:1;stroke-width:0;stroke-opacity:1\">\n",
       "      <symbol overflow=\"visible\" id=\"id-46a012f9-8c59-437f-b336-e7ba2a5bec49\" style=\"fill:#348abd;fill-opacity:1;stroke-width:0;stroke-opacity:1\">\n",
       "        <path style=\"fill:#348abd;fill-opacity:1;stroke:#348abd;stroke-width:0;stroke-opacity:1\" d=\"\" id=\"id-b3e93e25-7e47-4138-b7a3-66a1113722c4\"/>\n",
       "      </symbol>\n",
       "      <symbol overflow=\"visible\" id=\"id-7ad423f8-f764-4220-a1df-bdb2e6a34f02\" style=\"fill:#348abd;fill-opacity:1;stroke-width:0;stroke-opacity:1\">\n",
       "        <path style=\"fill:#348abd;fill-opacity:1;stroke:#348abd;stroke-width:0;stroke-opacity:1\" d=\"M 9.484375,0 10.25,-3.328125 9.578125,-3.421875 c -0.546875,0.984375 -0.796875,1.125 -1.59375,1.125 H 3.140625 C 3.4375,-2.96875 4.0625,-4.03125 6.1875,-5.15625 c 2.203125,-1.171875 3.453125,-2.1875 3.453125,-4.15625 0,-2.625 -1.859375,-3.625 -4.296875,-3.625 -2.484375,0 -4.4375,1.21875 -4.4375,2.875 0,0.828125 0.96875,1.234375 1.625,1.234375 0.390625,0 0.71875,-0.203125 0.828125,-0.71875 0.328125,-1.5 0.921875,-2.515625 1.84375,-2.515625 0.984375,0 1.421875,0.9375 1.421875,2.25 0,1.25 -0.3125,2.6875 -2.421875,4.4375 -2.65625,2.1875 -3.59375,3.765625 -3.625,5.03125 L 0.84375,0 Z m 0,0\" id=\"id-8b81ea68-f865-47a1-966d-2d8ec402f345\"/>\n",
       "      </symbol>\n",
       "    </g>\n",
       "  </defs>\n",
       "  <g id=\"id-28cc8e35-857b-4cfd-b1f6-67f5f292b899\" transform=\"translate(-86.3881,-93.5515)\" style=\"fill:#348abd;fill-opacity:1;stroke-width:0;stroke-opacity:1\">\n",
       "    <g style=\"fill:#348abd;fill-opacity:1;stroke-width:0;stroke-opacity:1\" id=\"id-1a9b8949-140b-43fc-bcd5-a7f62b811db8\">\n",
       "      <g transform=\"translate(85.81,106.489)\" style=\"fill:#348abd;fill-opacity:1;stroke-width:0;stroke-opacity:1\" id=\"g7001\"><path style=\"fill:#348abd;fill-opacity:1;stroke:#348abd;stroke-width:0;stroke-opacity:1\" d=\"M 9.484375,0 10.25,-3.328125 9.578125,-3.421875 c -0.546875,0.984375 -0.796875,1.125 -1.59375,1.125 H 3.140625 C 3.4375,-2.96875 4.0625,-4.03125 6.1875,-5.15625 c 2.203125,-1.171875 3.453125,-2.1875 3.453125,-4.15625 0,-2.625 -1.859375,-3.625 -4.296875,-3.625 -2.484375,0 -4.4375,1.21875 -4.4375,2.875 0,0.828125 0.96875,1.234375 1.625,1.234375 0.390625,0 0.71875,-0.203125 0.828125,-0.71875 0.328125,-1.5 0.921875,-2.515625 1.84375,-2.515625 0.984375,0 1.421875,0.9375 1.421875,2.25 0,1.25 -0.3125,2.6875 -2.421875,4.4375 -2.65625,2.1875 -3.59375,3.765625 -3.625,5.03125 L 0.84375,0 Z m 0,0\" id=\"id-821636c5-9628-4948-8054-53950f3c05ca\"/>\n",
       "      </g></g>\n",
       "  </g>\n",
       "</g></g></g></svg>"
      ],
      "text/plain": [
       "<IPython.core.display.SVG object>"
      ]
     },
     "metadata": {},
     "output_type": "display_data"
    }
   ],
   "source": [
    "from IPython.display import SVG, display\n",
    "\n",
    "display(SVG(filename='/home/stefan/atropy_pybind/lambda_phage_g0_n.svg'))"
   ]
  },
  {
   "cell_type": "markdown",
   "metadata": {},
   "source": [
    "The notation $A \\rightarrow B$ indicates the dependency of species $A$ on species $B$ due to some specific reaction propensity. The cuts are chosen in such a way that tightly coupled species are together in the same partition. This selection of cuts results in the following tree structure, where the small numbers at the leaves denote on which species the low-rank factors depend:"
   ]
  },
  {
   "cell_type": "code",
   "execution_count": 12,
   "metadata": {},
   "outputs": [
    {
     "data": {
      "image/svg+xml": [
       "<svg xmlns=\"http://www.w3.org/2000/svg\" xmlns:xlink=\"http://www.w3.org/1999/xlink\" width=\"250pt\" height=\"260pt\" viewBox=\"0 0 115.882 127.33\" version=\"1.1\">\n",
       "<defs>\n",
       "<g>\n",
       "<symbol overflow=\"visible\" id=\"glyph0-0\">\n",
       "<path style=\"stroke:none;\" d=\"\"/>\n",
       "</symbol>\n",
       "<symbol overflow=\"visible\" id=\"glyph0-1\">\n",
       "<path style=\"stroke:none;\" d=\"M 3.59375 -2.21875 C 3.59375 -2.984375 3.5 -3.546875 3.1875 -4.03125 C 2.96875 -4.34375 2.53125 -4.625 1.984375 -4.625 C 0.359375 -4.625 0.359375 -2.71875 0.359375 -2.21875 C 0.359375 -1.71875 0.359375 0.140625 1.984375 0.140625 C 3.59375 0.140625 3.59375 -1.71875 3.59375 -2.21875 Z M 1.984375 -0.0625 C 1.65625 -0.0625 1.234375 -0.25 1.09375 -0.8125 C 1 -1.21875 1 -1.796875 1 -2.3125 C 1 -2.828125 1 -3.359375 1.09375 -3.734375 C 1.25 -4.28125 1.6875 -4.4375 1.984375 -4.4375 C 2.359375 -4.4375 2.71875 -4.203125 2.84375 -3.796875 C 2.953125 -3.421875 2.96875 -2.921875 2.96875 -2.3125 C 2.96875 -1.796875 2.96875 -1.28125 2.875 -0.84375 C 2.734375 -0.203125 2.265625 -0.0625 1.984375 -0.0625 Z M 1.984375 -0.0625 \"/>\n",
       "</symbol>\n",
       "<symbol overflow=\"visible\" id=\"glyph0-2\">\n",
       "<path style=\"stroke:none;\" d=\"M 1.421875 -0.109375 C 1.421875 0.078125 1.421875 0.671875 0.875 1.15625 C 0.84375 1.1875 0.828125 1.21875 0.828125 1.25 C 0.828125 1.296875 0.875 1.359375 0.921875 1.359375 C 1.015625 1.359375 1.609375 0.796875 1.609375 -0.046875 C 1.609375 -0.453125 1.453125 -0.796875 1.125 -0.796875 C 0.875 -0.796875 0.71875 -0.609375 0.71875 -0.390625 C 0.71875 -0.234375 0.84375 0 1.125 0 C 1.296875 0 1.40625 -0.109375 1.421875 -0.109375 Z M 1.421875 -0.109375 \"/>\n",
       "</symbol>\n",
       "<symbol overflow=\"visible\" id=\"glyph0-3\">\n",
       "<path style=\"stroke:none;\" d=\"M 2.328125 -4.4375 C 2.328125 -4.625 2.328125 -4.625 2.125 -4.625 C 1.671875 -4.1875 1.046875 -4.1875 0.765625 -4.1875 L 0.765625 -3.9375 C 0.921875 -3.9375 1.390625 -3.9375 1.765625 -4.125 L 1.765625 -0.578125 C 1.765625 -0.34375 1.765625 -0.25 1.078125 -0.25 L 0.8125 -0.25 L 0.8125 0 C 0.9375 0 1.796875 -0.03125 2.046875 -0.03125 C 2.265625 -0.03125 3.140625 0 3.296875 0 L 3.296875 -0.25 L 3.03125 -0.25 C 2.328125 -0.25 2.328125 -0.34375 2.328125 -0.578125 Z M 2.328125 -4.4375 \"/>\n",
       "</symbol>\n",
       "<symbol overflow=\"visible\" id=\"glyph0-4\">\n",
       "<path style=\"stroke:none;\" d=\"M 3.515625 -1.265625 L 3.28125 -1.265625 C 3.265625 -1.109375 3.1875 -0.703125 3.09375 -0.640625 C 3.046875 -0.59375 2.515625 -0.59375 2.40625 -0.59375 L 1.125 -0.59375 C 1.859375 -1.234375 2.109375 -1.4375 2.515625 -1.765625 C 3.03125 -2.171875 3.515625 -2.609375 3.515625 -3.265625 C 3.515625 -4.109375 2.78125 -4.625 1.890625 -4.625 C 1.03125 -4.625 0.4375 -4.015625 0.4375 -3.375 C 0.4375 -3.03125 0.734375 -2.984375 0.8125 -2.984375 C 0.96875 -2.984375 1.171875 -3.109375 1.171875 -3.359375 C 1.171875 -3.484375 1.125 -3.734375 0.765625 -3.734375 C 0.984375 -4.21875 1.453125 -4.375 1.78125 -4.375 C 2.484375 -4.375 2.84375 -3.828125 2.84375 -3.265625 C 2.84375 -2.65625 2.40625 -2.1875 2.1875 -1.9375 L 0.515625 -0.265625 C 0.4375 -0.203125 0.4375 -0.1875 0.4375 0 L 3.3125 0 Z M 3.515625 -1.265625 \"/>\n",
       "</symbol>\n",
       "<symbol overflow=\"visible\" id=\"glyph0-5\">\n",
       "<path style=\"stroke:none;\" d=\"M 1.90625 -2.328125 C 2.453125 -2.328125 2.84375 -1.953125 2.84375 -1.203125 C 2.84375 -0.34375 2.328125 -0.078125 1.9375 -0.078125 C 1.65625 -0.078125 1.03125 -0.15625 0.75 -0.578125 C 1.078125 -0.578125 1.15625 -0.8125 1.15625 -0.96875 C 1.15625 -1.1875 0.984375 -1.34375 0.765625 -1.34375 C 0.578125 -1.34375 0.375 -1.21875 0.375 -0.9375 C 0.375 -0.28125 1.09375 0.140625 1.9375 0.140625 C 2.90625 0.140625 3.578125 -0.515625 3.578125 -1.203125 C 3.578125 -1.75 3.140625 -2.296875 2.375 -2.453125 C 3.09375 -2.71875 3.359375 -3.234375 3.359375 -3.671875 C 3.359375 -4.21875 2.734375 -4.625 1.953125 -4.625 C 1.1875 -4.625 0.59375 -4.25 0.59375 -3.6875 C 0.59375 -3.453125 0.75 -3.328125 0.953125 -3.328125 C 1.171875 -3.328125 1.3125 -3.484375 1.3125 -3.671875 C 1.3125 -3.875 1.171875 -4.03125 0.953125 -4.046875 C 1.203125 -4.34375 1.671875 -4.421875 1.9375 -4.421875 C 2.25 -4.421875 2.6875 -4.265625 2.6875 -3.671875 C 2.6875 -3.375 2.59375 -3.046875 2.40625 -2.84375 C 2.1875 -2.578125 1.984375 -2.5625 1.640625 -2.53125 C 1.46875 -2.515625 1.453125 -2.515625 1.421875 -2.515625 C 1.40625 -2.515625 1.34375 -2.5 1.34375 -2.421875 C 1.34375 -2.328125 1.40625 -2.328125 1.53125 -2.328125 Z M 1.90625 -2.328125 \"/>\n",
       "</symbol>\n",
       "<symbol overflow=\"visible\" id=\"glyph0-6\">\n",
       "<path style=\"stroke:none;\" d=\"M 3.6875 -1.140625 L 3.6875 -1.390625 L 2.90625 -1.390625 L 2.90625 -4.5 C 2.90625 -4.640625 2.90625 -4.703125 2.765625 -4.703125 C 2.671875 -4.703125 2.640625 -4.703125 2.578125 -4.59375 L 0.265625 -1.390625 L 0.265625 -1.140625 L 2.328125 -1.140625 L 2.328125 -0.578125 C 2.328125 -0.328125 2.328125 -0.25 1.75 -0.25 L 1.5625 -0.25 L 1.5625 0 C 1.921875 -0.015625 2.359375 -0.03125 2.609375 -0.03125 C 2.875 -0.03125 3.3125 -0.015625 3.671875 0 L 3.671875 -0.25 L 3.484375 -0.25 C 2.90625 -0.25 2.90625 -0.328125 2.90625 -0.578125 L 2.90625 -1.140625 Z M 2.375 -3.9375 L 2.375 -1.390625 L 0.53125 -1.390625 Z M 2.375 -3.9375 \"/>\n",
       "</symbol>\n",
       "</g>\n",
       "<clipPath id=\"clip1\">\n",
       "  <path d=\"M 74 73 L 115.882812 73 L 115.882812 119 L 74 119 Z M 74 73 \"/>\n",
       "</clipPath>\n",
       "</defs>\n",
       "<g id=\"surface1\">\n",
       "<path style=\"fill:none;stroke-width:0.99628;stroke-linecap:butt;stroke-linejoin:miter;stroke:rgb(25%,25%,25%);stroke-opacity:1;stroke-miterlimit:10;\" d=\"M 0.0015 22.679219 C 0.0015 17.151875 0.0015 14.030781 0.0015 8.503438 \" transform=\"matrix(1,0,0,-1,47.311,39.48)\"/>\n",
       "<path style=\"fill:none;stroke-width:0.99628;stroke-linecap:butt;stroke-linejoin:miter;stroke:rgb(25%,25%,25%);stroke-opacity:1;stroke-miterlimit:10;\" d=\"M -6.014125 -6.012187 C -12.40475 -12.402812 -15.943812 -15.941875 -22.334437 -22.3325 \" transform=\"matrix(1,0,0,-1,47.311,39.48)\"/>\n",
       "<path style=\"fill:none;stroke-width:0.99628;stroke-linecap:butt;stroke-linejoin:miter;stroke:rgb(25%,25%,25%);stroke-opacity:1;stroke-miterlimit:10;\" d=\"M 6.013219 -6.012187 C 12.403844 -12.402812 15.942906 -15.941875 22.333531 -22.3325 \" transform=\"matrix(1,0,0,-1,47.311,39.48)\"/>\n",
       "<path style=\"fill:none;stroke-width:0.99628;stroke-linecap:butt;stroke-linejoin:miter;stroke:rgb(25%,25%,25%);stroke-opacity:1;stroke-miterlimit:10;\" d=\"M 23.243688 -35.148906 C 18.919469 -40.914531 16.513219 -44.125469 12.189 -49.891094 \" transform=\"matrix(1,0,0,-1,47.311,39.48)\"/>\n",
       "<path style=\"fill:none;stroke-width:0.99628;stroke-linecap:butt;stroke-linejoin:miter;stroke:rgb(25%,25%,25%);stroke-opacity:1;stroke-miterlimit:10;\" d=\"M 33.450719 -35.148906 C 37.771031 -40.914531 40.181188 -44.125469 44.505406 -49.891094 \" transform=\"matrix(1,0,0,-1,47.311,39.48)\"/>\n",
       "<path style=\"fill-rule:nonzero;fill:rgb(75%,75%,75%);fill-opacity:1;stroke-width:0.99628;stroke-linecap:butt;stroke-linejoin:miter;stroke:rgb(75%,75%,75%);stroke-opacity:1;stroke-miterlimit:10;\" d=\"M 8.505406 -0.00046875 C 8.505406 4.694844 4.696813 8.503438 0.0015 8.503438 C -4.697719 8.503438 -8.502406 4.694844 -8.502406 -0.00046875 C -8.502406 -4.695781 -4.697719 -8.504375 0.0015 -8.504375 C 4.696813 -8.504375 8.505406 -4.695781 8.505406 -0.00046875 Z M 8.505406 -0.00046875 \" transform=\"matrix(1,0,0,-1,47.311,39.48)\"/>\n",
       "<path style=\"fill-rule:nonzero;fill:rgb(7.817078%,64.082336%,90.036011%);fill-opacity:1;stroke-width:0.99628;stroke-linecap:butt;stroke-linejoin:miter;stroke:rgb(7.817078%,64.082336%,90.036011%);stroke-opacity:1;stroke-miterlimit:10;\" d=\"M -19.84225 -28.348125 C -19.84225 -23.648906 -23.650844 -19.844219 -28.346156 -19.844219 C -33.045375 -19.844219 -36.850062 -23.648906 -36.850062 -28.348125 C -36.850062 -33.043437 -33.045375 -36.852031 -28.346156 -36.852031 C -23.650844 -36.852031 -19.84225 -33.043437 -19.84225 -28.348125 Z M -19.84225 -28.348125 \" transform=\"matrix(1,0,0,-1,47.311,39.48)\"/>\n",
       "<g style=\"fill:rgb(0%,0%,0%);fill-opacity:1;\">\n",
       "  <use xlink:href=\"#glyph0-1\" x=\"13.866\" y=\"84.344\"/>\n",
       "  <use xlink:href=\"#glyph0-2\" x=\"17.837579\" y=\"84.344\"/>\n",
       "  <use xlink:href=\"#glyph0-3\" x=\"20.092906\" y=\"84.344\"/>\n",
       "</g>\n",
       "<path style=\"fill-rule:nonzero;fill:rgb(75%,75%,75%);fill-opacity:1;stroke-width:0.99628;stroke-linecap:butt;stroke-linejoin:miter;stroke:rgb(75%,75%,75%);stroke-opacity:1;stroke-miterlimit:10;\" d=\"M 36.849156 -28.348125 C 36.849156 -23.648906 33.044469 -19.844219 28.34525 -19.844219 C 23.649938 -19.844219 19.841344 -23.648906 19.841344 -28.348125 C 19.841344 -33.043437 23.649938 -36.852031 28.34525 -36.852031 C 33.044469 -36.852031 36.849156 -33.043437 36.849156 -28.348125 Z M 36.849156 -28.348125 \" transform=\"matrix(1,0,0,-1,47.311,39.48)\"/>\n",
       "<path style=\"fill-rule:nonzero;fill:rgb(7.817078%,64.082336%,90.036011%);fill-opacity:1;stroke-width:0.99628;stroke-linecap:butt;stroke-linejoin:miter;stroke:rgb(7.817078%,64.082336%,90.036011%);stroke-opacity:1;stroke-miterlimit:10;\" d=\"M 15.591344 -56.691875 C 15.591344 -51.996562 11.78275 -48.187969 7.087438 -48.187969 C 2.388219 -48.187969 -1.416469 -51.996562 -1.416469 -56.691875 C -1.416469 -61.391094 2.388219 -65.199687 7.087438 -65.199687 C 11.78275 -65.199687 15.591344 -61.391094 15.591344 -56.691875 Z M 15.591344 -56.691875 \" transform=\"matrix(1,0,0,-1,47.311,39.48)\"/>\n",
       "<g style=\"fill:rgb(0%,0%,0%);fill-opacity:1;\">\n",
       "  <use xlink:href=\"#glyph0-4\" x=\"49.299\" y=\"112.691\"/>\n",
       "  <use xlink:href=\"#glyph0-2\" x=\"53.270579\" y=\"112.691\"/>\n",
       "  <use xlink:href=\"#glyph0-5\" x=\"55.525906\" y=\"112.691\"/>\n",
       "</g>\n",
       "<path style=\" stroke:none;fill-rule:nonzero;fill:rgb(7.817078%,64.082336%,90.036011%);fill-opacity:1;\" d=\"M 105.421875 96.171875 C 105.421875 91.476562 101.613281 87.667969 96.917969 87.667969 C 92.222656 87.667969 88.414062 91.476562 88.414062 96.171875 C 88.414062 100.871094 92.222656 104.679688 96.917969 104.679688 C 101.613281 104.679688 105.421875 100.871094 105.421875 96.171875 Z M 105.421875 96.171875 \"/>\n",
       "<g clip-path=\"url(#clip1)\" clip-rule=\"nonzero\">\n",
       "<path style=\"fill:none;stroke-width:0.99628;stroke-linecap:butt;stroke-linejoin:miter;stroke:rgb(7.817078%,64.082336%,90.036011%);stroke-opacity:1;stroke-miterlimit:10;\" d=\"M 58.110875 -56.691875 C 58.110875 -51.996562 54.302281 -48.187969 49.606969 -48.187969 C 44.911656 -48.187969 41.103063 -51.996562 41.103063 -56.691875 C 41.103063 -61.391094 44.911656 -65.199687 49.606969 -65.199687 C 54.302281 -65.199687 58.110875 -61.391094 58.110875 -56.691875 Z M 58.110875 -56.691875 \" transform=\"matrix(1,0,0,-1,47.311,39.48)\"/>\n",
       "</g>\n",
       "<g style=\"fill:rgb(0%,0%,0%);fill-opacity:1;\">\n",
       "  <use xlink:href=\"#glyph0-6\" x=\"94.932\" y=\"112.691\"/>\n",
       "</g>\n",
       "</g>\n",
       "</svg>"
      ],
      "text/plain": [
       "<IPython.core.display.SVG object>"
      ]
     },
     "metadata": {},
     "output_type": "display_data"
    }
   ],
   "source": [
    "from IPython.display import SVG, display\n",
    "\n",
    "display(SVG(filename='/home/stefan/atropy_pybind/lambda_phage_p0.svg'))"
   ]
  },
  {
   "cell_type": "markdown",
   "metadata": {},
   "source": [
    "In our implementation we denote such a structure using a string. Each partition is inside a set of brackets. We give our partition from above the name p0."
   ]
  },
  {
   "cell_type": "code",
   "execution_count": null,
   "metadata": {},
   "outputs": [],
   "source": [
    "p0 = \"(S0 S1)((S2 S3)(S4))\""
   ]
  },
  {
   "cell_type": "markdown",
   "metadata": {},
   "source": [
    "Additionally, we need to set the rank for our calculations. For each partition the algorithm uses rank $r$ basis functions. The smaller the rank, the faster the calculations are, but we also loose accuracy. For the hierarchical tree structure we can define the rank for each level, but partitions on the same level use the same rank. This means that we need to assign a rank for each cut of the reaction system and the resulting partitions are approximated to the same degree. In our example we thus need to define two ranks, which we do in a numpy array in the implementation."
   ]
  },
  {
   "cell_type": "code",
   "execution_count": null,
   "metadata": {},
   "outputs": [],
   "source": [
    "r = np.array([5, 4])"
   ]
  },
  {
   "cell_type": "markdown",
   "metadata": {},
   "source": [
    "Finally we can set up our `Partitioning` class of `atropy` by passing the partition, array of ranks and the model to our class:"
   ]
  },
  {
   "cell_type": "code",
   "execution_count": null,
   "metadata": {},
   "outputs": [],
   "source": [
    "partitioning = Partitioning(p0, r, model)"
   ]
  },
  {
   "cell_type": "markdown",
   "metadata": {},
   "source": [
    "We have set up our partition as shown in the first picture. Next we need to generate the tree as shown in the second picture. Before doing so, we need to add some grid parameters. Here n denotes the amount of gridpoints for each species and liml is the lower limit of the population number, which is equal to 0 in most examples. The parameter binsize almost always has to be set as in our example."
   ]
  },
  {
   "cell_type": "code",
   "execution_count": null,
   "metadata": {},
   "outputs": [],
   "source": [
    "n = np.array([16, 41, 11, 11, 11])\n",
    "d = n.size\n",
    "binsize = np.ones(d, dtype=int)\n",
    "liml = np.zeros(d)\n",
    "partitioning.add_grid_params(n, binsize, liml)"
   ]
  },
  {
   "cell_type": "markdown",
   "metadata": {},
   "source": [
    "After we added our grid parameters, we can generate the tree."
   ]
  },
  {
   "cell_type": "code",
   "execution_count": null,
   "metadata": {},
   "outputs": [],
   "source": [
    "partitioning.generate_tree()"
   ]
  },
  {
   "cell_type": "markdown",
   "metadata": {},
   "source": [
    "Next we initialize our initial condition class, before assigning values to it."
   ]
  },
  {
   "cell_type": "code",
   "execution_count": null,
   "metadata": {},
   "outputs": [],
   "source": [
    "n_basisfunctions = r\n",
    "partitioning.generate_initial_condition(n_basisfunctions)"
   ]
  },
  {
   "cell_type": "markdown",
   "metadata": {},
   "source": [
    "## Setup the initial condition\n",
    "\n",
    "The inital condition can be arbitrary, but needs to be low rank. We will give an example of 2 initial conditions. First lets consider the already low rank inital condition"
   ]
  },
  {
   "cell_type": "markdown",
   "metadata": {},
   "source": [
    "$$\n",
    "P(0,x) = \\prod_{i=0}^{d-1} f(x_i) \\hspace{1cm} \\text{with} \\hspace{1cm} f(x_i) = e^{-x_i^2}.\n",
    "$$"
   ]
  },
  {
   "cell_type": "markdown",
   "metadata": {},
   "source": [
    "It is even of rank 1, because it can be split into a product of functions, each depending only on 1 species. For this type of inital condition we provide the function `set_initial_condition`. It helps the user to translate the information of the inital condition to the nodes of the generated tree. To use it, the function for each species first needs to be written into a dictionary:"
   ]
  },
  {
   "cell_type": "code",
   "execution_count": null,
   "metadata": {},
   "outputs": [],
   "source": [
    "functions_dict = {\n",
    "    S0: sp.exp(-S0**2),\n",
    "    S1: sp.exp(-S1**2),\n",
    "    S2: sp.exp(-S2**2),\n",
    "    S3: sp.exp(-S3**2),\n",
    "    S4: sp.exp(-S4**2),\n",
    "}"
   ]
  },
  {
   "cell_type": "markdown",
   "metadata": {},
   "source": [
    "Now we can call `set_initial_condition`:"
   ]
  },
  {
   "cell_type": "code",
   "execution_count": null,
   "metadata": {},
   "outputs": [],
   "source": [
    "partitioning.set_initial_condition(functions_dict)"
   ]
  },
  {
   "cell_type": "markdown",
   "metadata": {},
   "source": [
    "We still need to normalize our values. For that we calculate the norm and divide by it:"
   ]
  },
  {
   "cell_type": "code",
   "execution_count": null,
   "metadata": {},
   "outputs": [],
   "source": [
    "_, marginal_distribution = partitioning.tree.calculateObservables(\n",
    "    np.zeros(partitioning.tree.root.grid.d(), dtype=\"int\")\n",
    ")\n",
    "norm = np.sum(marginal_distribution[partitioning.tree.species_names[0]])\n",
    "print(\"norm:\", norm)\n",
    "partitioning.tree.root.Q[0, 0, 0] /= norm"
   ]
  },
  {
   "cell_type": "markdown",
   "metadata": {},
   "source": [
    "To check if the tree and inital condition generation was correct, we can provoke an output in the console. This gives us information about the nodes of our tree."
   ]
  },
  {
   "cell_type": "code",
   "execution_count": null,
   "metadata": {},
   "outputs": [],
   "source": [
    "print(partitioning.tree)"
   ]
  },
  {
   "cell_type": "markdown",
   "metadata": {},
   "source": [
    "Also more complex inital conditions can be used, but only with caution. We could choose the multinomial distribution with parameters $n=3$ and $p=(0.05,\\dots ,0.05)$, meaning"
   ]
  },
  {
   "cell_type": "markdown",
   "metadata": {},
   "source": [
    "$$\n",
    "P(0, \\mathbf{x}) = \n",
    "\\begin{cases}\n",
    "\\frac{3!}{x_0! \\cdots x_4!(3 - |\\mathbf{x}|)!} 0.05^{|\\mathbf{x}|} (1 - 5 \\cdot 0.05)^{3 - |\\mathbf{x}|} & \\text{if } |\\mathbf{x}| \\leq 3, \\\\\n",
    "0 & \\text{else,}\n",
    "\\end{cases}\n",
    "$$"
   ]
  },
  {
   "cell_type": "markdown",
   "metadata": {},
   "source": [
    "with $|\\mathbf{x}| = x_0+\\cdots +x_4$. This distribution is not low rank. Thus before applying it to the nodes, we need to perform singular value decomposition to generate a low rank intial condition. For simplicity, we will move on with the first inital condition."
   ]
  },
  {
   "cell_type": "markdown",
   "metadata": {},
   "source": [
    "## Running the code\n",
    "\n",
    "Using the `run` function from `atropy`, we can finally run our simulation. There are several parameters we need to pass. For the first parameter we need to pass the partitioning defined above. Next comes the desired output name for the generated files. After that there is the timestep size and final time of our simulation. The last three parameters are snapshot, substeps and method. They all have a standard parameter, thus only need to be passed if another value is desired. The snapshot parameter contains the number of generated output files during our simulation, where the standard value is 2. The substep parameter is an advanced parameter and for most cases the standard value of 1 can be chosen. For the method there are 4 different options: implicit_Euler, explicit_Euler, Crank_Nicolson and the standard option RK4. In our lambda phage example we run the simulation until final time 10 with a timestep size of $10^{-3}$ and implicit Euler as the time integration method."
   ]
  },
  {
   "cell_type": "code",
   "execution_count": null,
   "metadata": {},
   "outputs": [],
   "source": [
    "run(partitioning, \"output_lambda_phage\", 1e-3, 10,snapshot=10,\n",
    "    method=\"implicit_Euler\")"
   ]
  },
  {
   "cell_type": "markdown",
   "metadata": {},
   "source": [
    "## Plotting the results\n",
    "\n",
    "After the simulation was executed we can plot our obtained results. To load the generated NetCDF files the `TimeSeries` class from `atropy_core` can be used. In the following we plot the first moments for each of our species."
   ]
  },
  {
   "cell_type": "code",
   "execution_count": null,
   "metadata": {},
   "outputs": [],
   "source": [
    "time_series = TimeSeries(\"output_lambda_phage\")\n",
    "concentrations = time_series.calculateMoments()\n",
    "t = time_series.time\n",
    "\n",
    "fig, ax = plt.subplots(figsize=(7, 4))\n",
    "\n",
    "observables = [\"S0\", \"S1\", \"S2\", \"S3\", \"S4\"]\n",
    "observables_alt = [\"$S_0$\", \"$S_1$\", \"$S_2$\", \"$S_3$\", \"$S_4$\"]\n",
    "colors = plt.rcParams[\"axes.prop_cycle\"].by_key()[\"color\"]\n",
    "for i, (o, o_alt) in enumerate(zip(observables, observables_alt, strict=False)):\n",
    "    ax.plot(t, concentrations[0][o], \"-\", label=o_alt, color=colors[i], alpha=0.7)\n",
    "ax.set_ylabel(\"$\\\\langle x_i(t) \\\\rangle$\")\n",
    "ax.set_ylim([0.0, 12.0])\n",
    "\n",
    "plt.setp(ax, xlabel=\"$t$\", xlim=[0.0, 10.0],\n",
    "         xticks=[0.0, 2.5, 5.0, 7.5, 10.0])\n",
    "\n",
    "lines_labels = [ax.get_legend_handles_labels() for ax in fig.axes]\n",
    "lines, labels = (sum(ll, []) for ll in zip(*lines_labels, strict=False))\n",
    "fig.legend(lines, labels, ncols=5, loc=\"upper center\")\n",
    "\n",
    "plt.savefig(\"plots/lambda_phage_concentrations.pdf\")"
   ]
  }
 ],
 "metadata": {
  "kernelspec": {
   "display_name": "base",
   "language": "python",
   "name": "python3"
  },
  "language_info": {
   "codemirror_mode": {
    "name": "ipython",
    "version": 3
   },
   "file_extension": ".py",
   "mimetype": "text/x-python",
   "name": "python",
   "nbconvert_exporter": "python",
   "pygments_lexer": "ipython3",
   "version": "3.12.2"
  }
 },
 "nbformat": 4,
 "nbformat_minor": 2
}
