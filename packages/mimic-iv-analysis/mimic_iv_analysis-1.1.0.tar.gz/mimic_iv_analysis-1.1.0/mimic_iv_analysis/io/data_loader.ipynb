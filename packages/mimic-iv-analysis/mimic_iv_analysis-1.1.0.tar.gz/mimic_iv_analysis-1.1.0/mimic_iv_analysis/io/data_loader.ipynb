{
 "cells": [
  {
   "cell_type": "code",
   "execution_count": 1,
   "id": "3b47f7ec",
   "metadata": {},
   "outputs": [],
   "source": [
    "%load_ext autoreload\n",
    "%autoreload 2\n",
    "\n",
    "from mimic_iv_analysis.core.params import DEFAULT_STUDY_TABLES_LIST\n",
    "from mimic_iv_analysis.io import DataLoader, TableNamesHOSP, TableNamesICU, ParquetConverter, ExampleDataLoader\n",
    "import pandas as pd\n",
    "\n",
    "import dask.dataframe as dd"
   ]
  },
  {
   "cell_type": "code",
   "execution_count": null,
   "id": "a9b2174a",
   "metadata": {},
   "outputs": [],
   "source": [
    "# from dask.distributed import Client\n",
    "# client = Client(n_workers=4, threads_per_worker=4, processes=True, memory_limit='8GB')\n",
    "# client"
   ]
  },
  {
   "cell_type": "markdown",
   "id": "755fb756",
   "metadata": {},
   "source": [
    "## Scan the directory"
   ]
  },
  {
   "cell_type": "code",
   "execution_count": 2,
   "id": "3827e77f",
   "metadata": {},
   "outputs": [],
   "source": [
    "# len( list(set.intersection(*a[:4])) )"
   ]
  },
  {
   "cell_type": "code",
   "execution_count": 5,
   "id": "fac6539a",
   "metadata": {},
   "outputs": [
    {
     "name": "stderr",
     "output_type": "stream",
     "text": [
      "2025-05-18 15:47:37,513 - INFO - Loading ----- diagnoses_icd ----- table.\n",
      "2025-05-18 15:47:37,518 - INFO - Loading full table: 9,547,064 rows.\n"
     ]
    },
    {
     "ename": "IndexError",
     "evalue": "boolean index did not match indexed array along axis 0; size of axis is 9547064 but size of corresponding boolean axis is 9635594",
     "output_type": "error",
     "traceback": [
      "\u001b[31m---------------------------------------------------------------------------\u001b[39m",
      "\u001b[31mIndexError\u001b[39m                                Traceback (most recent call last)",
      "\u001b[36mCell\u001b[39m\u001b[36m \u001b[39m\u001b[32mIn[5]\u001b[39m\u001b[32m, line 3\u001b[39m\n\u001b[32m      1\u001b[39m \u001b[38;5;66;03m# TODO: Load tables individually and merge them with the how=outer (filters applied after merging) and see if it makes any difference compare to when I do it with the inner (filters applied before merging).\u001b[39;00m\n\u001b[32m----> \u001b[39m\u001b[32m3\u001b[39m examples_full    = \u001b[43mExampleDataLoader\u001b[49m\u001b[43m(\u001b[49m\u001b[43mpartial_loading\u001b[49m\u001b[43m=\u001b[49m\u001b[38;5;28;43;01mFalse\u001b[39;49;00m\u001b[43m)\u001b[49m\n\u001b[32m      4\u001b[39m \u001b[38;5;66;03m# examples_partial = ExampleDataLoader(partial_loading=True, num_subjects=10, random_selection=False)\u001b[39;00m\n",
      "\u001b[36mFile \u001b[39m\u001b[32m~/Documents/GitHubs/RAP/mimic__pankaj/mimic_iv_code/mimic_iv_analysis/io/data_loader.py:722\u001b[39m, in \u001b[36mExampleDataLoader.__init__\u001b[39m\u001b[34m(self, partial_loading, num_subjects, random_selection, use_dask)\u001b[39m\n\u001b[32m    715\u001b[39m \t\u001b[38;5;28mself\u001b[39m.tables_dict = \u001b[38;5;28mself\u001b[39m.data_loader.load_all_study_tables(\n\u001b[32m    716\u001b[39m \t\tpartial_loading  = \u001b[38;5;28;01mTrue\u001b[39;00m,\n\u001b[32m    717\u001b[39m \t\tnum_subjects     = num_subjects,\n\u001b[32m    718\u001b[39m \t\trandom_selection = random_selection,\n\u001b[32m    719\u001b[39m \t\tuse_dask         = use_dask\n\u001b[32m    720\u001b[39m \t)\n\u001b[32m    721\u001b[39m \u001b[38;5;28;01melse\u001b[39;00m:\n\u001b[32m--> \u001b[39m\u001b[32m722\u001b[39m \t\u001b[38;5;28mself\u001b[39m.tables_dict = \u001b[38;5;28;43mself\u001b[39;49m\u001b[43m.\u001b[49m\u001b[43mdata_loader\u001b[49m\u001b[43m.\u001b[49m\u001b[43mload_all_study_tables\u001b[49m\u001b[43m(\u001b[49m\u001b[43mpartial_loading\u001b[49m\u001b[43m=\u001b[49m\u001b[38;5;28;43;01mFalse\u001b[39;49;00m\u001b[43m,\u001b[49m\u001b[43m \u001b[49m\u001b[43muse_dask\u001b[49m\u001b[43m=\u001b[49m\u001b[43muse_dask\u001b[49m\u001b[43m)\u001b[49m\n\u001b[32m    724\u001b[39m \u001b[38;5;28;01mwith\u001b[39;00m warnings.catch_warnings():\n\u001b[32m    725\u001b[39m \twarnings.simplefilter(\u001b[33m\"\u001b[39m\u001b[33mignore\u001b[39m\u001b[33m\"\u001b[39m)\n",
      "\u001b[36mFile \u001b[39m\u001b[32m~/Documents/GitHubs/RAP/mimic__pankaj/mimic_iv_code/mimic_iv_analysis/io/data_loader.py:450\u001b[39m, in \u001b[36mDataLoader.load_all_study_tables\u001b[39m\u001b[34m(self, partial_loading, num_subjects, random_selection, use_dask, subject_ids)\u001b[39m\n\u001b[32m    447\u001b[39m \u001b[38;5;28;01mfor\u001b[39;00m _, row \u001b[38;5;129;01min\u001b[39;00m \u001b[38;5;28mself\u001b[39m.study_tables_info.iterrows():\n\u001b[32m    448\u001b[39m \ttable_name = convert_table_names_to_enum_class(name=row.table_name, module=row.module)\n\u001b[32m--> \u001b[39m\u001b[32m450\u001b[39m \ttables_dict[table_name.value] = \u001b[38;5;28;43mself\u001b[39;49m\u001b[43m.\u001b[49m\u001b[43mload_table\u001b[49m\u001b[43m(\u001b[49m\n\u001b[32m    451\u001b[39m \u001b[43m\t\t\u001b[49m\u001b[43mtable_name\u001b[49m\u001b[43m=\u001b[49m\u001b[43mtable_name\u001b[49m\u001b[43m,\u001b[49m\n\u001b[32m    452\u001b[39m \u001b[43m\t\t\u001b[49m\u001b[43mpartial_loading\u001b[49m\u001b[43m=\u001b[49m\u001b[43mpartial_loading\u001b[49m\u001b[43m,\u001b[49m\n\u001b[32m    453\u001b[39m \u001b[43m\t\t\u001b[49m\u001b[43msubject_ids\u001b[49m\u001b[43m=\u001b[49m\u001b[43msubject_ids\u001b[49m\u001b[43m,\u001b[49m\n\u001b[32m    454\u001b[39m \u001b[43m\t\t\u001b[49m\u001b[43muse_dask\u001b[49m\u001b[43m=\u001b[49m\u001b[43muse_dask\u001b[49m\n\u001b[32m    455\u001b[39m \u001b[43m\t\u001b[49m\u001b[43m)\u001b[49m\n\u001b[32m    457\u001b[39m \u001b[38;5;28;01mreturn\u001b[39;00m tables_dict\n",
      "\u001b[36mFile \u001b[39m\u001b[32m~/Documents/GitHubs/RAP/mimic__pankaj/mimic_iv_code/mimic_iv_analysis/io/data_loader.py:522\u001b[39m, in \u001b[36mDataLoader.load_table\u001b[39m\u001b[34m(self, table_name, partial_loading, subject_ids, use_dask)\u001b[39m\n\u001b[32m    520\u001b[39m \u001b[38;5;66;03m# Apply filtering\u001b[39;00m\n\u001b[32m    521\u001b[39m df = Filtering(df=df, table_name=table_name).render()\n\u001b[32m--> \u001b[39m\u001b[32m522\u001b[39m logging.info(\u001b[33mf\u001b[39m\u001b[33m\"\u001b[39m\u001b[33mApplied filters: \u001b[39m\u001b[38;5;132;01m{\u001b[39;00m\u001b[43m_get_n_rows\u001b[49m\u001b[43m(\u001b[49m\u001b[43mdf\u001b[49m\u001b[43m)\u001b[49m\u001b[38;5;132;01m}\u001b[39;00m\u001b[33m rows.\u001b[39m\u001b[33m\"\u001b[39m)\n\u001b[32m    524\u001b[39m \u001b[38;5;66;03m# Apply partial loading if requested\u001b[39;00m\n\u001b[32m    525\u001b[39m \u001b[38;5;28;01mif\u001b[39;00m partial_loading:\n",
      "\u001b[36mFile \u001b[39m\u001b[32m~/Documents/GitHubs/RAP/mimic__pankaj/mimic_iv_code/mimic_iv_analysis/io/data_loader.py:511\u001b[39m, in \u001b[36mDataLoader.load_table.<locals>._get_n_rows\u001b[39m\u001b[34m(df)\u001b[39m\n\u001b[32m    510\u001b[39m \u001b[38;5;28;01mdef\u001b[39;00m\u001b[38;5;250m \u001b[39m\u001b[34m_get_n_rows\u001b[39m(df):\n\u001b[32m--> \u001b[39m\u001b[32m511\u001b[39m \tn_rows = \u001b[43mdf\u001b[49m\u001b[43m.\u001b[49m\u001b[43msize\u001b[49m\u001b[43m.\u001b[49m\u001b[43mcompute\u001b[49m\u001b[43m(\u001b[49m\u001b[43m)\u001b[49m / \u001b[38;5;28mlen\u001b[39m(df.columns) \u001b[38;5;28;01mif\u001b[39;00m \u001b[38;5;28misinstance\u001b[39m(df, dd.DataFrame) \u001b[38;5;28;01melse\u001b[39;00m df.shape[\u001b[32m0\u001b[39m]\n\u001b[32m    512\u001b[39m \t\u001b[38;5;28;01mreturn\u001b[39;00m humanize.intcomma(\u001b[38;5;28mint\u001b[39m(n_rows))\n",
      "\u001b[36mFile \u001b[39m\u001b[32m~/Documents/GitHubs/RAP/mimic__pankaj/mimic_iv_code/.venv/lib/python3.12/site-packages/dask/base.py:373\u001b[39m, in \u001b[36mDaskMethodsMixin.compute\u001b[39m\u001b[34m(self, **kwargs)\u001b[39m\n\u001b[32m    349\u001b[39m \u001b[38;5;28;01mdef\u001b[39;00m\u001b[38;5;250m \u001b[39m\u001b[34mcompute\u001b[39m(\u001b[38;5;28mself\u001b[39m, **kwargs):\n\u001b[32m    350\u001b[39m \u001b[38;5;250m    \u001b[39m\u001b[33;03m\"\"\"Compute this dask collection\u001b[39;00m\n\u001b[32m    351\u001b[39m \n\u001b[32m    352\u001b[39m \u001b[33;03m    This turns a lazy Dask collection into its in-memory equivalent.\u001b[39;00m\n\u001b[32m   (...)\u001b[39m\u001b[32m    371\u001b[39m \u001b[33;03m    dask.compute\u001b[39;00m\n\u001b[32m    372\u001b[39m \u001b[33;03m    \"\"\"\u001b[39;00m\n\u001b[32m--> \u001b[39m\u001b[32m373\u001b[39m     (result,) = \u001b[43mcompute\u001b[49m\u001b[43m(\u001b[49m\u001b[38;5;28;43mself\u001b[39;49m\u001b[43m,\u001b[49m\u001b[43m \u001b[49m\u001b[43mtraverse\u001b[49m\u001b[43m=\u001b[49m\u001b[38;5;28;43;01mFalse\u001b[39;49;00m\u001b[43m,\u001b[49m\u001b[43m \u001b[49m\u001b[43m*\u001b[49m\u001b[43m*\u001b[49m\u001b[43mkwargs\u001b[49m\u001b[43m)\u001b[49m\n\u001b[32m    374\u001b[39m     \u001b[38;5;28;01mreturn\u001b[39;00m result\n",
      "\u001b[36mFile \u001b[39m\u001b[32m~/Documents/GitHubs/RAP/mimic__pankaj/mimic_iv_code/.venv/lib/python3.12/site-packages/dask/base.py:681\u001b[39m, in \u001b[36mcompute\u001b[39m\u001b[34m(traverse, optimize_graph, scheduler, get, *args, **kwargs)\u001b[39m\n\u001b[32m    678\u001b[39m     expr = expr.optimize()\n\u001b[32m    679\u001b[39m     keys = \u001b[38;5;28mlist\u001b[39m(flatten(expr.__dask_keys__()))\n\u001b[32m--> \u001b[39m\u001b[32m681\u001b[39m     results = \u001b[43mschedule\u001b[49m\u001b[43m(\u001b[49m\u001b[43mexpr\u001b[49m\u001b[43m,\u001b[49m\u001b[43m \u001b[49m\u001b[43mkeys\u001b[49m\u001b[43m,\u001b[49m\u001b[43m \u001b[49m\u001b[43m*\u001b[49m\u001b[43m*\u001b[49m\u001b[43mkwargs\u001b[49m\u001b[43m)\u001b[49m\n\u001b[32m    683\u001b[39m \u001b[38;5;28;01mreturn\u001b[39;00m repack(results)\n",
      "\u001b[36mFile \u001b[39m\u001b[32m~/Documents/GitHubs/RAP/mimic__pankaj/mimic_iv_code/.venv/lib/python3.12/site-packages/pandas/core/indexes/base.py:5416\u001b[39m, in \u001b[36mIndex.__getitem__\u001b[39m\u001b[34m(self, key)\u001b[39m\n\u001b[32m   5407\u001b[39m         \u001b[38;5;28;01mif\u001b[39;00m \u001b[38;5;28mlen\u001b[39m(key) == \u001b[32m0\u001b[39m \u001b[38;5;129;01mand\u001b[39;00m \u001b[38;5;28mlen\u001b[39m(key) != \u001b[38;5;28mlen\u001b[39m(\u001b[38;5;28mself\u001b[39m):\n\u001b[32m   5408\u001b[39m             warnings.warn(\n\u001b[32m   5409\u001b[39m                 \u001b[33m\"\u001b[39m\u001b[33mUsing a boolean indexer with length 0 on an Index with \u001b[39m\u001b[33m\"\u001b[39m\n\u001b[32m   5410\u001b[39m                 \u001b[33m\"\u001b[39m\u001b[33mlength greater than 0 is deprecated and will raise in a \u001b[39m\u001b[33m\"\u001b[39m\n\u001b[32m   (...)\u001b[39m\u001b[32m   5413\u001b[39m                 stacklevel=find_stack_level(),\n\u001b[32m   5414\u001b[39m             )\n\u001b[32m-> \u001b[39m\u001b[32m5416\u001b[39m result = \u001b[43mgetitem\u001b[49m\u001b[43m(\u001b[49m\u001b[43mkey\u001b[49m\u001b[43m)\u001b[49m\n\u001b[32m   5417\u001b[39m \u001b[38;5;66;03m# Because we ruled out integer above, we always get an arraylike here\u001b[39;00m\n\u001b[32m   5418\u001b[39m \u001b[38;5;28;01mif\u001b[39;00m result.ndim > \u001b[32m1\u001b[39m:\n",
      "\u001b[31mIndexError\u001b[39m: boolean index did not match indexed array along axis 0; size of axis is 9547064 but size of corresponding boolean axis is 9635594"
     ]
    }
   ],
   "source": [
    "# TODO: Load tables individually and merge them with the how=outer (filters applied after merging) and see if it makes any difference compare to when I do it with the inner (filters applied before merging).\n",
    "\n",
    "examples_full    = ExampleDataLoader(partial_loading=False)\n",
    "# examples_partial = ExampleDataLoader(partial_loading=True, num_subjects=10, random_selection=False)"
   ]
  },
  {
   "cell_type": "code",
   "execution_count": null,
   "id": "43748f5d",
   "metadata": {},
   "outputs": [],
   "source": [
    "examples_partial.study_table_info()"
   ]
  },
  {
   "cell_type": "code",
   "execution_count": null,
   "id": "c624381c",
   "metadata": {},
   "outputs": [],
   "source": [
    "examples_partial.counter()"
   ]
  },
  {
   "cell_type": "code",
   "execution_count": null,
   "id": "08270852",
   "metadata": {},
   "outputs": [],
   "source": [
    "df = examples_partial.load_merged_tables(partial_loading=True, num_subjects=10, random_selection=False, use_dask=True)"
   ]
  },
  {
   "cell_type": "code",
   "execution_count": null,
   "id": "df4118bd",
   "metadata": {},
   "outputs": [],
   "source": []
  },
  {
   "cell_type": "code",
   "execution_count": null,
   "id": "e29e677e",
   "metadata": {},
   "outputs": [],
   "source": [
    "# Print in a tabular format\n",
    "examples_partial.n_rows_after_merge()"
   ]
  },
  {
   "cell_type": "code",
   "execution_count": null,
   "id": "2568241f",
   "metadata": {},
   "outputs": [],
   "source": []
  },
  {
   "cell_type": "code",
   "execution_count": null,
   "id": "ef986515",
   "metadata": {},
   "outputs": [],
   "source": []
  }
 ],
 "metadata": {
  "kernelspec": {
   "display_name": ".venv",
   "language": "python",
   "name": "python3"
  },
  "language_info": {
   "codemirror_mode": {
    "name": "ipython",
    "version": 3
   },
   "file_extension": ".py",
   "mimetype": "text/x-python",
   "name": "python",
   "nbconvert_exporter": "python",
   "pygments_lexer": "ipython3",
   "version": "3.12.10"
  }
 },
 "nbformat": 4,
 "nbformat_minor": 5
}
