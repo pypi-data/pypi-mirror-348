{
 "cells": [
  {
   "cell_type": "code",
   "execution_count": null,
   "id": "3b47f7ec",
   "metadata": {},
   "outputs": [
    {
     "name": "stdout",
     "output_type": "stream",
     "text": [
      "The autoreload extension is already loaded. To reload it, use:\n",
      "  %reload_ext autoreload\n"
     ]
    }
   ],
   "source": [
    "%load_ext autoreload\n",
    "%autoreload 2\n",
    "\n",
    "from mimic_iv_analysis.io import DataLoader, TableNamesHOSP, TableNamesICU, ParquetConverter, ExampleDataLoader\n",
    "import pandas as pd\n",
    "import dask.dataframe as dd"
   ]
  },
  {
   "cell_type": "code",
   "execution_count": 12,
   "id": "a9b2174a",
   "metadata": {},
   "outputs": [],
   "source": [
    "# from dask.distributed import Client\n",
    "# client = Client(n_workers=4, threads_per_worker=4, processes=True, memory_limit='8GB')\n",
    "# client"
   ]
  },
  {
   "cell_type": "markdown",
   "id": "755fb756",
   "metadata": {},
   "source": [
    "## Scan the directory"
   ]
  },
  {
   "cell_type": "code",
   "execution_count": 13,
   "id": "fac6539a",
   "metadata": {},
   "outputs": [
    {
     "name": "stderr",
     "output_type": "stream",
     "text": [
      "2025-05-16 16:13:30,029 - INFO - Loading subject IDs from admissions table (this will be cached)\n",
      "2025-05-16 16:13:30,029 - INFO - Loading ----- admissions ----- table.\n",
      "2025-05-16 16:13:30,036 - INFO - Loading full table: 546028 rows.\n",
      "2025-05-16 16:13:30,170 - INFO - Applied filters: 534159 rows.\n",
      "2025-05-16 16:13:30,215 - INFO - Loading ----- diagnoses_icd ----- table.\n",
      "2025-05-16 16:13:30,219 - INFO - Loading full table: 9547064 rows.\n",
      "2025-05-16 16:13:30,342 - INFO - Applied filters: 5179551 rows.\n",
      "2025-05-16 16:13:30,343 - INFO - Filtering diagnoses_icd by subject_id for 10 subjects.\n",
      "2025-05-16 16:13:30,899 - INFO - Applied partial loading: 45 rows.\n",
      "2025-05-16 16:13:30,899 - INFO - Loading ----- admissions ----- table.\n",
      "2025-05-16 16:13:30,908 - INFO - Loading full table: 546028 rows.\n",
      "2025-05-16 16:13:31,050 - INFO - Applied filters: 534159 rows.\n",
      "2025-05-16 16:13:31,051 - INFO - Filtering admissions by subject_id for 10 subjects.\n",
      "2025-05-16 16:13:31,229 - INFO - Applied partial loading: 16 rows.\n",
      "2025-05-16 16:13:31,229 - INFO - Loading ----- poe ----- table.\n",
      "2025-05-16 16:13:31,236 - INFO - Loading full table: 52212109 rows.\n",
      "2025-05-16 16:13:31,238 - INFO - Applied filters: 52212109 rows.\n",
      "2025-05-16 16:13:31,239 - INFO - Filtering poe by subject_id for 10 subjects.\n",
      "2025-05-16 16:13:32,609 - INFO - Applied partial loading: 590 rows.\n",
      "2025-05-16 16:13:32,609 - INFO - Loading ----- d_icd_diagnoses ----- table.\n",
      "2025-05-16 16:13:32,614 - INFO - Loading full table: 112107 rows.\n",
      "2025-05-16 16:13:32,620 - INFO - Applied filters: 97441 rows.\n",
      "2025-05-16 16:13:32,621 - INFO - Table d_icd_diagnoses does not have a subject_id column. Partial loading is not possible. Skipping partial loading.\n",
      "2025-05-16 16:13:32,627 - INFO - Applied partial loading: 97441 rows.\n",
      "2025-05-16 16:13:32,627 - INFO - Loading ----- patients ----- table.\n",
      "2025-05-16 16:13:32,631 - INFO - Loading full table: 364627 rows.\n",
      "2025-05-16 16:13:32,643 - INFO - Applied filters: 316908 rows.\n",
      "2025-05-16 16:13:32,643 - INFO - Filtering patients by subject_id for 10 subjects.\n",
      "2025-05-16 16:13:32,673 - INFO - Applied partial loading: 10 rows.\n",
      "2025-05-16 16:13:32,673 - INFO - Loading ----- poe_detail ----- table.\n",
      "2025-05-16 16:13:32,677 - INFO - Loading full table: 8504982 rows.\n",
      "2025-05-16 16:13:32,679 - INFO - Applied filters: 8504982 rows.\n",
      "2025-05-16 16:13:32,679 - INFO - Filtering poe_detail by subject_id for 10 subjects.\n",
      "2025-05-16 16:13:32,961 - INFO - Applied partial loading: 127 rows.\n"
     ]
    }
   ],
   "source": [
    "# examples_full    = ExampleDataLoader(partial_loading=False)\n",
    "examples_partial = ExampleDataLoader(partial_loading=True, num_subjects=10, random_selection=False)"
   ]
  },
  {
   "cell_type": "code",
   "execution_count": 14,
   "id": "43748f5d",
   "metadata": {},
   "outputs": [
    {
     "data": {
      "text/html": [
       "<div>\n",
       "<style scoped>\n",
       "    .dataframe tbody tr th:only-of-type {\n",
       "        vertical-align: middle;\n",
       "    }\n",
       "\n",
       "    .dataframe tbody tr th {\n",
       "        vertical-align: top;\n",
       "    }\n",
       "\n",
       "    .dataframe thead th {\n",
       "        text-align: right;\n",
       "    }\n",
       "</style>\n",
       "<table border=\"1\" class=\"dataframe\">\n",
       "  <thead>\n",
       "    <tr style=\"text-align: right;\">\n",
       "      <th></th>\n",
       "      <th>module</th>\n",
       "      <th>table_name</th>\n",
       "      <th>file_path</th>\n",
       "      <th>file_size</th>\n",
       "      <th>display_name</th>\n",
       "      <th>suffix</th>\n",
       "      <th>columns_list</th>\n",
       "    </tr>\n",
       "  </thead>\n",
       "  <tbody>\n",
       "    <tr>\n",
       "      <th>0</th>\n",
       "      <td>hosp</td>\n",
       "      <td>diagnoses_icd</td>\n",
       "      <td>/Users/artinmajdi/Documents/GitHubs/RAP/mimic_...</td>\n",
       "      <td>75013787</td>\n",
       "      <td>diagnoses_icd 75.0 MB</td>\n",
       "      <td>.parquet</td>\n",
       "      <td>{icd_code, seq_num, hadm_id, icd_version, subj...</td>\n",
       "    </tr>\n",
       "    <tr>\n",
       "      <th>1</th>\n",
       "      <td>hosp</td>\n",
       "      <td>admissions</td>\n",
       "      <td>/Users/artinmajdi/Documents/GitHubs/RAP/mimic_...</td>\n",
       "      <td>25736908</td>\n",
       "      <td>admissions 25.7 MB</td>\n",
       "      <td>.parquet</td>\n",
       "      <td>{deathtime, discharge_location, race, edregtim...</td>\n",
       "    </tr>\n",
       "    <tr>\n",
       "      <th>7</th>\n",
       "      <td>hosp</td>\n",
       "      <td>poe</td>\n",
       "      <td>/Users/artinmajdi/Documents/GitHubs/RAP/mimic_...</td>\n",
       "      <td>1054299614</td>\n",
       "      <td>poe 1.1 GB</td>\n",
       "      <td>.parquet</td>\n",
       "      <td>{discontinued_by_poe_id, order_type, order_sta...</td>\n",
       "    </tr>\n",
       "    <tr>\n",
       "      <th>11</th>\n",
       "      <td>hosp</td>\n",
       "      <td>d_icd_diagnoses</td>\n",
       "      <td>/Users/artinmajdi/Documents/GitHubs/RAP/mimic_...</td>\n",
       "      <td>2683277</td>\n",
       "      <td>d_icd_diagnoses 2.7 MB</td>\n",
       "      <td>.parquet</td>\n",
       "      <td>{icd_code, long_title, icd_version}</td>\n",
       "    </tr>\n",
       "    <tr>\n",
       "      <th>14</th>\n",
       "      <td>hosp</td>\n",
       "      <td>patients</td>\n",
       "      <td>/Users/artinmajdi/Documents/GitHubs/RAP/mimic_...</td>\n",
       "      <td>4582613</td>\n",
       "      <td>patients 4.6 MB</td>\n",
       "      <td>.parquet</td>\n",
       "      <td>{dod, gender, anchor_age, anchor_year_group, a...</td>\n",
       "    </tr>\n",
       "    <tr>\n",
       "      <th>20</th>\n",
       "      <td>hosp</td>\n",
       "      <td>poe_detail</td>\n",
       "      <td>/Users/artinmajdi/Documents/GitHubs/RAP/mimic_...</td>\n",
       "      <td>105773003</td>\n",
       "      <td>poe_detail 105.8 MB</td>\n",
       "      <td>.parquet</td>\n",
       "      <td>{subject_id, field_name, field_value, poe_seq,...</td>\n",
       "    </tr>\n",
       "  </tbody>\n",
       "</table>\n",
       "</div>"
      ],
      "text/plain": [
       "   module       table_name                                          file_path  \\\n",
       "0    hosp    diagnoses_icd  /Users/artinmajdi/Documents/GitHubs/RAP/mimic_...   \n",
       "1    hosp       admissions  /Users/artinmajdi/Documents/GitHubs/RAP/mimic_...   \n",
       "7    hosp              poe  /Users/artinmajdi/Documents/GitHubs/RAP/mimic_...   \n",
       "11   hosp  d_icd_diagnoses  /Users/artinmajdi/Documents/GitHubs/RAP/mimic_...   \n",
       "14   hosp         patients  /Users/artinmajdi/Documents/GitHubs/RAP/mimic_...   \n",
       "20   hosp       poe_detail  /Users/artinmajdi/Documents/GitHubs/RAP/mimic_...   \n",
       "\n",
       "     file_size            display_name    suffix  \\\n",
       "0     75013787   diagnoses_icd 75.0 MB  .parquet   \n",
       "1     25736908      admissions 25.7 MB  .parquet   \n",
       "7   1054299614              poe 1.1 GB  .parquet   \n",
       "11     2683277  d_icd_diagnoses 2.7 MB  .parquet   \n",
       "14     4582613         patients 4.6 MB  .parquet   \n",
       "20   105773003     poe_detail 105.8 MB  .parquet   \n",
       "\n",
       "                                         columns_list  \n",
       "0   {icd_code, seq_num, hadm_id, icd_version, subj...  \n",
       "1   {deathtime, discharge_location, race, edregtim...  \n",
       "7   {discontinued_by_poe_id, order_type, order_sta...  \n",
       "11                {icd_code, long_title, icd_version}  \n",
       "14  {dod, gender, anchor_age, anchor_year_group, a...  \n",
       "20  {subject_id, field_name, field_value, poe_seq,...  "
      ]
     },
     "execution_count": 14,
     "metadata": {},
     "output_type": "execute_result"
    }
   ],
   "source": [
    "examples_partial.study_table_info()"
   ]
  },
  {
   "cell_type": "code",
   "execution_count": 15,
   "id": "c624381c",
   "metadata": {},
   "outputs": [
    {
     "name": "stdout",
     "output_type": "stream",
     "text": [
      "Table           | Rows       | Subject IDs\n",
      "--------------- | ---------- | ----------\n",
      "patients        | 10         | 10        \n",
      "admissions      | 16         | 10        \n",
      "diagnoses_icd   | 45         | 4         \n",
      "poe             | 590        | 10        \n",
      "poe_detail      | 127        | 10        \n"
     ]
    }
   ],
   "source": [
    "examples_partial.counter()"
   ]
  },
  {
   "cell_type": "code",
   "execution_count": 19,
   "id": "08270852",
   "metadata": {},
   "outputs": [
    {
     "ename": "TypeError",
     "evalue": "load_merged_tables() got an unexpected keyword argument 'partial_loading'",
     "output_type": "error",
     "traceback": [
      "\u001b[31m---------------------------------------------------------------------------\u001b[39m",
      "\u001b[31mTypeError\u001b[39m                                 Traceback (most recent call last)",
      "\u001b[36mCell\u001b[39m\u001b[36m \u001b[39m\u001b[32mIn[19]\u001b[39m\u001b[32m, line 1\u001b[39m\n\u001b[32m----> \u001b[39m\u001b[32m1\u001b[39m df = \u001b[43mexamples_partial\u001b[49m\u001b[43m.\u001b[49m\u001b[43mload_merged_tables\u001b[49m\u001b[43m(\u001b[49m\u001b[43mpartial_loading\u001b[49m\u001b[43m=\u001b[49m\u001b[38;5;28;43;01mTrue\u001b[39;49;00m\u001b[43m,\u001b[49m\u001b[43m \u001b[49m\u001b[43mnum_subjects\u001b[49m\u001b[43m=\u001b[49m\u001b[32;43m10\u001b[39;49m\u001b[43m,\u001b[49m\u001b[43m \u001b[49m\u001b[43mrandom_selection\u001b[49m\u001b[43m=\u001b[49m\u001b[38;5;28;43;01mFalse\u001b[39;49;00m\u001b[43m,\u001b[49m\u001b[43m \u001b[49m\u001b[43muse_dask\u001b[49m\u001b[43m=\u001b[49m\u001b[38;5;28;43;01mTrue\u001b[39;49;00m\u001b[43m)\u001b[49m\n",
      "\u001b[31mTypeError\u001b[39m: load_merged_tables() got an unexpected keyword argument 'partial_loading'"
     ]
    }
   ],
   "source": [
    "df = examples_partial.load_merged_tables(partial_loading=True, num_subjects=10, random_selection=False, use_dask=True)"
   ]
  },
  {
   "cell_type": "code",
   "execution_count": null,
   "id": "df4118bd",
   "metadata": {},
   "outputs": [],
   "source": []
  },
  {
   "cell_type": "code",
   "execution_count": null,
   "id": "e29e677e",
   "metadata": {},
   "outputs": [
    {
     "name": "stdout",
     "output_type": "stream",
     "text": [
      "DataFrame       Count      DataFrame       Count      DataFrame       Count     \n",
      "----------------------------------------------------------------------\n",
      "df12            31         patients        18         admissions      36        \n",
      "df34            59         diagnoses_icd   59         d_icd_diagnoses 97441     \n",
      "poe_merged      2046       poe             1976       poe_detail      284       \n",
      "merged_wo_poe   59         df34            59         df12            31        \n",
      "merged_w_poe    2682       poe_merged      2046       merged_wo_poe   59        \n"
     ]
    }
   ],
   "source": [
    "# Print in a tabular format\n",
    "examples_partial.n_rows_after_merge()"
   ]
  },
  {
   "cell_type": "code",
   "execution_count": null,
   "id": "2568241f",
   "metadata": {},
   "outputs": [],
   "source": []
  },
  {
   "cell_type": "code",
   "execution_count": null,
   "id": "ef986515",
   "metadata": {},
   "outputs": [],
   "source": []
  }
 ],
 "metadata": {
  "kernelspec": {
   "display_name": ".venv",
   "language": "python",
   "name": "python3"
  },
  "language_info": {
   "codemirror_mode": {
    "name": "ipython",
    "version": 3
   },
   "file_extension": ".py",
   "mimetype": "text/x-python",
   "name": "python",
   "nbconvert_exporter": "python",
   "pygments_lexer": "ipython3",
   "version": "3.12.10"
  }
 },
 "nbformat": 4,
 "nbformat_minor": 5
}
