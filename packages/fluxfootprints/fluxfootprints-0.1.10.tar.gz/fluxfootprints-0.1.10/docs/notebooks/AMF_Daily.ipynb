{
 "cells": [
  {
   "cell_type": "markdown",
   "id": "ca83666e",
   "metadata": {},
   "source": [
    "# Import Libraries"
   ]
  },
  {
   "cell_type": "code",
   "execution_count": 3,
   "id": "7c37b032ace71dd8",
   "metadata": {},
   "outputs": [],
   "source": [
    "import pathlib\n",
    "import sys\n",
    "import numpy as np\n",
    "import pandas as pd\n",
    "import rasterio\n",
    "import refet\n",
    "import pyproj\n",
    "import xarray\n",
    "import requests\n",
    "import multiprocessing as mp\n",
    "import configparser\n",
    "import matplotlib.pyplot as plt\n",
    "import geopandas as gpd\n",
    "%matplotlib inline"
   ]
  },
  {
   "cell_type": "code",
   "execution_count": null,
   "id": "7120c2a4705ae687",
   "metadata": {},
   "outputs": [],
   "source": [
    "#sys.path.append(\"//\")\n",
    "sys.path.append(\"../../src\")\n",
    "import fluxfootprints\n",
    "#from micromet.volk import ffp_climatology as ffp\n",
    "import fluxfootprints.volk as volk"
   ]
  },
  {
   "cell_type": "code",
   "execution_count": null,
   "id": "3588a65ad79b640e",
   "metadata": {},
   "outputs": [],
   "source": [
    "import logging"
   ]
  },
  {
   "cell_type": "code",
   "execution_count": 9,
   "id": "2142d1d3d4a7e576",
   "metadata": {},
   "outputs": [
    {
     "name": "stdout",
     "output_type": "stream",
     "text": [
      "US-UTE\n",
      "False\n",
      "Failed to fetch data for station US-UTE: 401 Client Error: Unauthorized for url: https://ugs-koop-umfdxaxiyq-wm.a.run.app/amfluxeddy?stationid=eq.US-UTE&datetime_start=gte.2021-01-01\n",
      "No valid data found for station US-UTE. Skipping.\n",
      "US-UTW\n",
      "False\n",
      "Failed to fetch data for station US-UTW: 401 Client Error: Unauthorized for url: https://ugs-koop-umfdxaxiyq-wm.a.run.app/amfluxeddy?stationid=eq.US-UTW&datetime_start=gte.2021-01-01\n",
      "No valid data found for station US-UTW. Skipping.\n"
     ]
    }
   ],
   "source": [
    "config_path = pathlib.Path(f'../../data/station_config')\n",
    "\n",
    "# iterate through all of the station configuration files\n",
    "for stationfile in config_path.glob(\"US*.ini\"):\n",
    "\n",
    "    station = stationfile.stem\n",
    "    print(station)\n",
    "    outfolder = station.replace('-','').lower()\n",
    "\n",
    "    # Specify the directory path\n",
    "    out_dir = pathlib.Path(f\"./output/{outfolder}\")\n",
    "    print(out_dir.exists())\n",
    "    # Check if the directory exists; if not, create it (including parent directories)\n",
    "    if not out_dir.exists():\n",
    "        out_dir.mkdir(parents=True)\n",
    "    else:\n",
    "        pass\n",
    "\n",
    "    # calculate the hourly footprint using Kljun\n",
    "    fluxfootprints.calc_hourly_ffp(station,\n",
    "                         startdate='2021-01-01',\n",
    "                         config_path=config_path,\n",
    "                         out_dir=out_dir,\n",
    "                         secrets_path='../../secrets/config.ini',\n",
    "                         epsg=5070,\n",
    "                         h_c=0.2,\n",
    "                         zm_s=2.0,\n",
    "                         dx=5.0,\n",
    "                         h_s=2000.0,\n",
    "                         origin_d=500.0,\n",
    "                             )\n",
    "\n",
    "    # generate weighted daily rasters\n",
    "    fluxfootprints.weighted_rasters(stationid=station,\n",
    "                              start_hr=6,\n",
    "                              normed_NLDAS_stats_path='output/nldas_all_normed.parquet',\n",
    "                              out_dir=out_dir,\n",
    "                              )\n"
   ]
  },
  {
   "cell_type": "code",
   "execution_count": null,
   "id": "29623ad74a9ed1c0",
   "metadata": {},
   "outputs": [],
   "source": [
    "config_path = pathlib.Path(f'../../station_config')\n",
    "# iterate through all of the station configuration files\n",
    "statpolys = {}\n",
    "\n",
    "for stationfile in config_path.glob(\"US*.ini\"):\n",
    "\n",
    "    station = stationfile.stem\n",
    "    print(station)\n",
    "    outfolder = station.replace('-','').lower()\n",
    "\n",
    "    # Specify the directory path\n",
    "    out_dir = pathlib.Path(f\"./output/{outfolder}\")\n",
    "    gdfs = {}\n",
    "    for rasterfile in out_dir.glob(\"*weighted.tif\"):\n",
    "       rdate = rasterfile.stem.split(\"_\")[0]\n",
    "       gdfs[rdate] = fluxfootprints.outline_valid_cells(rasterfile, out_file=None)\n",
    "\n",
    "    statpolys[station] = pd.concat(gdfs)\n",
    "    statpolys[station].to_file(f\"{station}_weighted_raster.geojson\")\n"
   ]
  },
  {
   "cell_type": "code",
   "execution_count": null,
   "id": "58687f7fc58a926d",
   "metadata": {},
   "outputs": [],
   "source": [
    "\n"
   ]
  },
  {
   "cell_type": "code",
   "execution_count": null,
   "id": "a57c45894a6254e8",
   "metadata": {},
   "outputs": [],
   "source": [
    "station = \"US-UTE\"\n",
    "model = 'ensemble'\n",
    "pathnm = station.lower().replace('-','')\n",
    "\n",
    "dir1 = pathlib.Path(f\"./output/{pathnm}/\")    # e.g., contains '...20210305.tif', etc.\n",
    "\n",
    "dir2 = pathlib.Path(\"G:/My Drive/OpenET Exports/\")\n",
    "\n",
    "out_dir = pathlib.Path(f\"./output/{pathnm}_mult/\")\n",
    "\n",
    "tsum = micromet.multiply_directories_rast(dir1, dir2, out_dir=out_dir,model=model)\n",
    "\n",
    "series= pd.Series(tsum)\n",
    "\n",
    "metadata = fluxfootprints.load_configs(station,\n",
    "                 config_path='.',\n",
    "                 secrets_path=\"../../secrets/config.ini\")\n",
    "df = fluxfootprints.fetch_and_preprocess_data(metadata[\"url\"], station, startdate='2023-01-01')\n",
    "s = df['et']\n",
    "\n",
    "# replace values less than 0 with 0\n",
    "s = s.where(s >= 0, 0)\n",
    "# resample with daily, only keeping days with more than 19 records.\n",
    "daily_stat_et = s.dropna().resample('D').sum(min_count=20)"
   ]
  },
  {
   "cell_type": "code",
   "execution_count": null,
   "id": "97103e7676c818ca",
   "metadata": {},
   "outputs": [],
   "source": [
    "et_compare = pd.concat([daily_stat_et,series],axis=1)\n",
    "et_compare.columns = ['station_mm','ens_mm']\n",
    "plt.scatter(et_compare['station_mm'],et_compare['ens_mm'])\n",
    "plt.xlabel('Raw Daily Station ET (mm)')\n",
    "plt.ylabel(f'{model} ET (mm)')\n",
    "plt.title(f\"{station} from {et_compare.first_valid_index():%Y-%m-%d} to {et_compare.last_valid_index():%Y-%m-%d}\")\n",
    "plt.savefig(f\"{station}_ET.pdf\")\n",
    "plt.savefig(f\"{station}_ET.png\")"
   ]
  }
 ],
 "metadata": {
  "kernelspec": {
   "display_name": "py313",
   "language": "python",
   "name": "python3"
  },
  "language_info": {
   "codemirror_mode": {
    "name": "ipython",
    "version": 3
   },
   "file_extension": ".py",
   "mimetype": "text/x-python",
   "name": "python",
   "nbconvert_exporter": "python",
   "pygments_lexer": "ipython3",
   "version": "3.13.1"
  }
 },
 "nbformat": 5,
 "nbformat_minor": 9
}
