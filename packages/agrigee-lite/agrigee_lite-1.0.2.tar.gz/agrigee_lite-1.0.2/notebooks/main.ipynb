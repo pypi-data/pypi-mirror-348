{
 "cells": [
  {
   "cell_type": "code",
   "execution_count": 1,
   "metadata": {},
   "outputs": [],
   "source": [
    "import ee\n",
    "import geopandas as gpd\n",
    "import numpy as np\n",
    "import pandas as pd\n",
    "\n",
    "import agrigee_lite as agl\n",
    "\n",
    "np.set_printoptions(suppress=True)\n",
    "np.set_printoptions(precision=2)\n",
    "pd.set_option('display.float_format', '{:.2f}'.format)\n",
    "\n",
    "# pandas show all columns\n",
    "pd.set_option('display.max_columns', None)"
   ]
  },
  {
   "cell_type": "code",
   "execution_count": 2,
   "metadata": {},
   "outputs": [],
   "source": [
    "%load_ext autoreload\n",
    "%autoreload 2"
   ]
  },
  {
   "cell_type": "code",
   "execution_count": 3,
   "metadata": {},
   "outputs": [],
   "source": [
    "ee.Initialize(opt_url=\"https://earthengine-highvolume.googleapis.com\", project=\"ee-paulagibrim\")"
   ]
  },
  {
   "cell_type": "code",
   "execution_count": 4,
   "metadata": {},
   "outputs": [
    {
     "data": {
      "text/html": [
       "<div>\n",
       "<style scoped>\n",
       "    .dataframe tbody tr th:only-of-type {\n",
       "        vertical-align: middle;\n",
       "    }\n",
       "\n",
       "    .dataframe tbody tr th {\n",
       "        vertical-align: top;\n",
       "    }\n",
       "\n",
       "    .dataframe thead th {\n",
       "        text-align: right;\n",
       "    }\n",
       "</style>\n",
       "<table border=\"1\" class=\"dataframe\">\n",
       "  <thead>\n",
       "    <tr style=\"text-align: right;\">\n",
       "      <th></th>\n",
       "      <th>geometry</th>\n",
       "      <th>varda_id</th>\n",
       "      <th>ha</th>\n",
       "      <th>CD_MUN</th>\n",
       "      <th>CD_MICRO</th>\n",
       "      <th>CD_MESO</th>\n",
       "      <th>percentage</th>\n",
       "      <th>year</th>\n",
       "      <th>crop_class</th>\n",
       "      <th>start_date</th>\n",
       "      <th>end_date</th>\n",
       "    </tr>\n",
       "  </thead>\n",
       "  <tbody>\n",
       "    <tr>\n",
       "      <th>804092</th>\n",
       "      <td>POLYGON ((-47.57329 -19.95601, -47.57352 -19.9...</td>\n",
       "      <td>019114bc-78c3-7c66-bf0f-f0c16501be5f</td>\n",
       "      <td>5.20</td>\n",
       "      <td>3118205</td>\n",
       "      <td>31022</td>\n",
       "      <td>3105</td>\n",
       "      <td>0.97</td>\n",
       "      <td>2020</td>\n",
       "      <td>Sugar Cane</td>\n",
       "      <td>2019-10-01</td>\n",
       "      <td>2020-10-01</td>\n",
       "    </tr>\n",
       "    <tr>\n",
       "      <th>1074092</th>\n",
       "      <td>POLYGON ((-45.82927 -21.72358, -45.82867 -21.7...</td>\n",
       "      <td>01911462-e721-7cac-9f97-f03e1d48f002</td>\n",
       "      <td>1.20</td>\n",
       "      <td>3139003</td>\n",
       "      <td>31049</td>\n",
       "      <td>3110</td>\n",
       "      <td>1.00</td>\n",
       "      <td>2022</td>\n",
       "      <td>Other Temporary Crops</td>\n",
       "      <td>2021-10-01</td>\n",
       "      <td>2022-10-01</td>\n",
       "    </tr>\n",
       "    <tr>\n",
       "      <th>935752</th>\n",
       "      <td>POLYGON ((-46.23982 -21.37212, -46.23895 -21.3...</td>\n",
       "      <td>01911444-f902-7577-b7e9-a5672938b6cf</td>\n",
       "      <td>2.38</td>\n",
       "      <td>3143005</td>\n",
       "      <td>31048</td>\n",
       "      <td>3110</td>\n",
       "      <td>0.93</td>\n",
       "      <td>2020</td>\n",
       "      <td>Other Temporary Crops</td>\n",
       "      <td>2019-10-01</td>\n",
       "      <td>2020-10-01</td>\n",
       "    </tr>\n",
       "    <tr>\n",
       "      <th>831325</th>\n",
       "      <td>POLYGON ((-46.31852 -16.87922, -46.31671 -16.8...</td>\n",
       "      <td>01911dcf-f4d5-7d06-9c1c-f1231c4b1b39</td>\n",
       "      <td>4.42</td>\n",
       "      <td>3170404</td>\n",
       "      <td>31001</td>\n",
       "      <td>3101</td>\n",
       "      <td>0.99</td>\n",
       "      <td>2023</td>\n",
       "      <td>Sugar Cane</td>\n",
       "      <td>2022-10-01</td>\n",
       "      <td>2023-10-01</td>\n",
       "    </tr>\n",
       "    <tr>\n",
       "      <th>338142</th>\n",
       "      <td>POLYGON ((-46.30273 -21.2375, -46.30173 -21.23...</td>\n",
       "      <td>0191142a-10c8-79fb-85a8-8cffe3966b6d</td>\n",
       "      <td>1.40</td>\n",
       "      <td>3143005</td>\n",
       "      <td>31048</td>\n",
       "      <td>3110</td>\n",
       "      <td>0.97</td>\n",
       "      <td>2020</td>\n",
       "      <td>Coffee</td>\n",
       "      <td>2019-10-01</td>\n",
       "      <td>2020-10-01</td>\n",
       "    </tr>\n",
       "  </tbody>\n",
       "</table>\n",
       "</div>"
      ],
      "text/plain": [
       "                                                  geometry  \\\n",
       "804092   POLYGON ((-47.57329 -19.95601, -47.57352 -19.9...   \n",
       "1074092  POLYGON ((-45.82927 -21.72358, -45.82867 -21.7...   \n",
       "935752   POLYGON ((-46.23982 -21.37212, -46.23895 -21.3...   \n",
       "831325   POLYGON ((-46.31852 -16.87922, -46.31671 -16.8...   \n",
       "338142   POLYGON ((-46.30273 -21.2375, -46.30173 -21.23...   \n",
       "\n",
       "                                     varda_id   ha   CD_MUN  CD_MICRO  \\\n",
       "804092   019114bc-78c3-7c66-bf0f-f0c16501be5f 5.20  3118205     31022   \n",
       "1074092  01911462-e721-7cac-9f97-f03e1d48f002 1.20  3139003     31049   \n",
       "935752   01911444-f902-7577-b7e9-a5672938b6cf 2.38  3143005     31048   \n",
       "831325   01911dcf-f4d5-7d06-9c1c-f1231c4b1b39 4.42  3170404     31001   \n",
       "338142   0191142a-10c8-79fb-85a8-8cffe3966b6d 1.40  3143005     31048   \n",
       "\n",
       "         CD_MESO  percentage  year             crop_class  start_date  \\\n",
       "804092      3105        0.97  2020             Sugar Cane  2019-10-01   \n",
       "1074092     3110        1.00  2022  Other Temporary Crops  2021-10-01   \n",
       "935752      3110        0.93  2020  Other Temporary Crops  2019-10-01   \n",
       "831325      3101        0.99  2023             Sugar Cane  2022-10-01   \n",
       "338142      3110        0.97  2020                 Coffee  2019-10-01   \n",
       "\n",
       "           end_date  \n",
       "804092   2020-10-01  \n",
       "1074092  2022-10-01  \n",
       "935752   2020-10-01  \n",
       "831325   2023-10-01  \n",
       "338142   2020-10-01  "
      ]
     },
     "execution_count": 4,
     "metadata": {},
     "output_type": "execute_result"
    }
   ],
   "source": [
    "gdf = gpd.read_parquet(\"MG_crops.parquet\")\n",
    "\n",
    "gdf.sample(5, random_state=42)"
   ]
  },
  {
   "cell_type": "code",
   "execution_count": 5,
   "metadata": {},
   "outputs": [],
   "source": [
    "gdf[\"start_date\"] = pd.to_datetime(gdf[\"start_date\"])\n",
    "gdf[\"end_date\"] = pd.to_datetime(gdf[\"end_date\"])"
   ]
  },
  {
   "cell_type": "code",
   "execution_count": 8,
   "metadata": {},
   "outputs": [
    {
     "name": "stderr",
     "output_type": "stream",
     "text": [
      "Simplifying clusters: 100%|██████████| 1/1 [00:00<00:00,  6.57it/s]\n",
      "Downloading multiple sits:  89%|████████▉ | 222/250 [02:16<00:17,  1.63it/s]"
     ]
    },
    {
     "name": "stdout",
     "output_type": "stream",
     "text": [
      "['indexnum', 'l8sr_observations', 'l8sr_timestamp_0', 'l8sr_timestamp_1', 'l8sr_timestamp_2', 'l8sr_timestamp_3', 'l8sr_timestamp_4', 'l8sr_timestamp_5', 'l8sr_timestamp_6', 'l8sr_timestamp_7', 'l8sr_timestamp_8', 'l8sr_timestamp_9', 'l8sr_timestamp_10', 'l8sr_timestamp_11', 'l8sr_timestamp_12', 'l8sr_timestamp_13', 'l8sr_timestamp_14', 'l8sr_timestamp_15', 'l8sr_timestamp_16', 'l8sr_timestamp_17', 'l8sr_red_0', 'l8sr_red_1', 'l8sr_red_2', 'l8sr_red_3', 'l8sr_red_4', 'l8sr_red_5', 'l8sr_red_6', 'l8sr_red_7', 'l8sr_red_8', 'l8sr_red_9', 'l8sr_red_10', 'l8sr_red_11', 'l8sr_red_12', 'l8sr_red_13', 'l8sr_red_14', 'l8sr_red_15', 'l8sr_red_16', 'l8sr_red_17', 'l8sr_timestamp_18', 'l8sr_timestamp_19', 'l8sr_timestamp_20', 'l8sr_timestamp_21', 'l8sr_timestamp_22', 'l8sr_timestamp_23', 'l8sr_timestamp_24', 'l8sr_timestamp_25', 'l8sr_timestamp_26', 'l8sr_timestamp_27', 'l8sr_timestamp_28', 'l8sr_timestamp_29', 'l8sr_timestamp_30', 'l8sr_timestamp_31', 'l8sr_timestamp_32', 'l8sr_timestamp_33', 'l8sr_timestamp_34', 'l8sr_timestamp_35', 'l8sr_timestamp_36', 'l8sr_timestamp_37', 'l8sr_timestamp_38', 'l8sr_timestamp_39', 'l8sr_red_18', 'l8sr_red_19', 'l8sr_red_20', 'l8sr_red_21', 'l8sr_red_22', 'l8sr_red_23', 'l8sr_red_24', 'l8sr_red_25', 'l8sr_red_26', 'l8sr_red_27', 'l8sr_red_28', 'l8sr_red_29', 'l8sr_red_30', 'l8sr_red_31', 'l8sr_red_32', 'l8sr_red_33', 'l8sr_red_34', 'l8sr_red_35', 'l8sr_red_36', 'l8sr_red_37', 'l8sr_red_38', 'l8sr_red_39', 'l8sr_timestamp_40', 'l8sr_timestamp_41', 'l8sr_timestamp_42', 'l8sr_red_40', 'l8sr_red_41', 'l8sr_red_42', 'l8sr_timestamp_43', 'l8sr_timestamp_44', 'l8sr_timestamp_45', 'l8sr_timestamp_46', 'l8sr_timestamp_47', 'l8sr_timestamp_48', 'l8sr_timestamp_49', 'l8sr_timestamp_50', 'l8sr_red_43', 'l8sr_red_44', 'l8sr_red_45', 'l8sr_red_46', 'l8sr_red_47', 'l8sr_red_48', 'l8sr_red_49', 'l8sr_red_50']\n",
      "['l8sr_observations', 'l8sr_timestamp_0', 'l8sr_timestamp_1', 'l8sr_timestamp_2', 'l8sr_timestamp_3', 'l8sr_timestamp_4', 'l8sr_timestamp_5', 'l8sr_timestamp_6', 'l8sr_timestamp_7', 'l8sr_timestamp_8', 'l8sr_timestamp_9', 'l8sr_timestamp_10', 'l8sr_timestamp_11', 'l8sr_timestamp_12', 'l8sr_timestamp_13', 'l8sr_timestamp_14', 'l8sr_timestamp_15', 'l8sr_timestamp_16', 'l8sr_timestamp_17', 'l8sr_red_0', 'l8sr_red_1', 'l8sr_red_2', 'l8sr_red_3', 'l8sr_red_4', 'l8sr_red_5', 'l8sr_red_6', 'l8sr_red_7', 'l8sr_red_8', 'l8sr_red_9', 'l8sr_red_10', 'l8sr_red_11', 'l8sr_red_12', 'l8sr_red_13', 'l8sr_red_14', 'l8sr_red_15', 'l8sr_red_16', 'l8sr_red_17', 'l8sr_timestamp_18', 'l8sr_timestamp_19', 'l8sr_timestamp_20', 'l8sr_timestamp_21', 'l8sr_timestamp_22', 'l8sr_timestamp_23', 'l8sr_timestamp_24', 'l8sr_timestamp_25', 'l8sr_timestamp_26', 'l8sr_timestamp_27', 'l8sr_timestamp_28', 'l8sr_timestamp_29', 'l8sr_timestamp_30', 'l8sr_timestamp_31', 'l8sr_timestamp_32', 'l8sr_timestamp_33', 'l8sr_timestamp_34', 'l8sr_timestamp_35', 'l8sr_timestamp_36', 'l8sr_timestamp_37', 'l8sr_timestamp_38', 'l8sr_timestamp_39', 'l8sr_red_18', 'l8sr_red_19', 'l8sr_red_20', 'l8sr_red_21', 'l8sr_red_22', 'l8sr_red_23', 'l8sr_red_24', 'l8sr_red_25', 'l8sr_red_26', 'l8sr_red_27', 'l8sr_red_28', 'l8sr_red_29', 'l8sr_red_30', 'l8sr_red_31', 'l8sr_red_32', 'l8sr_red_33', 'l8sr_red_34', 'l8sr_red_35', 'l8sr_red_36', 'l8sr_red_37', 'l8sr_red_38', 'l8sr_red_39', 'l8sr_timestamp_40', 'l8sr_timestamp_41', 'l8sr_timestamp_42', 'l8sr_red_40', 'l8sr_red_41', 'l8sr_red_42', 'l8sr_timestamp_43', 'l8sr_timestamp_44', 'l8sr_timestamp_45', 'l8sr_timestamp_46', 'l8sr_timestamp_47', 'l8sr_timestamp_48', 'l8sr_timestamp_49', 'l8sr_timestamp_50', 'l8sr_red_43', 'l8sr_red_44', 'l8sr_red_45', 'l8sr_red_46', 'l8sr_red_47', 'l8sr_red_48', 'l8sr_red_49', 'l8sr_red_50']\n"
     ]
    },
    {
     "name": "stderr",
     "output_type": "stream",
     "text": [
      "\n"
     ]
    }
   ],
   "source": [
    "sampled_gdf = gdf.sample(250, random_state=42).reset_index(drop=True)\n",
    "\n",
    "results = agl.get.multiple_sits(sampled_gdf, agl.sat.Landsat8(bands=[\"red\"]), date_types=[\"timestamp\"], force_redownload=True)"
   ]
  },
  {
   "cell_type": "code",
   "execution_count": 9,
   "metadata": {},
   "outputs": [],
   "source": [
    "sampled_gdf_w_results = sampled_gdf.join(results)"
   ]
  },
  {
   "cell_type": "code",
   "execution_count": 12,
   "metadata": {},
   "outputs": [
    {
     "data": {
      "text/plain": [
       "np.float64(3.7641220605804127)"
      ]
     },
     "execution_count": 12,
     "metadata": {},
     "output_type": "execute_result"
    }
   ],
   "source": [
    "sampled_gdf_w_results[sampled_gdf_w_results.l8sr_observations==0].ha.max()"
   ]
  }
 ],
 "metadata": {
  "kernelspec": {
   "display_name": ".venv",
   "language": "python",
   "name": "python3"
  },
  "language_info": {
   "codemirror_mode": {
    "name": "ipython",
    "version": 3
   },
   "file_extension": ".py",
   "mimetype": "text/x-python",
   "name": "python",
   "nbconvert_exporter": "python",
   "pygments_lexer": "ipython3",
   "version": "3.11.10"
  }
 },
 "nbformat": 4,
 "nbformat_minor": 2
}
