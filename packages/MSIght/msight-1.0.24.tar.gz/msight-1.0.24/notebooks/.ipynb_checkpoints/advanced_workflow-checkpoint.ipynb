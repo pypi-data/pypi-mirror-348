{
 "cells": [
  {
   "cell_type": "markdown",
   "id": "06772ec3-d672-42ba-8f13-e9bb012c2c61",
   "metadata": {
    "tags": []
   },
   "source": [
    "# 1. MSI image segmentation"
   ]
  },
  {
   "cell_type": "markdown",
   "id": "ad6da6c7-a9b8-4774-bd39-9c945bc75c25",
   "metadata": {
    "tags": []
   },
   "source": [
    "### 1a. This step enables you to segment your MSI image across all m/z values. Prior to doing this, Gaussian spectral smoothing and baseline subtraction will be performed."
   ]
  },
  {
   "cell_type": "markdown",
   "id": "0650ae02-7881-4414-bb17-9a0cdc78c280",
   "metadata": {},
   "source": [
    "*Lines to update:*\n",
    "\n",
    "*4.) Filename: Update with the path to your .imzML file*\n",
    "\n",
    "*5.) Output directory: Update with the path to your output directory*\n",
    "\n",
    "*6.) Same name: Update with your sample name*"
   ]
  },
  {
   "cell_type": "code",
   "execution_count": null,
   "id": "71cba024-66fe-4937-aeba-283ea1fc7e79",
   "metadata": {
    "tags": []
   },
   "outputs": [],
   "source": [
    "filename = r\"example_data\\prostate_example.imzML\"\n",
    "output_directory = r\"E:\\MSIght_output\"\n",
    "sample_name = 'R0008'"
   ]
  },
  {
   "cell_type": "markdown",
   "id": "79f99376-8edb-42f3-a740-14fc710ac08d",
   "metadata": {},
   "source": [
    "#### Option 1 (Quickest, least accurate): Manual setting. Here you can set the t-SNE parameters manually with no score or quality control"
   ]
  },
  {
   "cell_type": "markdown",
   "id": "5a155a99-67d6-4d7f-8b32-4de8499ccc4d",
   "metadata": {},
   "source": [
    "*All lines below can optionally be updated based on dataset*"
   ]
  },
  {
   "cell_type": "code",
   "execution_count": null,
   "id": "101c13ba-2a97-42ef-a44d-60172419787c",
   "metadata": {
    "tags": []
   },
   "outputs": [],
   "source": [
    "###Advanced parameters###\n",
    "sigma = 2 \n",
    "structuring_element_size = 10\n",
    "pca_components = 100\n",
    "tsne_components = 2\n",
    "tsne_verbose = 0\n",
    "tsne_perplexity = 41\n",
    "tsne_interations = 1349\n",
    "tsne_learning_rate = 462\n",
    "k_means_cluster_number = 8 #8"
   ]
  },
  {
   "cell_type": "code",
   "execution_count": null,
   "id": "47d590e7-5423-4c24-86e7-b8745b3d3634",
   "metadata": {},
   "outputs": [],
   "source": [
    "from MSIght_Jupyter.refactor_segment import cluster_msi\n",
    "unfiltered_cluster_results,width,height,cluster_colors,cluster_image_full,cmap,legend_handles_full,tsne_result= cluster_msi(filename,output_directory,sample_name,sigma,structuring_element_size,pca_components,tsne_components,tsne_perplexity,tsne_learning_rate,tsne_interations,k_means_cluster_number)"
   ]
  },
  {
   "cell_type": "markdown",
   "id": "ab9877df-ab2e-476a-bdad-3864ea73b1eb",
   "metadata": {
    "tags": []
   },
   "source": [
    "#### Option 2 (most accurate, slowest): Exhaustively determine the t-SNE parameters that result in the highest Silhouette score."
   ]
  },
  {
   "cell_type": "code",
   "execution_count": null,
   "id": "002a51ef-1e1b-42d1-a58b-073388e661d4",
   "metadata": {
    "tags": []
   },
   "outputs": [],
   "source": [
    "###Advanced parameters###\n",
    "sigma = 2\n",
    "structuring_element_size = 10\n",
    "pca_components = 50\n",
    "tsne_components = 2\n",
    "tsne_verbose = 0\n",
    "tsne_perplexity = 5\n",
    "tsne_interations = 300\n",
    "k_means_cluster_number = 8"
   ]
  },
  {
   "cell_type": "code",
   "execution_count": null,
   "id": "d43c3045-a804-4918-8583-dd0b2898e4ac",
   "metadata": {
    "tags": []
   },
   "outputs": [],
   "source": [
    "from MSIght_Jupyter.refactor_segment import cluster_msi_scored_w_csv\n",
    "unfiltered_cluster_results,width,height,cluster_colors,cluster_image_full,cmap,legend_handles_full,tsne_result = cluster_msi_scored_w_csv(filename, output_directory, sample_name, sigma, structuring_element_size, pca_components,\n",
    "                tsne_components, tsne_verbose, k_means_cluster_number)"
   ]
  },
  {
   "cell_type": "markdown",
   "id": "3d8e044b-b60e-474b-8544-a8af5871db0b",
   "metadata": {},
   "source": [
    "### 1b. Based on results from the above step, select clusters to remove that do not correspond to the tissue area.\n",
    "\n",
    "#### Confirm that the new image looks ideal. If not, adjust the clusters removed"
   ]
  },
  {
   "cell_type": "markdown",
   "id": "4d8e80c8-692e-41d4-8c45-af94a9c7fa0a",
   "metadata": {},
   "source": [
    "*Lines to update:*\n",
    "\n",
    "*3.) List of clusters to remove*"
   ]
  },
  {
   "cell_type": "code",
   "execution_count": null,
   "id": "a4dac23f-168c-449a-b8ce-0e332d0a8581",
   "metadata": {
    "tags": []
   },
   "outputs": [],
   "source": [
    "from MSIght_Jupyter.refactor_segment import cluster_removal\n",
    "\n",
    "clusters_to_remove = [1,5,7,2]\n",
    "filtered_cluster_results = cluster_removal(unfiltered_cluster_results,width,height,cluster_colors,cluster_image_full,\n",
    "                                           cmap,legend_handles_full,clusters_to_remove,output_directory,sample_name)"
   ]
  },
  {
   "cell_type": "markdown",
   "id": "645c0509-51e3-4ed3-8f0b-8bb7dcd73a94",
   "metadata": {},
   "source": [
    "### 1c. Using segmented coordinates, generate composite image of all m/z\n",
    "\n",
    "#### Adjust threshold value as necessary"
   ]
  },
  {
   "cell_type": "markdown",
   "id": "1dabd116-e963-4bb0-b50e-22a976bfc804",
   "metadata": {},
   "source": [
    "*Lines to update:*\n",
    "\n",
    "*4.) Threshold*"
   ]
  },
  {
   "cell_type": "code",
   "execution_count": null,
   "id": "118fc424-f1fb-40f1-8e33-681bd388ed5f",
   "metadata": {
    "tags": []
   },
   "outputs": [],
   "source": [
    "from MSIght_Jupyter.refactor_segment import make_composite_image\n",
    "\n",
    "threshold = 0.3\n",
    "full_composite_image = make_composite_image(filtered_cluster_results,threshold,output_directory,sample_name)"
   ]
  },
  {
   "cell_type": "markdown",
   "id": "0bccb0fb-6752-45c8-a67d-c07aa5c21f78",
   "metadata": {},
   "source": [
    "### 1d. Segment composite image"
   ]
  },
  {
   "cell_type": "code",
   "execution_count": null,
   "id": "0825ab2d-ef61-45bb-960b-65ed680a5d1e",
   "metadata": {
    "tags": []
   },
   "outputs": [],
   "source": [
    "from MSIght_Jupyter.refactor_segment import composite_wo_selected_clusters\n",
    "\n",
    "segmented_image = composite_wo_selected_clusters(unfiltered_cluster_results,clusters_to_remove,full_composite_image,output_directory,sample_name)"
   ]
  },
  {
   "cell_type": "markdown",
   "id": "d293a827-337f-4910-a37d-f030c5051ef1",
   "metadata": {},
   "source": [
    "*Lines to update:*\n",
    "\n",
    "*3.) Median filter size*"
   ]
  },
  {
   "cell_type": "code",
   "execution_count": null,
   "id": "85c02478-dba8-485e-8875-8098dfa2845a",
   "metadata": {
    "tags": []
   },
   "outputs": [],
   "source": [
    "from MSIght_Jupyter.refactor_segment import remove_residual_noise\n",
    "\n",
    "median_filter_size = 1\n",
    "final_MSI_image = remove_residual_noise(segmented_image,median_filter_size,output_directory,sample_name)"
   ]
  },
  {
   "cell_type": "markdown",
   "id": "5121adc7-40df-49a2-8ac1-4fa88ffc6def",
   "metadata": {},
   "source": [
    "# 2. H&E Image Processing\n",
    "### Adjust threshold value as needed"
   ]
  },
  {
   "cell_type": "markdown",
   "id": "a7372cf3-c332-4c08-b5a7-90399ce367ea",
   "metadata": {},
   "source": [
    "*Lines to update:*\n",
    "\n",
    "*4.) Path to H&E image in .TIF format*\n",
    "\n",
    "*6.) Sample name*\n",
    "\n",
    "*7.) Path to output directory*"
   ]
  },
  {
   "cell_type": "code",
   "execution_count": null,
   "id": "59f5095b-3d80-40de-bd96-2125771dab5a",
   "metadata": {
    "tags": []
   },
   "outputs": [],
   "source": [
    "from MSIght_Jupyter.refactor_histology_preprocess import preprocess_he\n",
    "\n",
    "image_path = 'example_data\\prostate_he_example.tif'\n",
    "threshold_value = 128\n",
    "sample_name = 'R0008_norm_centroid'\n",
    "output_directory = r\"E:\\MSIght_output\"\n",
    "\n",
    "final_he_image = preprocess_he(image_path,threshold_value,sample_name,output_directory)"
   ]
  },
  {
   "cell_type": "markdown",
   "id": "d9d1635b-2729-40cf-8047-0bd83b817a40",
   "metadata": {},
   "source": [
    "# 3. Rotate MSI image to match the H&E orientation\n",
    "### Here is a comparison of both images:"
   ]
  },
  {
   "cell_type": "code",
   "execution_count": null,
   "id": "7230a8db-d4d1-4121-8293-550eef17b163",
   "metadata": {},
   "outputs": [],
   "source": [
    "import matplotlib.pyplot as plt\n",
    "\n",
    "plt.figure(figsize=(12, 10))\n",
    "plt.subplot(2, 3, 1)\n",
    "plt.title('MSI image')\n",
    "plt.imshow(final_MSI_image, cmap='gray')\n",
    "\n",
    "plt.subplot(2, 3, 2)\n",
    "plt.title('H&E image')\n",
    "plt.imshow(final_he_image, cmap='gray')"
   ]
  },
  {
   "cell_type": "markdown",
   "id": "7293ffd6-c8aa-4238-9e19-014d92c64bc3",
   "metadata": {},
   "source": [
    "### 3a. Run this cell enough times to get in the proper orientation (rotates 90 degrees each time):"
   ]
  },
  {
   "cell_type": "code",
   "execution_count": null,
   "id": "44c78912-1a8d-42f5-97a5-c76fbb7733bd",
   "metadata": {},
   "outputs": [],
   "source": [
    "import numpy as np\n",
    "final_MSI_image = np.rot90(final_MSI_image)\n",
    "\n",
    "plt.figure(figsize=(12, 10))\n",
    "plt.subplot(2, 3, 1)\n",
    "plt.title('MSI image')\n",
    "plt.imshow(final_MSI_image, cmap='gray')\n",
    "\n",
    "plt.subplot(2, 3, 2)\n",
    "plt.title('H&E image')\n",
    "plt.imshow(final_he_image, cmap='gray')"
   ]
  },
  {
   "cell_type": "markdown",
   "id": "3c9bc5d1-209f-453f-9e93-74adbb9458d3",
   "metadata": {},
   "source": [
    "### 3b. Run this cell to flip the image horizontally (up/down):"
   ]
  },
  {
   "cell_type": "code",
   "execution_count": null,
   "id": "41400bb3-018d-49ee-a41e-302a0591d045",
   "metadata": {},
   "outputs": [],
   "source": [
    "import numpy as np\n",
    "final_MSI_image = np.flipud(final_MSI_image)\n",
    "\n",
    "plt.figure(figsize=(12, 10))\n",
    "plt.subplot(2, 3, 1)\n",
    "plt.title('MSI image')\n",
    "plt.imshow(final_MSI_image, cmap='gray')\n",
    "\n",
    "plt.subplot(2, 3, 2)\n",
    "plt.title('H&E image')\n",
    "plt.imshow(final_he_image, cmap='gray')"
   ]
  },
  {
   "cell_type": "markdown",
   "id": "60f7bfa8-061c-4a2f-b980-6a2a349eb338",
   "metadata": {},
   "source": [
    "### 3c. Run this cell to flip the image vertically (left/right):"
   ]
  },
  {
   "cell_type": "code",
   "execution_count": null,
   "id": "16bb48f3-53f9-4720-9328-be1d9661aec3",
   "metadata": {},
   "outputs": [],
   "source": [
    "import numpy as np\n",
    "final_MSI_image = np.fliplr(final_MSI_image)\n",
    "\n",
    "plt.figure(figsize=(12, 10))\n",
    "plt.subplot(2, 3, 1)\n",
    "plt.title('MSI image')\n",
    "plt.imshow(final_MSI_image, cmap='gray')\n",
    "\n",
    "plt.subplot(2, 3, 2)\n",
    "plt.title('H&E image')\n",
    "plt.imshow(final_he_image, cmap='gray')"
   ]
  },
  {
   "cell_type": "markdown",
   "id": "35bf56ef-d418-4ae5-b2a8-40fda0e5145d",
   "metadata": {},
   "source": [
    "# 4. Interpolate MSI image"
   ]
  },
  {
   "cell_type": "markdown",
   "id": "d75feda7-3f80-4c96-b8b3-f83c5d82f143",
   "metadata": {},
   "source": [
    "### Option 1: Linear interpolation (default)"
   ]
  },
  {
   "cell_type": "markdown",
   "id": "f7ba586b-f1fa-4fa3-8350-1ef814d11faa",
   "metadata": {},
   "source": [
    "*Lines to update:*\n",
    "\n",
    "*4.) Path to H&E image in .TIF format*\n",
    "\n",
    "*5.) Path to MSI file in .imzML format*\n",
    "\n",
    "*6.) Sample name*\n",
    "\n",
    "*7.) Path to output directory*"
   ]
  },
  {
   "cell_type": "code",
   "execution_count": null,
   "id": "4962e4b7-7e6d-4c5e-a9dc-e45a027b7455",
   "metadata": {},
   "outputs": [],
   "source": [
    "from MSIght_Jupyter.refactor_interpolation import interpolate_MSI\n",
    "\n",
    "image_path = 'example_data\\prostate_he_example.tif'\n",
    "filename = 'example_data\\prostate_example.imzML'\n",
    "sample_name = 'R0008_norm_centroid'\n",
    "output_directory = r\"E:\\MSIght_output\"\n",
    "\n",
    "sized_he_image,interpolated_MSI_image = interpolate_MSI(filename,image_path,final_MSI_image,final_he_image,output_directory,sample_name)"
   ]
  },
  {
   "cell_type": "markdown",
   "id": "fb977b33-b86a-4f39-aa72-631691b50957",
   "metadata": {},
   "source": [
    "# 5. Affine transform images"
   ]
  },
  {
   "cell_type": "markdown",
   "id": "5052d248-9876-4376-8096-cb82d8593de9",
   "metadata": {},
   "source": [
    "### Option 1: Perform automated affine transformation"
   ]
  },
  {
   "cell_type": "markdown",
   "id": "f22eb899-c602-447a-876f-bc42fdc1e5e5",
   "metadata": {},
   "source": [
    "*Lines to update:*\n",
    "\n",
    "*4.) MSI threshold value*\n",
    "\n",
    "*5.) H&E threshold value*"
   ]
  },
  {
   "cell_type": "code",
   "execution_count": null,
   "id": "a7657324-8bff-42f8-b692-9dec670a6ff7",
   "metadata": {},
   "outputs": [],
   "source": [
    "from MSIght_Jupyter.refactor_affine_transform import register_he_msi\n",
    "\n",
    "msi_threshold = 18\n",
    "he_threshold = 0.3\n",
    "\n",
    "affine_matrix,transformed_ms_image = register_he_msi(sized_he_image,interpolated_MSI_image,msi_threshold,he_threshold,output_directory,sample_name)"
   ]
  },
  {
   "cell_type": "markdown",
   "id": "8f4d5ba4-a253-403b-b8cf-5de05e9c31e2",
   "metadata": {},
   "source": [
    "### Option 2: Perform manual, landmark-based affine transformation"
   ]
  },
  {
   "cell_type": "code",
   "execution_count": null,
   "id": "7844d3ac-e44d-46aa-8960-f9e08d7fa9e7",
   "metadata": {},
   "outputs": [],
   "source": [
    "import plotly.express as px\n",
    "\n",
    "def show_msi_he_coords(final_MSI_image,final_he_image):\n",
    "    fig = px.imshow(final_MSI_image,title='MSI Image')\n",
    "    fig.show()\n",
    "\n",
    "    #rotated_array = np.rot90(cropped_image)\n",
    "    rotated_array = final_he_image\n",
    "    fig = px.imshow(rotated_array,title='H&E Image')\n",
    "    fig.show()"
   ]
  },
  {
   "cell_type": "markdown",
   "id": "629c161e-f1bc-4fff-ae74-418fd3333ed7",
   "metadata": {},
   "source": [
    "#### Here are the MSI and H&E images. They can be zoomed in and hovered over to identify corresponding data points"
   ]
  },
  {
   "cell_type": "code",
   "execution_count": null,
   "id": "ee9c2a80-756e-4f7c-ace0-37e13831108a",
   "metadata": {},
   "outputs": [],
   "source": [
    "from MSIght_Jupyter.refactor_manual_affine import show_msi_he_coords\n",
    "\n",
    "show_msi_he_coords(interpolated_MSI_image,sized_he_image)"
   ]
  },
  {
   "cell_type": "markdown",
   "id": "5c411f70-7faf-4f96-8e95-b23cc64cd6f6",
   "metadata": {},
   "source": [
    "#### Input your data points below for H&E (pts_he) and MSI (pts_ms)"
   ]
  },
  {
   "cell_type": "markdown",
   "id": "7330fc30-34fe-4c0a-9267-acbcee64b4fb",
   "metadata": {},
   "source": [
    "*Lines to update:*\n",
    "\n",
    "*2.) H&E points to register*\n",
    "\n",
    "*3.) Corresponding MSI points to register*"
   ]
  },
  {
   "cell_type": "code",
   "execution_count": null,
   "id": "5bcc9262-3513-44bf-b290-0ab742d71e94",
   "metadata": {},
   "outputs": [],
   "source": [
    "# Define corresponding points\n",
    "pts_he = np.array([[492,1193],[1501,483],[843,81],[73,1124]], dtype=np.float32)\n",
    "pts_ms = np.array([[588,1345],[1655,543],[988,56],[39,1082]], dtype=np.float32)"
   ]
  },
  {
   "cell_type": "code",
   "execution_count": null,
   "id": "94617419-dcaa-4cc7-8e46-adc5e091d57f",
   "metadata": {},
   "outputs": [],
   "source": [
    "from MSIght_Jupyter.refactor_manual_affine_transform import manual_register_he_msi\n",
    "\n",
    "affine_matrix,transformed_ms_image = manual_register_he_msi(pts_ms, pts_he,interpolated_MSI_image,sized_he_image,output_directory,sample_name)"
   ]
  },
  {
   "cell_type": "markdown",
   "id": "29488a99-8d86-4197-a619-3474537049c5",
   "metadata": {},
   "source": [
    "# 6. Refine transformation with non-linear transformation (B-spline refinement)"
   ]
  },
  {
   "cell_type": "markdown",
   "id": "cb3bcc30-8e9b-4e6b-81a8-a4d2ddc8cd0c",
   "metadata": {},
   "source": [
    "### Optional: Downsize images to determine optimal B-spline refinement parameters"
   ]
  },
  {
   "cell_type": "code",
   "execution_count": null,
   "id": "dd4dcf98-7243-4527-8665-dc34a7453f88",
   "metadata": {},
   "outputs": [],
   "source": [
    "import cv2\n",
    "import numpy as np\n",
    "import plotly.express as px\n",
    "\n",
    "def downsample_image_numpy(image, factor):\n",
    "    # Calculate the new dimensions\n",
    "    new_dimensions = (int(image.shape[1] / factor), int(image.shape[0] / factor))\n",
    "    \n",
    "    # Downsample the image using OpenCV\n",
    "    downsampled_np = cv2.resize(image, new_dimensions, interpolation=cv2.INTER_LINEAR)\n",
    "    \n",
    "    return downsampled_np\n",
    "\n",
    "downsampled_he_image = downsample_image_numpy(sized_he_image, factor=30)  # Downsample by a factor of 2\n",
    "downsampled_ms_image = downsample_image_numpy(transformed_ms_image, factor=30)\n",
    "\n",
    "fig = px.imshow(downsampled_he_image,title='HE Image')\n",
    "fig.show()\n",
    "\n",
    "fig = px.imshow(downsampled_ms_image,title='MS Image')\n",
    "fig.show()"
   ]
  },
  {
   "cell_type": "markdown",
   "id": "bcf46e44-2f04-4aa4-8bba-0a12e51ce731",
   "metadata": {},
   "source": [
    "*Lines to update:*\n",
    "\n",
    "*4.) Numer of histograms*\n",
    "\n",
    "*5.) Gradient tolerance*\n",
    "\n",
    "*6.) Optimizer iterations*\n",
    "\n",
    "*7.) Coarseness*"
   ]
  },
  {
   "cell_type": "code",
   "execution_count": null,
   "id": "5688aade-15c7-4b0d-a9b8-51224e98adf7",
   "metadata": {},
   "outputs": [],
   "source": [
    "from MSIght_Jupyter.refactor_bspline import perform_bspline\n",
    "\n",
    "number_histograms = 75 #50\n",
    "gradient_tolerance = 1e-5 #1e-5\n",
    "optimizer_iterations = 20 #100\n",
    "courseness = 10 #50\n",
    "\n",
    "b_spline_apply = perform_bspline(downsampled_he_image,downsampled_ms_image,number_histograms,gradient_tolerance,optimizer_iterations,courseness)"
   ]
  },
  {
   "cell_type": "markdown",
   "id": "1fdfbe0e-83b0-4060-9cd1-585dd2346f90",
   "metadata": {},
   "source": [
    "### Apply B-spline"
   ]
  },
  {
   "cell_type": "markdown",
   "id": "73a1426a-8bcb-4f71-be12-a4629779c7a3",
   "metadata": {},
   "source": [
    "*Lines to update:*\n",
    "\n",
    "*4.) Numer of histograms*\n",
    "\n",
    "*5.) Gradient tolerance*\n",
    "\n",
    "*6.) Optimizer iterations*\n",
    "\n",
    "*7.) Coarseness*"
   ]
  },
  {
   "cell_type": "code",
   "execution_count": null,
   "id": "5f741aa6-aa9a-40d8-953b-b416e7474c47",
   "metadata": {},
   "outputs": [],
   "source": [
    "from MSIght_Jupyter.refactor_bspline import perform_bspline\n",
    "\n",
    "number_histograms = 75 #50\n",
    "gradient_tolerance = 1e-5 #1e-5\n",
    "optimizer_iterations = 20 #100\n",
    "courseness = 10 #50\n",
    "\n",
    "b_spline_apply = perform_bspline(sized_he_image,transformed_ms_image,number_histograms,gradient_tolerance,optimizer_iterations,courseness)"
   ]
  },
  {
   "cell_type": "markdown",
   "id": "4ff939f8-1d15-4aa2-ac3f-96434ffc8177",
   "metadata": {},
   "source": [
    "# Process LC-MS/MS Data with MS-Fragger"
   ]
  },
  {
   "cell_type": "markdown",
   "id": "5756e0d3-635c-43e5-afda-6bba9e2eda31",
   "metadata": {},
   "source": [
    "*Note: You will need to install MSFragger (housed within FragPipe) for this:* [https://fragpipe.nesvilab.org/](https://fragpipe.nesvilab.org/)\n",
    "\n",
    "***\n",
    "The context for this workflow is for routine analysis. You can provide a .WORKFLOW file from FragPipe that can be run routinely with just a small amount of interjection from MSIght. For optimization of FragPipe parameters and more sophisticated tasks, please refer directly to FragPipe directly. Following this, you can provide a workflow path (below) for routine use.\n",
    "***\n",
    "\n",
    "*Be sure in the fields below, all file paths have two backslashes instead of one if using Windows.*"
   ]
  },
  {
   "cell_type": "code",
   "execution_count": null,
   "id": "fcce0446-60f2-4ac4-bacd-3ba8dce4c009",
   "metadata": {},
   "outputs": [],
   "source": [
    "from MSIght_Jupyter.refactor_msfragger import run_fragpipe\n",
    "\n",
    "fragpipe_path = 'downloads\\\\FragPipe-22.0\\\\fragpipe\\\\bin\\\\fragpipe.bat'\n",
    "working_directory = 'example_data\\\\MSFragger_output'\n",
    "generic_workflow_file = \"example_data\\fragpipe.workflow\"\n",
    "fasta_db = 'example_data\\\\mouse_proteome_decoys_reviewed.fas'\n",
    "\n",
    "raw_files = ['example_data\\\\prostate_example_TR1.raw',\n",
    "             'example_data\\\\prostate_example_TR2.raw',\n",
    "            'example_data\\\\prostate_example_TR3.raw']\n",
    "\n",
    "run_fragpipe(working_directory,generic_workflow_file,raw_files,fasta_db,fragpipe_path)"
   ]
  },
  {
   "cell_type": "markdown",
   "id": "2236286d-221d-40f4-afe9-d7cf7749149d",
   "metadata": {},
   "source": [
    "# Utility #1: Combine LC-MS/MS, MSI, and H&E data- Protein-wise"
   ]
  },
  {
   "cell_type": "markdown",
   "id": "067f8f40-84da-4be0-b7bb-c301eb22c490",
   "metadata": {},
   "source": [
    "### This example is for if a specific protein or set of proteins are the target (based on UniProt ID)"
   ]
  },
  {
   "cell_type": "markdown",
   "id": "3cb6fbf7-44f8-404f-af44-39a26cd4f914",
   "metadata": {},
   "source": [
    "*Lines to update:*\n",
    "\n",
    "*1.) Path to MSFragger output file directory*\n",
    "\n",
    "*3.) Proteins of interest*\n",
    "\n",
    "*4.) MSI ppm error*"
   ]
  },
  {
   "cell_type": "code",
   "execution_count": null,
   "id": "bf211e7f-043a-4aed-b6b2-d65100c1488c",
   "metadata": {},
   "outputs": [],
   "source": [
    "fragger_output_path = 'example_data\\MSFragger_output'\n",
    "output_path = r\"E:\\MSIght_output\"\n",
    "psm_path = output_path + '\\\\psm.tsv'\n",
    "protein_oi_list = ['P28481','P08121']\n",
    "ppm_error = 50\n",
    "\n",
    "from MSIght_Jupyter.refactor_fragger_process import process_fragger\n",
    "fragger_results_formatted = process_fragger(protein_oi_list,ppm_error,psm_path,sized_he_image,output_path)\n",
    "\n",
    "from MSIght_Jupyter.refactor_he_lcmsms_msi_merge import merge_all_results\n",
    "merge_all_results(output_directory,sample_name,fragger_results_formatted,filename,sized_he_image,b_spline_apply)"
   ]
  },
  {
   "cell_type": "markdown",
   "id": "43aaaabe-15b3-4479-a3bc-b3ea04cc624f",
   "metadata": {},
   "source": [
    "# Utility #2: Extract a m/z image and overlay with H&E image"
   ]
  },
  {
   "cell_type": "markdown",
   "id": "c8d208e5-68f3-4ec7-b3fd-13b42fbea5a5",
   "metadata": {},
   "source": [
    "*Lines to update:*\n",
    "\n",
    "*1.) m/z of interst*\n",
    "\n",
    "*3.) m/z tolerance for MSI, in Da*\n",
    "\n",
    "*4.) z-value. Should be set to 1 in most instances for MALDI*\n",
    "\n",
    "*4.) Path to imaging .imzML path*"
   ]
  },
  {
   "cell_type": "code",
   "execution_count": null,
   "id": "f1fcd041-2491-4cc3-b718-3b170b2c88b3",
   "metadata": {},
   "outputs": [],
   "source": [
    "mz = 773.583\n",
    "mz_tolerance = 0.1\n",
    "z_value = 1\n",
    "filename = r'example_data\\prostate_example.imzML'\n",
    "\n",
    "from MSIght_Jupyter.mz_image_extract import extract_mz_image_transform\n",
    "from MSIght_Jupyter.mz_image_extract import overlay_msi_he\n",
    "\n",
    "mz_image_transformed = extract_mz_image_transform(filename, mz, mz_tolerance, z_value, b_spline_apply, sized_he_image)\n",
    "overlay_msi_he(mz_image_transformed,sized_he_image,mz)"
   ]
  },
  {
   "cell_type": "markdown",
   "id": "05b3e71a-a89b-4794-bd12-6836f0d7cd41",
   "metadata": {},
   "source": [
    "# Utility #3: Combine LC-MS/MS, MSI, and H&E data- Gene-wise"
   ]
  },
  {
   "cell_type": "markdown",
   "id": "fcb5872a-0c08-4331-b005-e86eb9756ccf",
   "metadata": {},
   "source": [
    "### This example is for if a specific gene or set of gene are the target (based on gene ID)"
   ]
  },
  {
   "cell_type": "markdown",
   "id": "8c830427-d40a-4d01-a102-55ce654be2c7",
   "metadata": {},
   "source": [
    "*Lines to update:*\n",
    "\n",
    "*1.) Path to MSFragger output file directory*\n",
    "\n",
    "*3.) Genes of interest*\n",
    "\n",
    "*4.) MSI ppm error*"
   ]
  },
  {
   "cell_type": "code",
   "execution_count": null,
   "id": "65f7a9c1-f9e3-428d-87b7-ac6b5a883dc2",
   "metadata": {},
   "outputs": [],
   "source": [
    "fragger_output_path = 'example_data\\MSFragger_output'\n",
    "output_path = r\"E:\\MSIght_output\"\n",
    "psm_path = output_path + '\\\\psm.tsv'\n",
    "gene_oi_list = ['P28481','P08121']\n",
    "ppm_error = 50\n",
    "\n",
    "from MSIght_Jupyter.fragger_process import process_fragger_gene\n",
    "fragger_results_formatted = process_fragger(gene_oi_list,ppm_error,psm_path,sized_he_image,output_path)\n",
    "\n",
    "from MSIght_Jupyter.he_lcmsms_msi_merge import merge_all_results_gene_wise\n",
    "merge_all_results(output_directory,sample_name,fragger_results_formatted,filename,sized_he_image,b_spline_apply)"
   ]
  },
  {
   "cell_type": "markdown",
   "id": "b4b9e7c5-834c-4426-b2df-06251f65cacb",
   "metadata": {},
   "source": [
    "# Utility #4: Combine LC-MS/MS, MSI, and H&E data untargeted"
   ]
  },
  {
   "cell_type": "code",
   "execution_count": null,
   "id": "e98d1814-6500-45f5-91af-400adaf7ba0e",
   "metadata": {},
   "outputs": [],
   "source": [
    "from MSIght_Jupyter.fragger_process import process_fragger_gene\n",
    "fragger_results_formatted = global_proteomics_search(fragger_results_path,threshold,min_prot_instances,ppm_error,output_path\n",
    "                                                     \n",
    "from MSIght_Jupyter.he_lcmsms_msi_merge import merge_all_results\n",
    "merge_all_results(output_directory,sample_name,fragger_results_formatted,filename,sized_he_image,b_spline_apply)                                                     "
   ]
  }
 ],
 "metadata": {
  "kernelspec": {
   "display_name": "Python 3 (ipykernel)",
   "language": "python",
   "name": "python3"
  },
  "language_info": {
   "codemirror_mode": {
    "name": "ipython",
    "version": 3
   },
   "file_extension": ".py",
   "mimetype": "text/x-python",
   "name": "python",
   "nbconvert_exporter": "python",
   "pygments_lexer": "ipython3",
   "version": "3.13.3"
  },
  "widgets": {
   "application/vnd.jupyter.widget-state+json": {
    "state": {},
    "version_major": 2,
    "version_minor": 0
   }
  }
 },
 "nbformat": 4,
 "nbformat_minor": 5
}
