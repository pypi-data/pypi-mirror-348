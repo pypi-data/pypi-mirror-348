{
 "cells": [
  {
   "cell_type": "markdown",
   "id": "06725b99-6898-40f3-a975-42960ad5c92c",
   "metadata": {
    "tags": []
   },
   "source": [
    "# 1. MSI image segmentation"
   ]
  },
  {
   "cell_type": "markdown",
   "id": "893e159f-15b5-4999-8eb4-5128c859fbd6",
   "metadata": {
    "tags": []
   },
   "source": [
    "### 1a. This step enables you to segment your MSI image across all m/z values. Prior to doing this, Gaussian spectral smoothing and baseline subtraction will be performed."
   ]
  },
  {
   "cell_type": "markdown",
   "id": "c5e2c90d-0e4e-45fd-ae05-f3433aff8b52",
   "metadata": {},
   "source": [
    "*Lines to update:*\n",
    "\n",
    "*4.) Filename: Update with the path to your .imzML file*\n",
    "\n",
    "*5.) Output directory: Update with the path to your output directory*\n",
    "\n",
    "*6.) Same name: Update with your sample name*"
   ]
  },
  {
   "cell_type": "code",
   "execution_count": null,
   "id": "29154f75-2bb6-4797-9d2f-e0198b8cc87d",
   "metadata": {
    "tags": []
   },
   "outputs": [],
   "source": [
    "filename = r\"example_data\\prostate_example.imzML\"\n",
    "output_directory = r\"E:\\MSIght_output\"\n",
    "sample_name = 'R0008'"
   ]
  },
  {
   "cell_type": "markdown",
   "id": "e07cccb7-1b0d-4acf-a6e7-55f2123cf9e1",
   "metadata": {},
   "source": [
    "#### Option 1 (Quickest, least accurate): Manual setting. Here you can set the t-SNE parameters manually with no score or quality control"
   ]
  },
  {
   "cell_type": "markdown",
   "id": "4ba63924-4625-4274-950a-0fb77334ca94",
   "metadata": {},
   "source": [
    "*All lines below can optionally be updated based on dataset*"
   ]
  },
  {
   "cell_type": "code",
   "execution_count": null,
   "id": "ca1cc87d-435a-4a5d-8e7d-9cb60b0bf353",
   "metadata": {
    "tags": []
   },
   "outputs": [],
   "source": [
    "###Advanced parameters###\n",
    "sigma = 2 \n",
    "structuring_element_size = 10\n",
    "pca_components = 100\n",
    "tsne_components = 2\n",
    "tsne_verbose = 0\n",
    "tsne_perplexity = 41\n",
    "tsne_interations = 1349\n",
    "tsne_learning_rate = 462\n",
    "k_means_cluster_number = 8 #8"
   ]
  },
  {
   "cell_type": "code",
   "execution_count": null,
   "id": "f0d6632a-a27c-49cc-a0cc-03a0c4718be6",
   "metadata": {
    "tags": []
   },
   "outputs": [],
   "source": [
    "from MSIght_Jupyter.refactor_segment import cluster_msi\n",
    "unfiltered_cluster_results,width,height,cluster_colors,cluster_image_full,cmap,legend_handles_full,tsne_result= cluster_msi(filename,output_directory,sample_name,sigma,structuring_element_size,pca_components,tsne_components,tsne_perplexity,tsne_learning_rate,tsne_interations,k_means_cluster_number)"
   ]
  },
  {
   "cell_type": "markdown",
   "id": "0b414465-8693-4484-bc98-067c60c7e251",
   "metadata": {},
   "source": [
    "### 1b. Based on results from the above step, select clusters to remove that do not correspond to the tissue area.\n",
    "\n",
    "#### Confirm that the new image looks ideal. If not, adjust the clusters removed"
   ]
  },
  {
   "cell_type": "markdown",
   "id": "5e5fef11-efd4-4284-a174-4f9573da8adb",
   "metadata": {},
   "source": [
    "*Lines to update:*\n",
    "\n",
    "*3.) List of clusters to remove*"
   ]
  },
  {
   "cell_type": "code",
   "execution_count": null,
   "id": "d1630c7c-8410-46b7-b2d6-693f297678d3",
   "metadata": {},
   "outputs": [],
   "source": [
    "from MSIght_Jupyter.refactor_segment import cluster_removal\n",
    "\n",
    "clusters_to_remove = [1,4]\n",
    "filtered_cluster_results = cluster_removal(unfiltered_cluster_results,width,height,cluster_colors,cluster_image_full,\n",
    "                                           cmap,legend_handles_full,clusters_to_remove,output_directory,sample_name)"
   ]
  },
  {
   "cell_type": "markdown",
   "id": "b671dd26-9b61-410a-851f-fcb440a4f42e",
   "metadata": {},
   "source": [
    "### 1c. Using segmented coordinates, generate composite image of all m/z\n",
    "\n",
    "#### Adjust threshold value as necessary"
   ]
  },
  {
   "cell_type": "markdown",
   "id": "a27c3a33-9bc8-4da0-8a4f-98da4a793e71",
   "metadata": {},
   "source": [
    "*Lines to update:*\n",
    "\n",
    "*4.) Threshold*"
   ]
  },
  {
   "cell_type": "code",
   "execution_count": null,
   "id": "4824ea9d-7cd6-4a29-b9cb-c115e311776d",
   "metadata": {},
   "outputs": [],
   "source": [
    "from MSIght_Jupyter.refactor_segment import make_composite_image\n",
    "\n",
    "threshold = 0.3\n",
    "full_composite_image = make_composite_image(filtered_cluster_results,threshold,output_directory,sample_name)"
   ]
  },
  {
   "cell_type": "markdown",
   "id": "7dded4e2-9e4a-48cd-8246-c2358ef0881d",
   "metadata": {},
   "source": [
    "### 1d. Segment composite image"
   ]
  },
  {
   "cell_type": "code",
   "execution_count": null,
   "id": "98ca4e7b-12e1-414c-9296-d5cb7e63563f",
   "metadata": {},
   "outputs": [],
   "source": [
    "from MSIght_Jupyter.refactor_segment import composite_wo_selected_clusters\n",
    "\n",
    "segmented_image = composite_wo_selected_clusters(unfiltered_cluster_results,clusters_to_remove,full_composite_image,output_directory,sample_name)"
   ]
  },
  {
   "cell_type": "markdown",
   "id": "10fbf5db-0c1e-492a-ac5e-79c673682a3f",
   "metadata": {},
   "source": [
    "*Lines to update:*\n",
    "\n",
    "*3.) Median filter size*"
   ]
  },
  {
   "cell_type": "code",
   "execution_count": null,
   "id": "93010f84-c355-485d-a668-d15dfd1fdc11",
   "metadata": {
    "tags": []
   },
   "outputs": [],
   "source": [
    "from MSIght_Jupyter.refactor_segment import remove_residual_noise\n",
    "\n",
    "median_filter_size = 1\n",
    "final_MSI_image = remove_residual_noise(segmented_image,median_filter_size,output_directory,sample_name)"
   ]
  },
  {
   "cell_type": "markdown",
   "id": "18f17601-99fa-4a03-91b0-52509d1b38a6",
   "metadata": {},
   "source": [
    "# 2. H&E Image Processing\n",
    "### Adjust threshold value as needed"
   ]
  },
  {
   "cell_type": "markdown",
   "id": "cd6f9c0a-2338-4050-bc0c-5eb84a342ca5",
   "metadata": {},
   "source": [
    "*Lines to update:*\n",
    "\n",
    "*4.) Path to H&E image in .TIF format*\n",
    "\n",
    "*6.) Sample name*\n",
    "\n",
    "*7.) Path to output directory*"
   ]
  },
  {
   "cell_type": "code",
   "execution_count": null,
   "id": "78e8c463-cea3-43c1-9d3b-b2d18220485e",
   "metadata": {
    "tags": []
   },
   "outputs": [],
   "source": [
    "from MSIght_Jupyter.refactor_histology_preprocess import preprocess_he\n",
    "\n",
    "image_path = 'example_data\\prostate_he_example.tif'\n",
    "threshold_value = 128\n",
    "sample_name = 'R0008_norm_centroid'\n",
    "output_directory = r\"E:\\MSIght_output\"\n",
    "\n",
    "final_he_image = preprocess_he(image_path,threshold_value,sample_name,output_directory)"
   ]
  },
  {
   "cell_type": "markdown",
   "id": "9660cbca-1792-4851-a06a-1eb249133e6c",
   "metadata": {},
   "source": [
    "# 3. Rotate MSI image to match the H&E orientation\n",
    "### Here is a comparison of both images:"
   ]
  },
  {
   "cell_type": "code",
   "execution_count": null,
   "id": "4e50de53-db52-4891-af0d-daed04e31d4a",
   "metadata": {},
   "outputs": [],
   "source": [
    "import matplotlib.pyplot as plt\n",
    "\n",
    "plt.figure(figsize=(12, 10))\n",
    "plt.subplot(2, 3, 1)\n",
    "plt.title('MSI image')\n",
    "plt.imshow(final_MSI_image, cmap='gray')\n",
    "\n",
    "plt.subplot(2, 3, 2)\n",
    "plt.title('H&E image')\n",
    "plt.imshow(final_he_image, cmap='gray')"
   ]
  },
  {
   "cell_type": "markdown",
   "id": "4b15b2d6-3685-44ce-ad4d-ffc657cedd40",
   "metadata": {},
   "source": [
    "### 3a. Run this cell enough times to get in the proper orientation (rotates 90 degrees each time):"
   ]
  },
  {
   "cell_type": "code",
   "execution_count": null,
   "id": "aae25020-ff14-4d1c-bb3a-174c80850c5f",
   "metadata": {},
   "outputs": [],
   "source": [
    "import numpy as np\n",
    "final_MSI_image = np.rot90(final_MSI_image)\n",
    "\n",
    "plt.figure(figsize=(12, 10))\n",
    "plt.subplot(2, 3, 1)\n",
    "plt.title('MSI image')\n",
    "plt.imshow(final_MSI_image, cmap='gray')\n",
    "\n",
    "plt.subplot(2, 3, 2)\n",
    "plt.title('H&E image')\n",
    "plt.imshow(final_he_image, cmap='gray')"
   ]
  },
  {
   "cell_type": "markdown",
   "id": "5387c20b-9f62-4462-9fe2-6ea272cf5e32",
   "metadata": {},
   "source": [
    "### 3b. Run this cell to flip the image horizontally (up/down):"
   ]
  },
  {
   "cell_type": "code",
   "execution_count": null,
   "id": "5a449790-2b40-4f7a-9f38-93be43fe4116",
   "metadata": {},
   "outputs": [],
   "source": [
    "import numpy as np\n",
    "final_MSI_image = np.flipud(final_MSI_image)\n",
    "\n",
    "plt.figure(figsize=(12, 10))\n",
    "plt.subplot(2, 3, 1)\n",
    "plt.title('MSI image')\n",
    "plt.imshow(final_MSI_image, cmap='gray')\n",
    "\n",
    "plt.subplot(2, 3, 2)\n",
    "plt.title('H&E image')\n",
    "plt.imshow(final_he_image, cmap='gray')"
   ]
  },
  {
   "cell_type": "markdown",
   "id": "9730db30-498d-4a63-afab-3895e865a9db",
   "metadata": {},
   "source": [
    "### 3c. Run this cell to flip the image vertically (left/right):"
   ]
  },
  {
   "cell_type": "code",
   "execution_count": null,
   "id": "c98e1b17-f676-40ee-bb7d-9bd8e077314f",
   "metadata": {},
   "outputs": [],
   "source": [
    "import numpy as np\n",
    "final_MSI_image = np.fliplr(final_MSI_image)\n",
    "\n",
    "plt.figure(figsize=(12, 10))\n",
    "plt.subplot(2, 3, 1)\n",
    "plt.title('MSI image')\n",
    "plt.imshow(final_MSI_image, cmap='gray')\n",
    "\n",
    "plt.subplot(2, 3, 2)\n",
    "plt.title('H&E image')\n",
    "plt.imshow(final_he_image, cmap='gray')"
   ]
  },
  {
   "cell_type": "markdown",
   "id": "30a3b34d-3ac2-4059-a741-7088ce13401a",
   "metadata": {},
   "source": [
    "# 4. Interpolate MSI image"
   ]
  },
  {
   "cell_type": "markdown",
   "id": "da467bcd-c267-4d54-8c8a-8605f85d6fd4",
   "metadata": {},
   "source": [
    "### Option 1: Linear interpolation (default)"
   ]
  },
  {
   "cell_type": "markdown",
   "id": "f053737e-f8e3-48c9-bd35-8bd939dc4182",
   "metadata": {},
   "source": [
    "*Lines to update:*\n",
    "\n",
    "*4.) Path to H&E image in .TIF format*\n",
    "\n",
    "*5.) Path to MSI file in .imzML format*\n",
    "\n",
    "*6.) Sample name*\n",
    "\n",
    "*7.) Path to output directory*"
   ]
  },
  {
   "cell_type": "code",
   "execution_count": null,
   "id": "96dc6c98-b813-4fb1-a380-280887401670",
   "metadata": {},
   "outputs": [],
   "source": [
    "from MSIght_Jupyter.refactor_interpolation import interpolate_MSI\n",
    "\n",
    "image_path = 'example_data\\prostate_he_example.tif'\n",
    "filename = 'example_data\\prostate_example.imzML'\n",
    "sample_name = 'R0008_norm_centroid'\n",
    "output_directory = r\"E:\\MSIght_output\"\n",
    "\n",
    "sized_he_image,interpolated_MSI_image = interpolate_MSI(filename,image_path,final_MSI_image,final_he_image,output_directory,sample_name)"
   ]
  },
  {
   "cell_type": "markdown",
   "id": "6dc82681-3a3b-4418-8e86-01688264f1b8",
   "metadata": {},
   "source": [
    "# 5. Affine transform images"
   ]
  },
  {
   "cell_type": "markdown",
   "id": "18f9388e-99c6-4c18-b8cd-b2f370277501",
   "metadata": {},
   "source": [
    "### Perform automated affine transformation"
   ]
  },
  {
   "cell_type": "markdown",
   "id": "1c1069d1-c564-4658-a5d8-305a85dbcf03",
   "metadata": {},
   "source": [
    "*Lines to update:*\n",
    "\n",
    "*4.) MSI threshold value*\n",
    "\n",
    "*5.) H&E threshold value*"
   ]
  },
  {
   "cell_type": "code",
   "execution_count": null,
   "id": "f2649c9c-70a6-4c98-8d6b-9773080f04d4",
   "metadata": {},
   "outputs": [],
   "source": [
    "from MSIght_Jupyter.refactor_affine_transform import register_he_msi\n",
    "\n",
    "msi_threshold = 18\n",
    "he_threshold = 0.3\n",
    "\n",
    "affine_matrix,transformed_ms_image = register_he_msi(sized_he_image,interpolated_MSI_image,msi_threshold,he_threshold,output_directory,sample_name)"
   ]
  },
  {
   "cell_type": "markdown",
   "id": "9765341e-ceb4-4ab1-b750-60692755ffb5",
   "metadata": {
    "tags": []
   },
   "source": [
    "### Apply B-spline"
   ]
  },
  {
   "cell_type": "markdown",
   "id": "0fe20e85-a92c-41ea-8131-e6603e09e76e",
   "metadata": {},
   "source": [
    "*Lines to update:*\n",
    "\n",
    "*4.) Numer of histograms*\n",
    "\n",
    "*5.) Gradient tolerance*\n",
    "\n",
    "*6.) Optimizer iterations*\n",
    "\n",
    "*7.) Coarseness*"
   ]
  },
  {
   "cell_type": "code",
   "execution_count": null,
   "id": "c8e7692f-1bba-4afb-a208-38731134300d",
   "metadata": {
    "tags": []
   },
   "outputs": [],
   "source": [
    "from MSIght_Jupyter.refactor_bspline import perform_bspline\n",
    "\n",
    "number_histograms = 75 #50\n",
    "gradient_tolerance = 1e-5 #1e-5\n",
    "optimizer_iterations = 20 #100\n",
    "courseness = 10 #50\n",
    "\n",
    "b_spline_apply = perform_bspline(sized_he_image,transformed_ms_image,number_histograms,gradient_tolerance,optimizer_iterations,courseness)"
   ]
  },
  {
   "cell_type": "markdown",
   "id": "f7cc9b9a-8fe2-4e77-95ff-630eb1e642f0",
   "metadata": {},
   "source": [
    "# Process LC-MS/MS Data with MS-Fragger"
   ]
  },
  {
   "cell_type": "markdown",
   "id": "a2141dc4-c2be-4e9b-b889-b35e1ef691c3",
   "metadata": {},
   "source": [
    "*Note: You will need to install MSFragger (housed within FragPipe) for this:* [https://fragpipe.nesvilab.org/](https://fragpipe.nesvilab.org/)\n",
    "\n",
    "***\n",
    "The context for this workflow is for routine analysis. You can provide a .WORKFLOW file from FragPipe that can be run routinely with just a small amount of interjection from MSIght. For optimization of FragPipe parameters and more sophisticated tasks, please refer directly to FragPipe directly. Following this, you can provide a workflow path (below) for routine use.\n",
    "***\n",
    "\n",
    "*Be sure in the fields below, all file paths have two backslashes instead of one if using Windows.*"
   ]
  },
  {
   "cell_type": "code",
   "execution_count": null,
   "id": "3b416545-40f9-49c2-8c1b-20ca2ce9980e",
   "metadata": {},
   "outputs": [],
   "source": [
    "from MSIght_Jupyter.refactor_msfragger import run_fragpipe\n",
    "\n",
    "fragpipe_path = 'downloads\\\\FragPipe-22.0\\\\fragpipe\\\\bin\\\\fragpipe.bat'\n",
    "working_directory = 'example_data\\\\MSFragger_output'\n",
    "generic_workflow_file = \"example_data\\fragpipe.workflow\"\n",
    "fasta_db = 'example_data\\\\mouse_proteome_decoys_reviewed.fas'\n",
    "\n",
    "raw_files = ['example_data\\\\prostate_example_TR1.raw',\n",
    "             'example_data\\\\prostate_example_TR2.raw',\n",
    "            'example_data\\\\prostate_example_TR3.raw']\n",
    "\n",
    "run_fragpipe(working_directory,generic_workflow_file,raw_files,fasta_db,fragpipe_path)"
   ]
  },
  {
   "cell_type": "markdown",
   "id": "94461134-cc21-4401-b6fc-7d3cc1b7583c",
   "metadata": {
    "tags": []
   },
   "source": [
    "# Utility #1: Combine LC-MS/MS, MSI, and H&E data- Protein-wise"
   ]
  },
  {
   "cell_type": "markdown",
   "id": "72e101fa-7880-4f6d-a5de-3cf92ac2ee57",
   "metadata": {},
   "source": [
    "### This example is for if a specific protein or set of proteins are the target (based on UniProt ID)"
   ]
  },
  {
   "cell_type": "markdown",
   "id": "bedd7e5e-0f73-4a9c-84e9-595d591ae8d6",
   "metadata": {},
   "source": [
    "*Lines to update:*\n",
    "\n",
    "*1.) Path to MSFragger output file directory*\n",
    "\n",
    "*3.) Proteins of interest*\n",
    "\n",
    "*4.) MSI ppm error*"
   ]
  },
  {
   "cell_type": "code",
   "execution_count": null,
   "id": "36f0eda4-6344-4597-a167-af8db98eb580",
   "metadata": {},
   "outputs": [],
   "source": [
    "fragger_output_path = 'example_data\\MSFragger_output'\n",
    "output_path = r\"E:\\MSIght_output\"\n",
    "psm_path = output_path + '\\\\psm.tsv'\n",
    "protein_oi_list = ['P28481','P08121']\n",
    "ppm_error = 50\n",
    "\n",
    "from MSIght_Jupyter.refactor_fragger_process import process_fragger\n",
    "fragger_results_formatted = process_fragger(protein_oi_list,ppm_error,psm_path,sized_he_image,output_path)\n",
    "\n",
    "from MSIght_Jupyter.refactor_he_lcmsms_msi_merge import merge_all_results\n",
    "merge_all_results(output_directory,sample_name,fragger_results_formatted,filename,sized_he_image,b_spline_apply)"
   ]
  }
 ],
 "metadata": {
  "kernelspec": {
   "display_name": "Python 3 (ipykernel)",
   "language": "python",
   "name": "python3"
  },
  "language_info": {
   "codemirror_mode": {
    "name": "ipython",
    "version": 3
   },
   "file_extension": ".py",
   "mimetype": "text/x-python",
   "name": "python",
   "nbconvert_exporter": "python",
   "pygments_lexer": "ipython3",
   "version": "3.13.3"
  },
  "widgets": {
   "application/vnd.jupyter.widget-state+json": {
    "state": {},
    "version_major": 2,
    "version_minor": 0
   }
  }
 },
 "nbformat": 4,
 "nbformat_minor": 5
}
