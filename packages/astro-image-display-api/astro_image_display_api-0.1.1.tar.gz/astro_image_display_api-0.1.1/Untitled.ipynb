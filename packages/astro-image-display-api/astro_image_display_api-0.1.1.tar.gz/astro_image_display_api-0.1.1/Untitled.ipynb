{
 "cells": [
  {
   "cell_type": "code",
   "execution_count": 3,
   "id": "1aece185-ad76-4002-8dcb-2adc04099479",
   "metadata": {},
   "outputs": [],
   "source": [
    "from regions import CirclePixelRegion, PixCoord"
   ]
  },
  {
   "cell_type": "code",
   "execution_count": 4,
   "id": "f0f02eb8-5512-4107-b77c-aef22864fe17",
   "metadata": {},
   "outputs": [],
   "source": [
    "reg = CirclePixelRegion(PixCoord(4, 5), 8)"
   ]
  },
  {
   "cell_type": "code",
   "execution_count": 5,
   "id": "24a74607-7993-4eac-bafe-67cfc1ed8b09",
   "metadata": {},
   "outputs": [
    {
     "data": {
      "text/plain": [
       "{}"
      ]
     },
     "execution_count": 5,
     "metadata": {},
     "output_type": "execute_result"
    }
   ],
   "source": [
    "reg.visual"
   ]
  },
  {
   "cell_type": "code",
   "execution_count": null,
   "id": "1a73511e-8d6f-4bf8-b633-47ca918c21ba",
   "metadata": {},
   "outputs": [],
   "source": []
  }
 ],
 "metadata": {
  "kernelspec": {
   "display_name": "Python 3 (ipykernel)",
   "language": "python",
   "name": "python3"
  },
  "language_info": {
   "codemirror_mode": {
    "name": "ipython",
    "version": 3
   },
   "file_extension": ".py",
   "mimetype": "text/x-python",
   "name": "python",
   "nbconvert_exporter": "python",
   "pygments_lexer": "ipython3",
   "version": "3.13.3"
  }
 },
 "nbformat": 4,
 "nbformat_minor": 5
}
