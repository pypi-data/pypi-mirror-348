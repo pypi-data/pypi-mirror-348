{
 "cells": [
  {
   "cell_type": "code",
   "execution_count": 1,
   "metadata": {},
   "outputs": [],
   "source": [
    "import pandas as pd \n",
    "import numpy as np \n",
    "import matplotlib.pyplot as plt \n",
    "import os\n",
    "import datetime\n",
    "import glob\n",
    "from pathlib import Path\n",
    "from sp00kyvectors.core import Vector"
   ]
  },
  {
   "cell_type": "code",
   "execution_count": 2,
   "metadata": {},
   "outputs": [],
   "source": [
    "folder_path = Path(\"/Users/lila/sp00kyvectors/sp00kyvectors/notbooks/data\")\n",
    "all_files = glob.glob(os.path.join(folder_path, \"*.csv\"))\n",
    "all_dfs = []\n",
    "# Append the rest of the CSVs without headers\n",
    "for file in all_files:\n",
    "    df = pd.read_csv(file)\n",
    "    all_dfs.append(df)\n"
   ]
  },
  {
   "cell_type": "code",
   "execution_count": 3,
   "metadata": {},
   "outputs": [],
   "source": [
    "combined_df = pd.concat(all_dfs, ignore_index=True)"
   ]
  },
  {
   "cell_type": "code",
   "execution_count": 4,
   "metadata": {},
   "outputs": [
    {
     "name": "stdout",
     "output_type": "stream",
     "text": [
      "<class 'pandas.core.frame.DataFrame'>\n",
      "RangeIndex: 66440 entries, 0 to 66439\n",
      "Data columns (total 23 columns):\n",
      " #   Column         Non-Null Count  Dtype  \n",
      "---  ------         --------------  -----  \n",
      " 0   Timestamp      66400 non-null  object \n",
      " 1   Accel_X        66366 non-null  float64\n",
      " 2   Accel_Y        66352 non-null  float64\n",
      " 3   Accel_Z        66350 non-null  float64\n",
      " 4   Gyro_X         66322 non-null  float64\n",
      " 5   Gyro_Y         66308 non-null  float64\n",
      " 6   Gyro_Z         66306 non-null  float64\n",
      " 7   Mag_X          66304 non-null  float64\n",
      " 8   Mag_Y          66298 non-null  float64\n",
      " 9   Mag_Z          66290 non-null  float64\n",
      " 10  Temp_LSM9DS1   66286 non-null  float64\n",
      " 11  Proximity      66288 non-null  float64\n",
      " 12  Color_R        66290 non-null  float64\n",
      " 13  Color_G        66280 non-null  float64\n",
      " 14  Color_B        66272 non-null  float64\n",
      " 15  Color_C        66272 non-null  float64\n",
      " 16  BME680_Temp    66256 non-null  float64\n",
      " 17  Gas            66242 non-null  float64\n",
      " 18  Humidity       66226 non-null  float64\n",
      " 19  Pressure       50390 non-null  float64\n",
      " 20  GPS_Latitude   26046 non-null  float64\n",
      " 21  GPS_Longitude  27612 non-null  float64\n",
      " 22  GPS_Speed      42486 non-null  float64\n",
      "dtypes: float64(22), object(1)\n",
      "memory usage: 11.7+ MB\n"
     ]
    }
   ],
   "source": [
    "combined_df.info()"
   ]
  },
  {
   "cell_type": "code",
   "execution_count": 5,
   "metadata": {},
   "outputs": [
    {
     "data": {
      "text/plain": [
       "66440"
      ]
     },
     "execution_count": 5,
     "metadata": {},
     "output_type": "execute_result"
    }
   ],
   "source": [
    "len(combined_df)"
   ]
  },
  {
   "cell_type": "code",
   "execution_count": 6,
   "metadata": {},
   "outputs": [
    {
     "data": {
      "text/plain": [
       "array([8.75115045385, 8.755337893399998, 8.772685857249998, ...,\n",
       "       8.5758761984, 0.36666, 8.60638468655], dtype=object)"
      ]
     },
     "execution_count": 6,
     "metadata": {},
     "output_type": "execute_result"
    }
   ],
   "source": [
    "combined_df['Timestamp'].unique()"
   ]
  },
  {
   "cell_type": "code",
   "execution_count": 7,
   "metadata": {},
   "outputs": [],
   "source": [
    "df = combined_df[~combined_df['Timestamp'].apply(lambda x: isinstance(x, float))]\n"
   ]
  },
  {
   "cell_type": "code",
   "execution_count": 8,
   "metadata": {},
   "outputs": [
    {
     "name": "stdout",
     "output_type": "stream",
     "text": [
      "(47439, 23)\n"
     ]
    },
    {
     "data": {
      "text/html": [
       "<div>\n",
       "<style scoped>\n",
       "    .dataframe tbody tr th:only-of-type {\n",
       "        vertical-align: middle;\n",
       "    }\n",
       "\n",
       "    .dataframe tbody tr th {\n",
       "        vertical-align: top;\n",
       "    }\n",
       "\n",
       "    .dataframe thead th {\n",
       "        text-align: right;\n",
       "    }\n",
       "</style>\n",
       "<table border=\"1\" class=\"dataframe\">\n",
       "  <thead>\n",
       "    <tr style=\"text-align: right;\">\n",
       "      <th></th>\n",
       "      <th>Accel_X</th>\n",
       "      <th>Accel_Y</th>\n",
       "      <th>Accel_Z</th>\n",
       "      <th>Gyro_X</th>\n",
       "      <th>Gyro_Y</th>\n",
       "      <th>Gyro_Z</th>\n",
       "      <th>Mag_X</th>\n",
       "      <th>Mag_Y</th>\n",
       "      <th>Mag_Z</th>\n",
       "      <th>Temp_LSM9DS1</th>\n",
       "      <th>...</th>\n",
       "      <th>Color_G</th>\n",
       "      <th>Color_B</th>\n",
       "      <th>Color_C</th>\n",
       "      <th>BME680_Temp</th>\n",
       "      <th>Gas</th>\n",
       "      <th>Humidity</th>\n",
       "      <th>Pressure</th>\n",
       "      <th>GPS_Latitude</th>\n",
       "      <th>GPS_Longitude</th>\n",
       "      <th>GPS_Speed</th>\n",
       "    </tr>\n",
       "  </thead>\n",
       "  <tbody>\n",
       "    <tr>\n",
       "      <th>count</th>\n",
       "      <td>47396.000000</td>\n",
       "      <td>47384.000000</td>\n",
       "      <td>47378.000000</td>\n",
       "      <td>47363.000000</td>\n",
       "      <td>47355.000000</td>\n",
       "      <td>47355.000000</td>\n",
       "      <td>47353.000000</td>\n",
       "      <td>47353.000000</td>\n",
       "      <td>47348.000000</td>\n",
       "      <td>47347.000000</td>\n",
       "      <td>...</td>\n",
       "      <td>47344.000000</td>\n",
       "      <td>47340.000000</td>\n",
       "      <td>47340.000000</td>\n",
       "      <td>4.733000e+04</td>\n",
       "      <td>4.732000e+04</td>\n",
       "      <td>47310.000000</td>\n",
       "      <td>39388.000000</td>\n",
       "      <td>15048.000000</td>\n",
       "      <td>15831.000000</td>\n",
       "      <td>23575.000000</td>\n",
       "    </tr>\n",
       "    <tr>\n",
       "      <th>mean</th>\n",
       "      <td>17.202692</td>\n",
       "      <td>4.749788</td>\n",
       "      <td>1.744653</td>\n",
       "      <td>1.530412</td>\n",
       "      <td>0.654426</td>\n",
       "      <td>5.732938</td>\n",
       "      <td>2.330251</td>\n",
       "      <td>0.294059</td>\n",
       "      <td>12.927098</td>\n",
       "      <td>17.713353</td>\n",
       "      <td>...</td>\n",
       "      <td>791.089878</td>\n",
       "      <td>1274.856485</td>\n",
       "      <td>1225.250282</td>\n",
       "      <td>1.936133e+04</td>\n",
       "      <td>2.993100e+04</td>\n",
       "      <td>438.014002</td>\n",
       "      <td>741.373165</td>\n",
       "      <td>-43.121454</td>\n",
       "      <td>-18.287783</td>\n",
       "      <td>0.803316</td>\n",
       "    </tr>\n",
       "    <tr>\n",
       "      <th>std</th>\n",
       "      <td>634.233790</td>\n",
       "      <td>240.057681</td>\n",
       "      <td>193.743626</td>\n",
       "      <td>155.422576</td>\n",
       "      <td>86.496272</td>\n",
       "      <td>556.642091</td>\n",
       "      <td>329.766229</td>\n",
       "      <td>59.814818</td>\n",
       "      <td>499.816735</td>\n",
       "      <td>560.629430</td>\n",
       "      <td>...</td>\n",
       "      <td>1660.935081</td>\n",
       "      <td>2778.265866</td>\n",
       "      <td>3522.473881</td>\n",
       "      <td>1.341588e+05</td>\n",
       "      <td>2.949441e+05</td>\n",
       "      <td>473.352243</td>\n",
       "      <td>438.167919</td>\n",
       "      <td>50.864577</td>\n",
       "      <td>32.669949</td>\n",
       "      <td>0.486890</td>\n",
       "    </tr>\n",
       "    <tr>\n",
       "      <th>min</th>\n",
       "      <td>-73.991496</td>\n",
       "      <td>-73.991655</td>\n",
       "      <td>-73.991791</td>\n",
       "      <td>-73.991790</td>\n",
       "      <td>-0.693140</td>\n",
       "      <td>-0.691320</td>\n",
       "      <td>-73.991413</td>\n",
       "      <td>-0.722400</td>\n",
       "      <td>-0.726460</td>\n",
       "      <td>-73.991746</td>\n",
       "      <td>...</td>\n",
       "      <td>-73.991453</td>\n",
       "      <td>-73.991621</td>\n",
       "      <td>-125.089531</td>\n",
       "      <td>-1.250895e+02</td>\n",
       "      <td>-7.399175e+01</td>\n",
       "      <td>0.000000</td>\n",
       "      <td>-291.345546</td>\n",
       "      <td>-73.999346</td>\n",
       "      <td>-74.008596</td>\n",
       "      <td>0.000000</td>\n",
       "    </tr>\n",
       "    <tr>\n",
       "      <th>25%</th>\n",
       "      <td>4.261617</td>\n",
       "      <td>-0.022732</td>\n",
       "      <td>0.003665</td>\n",
       "      <td>-0.014050</td>\n",
       "      <td>-0.013897</td>\n",
       "      <td>0.013286</td>\n",
       "      <td>-0.210980</td>\n",
       "      <td>-0.675640</td>\n",
       "      <td>-0.686280</td>\n",
       "      <td>0.000000</td>\n",
       "      <td>...</td>\n",
       "      <td>0.000000</td>\n",
       "      <td>0.000000</td>\n",
       "      <td>3.000000</td>\n",
       "      <td>2.260871e+01</td>\n",
       "      <td>5.514773e+01</td>\n",
       "      <td>52.781611</td>\n",
       "      <td>40.689423</td>\n",
       "      <td>-73.991583</td>\n",
       "      <td>-73.990776</td>\n",
       "      <td>0.790352</td>\n",
       "    </tr>\n",
       "    <tr>\n",
       "      <th>50%</th>\n",
       "      <td>8.734999</td>\n",
       "      <td>4.179663</td>\n",
       "      <td>0.106481</td>\n",
       "      <td>0.000916</td>\n",
       "      <td>-0.011148</td>\n",
       "      <td>0.016035</td>\n",
       "      <td>0.357140</td>\n",
       "      <td>-0.229460</td>\n",
       "      <td>-0.670390</td>\n",
       "      <td>19.500000</td>\n",
       "      <td>...</td>\n",
       "      <td>95.000000</td>\n",
       "      <td>137.000000</td>\n",
       "      <td>24.035859</td>\n",
       "      <td>2.429602e+01</td>\n",
       "      <td>1.538600e+04</td>\n",
       "      <td>61.800994</td>\n",
       "      <td>1013.356508</td>\n",
       "      <td>-73.991410</td>\n",
       "      <td>0.400000</td>\n",
       "      <td>0.800597</td>\n",
       "    </tr>\n",
       "    <tr>\n",
       "      <th>75%</th>\n",
       "      <td>8.752347</td>\n",
       "      <td>4.201796</td>\n",
       "      <td>0.130409</td>\n",
       "      <td>0.003665</td>\n",
       "      <td>0.011606</td>\n",
       "      <td>0.362740</td>\n",
       "      <td>0.370020</td>\n",
       "      <td>-0.217420</td>\n",
       "      <td>20.500000</td>\n",
       "      <td>20.500000</td>\n",
       "      <td>...</td>\n",
       "      <td>812.000000</td>\n",
       "      <td>1119.000000</td>\n",
       "      <td>549.000000</td>\n",
       "      <td>2.934700e+04</td>\n",
       "      <td>2.443900e+04</td>\n",
       "      <td>1017.753814</td>\n",
       "      <td>1014.678887</td>\n",
       "      <td>40.688788</td>\n",
       "      <td>0.960000</td>\n",
       "      <td>0.810148</td>\n",
       "    </tr>\n",
       "    <tr>\n",
       "      <th>max</th>\n",
       "      <td>76482.000000</td>\n",
       "      <td>45952.000000</td>\n",
       "      <td>40181.000000</td>\n",
       "      <td>22095.000000</td>\n",
       "      <td>16817.000000</td>\n",
       "      <td>76551.000000</td>\n",
       "      <td>69319.000000</td>\n",
       "      <td>10610.000000</td>\n",
       "      <td>86432.000000</td>\n",
       "      <td>89267.000000</td>\n",
       "      <td>...</td>\n",
       "      <td>70536.000000</td>\n",
       "      <td>47429.000000</td>\n",
       "      <td>81270.000000</td>\n",
       "      <td>1.038462e+07</td>\n",
       "      <td>1.288783e+07</td>\n",
       "      <td>1254.215705</td>\n",
       "      <td>1254.215705</td>\n",
       "      <td>40.708798</td>\n",
       "      <td>10.620000</td>\n",
       "      <td>12.560000</td>\n",
       "    </tr>\n",
       "  </tbody>\n",
       "</table>\n",
       "<p>8 rows × 22 columns</p>\n",
       "</div>"
      ],
      "text/plain": [
       "            Accel_X       Accel_Y       Accel_Z        Gyro_X        Gyro_Y  \\\n",
       "count  47396.000000  47384.000000  47378.000000  47363.000000  47355.000000   \n",
       "mean      17.202692      4.749788      1.744653      1.530412      0.654426   \n",
       "std      634.233790    240.057681    193.743626    155.422576     86.496272   \n",
       "min      -73.991496    -73.991655    -73.991791    -73.991790     -0.693140   \n",
       "25%        4.261617     -0.022732      0.003665     -0.014050     -0.013897   \n",
       "50%        8.734999      4.179663      0.106481      0.000916     -0.011148   \n",
       "75%        8.752347      4.201796      0.130409      0.003665      0.011606   \n",
       "max    76482.000000  45952.000000  40181.000000  22095.000000  16817.000000   \n",
       "\n",
       "             Gyro_Z         Mag_X         Mag_Y         Mag_Z  Temp_LSM9DS1  \\\n",
       "count  47355.000000  47353.000000  47353.000000  47348.000000  47347.000000   \n",
       "mean       5.732938      2.330251      0.294059     12.927098     17.713353   \n",
       "std      556.642091    329.766229     59.814818    499.816735    560.629430   \n",
       "min       -0.691320    -73.991413     -0.722400     -0.726460    -73.991746   \n",
       "25%        0.013286     -0.210980     -0.675640     -0.686280      0.000000   \n",
       "50%        0.016035      0.357140     -0.229460     -0.670390     19.500000   \n",
       "75%        0.362740      0.370020     -0.217420     20.500000     20.500000   \n",
       "max    76551.000000  69319.000000  10610.000000  86432.000000  89267.000000   \n",
       "\n",
       "       ...       Color_G       Color_B       Color_C   BME680_Temp  \\\n",
       "count  ...  47344.000000  47340.000000  47340.000000  4.733000e+04   \n",
       "mean   ...    791.089878   1274.856485   1225.250282  1.936133e+04   \n",
       "std    ...   1660.935081   2778.265866   3522.473881  1.341588e+05   \n",
       "min    ...    -73.991453    -73.991621   -125.089531 -1.250895e+02   \n",
       "25%    ...      0.000000      0.000000      3.000000  2.260871e+01   \n",
       "50%    ...     95.000000    137.000000     24.035859  2.429602e+01   \n",
       "75%    ...    812.000000   1119.000000    549.000000  2.934700e+04   \n",
       "max    ...  70536.000000  47429.000000  81270.000000  1.038462e+07   \n",
       "\n",
       "                Gas      Humidity      Pressure  GPS_Latitude  GPS_Longitude  \\\n",
       "count  4.732000e+04  47310.000000  39388.000000  15048.000000   15831.000000   \n",
       "mean   2.993100e+04    438.014002    741.373165    -43.121454     -18.287783   \n",
       "std    2.949441e+05    473.352243    438.167919     50.864577      32.669949   \n",
       "min   -7.399175e+01      0.000000   -291.345546    -73.999346     -74.008596   \n",
       "25%    5.514773e+01     52.781611     40.689423    -73.991583     -73.990776   \n",
       "50%    1.538600e+04     61.800994   1013.356508    -73.991410       0.400000   \n",
       "75%    2.443900e+04   1017.753814   1014.678887     40.688788       0.960000   \n",
       "max    1.288783e+07   1254.215705   1254.215705     40.708798      10.620000   \n",
       "\n",
       "          GPS_Speed  \n",
       "count  23575.000000  \n",
       "mean       0.803316  \n",
       "std        0.486890  \n",
       "min        0.000000  \n",
       "25%        0.790352  \n",
       "50%        0.800597  \n",
       "75%        0.810148  \n",
       "max       12.560000  \n",
       "\n",
       "[8 rows x 22 columns]"
      ]
     },
     "execution_count": 8,
     "metadata": {},
     "output_type": "execute_result"
    }
   ],
   "source": [
    "print(df.shape)\n",
    "df.describe()"
   ]
  },
  {
   "cell_type": "code",
   "execution_count": 9,
   "metadata": {},
   "outputs": [
    {
     "ename": "AttributeError",
     "evalue": "'Vector' object has no attribute 'drop_na'",
     "output_type": "error",
     "traceback": [
      "\u001b[31m---------------------------------------------------------------------------\u001b[39m",
      "\u001b[31mAttributeError\u001b[39m                            Traceback (most recent call last)",
      "\u001b[36mCell\u001b[39m\u001b[36m \u001b[39m\u001b[32mIn[9]\u001b[39m\u001b[32m, line 2\u001b[39m\n\u001b[32m      1\u001b[39m humidity = Vector(label=\u001b[33m'\u001b[39m\u001b[33mHumidity\u001b[39m\u001b[33m'\u001b[39m, data_points=df[\u001b[33m'\u001b[39m\u001b[33mHumidity\u001b[39m\u001b[33m'\u001b[39m])\n\u001b[32m----> \u001b[39m\u001b[32m2\u001b[39m \u001b[43mhumidity\u001b[49m\u001b[43m.\u001b[49m\u001b[43mdrop_na\u001b[49m()\n\u001b[32m      3\u001b[39m humidity.drop_outliers()\n",
      "\u001b[31mAttributeError\u001b[39m: 'Vector' object has no attribute 'drop_na'"
     ]
    }
   ],
   "source": [
    "humidity = Vector(label='Humidity', data_points=df['Humidity'])\n",
    "humidity.drop_na()\n",
    "humidity.drop_outliers()"
   ]
  },
  {
   "cell_type": "code",
   "execution_count": null,
   "metadata": {},
   "outputs": [],
   "source": [
    "df = df.sort_values(by='Timestamp')"
   ]
  },
  {
   "cell_type": "code",
   "execution_count": null,
   "metadata": {},
   "outputs": [
    {
     "data": {
      "image/png": "[encoded data removed]",
      "text/plain": [
       "<Figure size 640x480 with 1 Axes>"
      ]
     },
     "metadata": {},
     "output_type": "display_data"
    }
   ],
   "source": [
    "humidity.plot_pdf()"
   ]
  },
  {
   "cell_type": "code",
   "execution_count": null,
   "metadata": {},
   "outputs": [
    {
     "data": {
      "image/png": "[encoded data removed]",
      "text/plain": [
       "<Figure size 640x480 with 1 Axes>"
      ]
     },
     "metadata": {},
     "output_type": "display_data"
    }
   ],
   "source": [
    "humidity.plot_basic_stats()"
   ]
  },
  {
   "cell_type": "code",
   "execution_count": null,
   "metadata": {},
   "outputs": [],
   "source": [
    "# plt.figure(figsize=(10, 5))\n",
    "# plt.plot(df['Timestamp'], df['Humidity'], marker='o', linestyle='-')\n",
    "# plt.xlabel('Time')\n",
    "# plt.ylabel('Humidity')\n",
    "# plt.title('Humidity Over Time')\n"
   ]
  },
  {
   "cell_type": "code",
   "execution_count": null,
   "metadata": {},
   "outputs": [],
   "source": [
    "#plt.show()"
   ]
  },
  {
   "cell_type": "code",
   "execution_count": null,
   "metadata": {},
   "outputs": [],
   "source": [
    "#df = df[ (df['Humidity'] < 100) & (df['Humidity'] >= 5)]"
   ]
  },
  {
   "cell_type": "code",
   "execution_count": null,
   "metadata": {},
   "outputs": [],
   "source": [
    "#df.head()"
   ]
  },
  {
   "cell_type": "code",
   "execution_count": null,
   "metadata": {},
   "outputs": [],
   "source": [
    "#plt.plot(df['Timestamp'], df['Humidity'], marker='x')"
   ]
  },
  {
   "cell_type": "code",
   "execution_count": null,
   "metadata": {},
   "outputs": [],
   "source": [
    "plt.show()"
   ]
  },
  {
   "cell_type": "code",
   "execution_count": null,
   "metadata": {},
   "outputs": [],
   "source": []
  }
 ],
 "metadata": {
  "kernelspec": {
   "display_name": "dev",
   "language": "python",
   "name": "python3"
  },
  "language_info": {
   "codemirror_mode": {
    "name": "ipython",
    "version": 3
   },
   "file_extension": ".py",
   "mimetype": "text/x-python",
   "name": "python",
   "nbconvert_exporter": "python",
   "pygments_lexer": "ipython3",
   "version": "3.12.10"
  }
 },
 "nbformat": 4,
 "nbformat_minor": 2
}
