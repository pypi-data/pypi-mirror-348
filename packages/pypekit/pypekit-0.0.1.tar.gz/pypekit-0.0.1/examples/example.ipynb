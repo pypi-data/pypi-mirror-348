{
 "cells": [
  {
   "cell_type": "markdown",
   "id": "67596aca",
   "metadata": {},
   "source": [
    "# Basic Example"
   ]
  },
  {
   "cell_type": "code",
   "execution_count": 7,
   "id": "13a0f426",
   "metadata": {},
   "outputs": [
    {
     "name": "stdout",
     "output_type": "stream",
     "text": [
      "Pipeline(id=b59c5d9098aa49439d6407c031e22b66, tasks=['data_loader', 'processor_1', 'processor_2', 'classifier_1'])\n",
      "Pipeline(id=111065e9b0f842039de94f8a0a0139e0, tasks=['data_loader', 'processor_1', 'processor_2', 'classifier_2'])\n",
      "Pipeline(id=ad1015b4dbd14503acb9b445828a7c7f, tasks=['data_loader', 'processor_1', 'classifier_1'])\n",
      "Pipeline(id=ccd1883f11df49f59172cdfa292bed5b, tasks=['data_loader', 'processor_1', 'classifier_2'])\n",
      "Pipeline(id=372722bf8bbf47329c2ecc8653360d13, tasks=['data_loader', 'processor_2', 'processor_1', 'classifier_1'])\n",
      "Pipeline(id=cde99c5c84c44b588ad9efd0d65cafbe, tasks=['data_loader', 'processor_2', 'processor_1', 'classifier_2'])\n",
      "Pipeline(id=ab981b9f25054cb4b3705efc10812c65, tasks=['data_loader', 'processor_2', 'classifier_1'])\n",
      "Pipeline(id=fc6f9ae930114ba2aaf425393a81ddc1, tasks=['data_loader', 'processor_2', 'classifier_2'])\n"
     ]
    }
   ],
   "source": [
    "from pypekit import Task, Repository, CachedExecutor, Pipeline\n",
    "\n",
    "class DataLoader(Task):\n",
    "    input_types = [\"source\"]\n",
    "    output_types = [\"raw\"]\n",
    "\n",
    "    def run(self, _):\n",
    "        print(f\"Running DataLoader\")\n",
    "        return \"output\"\n",
    "\n",
    "class Processor(Task):\n",
    "    input_types = [\"raw\", \"processed\"]\n",
    "    output_types = [\"processed\"]\n",
    "\n",
    "    def run(self, _):\n",
    "        print(f\"Running Processor\")\n",
    "        return \"output\"\n",
    "\n",
    "class Classifier(Task):\n",
    "    input_types = [\"processed\"]\n",
    "    output_types = [\"sink\"]\n",
    "\n",
    "    def run(self, _):\n",
    "        print(f\"Running Classifier\")\n",
    "        return \"output\"\n",
    "\n",
    "repository = Repository([\n",
    "    (\"data_loader\", DataLoader()),\n",
    "    (\"processor_1\", Processor()),\n",
    "    (\"processor_2\", Processor()),\n",
    "    (\"classifier_1\", Classifier()),\n",
    "    (\"classifier_2\", Classifier()),\n",
    "])\n",
    "pipeline_dict = repository.build_pipelines()\n",
    "for p in pipeline_dict.values():\n",
    "    print(p)"
   ]
  },
  {
   "cell_type": "code",
   "execution_count": 8,
   "id": "860359c6",
   "metadata": {},
   "outputs": [
    {
     "name": "stdout",
     "output_type": "stream",
     "text": [
      "Running DataLoader\n",
      "Running Processor\n",
      "Running Processor\n",
      "Running Classifier\n",
      "Ran pipeline b59c5d9098aa49439d6407c031e22b66. Runtime: 0.00s. 1/8 pipelines completed.\n",
      "Running Classifier\n",
      "Ran pipeline 111065e9b0f842039de94f8a0a0139e0. Runtime: 0.00s. 2/8 pipelines completed.\n",
      "Running Classifier\n",
      "Ran pipeline ad1015b4dbd14503acb9b445828a7c7f. Runtime: 0.00s. 3/8 pipelines completed.\n",
      "Running Classifier\n",
      "Ran pipeline ccd1883f11df49f59172cdfa292bed5b. Runtime: 0.00s. 4/8 pipelines completed.\n",
      "Running Processor\n",
      "Running Processor\n",
      "Running Classifier\n",
      "Ran pipeline 372722bf8bbf47329c2ecc8653360d13. Runtime: 0.00s. 5/8 pipelines completed.\n",
      "Running Classifier\n",
      "Ran pipeline cde99c5c84c44b588ad9efd0d65cafbe. Runtime: 0.00s. 6/8 pipelines completed.\n",
      "Running Classifier\n",
      "Ran pipeline ab981b9f25054cb4b3705efc10812c65. Runtime: 0.00s. 7/8 pipelines completed.\n",
      "Running Classifier\n",
      "Ran pipeline fc6f9ae930114ba2aaf425393a81ddc1. Runtime: 0.00s. 8/8 pipelines completed.\n"
     ]
    }
   ],
   "source": [
    "executor = CachedExecutor(pipeline_dict, verbose=True)\n",
    "results = executor.run()"
   ]
  },
  {
   "cell_type": "code",
   "execution_count": 9,
   "id": "fb407c6e",
   "metadata": {},
   "outputs": [
    {
     "name": "stdout",
     "output_type": "stream",
     "text": [
      "{'pipeline_id': 'b59c5d9098aa49439d6407c031e22b66', 'output': 'output', 'runtime': 9.860000000000424e-05, 'tasks': ['data_loader', 'processor_1', 'processor_2', 'classifier_1']}\n",
      "{'pipeline_id': '111065e9b0f842039de94f8a0a0139e0', 'output': 'output', 'runtime': 9.839999999999849e-05, 'tasks': ['data_loader', 'processor_1', 'processor_2', 'classifier_2']}\n",
      "{'pipeline_id': 'ad1015b4dbd14503acb9b445828a7c7f', 'output': 'output', 'runtime': 9.159999999996948e-05, 'tasks': ['data_loader', 'processor_1', 'classifier_1']}\n",
      "{'pipeline_id': 'ccd1883f11df49f59172cdfa292bed5b', 'output': 'output', 'runtime': 9.209999999998386e-05, 'tasks': ['data_loader', 'processor_1', 'classifier_2']}\n",
      "{'pipeline_id': '372722bf8bbf47329c2ecc8653360d13', 'output': 'output', 'runtime': 9.26999999999456e-05, 'tasks': ['data_loader', 'processor_2', 'processor_1', 'classifier_1']}\n",
      "{'pipeline_id': 'cde99c5c84c44b588ad9efd0d65cafbe', 'output': 'output', 'runtime': 9.329999999996286e-05, 'tasks': ['data_loader', 'processor_2', 'processor_1', 'classifier_2']}\n",
      "{'pipeline_id': 'ab981b9f25054cb4b3705efc10812c65', 'output': 'output', 'runtime': 8.699999999994823e-05, 'tasks': ['data_loader', 'processor_2', 'classifier_1']}\n",
      "{'pipeline_id': 'fc6f9ae930114ba2aaf425393a81ddc1', 'output': 'output', 'runtime': 8.749999999996261e-05, 'tasks': ['data_loader', 'processor_2', 'classifier_2']}\n"
     ]
    }
   ],
   "source": [
    "for r in results.values():\n",
    "    print(r)"
   ]
  },
  {
   "cell_type": "markdown",
   "id": "1df8b226",
   "metadata": {},
   "source": [
    "# Reusing Cache"
   ]
  },
  {
   "cell_type": "code",
   "execution_count": 10,
   "id": "5c4ced3e",
   "metadata": {},
   "outputs": [
    {
     "name": "stdout",
     "output_type": "stream",
     "text": [
      "Ran pipeline b59c5d9098aa49439d6407c031e22b66. Runtime: 0.00s. 1/8 pipelines completed.\n",
      "Ran pipeline 111065e9b0f842039de94f8a0a0139e0. Runtime: 0.00s. 2/8 pipelines completed.\n",
      "Ran pipeline ad1015b4dbd14503acb9b445828a7c7f. Runtime: 0.00s. 3/8 pipelines completed.\n",
      "Ran pipeline ccd1883f11df49f59172cdfa292bed5b. Runtime: 0.00s. 4/8 pipelines completed.\n",
      "Ran pipeline 372722bf8bbf47329c2ecc8653360d13. Runtime: 0.00s. 5/8 pipelines completed.\n",
      "Ran pipeline cde99c5c84c44b588ad9efd0d65cafbe. Runtime: 0.00s. 6/8 pipelines completed.\n",
      "Ran pipeline ab981b9f25054cb4b3705efc10812c65. Runtime: 0.00s. 7/8 pipelines completed.\n",
      "Ran pipeline fc6f9ae930114ba2aaf425393a81ddc1. Runtime: 0.00s. 8/8 pipelines completed.\n"
     ]
    }
   ],
   "source": [
    "new_executor = CachedExecutor(pipeline_dict, cache=executor.cache, verbose=True)\n",
    "new_executor.run();"
   ]
  },
  {
   "cell_type": "markdown",
   "id": "b276873a",
   "metadata": {},
   "source": [
    "# Custom Pipelines"
   ]
  },
  {
   "cell_type": "code",
   "execution_count": 11,
   "id": "98a32e32",
   "metadata": {},
   "outputs": [
    {
     "data": {
      "text/plain": [
       "Pipeline(id=289fabf2824444d8be358f2e1d5762bf, tasks=['processor_1', 'processor_2'])"
      ]
     },
     "execution_count": 11,
     "metadata": {},
     "output_type": "execute_result"
    }
   ],
   "source": [
    "pipeline = Pipeline([\n",
    "    (\"processor_1\", Processor()),\n",
    "    (\"processor_2\", Processor()),\n",
    "])\n",
    "pipeline"
   ]
  },
  {
   "cell_type": "markdown",
   "id": "ca76530f",
   "metadata": {},
   "source": [
    "# Pipelines as Tasks"
   ]
  },
  {
   "cell_type": "code",
   "execution_count": 12,
   "id": "ebfd5adb",
   "metadata": {},
   "outputs": [
    {
     "name": "stdout",
     "output_type": "stream",
     "text": [
      "Pipeline(id=e97c3a761a8f46c18ea06dfeb08219db, tasks=['data_loader', 'processor_1', 'pipeline', 'classifier_1'])\n",
      "Pipeline(id=616045114efc43dfa2c6549382e1012b, tasks=['data_loader', 'processor_1', 'pipeline', 'classifier_2'])\n",
      "Pipeline(id=053a6c19b4c04a9da2fb98f4eba35b77, tasks=['data_loader', 'processor_1', 'classifier_1'])\n",
      "Pipeline(id=5688d17fddde4496ba3f0131368f25dc, tasks=['data_loader', 'processor_1', 'classifier_2'])\n",
      "Pipeline(id=f801f9c39bfd4a8eac4c4ce452f2c9bf, tasks=['data_loader', 'pipeline', 'processor_1', 'classifier_1'])\n",
      "Pipeline(id=bd6622e7acb448fc8959b339fb64b93f, tasks=['data_loader', 'pipeline', 'processor_1', 'classifier_2'])\n",
      "Pipeline(id=e002c0e61a2d485daa82f3958f0e6253, tasks=['data_loader', 'pipeline', 'classifier_1'])\n",
      "Pipeline(id=c4a4fafca6de48db8f02916e45cf8518, tasks=['data_loader', 'pipeline', 'classifier_2'])\n"
     ]
    }
   ],
   "source": [
    "repository = Repository([\n",
    "    (\"data_loader\", DataLoader()),\n",
    "    (\"processor_1\", Processor()),\n",
    "    (\"pipeline\", pipeline),\n",
    "    (\"classifier_1\", Classifier()),\n",
    "    (\"classifier_2\", Classifier()),\n",
    "])\n",
    "pipeline_dict = repository.build_pipelines()\n",
    "for pipeline in pipeline_dict.values():\n",
    "    print(pipeline)\n"
   ]
  },
  {
   "cell_type": "code",
   "execution_count": null,
   "id": "a4fa5310",
   "metadata": {},
   "outputs": [],
   "source": []
  }
 ],
 "metadata": {
  "kernelspec": {
   "display_name": "test",
   "language": "python",
   "name": "python3"
  },
  "language_info": {
   "codemirror_mode": {
    "name": "ipython",
    "version": 3
   },
   "file_extension": ".py",
   "mimetype": "text/x-python",
   "name": "python",
   "nbconvert_exporter": "python",
   "pygments_lexer": "ipython3",
   "version": "3.13.2"
  }
 },
 "nbformat": 4,
 "nbformat_minor": 5
}
