{
 "cells": [
  {
   "cell_type": "code",
   "execution_count": null,
   "id": "35293c6d",
   "metadata": {},
   "outputs": [],
   "source": [
    "import pycountry\n",
    "from haversine import Unit\n",
    "from repeaterbook.models import ExportQuery\n",
    "from repeaterbook.utils import LatLon, Radius\n",
    "\n",
    "from ogdrb.services import get_repeaters\n",
    "\n",
    "radius_a = Radius(\n",
    "    origin=LatLon(\n",
    "        lat=-23.223622362604203,\n",
    "        lon=-45.919482046196755,\n",
    "    ),\n",
    "    distance=100,\n",
    "    unit=Unit.KILOMETERS,\n",
    ")\n",
    "\n",
    "radius_b = Radius(\n",
    "    origin=LatLon(\n",
    "        lat=-23.3,\n",
    "        lon=-45.0,\n",
    "    ),\n",
    "    distance=100,\n",
    "    unit=Unit.KILOMETERS,\n",
    ")\n",
    "\n",
    "repeaters_by_zone = await get_repeaters(\n",
    "    export=ExportQuery(countries={pycountry.countries.lookup(\"BR\")}),\n",
    "    zones={\n",
    "        \"zone_a\": radius_a,\n",
    "        \"zone_b\": radius_b,\n",
    "    },\n",
    ")\n",
    "#' pprint(repeaters_by_zone)"
   ]
  },
  {
   "cell_type": "code",
   "execution_count": null,
   "id": "2b5a1957",
   "metadata": {},
   "outputs": [],
   "source": [
    "from ogdrb.organizer import organize\n",
    "\n",
    "codeplug = organize(repeaters_by_zone)\n",
    "#' pprint(codeplug)"
   ]
  }
 ],
 "metadata": {
  "kernelspec": {
   "display_name": ".venv",
   "language": "python",
   "name": "python3"
  },
  "language_info": {
   "codemirror_mode": {
    "name": "ipython",
    "version": 3
   },
   "file_extension": ".py",
   "mimetype": "text/x-python",
   "name": "python",
   "nbconvert_exporter": "python",
   "pygments_lexer": "ipython3",
   "version": "3.13.3"
  }
 },
 "nbformat": 4,
 "nbformat_minor": 5
}
