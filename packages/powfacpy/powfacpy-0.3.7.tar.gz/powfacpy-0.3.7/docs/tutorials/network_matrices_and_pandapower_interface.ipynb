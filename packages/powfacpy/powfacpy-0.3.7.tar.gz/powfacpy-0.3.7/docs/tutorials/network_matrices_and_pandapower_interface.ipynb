{
  "cells": [
    {
      "cell_type": "markdown",
      "metadata": {},
      "source": [
        "---\n",
        "title: Network Matrices and Pandapower Interface\n",
        "toc: true\n",
        "number-sections: true\n",
        "mainfont: Arial\n",
        "format:\n",
        "  html: default\n",
        "jupyter: python3\n",
        "---"
      ]
    },
    {
      "cell_type": "code",
      "execution_count": null,
      "metadata": {},
      "outputs": [],
      "source": [
        "#| echo: false\n",
        "#| output: false\n",
        "%load_ext autoreload\n",
        "%autoreload 2\n",
        "import sys\n",
        "sys.path.append(r\"..\\..\\src\")\n",
        "\n",
        "import matplotlib\n",
        "matplotlib.rcParams.update({\"axes.grid\" : True}) # add grid by default"
      ]
    },
    {
      "cell_type": "markdown",
      "metadata": {},
      "source": [
        "This tutorial shows how to access network matrices (such as the *admittance matrix* of the *load flow Jacobian*). *PowerFactory* does not allow this access directly, so the dataset is first exported to the [*pandapower* format](https://pandapower.readthedocs.io/en/stable/index.html). The matrices can then be extracted from this format.\n",
        "\n",
        "You can learn more from the *pandapower* documentation:\n",
        "\n",
        "- [*PowerFactory* to *pandapower* converter](https://pandapower.readthedocs.io/en/stable/converter/powerfactory.html)\n",
        "- [Tutorial on network matrices](https://github.com/e2nIEE/pandapower/blob/develop/tutorials/internal_datastructure.ipynb)\n",
        "\n",
        "::: {.callout-warning}\n",
        "Note that not all networks elements/components are supported by pandapower (see the [list of supported components](https://pandapower.readthedocs.io/en/stable/converter/powerfactory.html)) and the functionality shown in this tutorial may not be applicable to some *PowerFactory* datasets.\n",
        "\n",
        ":::\n",
        "\n",
        "## Imports and Project Activation\n",
        "First we import some packages and activate the *PowerFactory* project from which we want to export the dataset (the *IEEE 39 bus system* example) and get the network matrices."
      ]
    },
    {
      "cell_type": "code",
      "execution_count": null,
      "metadata": {},
      "outputs": [],
      "source": [
        "import os\n",
        "\n",
        "import numpy as np\n",
        "from icecream import ic\n",
        "import pandas as pd\n",
        "import pandapower as pp\n",
        "\n",
        "from powfacpy.base.active_project import ActiveProject\n",
        "from powfacpy.pf_classes.protocols import PFApp\n",
        "\n",
        "# If you use IPython/Jupyter:\n",
        "import sys\n",
        "\n",
        "sys.path.append(\n",
        "    r\"C:\\Program Files\\DIgSILENT\\PowerFactory 2023 SP5\\Python\\3.11\"\n",
        ")  # you may use a different directory\n",
        "# Get the PF app\n",
        "import powerfactory\n",
        "\n",
        "app = powerfactory.GetApplication()\n",
        "\n",
        "pf_app: PFApp = powerfactory.GetApplication()\n",
        "act_prj = ActiveProject(pf_app)\n",
        "act_prj.app.Show()\n",
        "act_prj.app.ActivateProject(\n",
        "    \"powfacpy\\\\39_bus_new_england_copy_where_tests_run\"\n",
        ")  # You may change the project path.\n",
        "act_prj.activate_study_case(\"Study Cases\\\\2.1 Simulation Fault Bus 16 Stable\")"
      ]
    },
    {
      "cell_type": "markdown",
      "metadata": {},
      "source": [
        "## Export Dataset to Pandapower\n",
        "The dataset can be exported to *pandapower* format using the `pf_project_to_pandapower` function. It requires the *PowerFactory* app and the path to the project as inpit arguments."
      ]
    },
    {
      "cell_type": "code",
      "execution_count": null,
      "metadata": {},
      "outputs": [],
      "source": [
        "from powfacpy.applications.pandapower_interface import PandapowerInterface\n",
        "\n",
        "try:\n",
        "    act_prj.app.Hide()\n",
        "    ppi = PandapowerInterface(app)\n",
        "    net = ppi.pf_project_to_pandapower()\n",
        "finally:\n",
        "    act_prj.app.Show()\n",
        "net"
      ]
    },
    {
      "cell_type": "markdown",
      "metadata": {},
      "source": [
        "`net` gives an overview of the exported network components and result tables (*pandapower* result format). *PandaPower* is based on *pandas* dataframes. You can query for example the data of the buses using:"
      ]
    },
    {
      "cell_type": "code",
      "execution_count": null,
      "metadata": {},
      "outputs": [],
      "source": [
        "net.bus"
      ]
    },
    {
      "cell_type": "markdown",
      "metadata": {},
      "source": [
        "Note that the `name` column is filled with the `loc_name` attributes of the *PowerFactory* objects. `name` can be used as a mapping to the respective *PowerFactory* object only if the `loc_name` of all objects of a certain class are unique (e.g. no `ElmTerm` instances have the same `loc_name`). The `Database` interface can be used to enumerate equivalent names of calculation relevant objects in the *PowerFactory* database. "
      ]
    },
    {
      "cell_type": "code",
      "execution_count": null,
      "metadata": {},
      "outputs": [],
      "source": [
        "from powfacpy.applications.database import Database\n",
        "\n",
        "try:\n",
        "    act_prj.app.Hide()\n",
        "    dbi = Database(app)\n",
        "    dbi.make_loc_name_of_calc_relevant_objects_unique()\n",
        "    net = ppi.pf_project_to_pandapower()\n",
        "finally:\n",
        "    act_prj.app.Show()"
      ]
    },
    {
      "cell_type": "markdown",
      "metadata": {},
      "source": [
        "To test whether the exported dataset is feasible, we can run a power flow using *pandapower*:"
      ]
    },
    {
      "cell_type": "code",
      "execution_count": null,
      "metadata": {},
      "outputs": [],
      "source": [
        "pp.runpp(net)"
      ]
    },
    {
      "cell_type": "markdown",
      "metadata": {},
      "source": [
        "The following shows how to access the results for a certain bus."
      ]
    },
    {
      "cell_type": "code",
      "execution_count": null,
      "metadata": {},
      "outputs": [],
      "source": [
        "bus_name = \"Bus 05\"\n",
        "index_of_element = net.bus[net.bus[\"name\"] == bus_name].index[0]\n",
        "net.res_bus.iloc[index_of_element]"
      ]
    },
    {
      "cell_type": "markdown",
      "metadata": {},
      "source": [
        "## Network Matrices\n",
        "### Admittance Matrix\n",
        "We can no extract the *Ybus* (i.e admittance) matrix. By default, the returned *numpy* matrix is sparse, so we create a dense matrix for printing."
      ]
    },
    {
      "cell_type": "code",
      "execution_count": null,
      "metadata": {},
      "outputs": [],
      "source": [
        "Yb = ppi.get_Ybus_matrix(net)\n",
        "\n",
        "print(Yb.todense())"
      ]
    },
    {
      "cell_type": "markdown",
      "metadata": {},
      "source": [
        "The base apparent power is `net._ppc[\"baseMVA\"]`."
      ]
    },
    {
      "cell_type": "code",
      "execution_count": null,
      "metadata": {},
      "outputs": [],
      "source": [
        "net._ppc[\"baseMVA\"]"
      ]
    },
    {
      "cell_type": "markdown",
      "metadata": {},
      "source": [
        "This does not provide any information about the corresponding nodes of the rows and columns. The function `get_Ybus_frame` provides this information."
      ]
    },
    {
      "cell_type": "code",
      "execution_count": null,
      "metadata": {},
      "outputs": [],
      "source": [
        "df = ppi.get_Ybus_frame(net)\n",
        "df"
      ]
    },
    {
      "cell_type": "markdown",
      "metadata": {},
      "source": [
        "The names in the labels correspond to the `loc_name` attributes of the *PowerFactory* objects. Provided that the names are unique, we can also replace them with the actual *PowerFactory* objects (this can be more convenient to query data, but printing the frame is ugly because the full path is used in the labels) using the `PandasInterface` of *powfacpy*."
      ]
    },
    {
      "cell_type": "code",
      "execution_count": null,
      "metadata": {},
      "outputs": [],
      "source": [
        "from powfacpy.applications.pandas_interface import PandasInterface\n",
        "\n",
        "pdi = PandasInterface(app)\n",
        "\n",
        "df = pdi.replace_loc_name_with_pf_objects_in_labels(\n",
        "    df, \"ElmTerm\", index_and_column_labels_are_equal=True\n",
        ")\n",
        "df"
      ]
    },
    {
      "cell_type": "markdown",
      "metadata": {},
      "source": [
        "### Connectivity (Adjacency) Matrix\n",
        "The connectivity matrix (also called adjacency matrix) is a symmetric matrix that has entries $1$ (or True) for connected nodes and $0$ (or False) for nodes that are not connected. "
      ]
    },
    {
      "cell_type": "code",
      "execution_count": null,
      "metadata": {},
      "outputs": [],
      "source": [
        "ppi.get_connectivity_frame(net)"
      ]
    },
    {
      "cell_type": "markdown",
      "metadata": {},
      "source": [
        "To get boolean values instead of zero and one, use `ppi.get_connectivity_frame(net, boolean=True)`.\n",
        "\n",
        "## Load Flow Jacobian\n",
        "The load flow Jacobian matrix can be exported as well."
      ]
    },
    {
      "cell_type": "code",
      "execution_count": null,
      "metadata": {},
      "outputs": [],
      "source": [
        "net._ppc[\"internal\"][\"J\"].todense()"
      ]
    },
    {
      "cell_type": "markdown",
      "metadata": {},
      "source": [
        "An explanation of the Jacobian matrix entries is provided in [the pandapower tutorial](https://github.com/e2nIEE/pandapower/blob/develop/tutorials/internal_datastructure.ipynb) that was mentioned above already.\n",
        "\n",
        "## Format Comparison {#sec-format-comparison}\n",
        "The dataformats of *pandapower* and *PowerFactory* are not fully compatible. An overview and functionality to rudimentary validate the exported data is presented in the following.\n",
        "\n",
        "Remember the exported dataset in *pandapower* format:"
      ]
    },
    {
      "cell_type": "code",
      "execution_count": null,
      "metadata": {},
      "outputs": [],
      "source": [
        "net"
      ]
    },
    {
      "cell_type": "markdown",
      "metadata": {},
      "source": [
        "There are a few things to consider here (not everything is relevant for this example):\n",
        "\n",
        "- *bus* considers all terminals, even those that are not energized\n",
        "- *gen* are *PV*-controlled generators (active power and voltage)\n",
        "- *sgen* are *PQ*-controlled generators\n",
        "- *ext_grid* are generators/external grids which act as slack buses\n",
        "- *switch* considers only breakers/switches for branches, i.e. between buses or between buses and branch elements like lines and transformers (i.e. switches connecting generators are not considered for example)\n",
        "\n",
        "\n",
        "## Validation\n",
        "### Using *pandapower*\n",
        "*pandapower* has a function `validate_pf_conversion` (due to a [bug in *pandapower*](https://github.com/e2nIEE/pandapower/issues/2363) this function fails if load flow results are initially present) which compares load flow results and returns the differences. "
      ]
    },
    {
      "cell_type": "code",
      "execution_count": null,
      "metadata": {},
      "outputs": [],
      "source": [
        "from pandapower.converter.powerfactory.validate import validate_pf_conversion\n",
        "\n",
        "try:\n",
        "    act_prj.app.Hide()\n",
        "    net = ppi.pf_project_to_pandapower()\n",
        "    all_diffs = validate_pf_conversion(net)\n",
        "finally:\n",
        "    act_prj.app.Show()\n",
        "all_diffs"
      ]
    },
    {
      "cell_type": "markdown",
      "metadata": {},
      "source": [
        "### Using *powfacpy*\n",
        "*powfacpy* offers a rudimentary validation of the exported dataset focusing only on data relevant for the admittance matrix. It is assumed that the currently active project in *PowerFactory* was used for the export. We can check the difference between both datasets by using `get_difference_between_pf_and_pandapower_dataset`. \n",
        "\n",
        "We artificially set (and later undo) a deviation in the *pandapower* dataset here. A *Dataframe* with the divergent parameters is returned."
      ]
    },
    {
      "cell_type": "code",
      "execution_count": null,
      "metadata": {},
      "outputs": [],
      "source": [
        "from pandas import DataFrame\n",
        "\n",
        "try:\n",
        "    pf_app.Hide()\n",
        "    net[\"bus\"].loc[0, \"vn_kv\"] = net[\"bus\"].loc[0, \"vn_kv\"] + 1\n",
        "\n",
        "    divergent_parameters = ppi.get_difference_between_pf_and_pandapower_dataset(net)\n",
        "    net[\"bus\"].loc[0, \"vn_kv\"] = net[\"bus\"].loc[0, \"vn_kv\"] - 1\n",
        "\n",
        "finally:\n",
        "    pf_app.Show()\n",
        "\n",
        "divergent_parameters"
      ]
    },
    {
      "cell_type": "markdown",
      "metadata": {},
      "source": [
        "`get_difference_between_pf_and_pandapower_dataset` assumes default settings for the units in the *PowerFactory* project (see *Settings\\Units*).\n",
        "\n",
        "As mentioned, only a subset of classes and parameters is validated. The following mapping is used:"
      ]
    },
    {
      "cell_type": "code",
      "execution_count": null,
      "metadata": {},
      "outputs": [],
      "source": [
        "ppi.get_pandapower_2_pf_class_mapping()"
      ]
    },
    {
      "cell_type": "markdown",
      "metadata": {},
      "source": [
        "The parameter mapping is defined in `get_pandapower_2_pf_parameter_mapping`. It is best understood by looking at the source code and we use *python's* `inspect` module to print the method. The mapping is either between the *pandapower parameter strings or between a *pandapower* parameter string and and a callable with the *PowerFactory* object as argument and returning the parameter value (used for example to get parameters from the *type* object). "
      ]
    },
    {
      "cell_type": "code",
      "execution_count": null,
      "metadata": {},
      "outputs": [],
      "source": [
        "import inspect\n",
        "\n",
        "print(f\"{inspect.getsource(ppi.get_pandapower_2_pf_parameter_mapping)}\")"
      ]
    }
  ],
  "metadata": {
    "kernelspec": {
      "display_name": "venv",
      "language": "python",
      "name": "python3"
    },
    "language_info": {
      "name": "python",
      "version": "3.11.7"
    }
  },
  "nbformat": 4,
  "nbformat_minor": 4
}
