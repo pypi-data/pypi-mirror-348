{
 "cells": [
  {
   "cell_type": "markdown",
   "metadata": {},
   "source": [
    "---\n",
    "title: Topology and Groupings\n",
    "toc: true\n",
    "number-sections: true\n",
    "mainfont: Arial\n",
    "format:\n",
    "  html: default\n",
    "jupyter: python3\n",
    "---"
   ]
  },
  {
   "cell_type": "code",
   "execution_count": 18,
   "metadata": {},
   "outputs": [
    {
     "name": "stdout",
     "output_type": "stream",
     "text": [
      "The autoreload extension is already loaded. To reload it, use:\n",
      "  %reload_ext autoreload\n"
     ]
    }
   ],
   "source": [
    "#| echo: false\n",
    "#| output: false\n",
    "%load_ext autoreload\n",
    "%autoreload 2\n",
    "import sys\n",
    "sys.path.append(r\"..\\..\\src\")\n",
    "\n",
    "import matplotlib\n",
    "matplotlib.rcParams.update({\"axes.grid\" : True}) # add grid by default"
   ]
  },
  {
   "cell_type": "markdown",
   "metadata": {},
   "source": [
    "This tutorial focuses on network topologies, specifically the organization of network elements into boundaries, zones and areas. The main topics covered include:\n",
    "\n",
    "- Creating and using boundaries\n",
    "- Creating and using zones\n",
    "- Creating and using areas\n",
    "- Additional useful methods of *powfacpy* for groupings (boundaries, areas, zones)\n",
    "\n",
    "\n",
    "First, we activate the PowerFactory project of the *IEEE 39 bus system* example, create a copy of a stable study case and activate it."
   ]
  },
  {
   "cell_type": "code",
   "execution_count": 19,
   "metadata": {},
   "outputs": [
    {
     "data": {
      "text/plain": [
       "<powerfactory.DataObject <l1>\\seberlein.IntUser\\powfacpy\\39_bus_new_england_copy_where_tests_run.IntPrj\\Network Model.IntPrjfolder\\Variations.IntPrjfolder\\Topology tutorial.IntScheme</l1>>"
      ]
     },
     "execution_count": 19,
     "metadata": {},
     "output_type": "execute_result"
    }
   ],
   "source": [
    "# If you use IPython/Jupyter:\n",
    "import sys\n",
    "\n",
    "sys.path.append(\n",
    "    r\"C:\\Program Files\\DIgSILENT\\PowerFactory 2023 SP5\\Python\\3.11\"\n",
    ")  # you may use a different directory\n",
    "# Get the PF app\n",
    "import powerfactory\n",
    "from powfacpy.base.active_project import ActiveProject\n",
    "from powfacpy.pf_classes.protocols import PFApp\n",
    "\n",
    "app = powerfactory.GetApplication()\n",
    "\n",
    "pf_app: PFApp = powerfactory.GetApplication()\n",
    "act_prj = ActiveProject(pf_app)\n",
    "act_prj.app.Show()\n",
    "act_prj.app.ActivateProject(\n",
    "    \"powfacpy\\\\39_bus_new_england_copy_where_tests_run\"\n",
    ")  # You may change the project path.\n",
    "study_case = act_prj.copy_single_obj(\"Study Cases\\\\2.3 Simulation Fault Bus 31 Stable\", \"Study Cases\", new_name=\"Topology tutorial\")\n",
    "study_case.Activate()\n",
    "act_prj.create_variation(\"Topology tutorial\")"
   ]
  },
  {
   "cell_type": "markdown",
   "metadata": {},
   "source": [
    "There are various classes to group network objects in *PowerFactory* including\n",
    "- areas (ElmArea),\n",
    "- zones (ElmZone),\n",
    "- boundaries (ElmBoundary).\n",
    "\n",
    "Areas and zones are very similar. One of their disadvantages is that it is not possible for one network element to be part of more than one area/zone. Boundaries on the other hand are more flexible and there is no such restriction, i.e. one element can be included in more than one boundary. Note also that the zone/area classes provide a method to define a boundary (`DefineBoundary`) that includes their internal elements. More information can be found in the *PowerFactory* manual in the chapter on *Grouping Objects*.\n",
    "\n",
    "We will examine an example in which the terminals of the IEEE 39 bus system are categorized into several regions. Each terminal is assigned to a specific region. These regions have been preselected based on coherency identification, as referenced in @khalilDynamicCoherencyIdentification2016. The configuration includes one large region and several smaller regions, as detailed in the following list of elements."
   ]
  },
  {
   "cell_type": "code",
   "execution_count": 20,
   "metadata": {},
   "outputs": [],
   "source": [
    "coherent_regions_terminals = [\n",
    "    [\n",
    "        \"Bus 02\",\n",
    "        \"Bus 03\",\n",
    "        \"Bus 04\",\n",
    "        \"Bus 05\",\n",
    "        \"Bus 06\",\n",
    "        \"Bus 07\",\n",
    "        \"Bus 08\",\n",
    "        \"Bus 10\",\n",
    "        \"Bus 11\",\n",
    "        \"Bus 12\",\n",
    "        \"Bus 13\",\n",
    "        \"Bus 14\",\n",
    "        \"Bus 15\",\n",
    "        \"Bus 16\",\n",
    "        \"Bus 17\",\n",
    "        \"Bus 18\",\n",
    "        \"Bus 19\",\n",
    "        \"Bus 20\",\n",
    "        \"Bus 21\",\n",
    "        \"Bus 22\",\n",
    "        \"Bus 23\",\n",
    "        \"Bus 24\",\n",
    "        \"Bus 25\",\n",
    "        \"Bus 26\",\n",
    "        \"Bus 27\",\n",
    "        \"Bus 28\",\n",
    "        \"Bus 29\",\n",
    "        \"Bus 32\",\n",
    "        \"Bus 33\",\n",
    "        \"Bus 34\",\n",
    "        \"Bus 35\",\n",
    "        \"Bus 37\",\n",
    "        \"Bus 38\",\n",
    "    ],\n",
    "    [\"Bus 01\", \"Bus 09\", \"Bus 39\"],\n",
    "    [\"Bus 31\"],\n",
    "    [\"Bus 36\"],\n",
    "    [\"Bus 30\"],\n",
    "]"
   ]
  },
  {
   "cell_type": "markdown",
   "metadata": {},
   "source": [
    "# Boundaries\n",
    "We will use the `Topology` class of *powfacpy* to create the regions. The lists with terminal names in `coherent_regions_terminals` assigned above are iterated and the method `create_boundary_using_intermediate_zone` is used, which creates a boundary by creating a zone in an intermediate step (first creating a zone is a convenient way to create a boundary). The method allows to exclude elements. In the example below, all loads (`ElmLod`) are excluded from the boundaries."
   ]
  },
  {
   "cell_type": "code",
   "execution_count": 21,
   "metadata": {},
   "outputs": [],
   "source": [
    "from powfacpy.applications.topology import Topology\n",
    "from powfacpy.pf_classes.elm.boundary import Boundary\n",
    "\n",
    "try:\n",
    "    app.Hide()\n",
    "    act_prj.clear_folder(act_prj.boundaries_folder)\n",
    "    topo = Topology()\n",
    "    boundaries: list[Boundary] = []\n",
    "    for n, terminals in enumerate(coherent_regions_terminals):\n",
    "        terminal_objs = [act_prj.get_calc_relevant_obj(term + \".ElmTerm\")[0] for term in terminals]\n",
    "        boundary = topo.create_boundary_using_intermediate_zone(\n",
    "            \"Region \" + str(n+1),\n",
    "            terminal_objs,\n",
    "            exclude_node_elms=lambda x: x.GetClassName() == \"ElmLod\",\n",
    "            color=n+2,\n",
    "        )\n",
    "        boundaries.append(Boundary(boundary))\n",
    "finally:\n",
    "    app.Show()"
   ]
  },
  {
   "cell_type": "markdown",
   "metadata": {},
   "source": [
    "::: {.callout-warning}\n",
    "Note that the method `create_boundary_using_intermediate_zone` might change existing zones in the network model if their elements are included in the boundary (because elements can only be part of one zone). To avoid this use 'create_boundary_without_changing_initial_zones' instead.\n",
    "\n",
    ":::\n",
    "\n",
    "The objects of class `Boundary` are stored in the `boundaries` list in the loop above. The `Boundary` class of *powfacpy* offers some convenient methods, for example to visualize the interior of (all) boundaries in the single line diagram."
   ]
  },
  {
   "cell_type": "code",
   "execution_count": 22,
   "metadata": {},
   "outputs": [],
   "source": [
    "from powfacpy.applications.plots import Plots\n",
    "from os import getcwd\n",
    "\n",
    "pf_plt = Plots(app)\n",
    "pf_plt.set_active_graphics_page(\"Grid\")\n",
    "boundary_1 = boundaries[0]\n",
    "boundary_1.show_boundary_interior_regions_in_network_graphic()\n"
   ]
  },
  {
   "cell_type": "markdown",
   "metadata": {},
   "source": [
    "The regions are now illustrated in the single line diagram. Apparently, loads are excluded from the interior of the boundaries. \n",
    "![single_line_diagram_with_boundaries](figures/single_line_diagram_with_boundaries.png)"
   ]
  },
  {
   "cell_type": "markdown",
   "metadata": {},
   "source": [
    "We will now crate plots showing the active and reactive power exchange of the boundaries as well as the frequencies of the terminals."
   ]
  },
  {
   "cell_type": "code",
   "execution_count": 23,
   "metadata": {},
   "outputs": [],
   "source": [
    "from powfacpy.result_variables import ResVar\n",
    "\n",
    "RMS_BAL = ResVar.RMS_Bal\n",
    "\n",
    "try:\n",
    "    app.Hide()\n",
    "    pf_plt.clear_plot_pages()\n",
    "    for n, boundary in enumerate(boundaries):\n",
    "        pf_plt.set_active_plot(\"Active power\", \"Boundaries\")\n",
    "        pf_plt.plot(boundary.obj, \n",
    "                    boundary.get_P_exchange_res_var_rms_bal())\n",
    "        pf_plt.set_active_plot(\"Reactive power\", \"Boundaries\")\n",
    "        pf_plt.plot(boundary.obj,  \n",
    "                    boundary.get_Q_exchange_res_var_rms_bal())\n",
    "        \n",
    "        pf_plt.set_active_plot(\"Frequency\", \"Terminal frequencies\")\n",
    "        for term in coherent_regions_terminals[n]:\n",
    "            terminal_obj = act_prj.get_calc_relevant_obj(term + \".ElmTerm\")[0]\n",
    "            pf_plt.plot(terminal_obj, RMS_BAL.ElmTerm.m_fehz.value, color=n+2)\n",
    "finally:\n",
    "    app.Show()            "
   ]
  },
  {
   "cell_type": "markdown",
   "metadata": {},
   "source": [
    "Executing an RMS simulation gives the following results. As shown in the frequency plot, the frequencies at coherent terminals oscillate in phase. "
   ]
  },
  {
   "cell_type": "code",
   "execution_count": 24,
   "metadata": {},
   "outputs": [],
   "source": [
    "from powfacpy.applications.dynamic_simulation import DynamicSimulation\n",
    "pfds = DynamicSimulation(app)\n",
    "pfds.initialize_and_run_sim(param_simulation={\"tstop\": 10})\n"
   ]
  },
  {
   "cell_type": "markdown",
   "metadata": {},
   "source": [
    "![power-exchange-regions](figures/power-exchange-regions.png)\n",
    "\n",
    "![frequencies-coherent-terminals](figures/frequencies-coherent-terminals.png)"
   ]
  },
  {
   "cell_type": "markdown",
   "metadata": {},
   "source": [
    "# Zones\n",
    "The topology class also allows to create zones. For example a zone for the first region in `coherent_regions_terminals` can be created as follows:"
   ]
  },
  {
   "cell_type": "code",
   "execution_count": 25,
   "metadata": {},
   "outputs": [],
   "source": [
    "from powfacpy.pf_classes.elm.zone import Zone\n",
    "\n",
    "terminal_objs_of_region_1 = [act_prj.get_calc_relevant_obj(term+\".ElmTerm\")[0] for term in coherent_regions_terminals[0]]\n",
    "zone_obj = topo.create_zone(\"Region 1\", terminal_objs_of_region_1)\n"
   ]
  },
  {
   "cell_type": "markdown",
   "metadata": {},
   "source": [
    "The `Zone` class of *powfacpy* can then be used to display zones in the single line diagram. "
   ]
  },
  {
   "cell_type": "code",
   "execution_count": 26,
   "metadata": {},
   "outputs": [],
   "source": [
    "zone_1 = Zone(zone_obj)\n",
    "zone_1.show_zones_in_network_graphic()"
   ]
  },
  {
   "cell_type": "markdown",
   "metadata": {},
   "source": [
    "# Areas\n",
    "The `ElmArea` class of *PowerFactory* is very similar to the `ElmZone` class and so is the `Area` class of *powfacpy* compared to the `Zone` class."
   ]
  },
  {
   "cell_type": "code",
   "execution_count": 27,
   "metadata": {},
   "outputs": [],
   "source": [
    "from powfacpy.pf_classes.elm.area import Area\n",
    "\n",
    "area_obj = topo.create_area(\"Region 1\", terminal_objs_of_region_1)\n",
    "area_1 = Area(zone_obj)\n",
    "area_1.show_areas_in_network_graphic()"
   ]
  },
  {
   "cell_type": "markdown",
   "metadata": {},
   "source": [
    "# Common Methods of Grouping Classes\n",
    "Classes of *powfacpy* that group objects (like `Boundary`, `Zone` and `Area`) have common methods which are defined in the abstract base class `GroupingBase`. Here are some examples using the zone and boundary instances created above."
   ]
  },
  {
   "cell_type": "code",
   "execution_count": 28,
   "metadata": {},
   "outputs": [],
   "source": [
    "try:\n",
    "    app.Hide()\n",
    "    \n",
    "    # All internal elements\n",
    "    elms = boundary_1.get_all_internal_elms()\n",
    "    elms = zone_1.get_all_internal_elms()\n",
    "\n",
    "    # Get internal elements with condition\n",
    "    elms = boundary_1.get_internal_elms(condition=lambda x: x.GetClassName()==\"ElmTerm\" and x.uknom > 300)\n",
    "    elms = zone_1.get_internal_elms(condition=lambda x: x.GetClassName()==\"ElmTerm\" and x.uknom > 300)\n",
    "    \n",
    "    # Get internal elements of class\n",
    "    elms = boundary_1.get_internal_elms_of_class(\"ElmLne\")\n",
    "    elms = zone_1.get_internal_elms_of_class(\"ElmLne\")\n",
    "    \n",
    "    # Get results variable for active power exchange in RMS simulations\n",
    "    p_res_var = boundary_1.get_P_exchange_res_var_rms_bal()\n",
    "    p_res_var = zone_1.get_P_exchange_res_var_rms_bal()\n",
    "    \n",
    "finally:\n",
    "    app.Show()"
   ]
  }
 ],
 "metadata": {
  "kernelspec": {
   "display_name": "venv",
   "language": "python",
   "name": "python3"
  },
  "language_info": {
   "codemirror_mode": {
    "name": "ipython",
    "version": 3
   },
   "file_extension": ".py",
   "mimetype": "text/x-python",
   "name": "python",
   "nbconvert_exporter": "python",
   "pygments_lexer": "ipython3",
   "version": "3.11.7"
  }
 },
 "nbformat": 4,
 "nbformat_minor": 2
}
