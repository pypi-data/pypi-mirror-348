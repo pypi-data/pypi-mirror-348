{
 "cells": [
  {
   "cell_type": "markdown",
   "id": "977eec0f",
   "metadata": {},
   "source": [
    "## MyShareData"
   ]
  },
  {
   "cell_type": "code",
   "execution_count": 1,
   "id": "ca4306ec",
   "metadata": {},
   "outputs": [],
   "source": [
    "import akshare as ak\n",
    "from mysharelib import MyShareData\n",
    "\n",
    "yf_data = MyShareData.from_source('yahoo')\n",
    "ak_data = MyShareData.from_source('akshare')"
   ]
  },
  {
   "cell_type": "code",
   "execution_count": 4,
   "id": "6ac77de1",
   "metadata": {},
   "outputs": [
    {
     "name": "stdout",
     "output_type": "stream",
     "text": [
      "{'symbol': '000001', 'market': 'SZ', 'name': '平安银行', 'current_price': 11.03, 'open_price': 11.0, 'high_price': 11.07, 'low_price': 10.99, 'pe_ratio': 0.0, 'pb_ratio': 0.0, 'market_cap': 214047277723.94, 'timestamp': datetime.datetime(2025, 5, 8, 10, 12, 4, 320451), 'source': 'cache'}\n",
      "11.03\n"
     ]
    }
   ],
   "source": [
    "from mysharelib.ak_data import get_stock_spot\n",
    "price = get_stock_spot('000001.SZ')\n",
    "print(f\"{price}\\n{price['current_price']}\")"
   ]
  },
  {
   "cell_type": "code",
   "execution_count": 6,
   "id": "57dabbb1",
   "metadata": {},
   "outputs": [
    {
     "data": {
      "text/html": [
       "<div>\n",
       "<style scoped>\n",
       "    .dataframe tbody tr th:only-of-type {\n",
       "        vertical-align: middle;\n",
       "    }\n",
       "\n",
       "    .dataframe tbody tr th {\n",
       "        vertical-align: top;\n",
       "    }\n",
       "\n",
       "    .dataframe thead th {\n",
       "        text-align: right;\n",
       "    }\n",
       "</style>\n",
       "<table border=\"1\" class=\"dataframe\">\n",
       "  <thead>\n",
       "    <tr style=\"text-align: right;\">\n",
       "      <th></th>\n",
       "      <th>日期</th>\n",
       "      <th>股票代码</th>\n",
       "      <th>开盘</th>\n",
       "      <th>收盘</th>\n",
       "      <th>最高</th>\n",
       "      <th>最低</th>\n",
       "      <th>成交量</th>\n",
       "      <th>成交额</th>\n",
       "      <th>振幅</th>\n",
       "      <th>涨跌幅</th>\n",
       "      <th>涨跌额</th>\n",
       "      <th>换手率</th>\n",
       "    </tr>\n",
       "  </thead>\n",
       "  <tbody>\n",
       "    <tr>\n",
       "      <th>0</th>\n",
       "      <td>2025-04-01</td>\n",
       "      <td>600325</td>\n",
       "      <td>5.33</td>\n",
       "      <td>5.37</td>\n",
       "      <td>5.38</td>\n",
       "      <td>5.32</td>\n",
       "      <td>168477</td>\n",
       "      <td>90254138.0</td>\n",
       "      <td>1.13</td>\n",
       "      <td>0.75</td>\n",
       "      <td>0.04</td>\n",
       "      <td>0.66</td>\n",
       "    </tr>\n",
       "    <tr>\n",
       "      <th>1</th>\n",
       "      <td>2025-04-02</td>\n",
       "      <td>600325</td>\n",
       "      <td>5.36</td>\n",
       "      <td>5.33</td>\n",
       "      <td>5.38</td>\n",
       "      <td>5.32</td>\n",
       "      <td>177776</td>\n",
       "      <td>95088458.0</td>\n",
       "      <td>1.12</td>\n",
       "      <td>-0.74</td>\n",
       "      <td>-0.04</td>\n",
       "      <td>0.69</td>\n",
       "    </tr>\n",
       "    <tr>\n",
       "      <th>2</th>\n",
       "      <td>2025-04-03</td>\n",
       "      <td>600325</td>\n",
       "      <td>5.30</td>\n",
       "      <td>5.36</td>\n",
       "      <td>5.43</td>\n",
       "      <td>5.29</td>\n",
       "      <td>263771</td>\n",
       "      <td>141826154.0</td>\n",
       "      <td>2.63</td>\n",
       "      <td>0.56</td>\n",
       "      <td>0.03</td>\n",
       "      <td>1.03</td>\n",
       "    </tr>\n",
       "  </tbody>\n",
       "</table>\n",
       "</div>"
      ],
      "text/plain": [
       "           日期    股票代码    开盘    收盘    最高    最低     成交量          成交额    振幅  \\\n",
       "0  2025-04-01  600325  5.33  5.37  5.38  5.32  168477   90254138.0  1.13   \n",
       "1  2025-04-02  600325  5.36  5.33  5.38  5.32  177776   95088458.0  1.12   \n",
       "2  2025-04-03  600325  5.30  5.36  5.43  5.29  263771  141826154.0  2.63   \n",
       "\n",
       "    涨跌幅   涨跌额   换手率  \n",
       "0  0.75  0.04  0.66  \n",
       "1 -0.74 -0.04  0.69  \n",
       "2  0.56  0.03  1.03  "
      ]
     },
     "execution_count": 6,
     "metadata": {},
     "output_type": "execute_result"
    }
   ],
   "source": [
    "df_stock = ak.stock_zh_a_hist(\n",
    "    symbol=\"600325\",\n",
    "    start_date=\"20250401\",\n",
    "    end_date=\"20250404\",\n",
    "    period=\"daily\",\n",
    "    adjust=\"\"\n",
    ")    \n",
    "df_stock"
   ]
  },
  {
   "cell_type": "code",
   "execution_count": 7,
   "id": "64c28148",
   "metadata": {},
   "outputs": [
    {
     "name": "stdout",
     "output_type": "stream",
     "text": [
      "           日期    开盘    收盘    最高    最低     成交量       成交额     振幅   涨跌幅   涨跌额  \\\n",
      "0  2025-04-01  0.75  0.88  0.88  0.75  110125   86802.0  14.29 -3.30 -0.03   \n",
      "1  2025-04-02  0.95  0.96  1.06  0.95  142500  144675.0  12.50  9.09  0.08   \n",
      "\n",
      "    换手率  \n",
      "0  0.03  \n",
      "1  0.03  \n"
     ]
    }
   ],
   "source": [
    "stock_hk_hist_df = ak.stock_hk_hist(symbol=\"01027\", period=\"daily\", start_date=\"20250401\", end_date=\"20250404\", adjust=\"\")\n",
    "print(stock_hk_hist_df)"
   ]
  },
  {
   "cell_type": "code",
   "execution_count": 5,
   "id": "25501436",
   "metadata": {},
   "outputs": [
    {
     "data": {
      "text/plain": [
       "{'0144': 12.9,\n",
       " '0386': 3.97,\n",
       " '0939': 6.58,\n",
       " '0998': 6.15,\n",
       " '1288': 4.75,\n",
       " '1339': 4.73,\n",
       " '1398': 5.43,\n",
       " '2800': 22.96,\n",
       " '2880': 0.67,\n",
       " '3988': 4.48,\n",
       " '6823': 11.36}"
      ]
     },
     "execution_count": 5,
     "metadata": {},
     "output_type": "execute_result"
    }
   ],
   "source": [
    "symbols = ['0144.HK', '0386.HK', '0939.HK', '0998.HK', '1288.HK', '1339.HK', '1398.HK', '2800.HK', '2880.HK', '3988.HK', '6823.HK']\n",
    "prices = ak_data.get_stock_prices(symbols)\n",
    "prices"
   ]
  },
  {
   "cell_type": "code",
   "execution_count": 6,
   "id": "c07d6ca6",
   "metadata": {},
   "outputs": [
    {
     "data": {
      "text/plain": [
       "[{'symbol': '0205',\n",
       "  'market': 'HK',\n",
       "  'date': datetime.datetime(2025, 4, 22, 0, 0),\n",
       "  'open': 0.149,\n",
       "  'close': 0.149,\n",
       "  'high': 0.149,\n",
       "  'low': 0.149,\n",
       "  'volume': 10000.0,\n",
       "  'source': 'akshare'},\n",
       " {'symbol': '0205',\n",
       "  'market': 'HK',\n",
       "  'date': datetime.datetime(2025, 4, 23, 0, 0),\n",
       "  'open': 0.152,\n",
       "  'close': 0.149,\n",
       "  'high': 0.152,\n",
       "  'low': 0.149,\n",
       "  'volume': 20000.0,\n",
       "  'source': 'akshare'},\n",
       " {'symbol': '0205',\n",
       "  'market': 'HK',\n",
       "  'date': datetime.datetime(2025, 4, 24, 0, 0),\n",
       "  'open': 0.149,\n",
       "  'close': 0.149,\n",
       "  'high': 0.152,\n",
       "  'low': 0.149,\n",
       "  'volume': 70000.0,\n",
       "  'source': 'akshare'},\n",
       " {'symbol': '0205',\n",
       "  'market': 'HK',\n",
       "  'date': datetime.datetime(2025, 4, 25, 0, 0),\n",
       "  'open': 0.149,\n",
       "  'close': 0.149,\n",
       "  'high': 0.149,\n",
       "  'low': 0.149,\n",
       "  'volume': 50.0,\n",
       "  'source': 'akshare'}]"
      ]
     },
     "execution_count": 6,
     "metadata": {},
     "output_type": "execute_result"
    }
   ],
   "source": [
    "result = ak_data.get_stock_history('0205', '20250421', '20250425')\n",
    "result"
   ]
  },
  {
   "cell_type": "code",
   "execution_count": 7,
   "id": "a0cb9414",
   "metadata": {},
   "outputs": [
    {
     "data": {
      "text/plain": [
       "7.2365"
      ]
     },
     "execution_count": 7,
     "metadata": {},
     "output_type": "execute_result"
    }
   ],
   "source": [
    "ak_data.get_exchange_rate('USD/CNY')"
   ]
  },
  {
   "cell_type": "code",
   "execution_count": 8,
   "id": "a3c3acd9",
   "metadata": {},
   "outputs": [
    {
     "data": {
      "text/plain": [
       "{'USD/CNY': 7.2365,\n",
       " 'EUR/CNY': 8.1942,\n",
       " '100JPY/CNY': 5.037,\n",
       " 'HKD/CNY': 0.93198,\n",
       " 'GBP/CNY': 9.6495,\n",
       " 'AUD/CNY': 4.6712,\n",
       " 'NZD/CNY': 4.3153,\n",
       " 'SGD/CNY': 5.5902,\n",
       " 'CHF/CNY': 8.7882,\n",
       " 'CAD/CNY': 5.2365,\n",
       " 'CNY/MOP': 1.1043,\n",
       " 'CNY/MYR': 0.5863,\n",
       " 'CNY/RUB': 10.6553,\n",
       " 'CNY/ZAR': 2.5192,\n",
       " 'CNY/KRW': 192.97,\n",
       " 'CNY/AED': 0.50751,\n",
       " 'CNY/SAR': 0.51839,\n",
       " 'CNY/HUF': 49.323,\n",
       " 'CNY/PLN': 0.52156,\n",
       " 'CNY/DKK': 0.9105,\n",
       " 'CNY/SEK': 1.3318,\n",
       " 'CNY/NOK': 1.4283,\n",
       " 'CNY/TRY': 5.34202,\n",
       " 'CNY/MXN': 2.7055,\n",
       " 'CNY/THB': 4.5293}"
      ]
     },
     "execution_count": 8,
     "metadata": {},
     "output_type": "execute_result"
    }
   ],
   "source": [
    "from mysharelib.ak_data import get_exchange_rates\n",
    "rate = get_exchange_rates()\n",
    "rate"
   ]
  },
  {
   "cell_type": "code",
   "execution_count": 5,
   "id": "76cc7f97",
   "metadata": {},
   "outputs": [
    {
     "data": {
      "text/plain": [
       "{'USD/CNY': 7.2264,\n",
       " 'EUR/CNY': 8.1971,\n",
       " '100JPY/CNY': 5.0495,\n",
       " 'HKD/CNY': 0.932,\n",
       " 'GBP/CNY': 9.6455,\n",
       " 'AUD/CNY': 4.6877,\n",
       " 'NZD/CNY': 4.3362,\n",
       " 'SGD/CNY': 5.5956,\n",
       " 'CHF/CNY': 8.755,\n",
       " 'CAD/CNY': 5.2393,\n",
       " 'CNY/MOP': 1.1051,\n",
       " 'CNY/MYR': 0.5833,\n",
       " 'CNY/RUB': 10.7896,\n",
       " 'CNY/ZAR': 2.5225,\n",
       " 'CNY/KRW': 193.16,\n",
       " 'CNY/AED': 0.50825,\n",
       " 'CNY/SAR': 0.51912,\n",
       " 'CNY/HUF': 49.373,\n",
       " 'CNY/PLN': 0.52179,\n",
       " 'CNY/DKK': 0.9103,\n",
       " 'CNY/SEK': 1.3273,\n",
       " 'CNY/NOK': 1.4246,\n",
       " 'CNY/TRY': 5.34643,\n",
       " 'CNY/MXN': 2.722,\n",
       " 'CNY/THB': 4.5338}"
      ]
     },
     "execution_count": 5,
     "metadata": {},
     "output_type": "execute_result"
    }
   ],
   "source": [
    "import akshare as ak\n",
    "df = ak.fx_spot_quote()\n",
    "rates = dict(zip(df['货币对'], df['买报价']))\n",
    "rates"
   ]
  },
  {
   "cell_type": "code",
   "execution_count": 6,
   "id": "664abc5a",
   "metadata": {},
   "outputs": [
    {
     "name": "stdout",
     "output_type": "stream",
     "text": [
      "SGD/CNY=5.5954, USD/CNY=7.2266, AUD/CNY=4.6876 HKD/CNY=0.93203\n"
     ]
    }
   ],
   "source": [
    "sgd = ak_data.get_exchange_rate(\"SGD/CNY\")\n",
    "usd = ak_data.get_exchange_rate(\"USD/CNY\")\n",
    "aud = ak_data.get_exchange_rate(\"AUD/CNY\")\n",
    "hkd = ak_data.get_exchange_rate(\"HKD/CNY\")\n",
    "print(f\"SGD/CNY={sgd}, USD/CNY={usd}, AUD/CNY={aud} HKD/CNY={hkd}\")"
   ]
  }
 ],
 "metadata": {
  "kernelspec": {
   "display_name": ".venv",
   "language": "python",
   "name": "python3"
  },
  "language_info": {
   "codemirror_mode": {
    "name": "ipython",
    "version": 3
   },
   "file_extension": ".py",
   "mimetype": "text/x-python",
   "name": "python",
   "nbconvert_exporter": "python",
   "pygments_lexer": "ipython3",
   "version": "3.12.10"
  }
 },
 "nbformat": 4,
 "nbformat_minor": 5
}
