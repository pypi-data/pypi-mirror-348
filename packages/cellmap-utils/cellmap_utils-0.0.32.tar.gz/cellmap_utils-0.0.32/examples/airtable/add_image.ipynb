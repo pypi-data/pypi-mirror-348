{
 "cells": [
  {
   "cell_type": "code",
   "execution_count": null,
   "metadata": {},
   "outputs": [],
   "source": [
    "import os\n",
    "from pyairtable import Api\n",
    "from pyairtable import api\n",
    "from dotenv import load_dotenv\n",
    "from fibsem_tools import read\n",
    "from pyairtable.formulas import match\n",
    "from cellmap_utils import upsert_image\n",
    "\n",
    "load_dotenv()\n",
    "\n",
    "at_api = Api(os.environ['AIRTABLE_API_KEY'])\n",
    "# (switch between prod and test bases in .env)\n"
   ]
  },
  {
   "cell_type": "code",
   "execution_count": null,
   "metadata": {},
   "outputs": [],
   "source": [
    "ds_name = ''\n",
    "image_name = ''\n",
    "image_path = ''\n",
    "image_title = ''\n",
    "\n",
    "upsert_image(at_api,\n",
    "                ds_name,\n",
    "                image_name,\n",
    "                image_path,\n",
    "                image_title,\n",
    "                \"em\")"
   ]
  }
 ],
 "metadata": {
  "kernelspec": {
   "display_name": "env1",
   "language": "python",
   "name": "python3"
  },
  "language_info": {
   "codemirror_mode": {
    "name": "ipython",
    "version": 3
   },
   "file_extension": ".py",
   "mimetype": "text/x-python",
   "name": "python",
   "nbconvert_exporter": "python",
   "pygments_lexer": "ipython3",
   "version": "3.11.11"
  }
 },
 "nbformat": 4,
 "nbformat_minor": 2
}
