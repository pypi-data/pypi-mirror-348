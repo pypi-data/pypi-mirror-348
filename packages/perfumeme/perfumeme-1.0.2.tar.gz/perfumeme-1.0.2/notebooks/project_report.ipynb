{
 "cells": [
  {
   "cell_type": "markdown",
   "id": "c42b30d6",
   "metadata": {},
   "source": [
    "# Welcome to __PERFUMEme.py__ 🧪👃🧴⚛️⚗️\n",
    "\n",
    "## Introduction\n",
    "Perfumes are a part of our everyday lives—whether it’s a subtle floral hint or a bold, spicy statement, most people have a signature scent that others come to recognize them by. But have you ever wondered what’s actually in your favorite fragrance? Perfumes are complex mixtures of countless molecules, and each one plays a unique role in shaping the scent you love.\n",
    "\n",
    "So how can you figure out which molecule is responsible for that special note in your perfume? And once you have a molecule in mind, how do you know if it’s safe, aromatic, or even used in other fragrances?\n",
    "\n",
    "Meet __PERFUMEme.py__, — a Python package that helps demystify the chemistry behind your scent. Simply input a molecule, and the tool will tell you:\n",
    "\n",
    "- Whether the molecule is fragrant or toxic\n",
    "- Its key physical properties, such as boiling point\n",
    "- How it evaporates over time, via an evaporation model\n",
    "- And best of all, which perfumes (when data allows) contain that exact molecule\n",
    "\n",
    "Unlock the secrets behind the scents — one molecule at a time.\n",
    "\n",
    "The main chemistry involved is organic chemistry and physical chemistry, particularly focusing on volatility and evaporation.\n"
   ]
  },
  {
   "cell_type": "markdown",
   "id": "2090753e",
   "metadata": {},
   "source": [
    "## 🛠️ Project Overview\n",
    "\n",
    "The __PERFUMEme__ project is a Python-based toolkit designed to bridge the gap between perfumery and cheminformatics by enabling structured, molecule-level exploration of commercial fragrances. Its primary function is to understand if a certain molecule is usable in the perfume industry and understand why or why not.\n",
    "\n",
    "Perfumes are typically described by their olfactory notes (e.g., floral, woody, spicy) and ingredient names, but rarely include explicit chemical representations. This lack of molecular data limits the potential for computational analysis and machine learning applications in fragrance design. PERFUMEme addresses this issue by enabling users to convert perfume data—including name, brand, ingredient names, and scent notes—into a format enriched with chemical identifiers, suitable for further computational analysis, clustering, or visualization.\n",
    "\n",
    "The package processes structured JSON input and performs the following key tasks:\n",
    "\n",
    "- Queries PubChem using molecule names to retrieve SMILES strings\n",
    "- Handles ambiguous or unrecognized molecule names with graceful fallbacks.\n",
    "- Returns structured data that can be visualized and analyzed.\n",
    "\n",
    "By combining publicly available molecular data with perfume metadata, PERFUMEme provides a foundation for exploring relationships between molecular composition and fragrance perception, opening the door to computational fragrance classification, similarity scoring, and even automated formulation tools. The typical user of this package would be fragrance chemists, cosmetic scientists, cheminformatics researchers, or curious enthusiasts with a background in organic or physical chemistry — especially those interested in functional groups and molecular volatility. \n",
    "\n",
    "_This may be a bit too repetitive._"
   ]
  },
  {
   "cell_type": "markdown",
   "id": "2bd6b122",
   "metadata": {},
   "source": [
    "## 🧰 Material and methods\n",
    "\n",
    "### 🗂 Data Sources\n",
    "Molecular data were retrieved from PubChem, a publicly accessible chemical database maintained by the National Center for Biotechnology Information (NCBI). The PubChem PUG REST API was used to access compound properties, such as their molecular names, SMILES strings, boiling point, enthalpy of vaporisation and pressure value.\n",
    "\n",
    "The fragrance data, including perfume names, brands, notes, and associated molecules, were compiled manually and stored in a local JSON file. This file served as the data set for the perfume_molecule.py functions.\n",
    "\n",
    "### 𝌤 Package Structure\n",
    "The __PERFUMEme__ package was implemented in Python and organized into several functional modules:\n",
    "\n",
    "- scraper.py: includes functions used to add the molecules listed in the perfumes in perfume.json to a new database and on to addtheir smiles from PubChem, used withodors.csv to add their respective odors (if they had smell).\n",
    "- utils.py: contains utility functions for validating molecule data, handling API errors, and processing JSON inputs.\n",
    "- data/: directory containing the JSON files with structured perfume and molecular data.\n",
    "\n",
    "The package was developed to be modular, allowing users to integrate new data sources or extend the current capabilities without modifying core functions. For example, adding a molecule with its odor and SMILES to molecules.json."
   ]
  },
  {
   "cell_type": "markdown",
   "id": "5df66441",
   "metadata": {},
   "source": [
    "## 📊 Results and discussions\n"
   ]
  },
  {
   "cell_type": "markdown",
   "id": "ffad536b",
   "metadata": {},
   "source": [
    "### Functions in __utils.py__\n",
    "\n",
    "##### 🧪 SMILES Extraction\n",
    "\n",
    "The SMILES strings for each molecule are retrievable for each molecule using the __get_smiles__ function. A casual user might not know the SMILES of the molecule they want to analyse, so this function makes it easier for them. It is also used in the __resolve_input_to_smiles_and_cid__ function. A simple example usage is presented below."
   ]
  },
  {
   "cell_type": "code",
   "execution_count": 1,
   "id": "2aa8c23c",
   "metadata": {},
   "outputs": [],
   "source": [
    "import matplotlib"
   ]
  },
  {
   "cell_type": "code",
   "execution_count": null,
   "id": "daba4d36",
   "metadata": {},
   "outputs": [
    {
     "name": "stdout",
     "output_type": "stream",
     "text": [
      "CC1CC(C=C(C2C1CC(=C(C)C)C2)C)O\n"
     ]
    }
   ],
   "source": [
    "import os\n",
    "sys.path.append(os.path.abspath(\"../src\"))\n",
    "\n",
    "\n",
    "from perfumeme.utils import get_smiles\n",
    "vetiverol= get_smiles(\"Vetiverol\")\n",
    "print (vetiverol)"
   ]
  },
  {
   "cell_type": "markdown",
   "id": "171d993c",
   "metadata": {},
   "source": [
    "_This function can handle API queries, error checking, and returns the results in a structured format:_\n",
    "show example of this\n"
   ]
  },
  {
   "cell_type": "markdown",
   "id": "ae6c521c",
   "metadata": {},
   "source": [
    "##### Resolving the input\n",
    "\n",
    "The function __resolve_input_to_smiles_and_cid__, used in the main functions, is what allows the user to input either a SMILEs or the compound name. This is a function to make the main functions easier to use and accessable. It also uses the __get_cid_from_smiles__ function, which retrieves the PubChem Compound ID (CID) corresponding to a given SMILES string."
   ]
  },
  {
   "cell_type": "markdown",
   "id": "1c73c3d7",
   "metadata": {},
   "source": [
    "##### Get the odor\n",
    "\n",
    "This function is used in __scraper.py__ to get the odors of a molecule and them to the database.\n",
    "\n",
    "##### Getting information from PubChem\n",
    "\n",
    "The function __get_pubchem_description__ is used in the function __has_a_smell__ to get the descriptive information associated with a compound identified by its Compound ID (CID), such as general chemical information and properties.\n",
    "\n",
    "The function __get_pubchem_record_sections__ gets the structured data sections for a compound from PubChem using its CID. It is used in several functions of the __main_functions.py__.\n",
    "\n",
    "_Maybe say a bit more on these functions_\n"
   ]
  },
  {
   "cell_type": "markdown",
   "id": "6c8408f0",
   "metadata": {},
   "source": [
    "_Discuss the functions in utils.py, if there is something to discuss._"
   ]
  },
  {
   "cell_type": "markdown",
   "id": "cbd5888b",
   "metadata": {},
   "source": [
    "### 🧐 Is the molecule usable in a perfume?\n",
    "\n",
    "One of the main functions of this package was to determine if a given molecule is usable in a perfume. Multiple factors need to be taken into account to determine this. Such as if the molecule has a smell, is too toxic for the skin and see if it will stay long enough. But of course even without a smell, some molecules are present in perfumes."
   ]
  },
  {
   "cell_type": "markdown",
   "id": "17449e76",
   "metadata": {},
   "source": [
    "#### Does it smell?\n",
    "\n",
    "The first step was to develop a function that found if the molecule had a smell. To achieve this ...\n",
    "\n",
    "In the example below..."
   ]
  },
  {
   "cell_type": "markdown",
   "id": "3d45bdb9",
   "metadata": {},
   "source": [
    "Discuss this function\n",
    "\n",
    "Can the function handle type errors?\n",
    "\n",
    "tests for this function"
   ]
  },
  {
   "cell_type": "markdown",
   "id": "8f960eae",
   "metadata": {},
   "source": [
    "#### ☠️ Is it toxic?\n",
    "\n"
   ]
  },
  {
   "cell_type": "markdown",
   "id": "f3271ecb",
   "metadata": {},
   "source": [
    "#### 📈 Evaporation trace"
   ]
  },
  {
   "cell_type": "markdown",
   "id": "39fdedfb",
   "metadata": {},
   "source": [
    "#### 🤔 So... can we use this molecule?\n",
    "\n",
    "The function __usable_in_perfume__ evaluates whether a molecule is suitable for use in perfume formulations."
   ]
  },
  {
   "cell_type": "markdown",
   "id": "4c6cc696",
   "metadata": {},
   "source": [
    "### 👃 What odor does it give in the perfume?\n",
    "\n",
    "The function __odor_molecule_perfume__ answers this question. It will return a dictionnary which matches the given molecule to a selection of perfumes in which it is present, and which smell it gives the perfume. Two functions were defined to be used in the function, or used seperately if you just wish to know the scent of the molecule for example. These two functions are __match_molecule_to_perfumes__ and __match_mol_to_odor__.\n",
    "\n",
    "First, the database __perfumes.json__ was manually created with 29 perfumes. This list is limited as there is no database with all the perfumes and their ingredients. There is also the fact that not all perfume makers provide the list of molecules used in their perrfumes. A separate databes, __molecules.json__, contains all the molecules that are contained in the perfumes. To each is associated their SMILES and their odor. The odor was found from an additional database found online, __withodors.csv__. This last database contains a lot of unnecessary molecules for this package, which is why the choice of creating a smaller database was made. The functions used to create these databases are found in __scraper.py__. It also doesn't include any molecules which are odorles.\n",
    "\n",
    "#### Match molecule to perfume\n",
    "\n",
    "The function __match_molecule_to_perfumes__ will return a list of the perfumes which contain this molecule. Below is an example usage."
   ]
  },
  {
   "cell_type": "code",
   "execution_count": null,
   "id": "2005c305",
   "metadata": {},
   "outputs": [],
   "source": [
    "from perfumeme.perfume_molecule import match_molecule_to_perfumes\n",
    "\n",
    "# Find all perfumes containing Linalool\n",
    "linalool_perfumes = match_molecule_to_perfumes(\"Linalool\")\n",
    "print(linalool_perfumes)"
   ]
  },
  {
   "cell_type": "markdown",
   "id": "3a2a7536",
   "metadata": {},
   "source": [
    "Discuss this function"
   ]
  },
  {
   "cell_type": "markdown",
   "id": "03f50531",
   "metadata": {},
   "source": [
    "#### Match molecule to odor\n",
    "\n",
    "The function __match_mol_to_odor__ returns a list which contains the odors of a given molecule.\n",
    "\n",
    "An example usage for this function:"
   ]
  },
  {
   "cell_type": "code",
   "execution_count": null,
   "id": "7d72f0bb",
   "metadata": {},
   "outputs": [],
   "source": [
    "from perfumeme.perfume_molecule import match_mol_to_odor\n",
    "\n",
    "# Find all odors of Linalool\n",
    "linalool_odors = match_mol_to_odor(\"Linalool\")\n",
    "print(linalool_odors)"
   ]
  },
  {
   "cell_type": "markdown",
   "id": "53f46892",
   "metadata": {},
   "source": [
    "Discuss"
   ]
  },
  {
   "cell_type": "markdown",
   "id": "ef641430",
   "metadata": {},
   "source": [
    "### Limitations of the module\n",
    "\n",
    "The limitation for __odor_molecule_perfume__ is that there are only 29 perfumes listed in the database. Perfumes can always be added to it, but only manually. The function __match_mol_to_odor__ only returns the odors of a molecule if it's in the database __molecules.json__. It is definetly possible to allow the user to add the molecule they insert to the database. This is an update that can be done in the future."
   ]
  },
  {
   "cell_type": "markdown",
   "id": "e35914bd",
   "metadata": {},
   "source": [
    "## 👉 Conclusion"
   ]
  },
  {
   "cell_type": "code",
   "execution_count": null,
   "id": "52786d8e",
   "metadata": {},
   "outputs": [
    {
     "ename": "ModuleNotFoundError",
     "evalue": "No module named 'src'",
     "output_type": "error",
     "traceback": [
      "\u001b[0;31m---------------------------------------------------------------------------\u001b[0m",
      "\u001b[0;31mModuleNotFoundError\u001b[0m                       Traceback (most recent call last)",
      "Cell \u001b[0;32mIn[9], line 1\u001b[0m\n\u001b[0;32m----> 1\u001b[0m \u001b[38;5;28;01mfrom\u001b[39;00m\u001b[38;5;250m \u001b[39m\u001b[38;5;21;01msrc\u001b[39;00m\u001b[38;5;21;01m.\u001b[39;00m\u001b[38;5;21;01mperfumeme\u001b[39;00m\u001b[38;5;21;01m.\u001b[39;00m\u001b[38;5;21;01mmain_functions\u001b[39;00m\u001b[38;5;250m \u001b[39m\u001b[38;5;28;01mimport\u001b[39;00m has_a_smell, is_toxic_skin, evaporation_trace\n\u001b[1;32m      3\u001b[0m evaporation_trace(\u001b[38;5;124m\"\u001b[39m\u001b[38;5;124mwater\u001b[39m\u001b[38;5;124m\"\u001b[39m)\n",
      "\u001b[0;31mModuleNotFoundError\u001b[0m: No module named 'src'"
     ]
    }
   ],
   "source": [
    "from perfumeme.main_functions import has_a_smell, is_toxic_skin, evaporation_trace\n",
    "\n",
    "evaporation_trace(\"water\")"
   ]
  },
  {
   "cell_type": "markdown",
   "id": "96d5be55",
   "metadata": {},
   "source": [
    "🔍 What does usable_in_perfume() do?\n",
    "This all-in-one function performs the following:\n",
    "\n",
    "Odor check: uses has_a_smell() to detect whether the molecule is likely to be perceived by smell.\n",
    "Toxicity check: uses is_toxic_skin() to determine if it's safe for dermal application.\n",
    "Evaporation modeling: calls evaporation_trace() to retrieve and simulate:\n",
    "Vapor pressure (Pvap)\n",
    "Boiling point\n",
    "Enthalpy of vaporization\n",
    "Evaporation curve (Clausius-Clapeyron model)\n",
    "Note classification:\n",
    "If Pvap is known, the molecule is classified as top, heart, or base note based on its extrapolated vapor pressure at 37°C (body temperature).\n",
    "If Pvap is missing, fallback is done using boiling point.\n",
    "Result visualization: the evaporation curve is annotated with the note type and saved as an image.\n",
    "Return values:\n",
    "A text summary including smell, toxicity, and note type\n",
    "The path to the annotated plot image"
   ]
  }
 ],
 "metadata": {
  "kernelspec": {
   "display_name": "fragrance",
   "language": "python",
   "name": "python3"
  },
  "language_info": {
   "codemirror_mode": {
    "name": "ipython",
    "version": 3
   },
   "file_extension": ".py",
   "mimetype": "text/x-python",
   "name": "python",
   "nbconvert_exporter": "python",
   "pygments_lexer": "ipython3",
   "version": "3.10.16"
  }
 },
 "nbformat": 4,
 "nbformat_minor": 5
}
