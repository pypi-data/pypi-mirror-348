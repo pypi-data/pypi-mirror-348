{
 "cells": [
  {
   "cell_type": "markdown",
   "id": "7d34b5305f4414d6",
   "metadata": {},
   "source": [
    "# Imports"
   ]
  },
  {
   "cell_type": "markdown",
   "id": "d20186a65e84c3c3",
   "metadata": {},
   "source": [
    "## Dependencies"
   ]
  },
  {
   "cell_type": "code",
   "execution_count": 1,
   "id": "initial_id",
   "metadata": {
    "ExecuteTime": {
     "end_time": "2025-05-17T17:19:46.218876Z",
     "start_time": "2025-05-17T17:19:45.719199Z"
    },
    "collapsed": true
   },
   "outputs": [],
   "source": [
    "import requests\n",
    "from requests.auth import HTTPBasicAuth\n",
    "import pandas as pd\n",
    "from io import BytesIO\n",
    "import datetime\n",
    "import numpy as np\n",
    "import configparser\n",
    "import sys"
   ]
  },
  {
   "cell_type": "code",
   "execution_count": null,
   "id": "1883a7c8775bb818",
   "metadata": {},
   "outputs": [],
   "source": []
  },
  {
   "cell_type": "markdown",
   "id": "946b4c2b060c12e4",
   "metadata": {},
   "source": [
    "## Micromet"
   ]
  },
  {
   "cell_type": "code",
   "execution_count": 2,
   "id": "2ef51b0702bf5e57",
   "metadata": {
    "ExecuteTime": {
     "end_time": "2025-05-17T17:19:48.922779Z",
     "start_time": "2025-05-17T17:19:47.838905Z"
    }
   },
   "outputs": [],
   "source": [
    "#sys.path.append(\"G:/Shared drives/UGS_Flux/Data_Processing/Jupyter_Notebooks/MicroMet\")\n",
    "#sys.path.append(\"C:/Users/kladig/Documents/GitHub/MicroMet\")\n",
    "sys.path.append(\"../../src\")\n",
    "import micromet"
   ]
  },
  {
   "cell_type": "markdown",
   "id": "2d5eebb78d0a6ad5",
   "metadata": {},
   "source": [
    "# Connection info and Config"
   ]
  },
  {
   "cell_type": "code",
   "execution_count": 3,
   "id": "425153414bebd44c",
   "metadata": {
    "ExecuteTime": {
     "end_time": "2025-05-17T17:19:51.551620Z",
     "start_time": "2025-05-17T17:19:51.502753Z"
    }
   },
   "outputs": [],
   "source": [
    "config = configparser.ConfigParser()\n",
    "\n",
    "config.read('../../secrets/config.ini')\n",
    "\n",
    "from sqlalchemy import create_engine\n",
    "import urllib.parse\n",
    "host = config['DEFAULT']['ip']\n",
    "pw = config['DEFAULT']['pw']\n",
    "user = config['DEFAULT']['login']\n",
    "\n",
    "encoded_password = urllib.parse.quote_plus(pw)\n",
    "\n",
    "def postconn_et(encoded_password, host='localhost',user='postgres',port='5432',db='groundwater', schema = 'groundwater'):\n",
    "    connection_text = \"postgresql+psycopg2://{:}:{:}@{:}:{:}/{:}?gssencmode=disable\".format(user,encoded_password,host,port,db)\n",
    "    return create_engine(connection_text, connect_args={'options': '-csearch_path={}'.format(schema)})\n",
    "\n",
    "\n",
    "engine = postconn_et(encoded_password, host=host, user=user)"
   ]
  },
  {
   "cell_type": "markdown",
   "id": "56bf49c8c07a501",
   "metadata": {},
   "source": [
    "# Pull From Each Datalogger Using the CS Datalogger API"
   ]
  },
  {
   "cell_type": "markdown",
   "id": "520cd4b8dbf07fd0",
   "metadata": {},
   "source": [
    "https://help.campbellsci.com/crbasic/cr1000x/Content/Info/webserverapicommands1.htm"
   ]
  },
  {
   "cell_type": "code",
   "execution_count": 4,
   "id": "d048867ae5f232c4",
   "metadata": {
    "ExecuteTime": {
     "end_time": "2025-05-17T17:19:54.580554Z",
     "start_time": "2025-05-17T17:19:54.576819Z"
    }
   },
   "outputs": [],
   "source": [
    "manager = micromet.StationDataManager(config, engine)"
   ]
  },
  {
   "cell_type": "code",
   "execution_count": 6,
   "id": "469fd650ad3bbb8d",
   "metadata": {
    "ExecuteTime": {
     "end_time": "2025-05-17T17:20:08.545288Z",
     "start_time": "2025-05-17T17:19:57.751418Z"
    }
   },
   "outputs": [
    {
     "name": "stdout",
     "output_type": "stream",
     "text": [
      "US-UTB\n",
      "US-UTJ\n",
      "Column 'TIMESTAMP_END' found in DataFrame\n",
      "Station UTJ\n",
      "Mindate 202505102100  Maxdate 202505170000\n",
      "data size = 0.18589\n",
      "295 vs 295 rows\n",
      "Column 'TIMESTAMP_END' found in DataFrame\n",
      "Station UTJ\n",
      "Mindate 202502201130  Maxdate 202503271400\n",
      "data size = 2.065721\n",
      "1686 vs 1686 rows\n",
      "US-UTW\n",
      "Column 'TIMESTAMP_END' found in DataFrame\n",
      "Station UTW\n",
      "Mindate 202505102100  Maxdate 202505170000\n",
      "data size = 0.19835899999999998\n",
      "295 vs 295 rows\n",
      "Column 'TIMESTAMP_END' found in DataFrame\n",
      "Station UTW\n",
      "Mindate 202503271400  Maxdate 202505170000\n",
      "data size = 1.202836\n",
      "2421 vs 2421 rows\n",
      "US-UTE\n",
      "Column 'TIMESTAMP_END' found in DataFrame\n",
      "Station UTE\n",
      "Mindate 202505102100  Maxdate 202505170000\n",
      "data size = 0.18176599999999998\n",
      "295 vs 295 rows\n",
      "Column 'TIMESTAMP_END' found in DataFrame\n",
      "Station UTE\n",
      "Mindate 202503101200  Maxdate 202503101200\n",
      "data size = 1.588258\n",
      "1 vs 1 rows\n",
      "US-UTM\n",
      "Column 'TIMESTAMP_END' found in DataFrame\n",
      "Station UTM\n",
      "Mindate 202505102100  Maxdate 202505170000\n",
      "data size = 0.180555\n",
      "295 vs 295 rows\n",
      "Column 'TIMESTAMP_END' found in DataFrame\n",
      "Station UTM\n",
      "Mindate 202502201030  Maxdate 202503271330\n",
      "data size = 2.435075\n",
      "1687 vs 1687 rows\n",
      "US-UTP\n",
      "Column 'TIMESTAMP_END' found in DataFrame\n",
      "Station UTP\n",
      "Mindate 202505102100  Maxdate 202505170000\n",
      "data size = 0.197927\n",
      "295 vs 295 rows\n",
      "Column 'TIMESTAMP_END' found in DataFrame\n",
      "Station UTP\n",
      "Mindate 202503051400  Maxdate 202504240830\n",
      "data size = 1.682367\n",
      "2390 vs 2390 rows\n",
      "US-CdM\n",
      "Error fetching data for US-CdM: Expecting value: line 1 column 1 (char 0)\n",
      "Column 'TIMESTAMP_END' found in DataFrame\n",
      "Station CdM\n",
      "Mindate 202502201130  Maxdate 202505170000\n",
      "data size = 1.640979\n",
      "4106 vs 4106 rows\n",
      "US-UTV\n",
      "Error fetching data for US-UTV: HTTPConnectionPool(host='seros.konectgds.com', port=80): Max retries exceeded with url: /?command=ClockCheck&uri=dl&format=json (Caused by ConnectTimeoutError(<urllib3.connection.HTTPConnection object at 0x00000297A32D4380>, 'Connection to seros.konectgds.com timed out. (connect timeout=None)'))\n",
      "Error fetching data for US-UTV: HTTPConnectionPool(host='seros.konectgds.com', port=80): Max retries exceeded with url: /?command=ClockCheck&uri=dl&format=json (Caused by ConnectTimeoutError(<urllib3.connection.HTTPConnection object at 0x00000297A430F680>, 'Connection to seros.konectgds.com timed out. (connect timeout=None)'))\n",
      "US-UTL\n",
      "Column 'TIMESTAMP_END' found in DataFrame\n",
      "Station UTL\n",
      "Mindate 202505102100  Maxdate 202505170000\n",
      "data size = 0.19167199999999998\n",
      "295 vs 295 rows\n",
      "Error: 404\n",
      "No data for US-UTL\n",
      "US-UTG\n",
      "Error fetching data for US-UTG: Expecting value: line 1 column 1 (char 0)\n",
      "Error fetching data for US-UTG: HTTPConnectionPool(host='166.144.112.85', port=8080): Max retries exceeded with url: /?command=ClockCheck&uri=dl&format=json (Caused by ConnectTimeoutError(<urllib3.connection.HTTPConnection object at 0x00000297A32D4380>, 'Connection to 166.144.112.85 timed out. (connect timeout=None)'))\n"
     ]
    }
   ],
   "source": [
    "\n",
    "\n",
    "# Process data for all stations\n",
    "site_folders = {#'US-UTD':'Dugout_Ranch',\n",
    "                'US-UTB':'BSF',\n",
    "                'US-UTJ':'Bluff',\n",
    "                'US-UTW':'Wellington',\n",
    "                'US-UTE':'Escalante',\n",
    "                'US-UTM':'Matheson',\n",
    "                'US-UTP':'Phrag',\n",
    "                'US-CdM':'Cedar_Mesa',\n",
    "                'US-UTV':'Desert_View_Myton',\n",
    "                'US-UTL':'Pelican_Lake',\n",
    "                'US-UTG':'Green_River',\n",
    "                }\n",
    "\n",
    "manager.process_station_data(site_folders,\n",
    "                             config_path = \"../../src/micromet/data/reformatter_vars.yml\",\n",
    "                             var_limits_csv = \"../../src/micromet/data/extreme_values.csv\",       \n",
    "                             )"
   ]
  }
 ],
 "metadata": {
  "kernelspec": {
   "display_name": "py313",
   "language": "python",
   "name": "python3"
  },
  "language_info": {
   "codemirror_mode": {
    "name": "ipython",
    "version": 3
   },
   "file_extension": ".py",
   "mimetype": "text/x-python",
   "name": "python",
   "nbconvert_exporter": "python",
   "pygments_lexer": "ipython3",
   "version": "3.13.1"
  }
 },
 "nbformat": 4,
 "nbformat_minor": 5
}
