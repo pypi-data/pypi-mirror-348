{
 "cells": [
  {
   "cell_type": "markdown",
   "id": "7d34b5305f4414d6",
   "metadata": {},
   "source": [
    "# Imports"
   ]
  },
  {
   "cell_type": "markdown",
   "id": "d20186a65e84c3c3",
   "metadata": {},
   "source": [
    "## Dependencies"
   ]
  },
  {
   "cell_type": "code",
   "execution_count": 1,
   "id": "initial_id",
   "metadata": {
    "ExecuteTime": {
     "end_time": "2025-05-17T17:19:46.218876Z",
     "start_time": "2025-05-17T17:19:45.719199Z"
    },
    "collapsed": true
   },
   "outputs": [],
   "source": [
    "import requests\n",
    "from requests.auth import HTTPBasicAuth\n",
    "import pandas as pd\n",
    "from io import BytesIO\n",
    "import datetime\n",
    "import numpy as np\n",
    "import configparser\n",
    "import sys"
   ]
  },
  {
   "cell_type": "code",
   "execution_count": null,
   "id": "1883a7c8775bb818",
   "metadata": {},
   "outputs": [],
   "source": []
  },
  {
   "cell_type": "markdown",
   "id": "946b4c2b060c12e4",
   "metadata": {},
   "source": [
    "## Micromet"
   ]
  },
  {
   "cell_type": "code",
   "execution_count": 2,
   "id": "2ef51b0702bf5e57",
   "metadata": {
    "ExecuteTime": {
     "end_time": "2025-05-17T17:19:48.922779Z",
     "start_time": "2025-05-17T17:19:47.838905Z"
    }
   },
   "outputs": [
    {
     "name": "stdout",
     "output_type": "stream",
     "text": [
      "credentials needed\n"
     ]
    }
   ],
   "source": [
    "#sys.path.append(\"G:/Shared drives/UGS_Flux/Data_Processing/Jupyter_Notebooks/MicroMet\")\n",
    "#sys.path.append(\"C:/Users/kladig/Documents/GitHub/MicroMet\")\n",
    "sys.path.append(\"../../src\")\n",
    "import micromet"
   ]
  },
  {
   "cell_type": "markdown",
   "id": "2d5eebb78d0a6ad5",
   "metadata": {},
   "source": [
    "# Connection info and Config"
   ]
  },
  {
   "cell_type": "code",
   "execution_count": 3,
   "id": "425153414bebd44c",
   "metadata": {
    "ExecuteTime": {
     "end_time": "2025-05-17T17:19:51.551620Z",
     "start_time": "2025-05-17T17:19:51.502753Z"
    }
   },
   "outputs": [],
   "source": [
    "config = configparser.ConfigParser()\n",
    "\n",
    "config.read('../../secrets/config.ini')\n",
    "\n",
    "from sqlalchemy import create_engine\n",
    "import urllib.parse\n",
    "host = config['DEFAULT']['ip']\n",
    "pw = config['DEFAULT']['pw']\n",
    "user = config['DEFAULT']['login']\n",
    "\n",
    "encoded_password = urllib.parse.quote_plus(pw)\n",
    "\n",
    "def postconn_et(encoded_password, host='localhost',user='postgres',port='5432',db='groundwater', schema = 'groundwater'):\n",
    "    connection_text = \"postgresql+psycopg2://{:}:{:}@{:}:{:}/{:}?gssencmode=disable\".format(user,encoded_password,host,port,db)\n",
    "    return create_engine(connection_text, connect_args={'options': '-csearch_path={}'.format(schema)})\n",
    "\n",
    "\n",
    "engine = postconn_et(encoded_password, host=host, user=user)"
   ]
  },
  {
   "cell_type": "markdown",
   "id": "56bf49c8c07a501",
   "metadata": {},
   "source": [
    "# Pull From Each Datalogger Using the CS Datalogger API"
   ]
  },
  {
   "cell_type": "markdown",
   "id": "520cd4b8dbf07fd0",
   "metadata": {},
   "source": [
    "https://help.campbellsci.com/crbasic/cr1000x/Content/Info/webserverapicommands1.htm"
   ]
  },
  {
   "cell_type": "code",
   "execution_count": 4,
   "id": "d048867ae5f232c4",
   "metadata": {
    "ExecuteTime": {
     "end_time": "2025-05-17T17:19:54.580554Z",
     "start_time": "2025-05-17T17:19:54.576819Z"
    }
   },
   "outputs": [],
   "source": [
    "manager = micromet.StationDataManager(config, engine)"
   ]
  },
  {
   "cell_type": "code",
   "execution_count": 6,
   "id": "469fd650ad3bbb8d",
   "metadata": {
    "ExecuteTime": {
     "end_time": "2025-05-17T17:20:08.545288Z",
     "start_time": "2025-05-17T17:19:57.751418Z"
    }
   },
   "outputs": [
    {
     "ename": "SyntaxError",
     "evalue": "invalid syntax (3289481625.py, line 15)",
     "output_type": "error",
     "traceback": [
      "\u001b[1;36m  Cell \u001b[1;32mIn[6], line 15\u001b[1;36m\u001b[0m\n\u001b[1;33m    config_path: str = \"../../src/micromet/data/reformatter_vars.yml\",\u001b[0m\n\u001b[1;37m               ^\u001b[0m\n\u001b[1;31mSyntaxError\u001b[0m\u001b[1;31m:\u001b[0m invalid syntax\n"
     ]
    }
   ],
   "source": [
    "\n",
    "\n",
    "# Process data for all stations\n",
    "site_folders = {#'US-UTD':'Dugout_Ranch',\n",
    "                'US-UTB':'BSF',\n",
    "                'US-UTJ':'Bluff',\n",
    "                'US-UTW':'Wellington',\n",
    "                'US-UTE':'Escalante',\n",
    "                'US-UTM':'Matheson',\n",
    "                'US-UTP':'Phrag',\n",
    "                'US-CdM':'Cedar_Mesa',\n",
    "                'US-UTV':'Desert_View_Myton',\n",
    "                'US-UTL':'Pelican_Lake',\n",
    "                'US-UTG':'Green_River',\n",
    "                }\n",
    "manager.process_station_data(site_folders,        \n",
    "                             config_path: str = \"../../src/micromet/data/reformatter_vars.yml\",\n",
    "                             var_limits_csv: str = \"../../src/micromet/data/extreme_values.csv\", )"
   ]
  }
 ],
 "metadata": {
  "kernelspec": {
   "display_name": "py313",
   "language": "python",
   "name": "python3"
  },
  "language_info": {
   "codemirror_mode": {
    "name": "ipython",
    "version": 3
   },
   "file_extension": ".py",
   "mimetype": "text/x-python",
   "name": "python",
   "nbconvert_exporter": "python",
   "pygments_lexer": "ipython3",
   "version": "3.13.1"
  }
 },
 "nbformat": 4,
 "nbformat_minor": 5
}
