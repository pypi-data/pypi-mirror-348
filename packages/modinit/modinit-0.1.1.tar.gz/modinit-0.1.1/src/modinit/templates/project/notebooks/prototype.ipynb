"""
A simple Jupyter notebook for prototyping.

This notebook provides a starting point for experimentation and exploration.
"""
