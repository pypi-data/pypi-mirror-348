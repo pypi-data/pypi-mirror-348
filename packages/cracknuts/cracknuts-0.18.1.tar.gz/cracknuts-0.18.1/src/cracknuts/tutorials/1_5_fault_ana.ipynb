{
 "cells": [
  {
   "cell_type": "markdown",
   "id": "47866ab8-fb06-46d3-aa2c-a3ce77739b81",
   "metadata": {},
   "source": [
    "# 故障注入分析简介"
   ]
  },
  {
   "cell_type": "markdown",
   "id": "0acc4890-3ced-4af6-a609-f0c3f0598e87",
   "metadata": {},
   "source": [
    "对密码设备的故障注入分析是指在密码算法运行过程、程序判断过程等通过电压、时钟、电磁等变化使算法运行出错或程序分析判断出现被跳过等现象。"
   ]
  }
 ],
 "metadata": {
  "kernelspec": {
   "display_name": "Python 3 (ipykernel)",
   "language": "python",
   "name": "python3"
  },
  "language_info": {
   "codemirror_mode": {
    "name": "ipython",
    "version": 3
   },
   "file_extension": ".py",
   "mimetype": "text/x-python",
   "name": "python",
   "nbconvert_exporter": "python",
   "pygments_lexer": "ipython3",
   "version": "3.12.4"
  }
 },
 "nbformat": 4,
 "nbformat_minor": 5
}
