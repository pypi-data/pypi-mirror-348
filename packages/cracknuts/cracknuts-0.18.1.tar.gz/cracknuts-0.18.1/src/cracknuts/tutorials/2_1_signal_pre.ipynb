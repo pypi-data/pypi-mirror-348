{
 "cells": [
  {
   "cell_type": "markdown",
   "id": "d8979a0b-8a4d-4259-824b-7d09ef600f0c",
   "metadata": {},
   "source": [
    "# 信号处理"
   ]
  },
  {
   "cell_type": "markdown",
   "id": "142f8d16-ee02-4146-b64f-d832f45789f1",
   "metadata": {},
   "source": [
    "## 对齐"
   ]
  },
  {
   "cell_type": "code",
   "execution_count": null,
   "id": "ace777f7-dc25-4a63-a4bc-5bbf1919c389",
   "metadata": {},
   "outputs": [],
   "source": [
    "import scipy as sp\n",
    "\n",
    "ref_num = 0\n",
    "# 参照曲线开始点和结束点\n",
    "sStart = 500\n",
    "sEnd = 1500\n",
    "\n",
    "ref_trace = traces[0, sStart:sEnd]\n",
    "ref_trace = ref_trace[::-1]"
   ]
  },
  {
   "cell_type": "markdown",
   "id": "e1ccb010-3692-48b2-9663-786a7325a2b8",
   "metadata": {},
   "source": [
    "## 低通"
   ]
  },
  {
   "cell_type": "code",
   "execution_count": null,
   "id": "984907e3-8ee9-4f23-bb05-8ec6bf1f8d1f",
   "metadata": {},
   "outputs": [],
   "source": []
  },
  {
   "cell_type": "markdown",
   "id": "47de6f0f-b722-4762-8132-8684823cc008",
   "metadata": {},
   "source": [
    "## 高通"
   ]
  },
  {
   "cell_type": "code",
   "execution_count": null,
   "id": "307e9b3a-8dce-4fa0-8de5-03a6120d75b9",
   "metadata": {},
   "outputs": [],
   "source": []
  },
  {
   "cell_type": "markdown",
   "id": "de90f9ab-cdd6-4b83-b893-06b85ff37897",
   "metadata": {},
   "source": [
    "## 带通"
   ]
  },
  {
   "cell_type": "code",
   "execution_count": null,
   "id": "195bd508-9bb1-4a34-b2eb-3988b2d0db96",
   "metadata": {},
   "outputs": [],
   "source": []
  }
 ],
 "metadata": {
  "kernelspec": {
   "display_name": "Python 3 (ipykernel)",
   "language": "python",
   "name": "python3"
  },
  "language_info": {
   "codemirror_mode": {
    "name": "ipython",
    "version": 3
   },
   "file_extension": ".py",
   "mimetype": "text/x-python",
   "name": "python",
   "nbconvert_exporter": "python",
   "pygments_lexer": "ipython3",
   "version": "3.12.4"
  }
 },
 "nbformat": 4,
 "nbformat_minor": 5
}
