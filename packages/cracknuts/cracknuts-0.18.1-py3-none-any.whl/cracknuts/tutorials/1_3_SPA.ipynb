{
 "cells": [
  {
   "cell_type": "markdown",
   "id": "01a89f1b-0fb2-4ffc-acdb-28134007ddad",
   "metadata": {},
   "source": [
    "# 简单侧信道分析"
   ]
  },
  {
   "cell_type": "markdown",
   "id": "3891cdc7-5917-482f-b7b2-7ad53ca572ce",
   "metadata": {},
   "source": [
    "简单功耗分析（SPA）攻击是由Kocher等人在文献[KJJ99]中以以下方式描述的：“SPA是一种涉及直接解释在密码学操作期间收集的功耗测量的技术。”换句话说，攻击者试图从给定的跟踪数据中或多或少直接推导出密钥。这可能使SPA攻击在实践中相当具有挑战性。通常，它们需要对被攻击设备执行的密码算法的实现有详细的了解。"
   ]
  },
  {
   "cell_type": "markdown",
   "id": "da6ae821-c6fc-45cc-8e58-b6a650063a5c",
   "metadata": {},
   "source": [
    "## RSA算法的SPA"
   ]
  },
  {
   "cell_type": "markdown",
   "id": "4475340a-1ca4-4817-8df3-4ed34a5a89b5",
   "metadata": {},
   "source": [
    "### RSA算法简介"
   ]
  },
  {
   "cell_type": "markdown",
   "id": "eb2e02ca-b879-4fef-b659-89a154e2a5ed",
   "metadata": {},
   "source": [
    "RSA加密算法是一种非对称加密技术，由Ron Rivest、Adi Shamir和Leonard Adleman于1977年发明，因此得名RSA。它基于一个简单的数论事实：将大整数分解成几个质数的乘积是计算上非常困难的，而将几个质数相乘则相对容易。RSA算法广泛应用于数据加密、数字签名、安全数据传输等领域。\n",
    "\n",
    "#### RSA算法的工作原理：\n",
    "\n",
    "1. **密钥生成**：\n",
    "       - 选择两个大的质数$ p $和$ q $。\n",
    "       - 计算$ n = pq $，其中$ n $是公钥和私钥的模数。\n",
    "       - 计算$ \\phi(n) = (p-1)(q-1) $，其中$ \\phi $是欧拉函数。\n",
    "       - 选择一个整数$ e $)，使得$ 1 < e < \\phi(n) $)，且$ e $与$ \\phi(n)$互质，通常$ e $取65537。\n",
    "       - 计算$ d $，使得$ de \\equiv 1 \\pmod{\\phi(n)} $，即$ d $)是$ e $模$ \\phi(n) $的乘法逆元。\n",
    "\n",
    "2. **公钥和私钥**：\n",
    "       - 公钥是$ (n, e) $。\n",
    "       - 私钥是$ (n, d) $。\n",
    "\n",
    "3. **加密过程**：\n",
    "       - 将要加密的消息转换为整数$ M $，其中$ 0 < M < n $\n",
    "       - 计算密文$ C $：$(C \\equiv M^e \\pmod{n} $\n",
    "\n",
    "4. **解密过程**：\n",
    "       - 使用私钥计算解密消息：$ M \\equiv C^d \\pmod{n} $\n",
    "\n",
    "RSA的安全性依赖于大整数分解的困难性。如果能够快速分解质数，那么RSA的安全性就会受到威胁。目前，RSA通常使用2048位或更大的密钥长度来保证安全性。\n",
    "\n",
    "#### 模幂的计算：\n",
    "在RSA加密和解密过程中，模幂运算是核心步骤，因此使用高效的算法至关重要。$C \\equiv M^e \\pmod{n} $和$ M \\equiv C^d \\pmod{n} $的计算称为模幂，是RSA算法计算量最大的地方，解密过程$ M \\equiv C^d \\pmod{n} $也是RSA算法最容易受到侧信道攻击的地方。\n",
    "\n",
    "平方-乘算法是教科书模幂算法：\n",
    "\n",
    "- **平方-乘法算法**：\n",
    "\n",
    "   - 将指数 $ x $ 写成二进制形式：$ x = x_0 + x_1 \\cdot 2^1 + x_2 \\cdot 2^2 + \\ldots $。\n",
    "   - 初始化结果 $ y = 1 $。\n",
    "   - 对于 $ x $ 的每一位二进制指数 $ i $（从最高位到最低位），执行以下步骤：\n",
    "   - $ y = (y \\cdot y) \\mod m $（平方操作）。\n",
    "   - 如果 $ x_i $ 为1，则 $ y = (y \\cdot b) \\mod m $（乘法操作）。\n",
    "   - 最终 $ y $ 就是 $ b^x \\mod m $ 的结果。\n",
    "\n",
    "以下是平方-乘法算法的伪代码：\n",
    "\n",
    "```bash\n",
    "    function modular_exponentiation(base, exponent, modulus):\n",
    "        result = 1\n",
    "        base = base % modulus\n",
    "        while exponent > 0:\n",
    "            if (exponent % 2) == 1:\n",
    "                result = (result * base) % modulus\n",
    "            exponent = exponent // 2\n",
    "            base = (base * base) % modulus\n",
    "        return result\n",
    "```"
   ]
  },
  {
   "cell_type": "markdown",
   "id": "b086dc16-e350-416c-b1b0-1f70351a7290",
   "metadata": {},
   "source": [
    "### 对平方-乘实现的RSA模幂的SPA"
   ]
  },
  {
   "cell_type": "markdown",
   "id": "60769dff-d5d7-4764-99c2-2f998e7d6e94",
   "metadata": {},
   "source": [
    "（曲线的展示：从板子进行相应采集并展示）"
   ]
  },
  {
   "cell_type": "code",
   "execution_count": null,
   "id": "136d6240-1d40-4167-b91b-1ad7dc110e71",
   "metadata": {},
   "outputs": [],
   "source": []
  },
  {
   "cell_type": "code",
   "execution_count": null,
   "id": "d59e3bc4-d64d-4d82-9451-7e4b24b6bcdb",
   "metadata": {},
   "outputs": [],
   "source": []
  },
  {
   "cell_type": "markdown",
   "id": "ecefc6eb-3cad-41b9-855d-953252886458",
   "metadata": {},
   "source": [
    "[KJJ99] "
   ]
  }
 ],
 "metadata": {
  "kernelspec": {
   "display_name": "Python 3 (ipykernel)",
   "language": "python",
   "name": "python3"
  },
  "language_info": {
   "codemirror_mode": {
    "name": "ipython",
    "version": 3
   },
   "file_extension": ".py",
   "mimetype": "text/x-python",
   "name": "python",
   "nbconvert_exporter": "python",
   "pygments_lexer": "ipython3",
   "version": "3.12.4"
  }
 },
 "nbformat": 4,
 "nbformat_minor": 5
}
