{
 "cells": [
  {
   "cell_type": "code",
   "execution_count": null,
   "metadata": {},
   "outputs": [],
   "source": [
    "import ollama\n",
    "from pydantic import BaseModel\n",
    "import time\n",
    "import os\n",
    "\n",
    "class NumberClueOrientation(BaseModel):\n",
    "    number:      int\n",
    "    clue:        str\n",
    "    orientation: str\n",
    "\n",
    "class CrosswordPuzzleEntries(BaseModel):\n",
    "    items: list[NumberClueOrientation]\n",
    "\n",
    "model    = 'gemma3:27b' # 'gemma3:12b' 'llama3.2-vision:11b' #\n",
    "client   = ollama.Client()\n",
    "_prompt_ = \"\"\"Extract the crossword entries.\"\"\"\n",
    "\n",
    "_lu_           = {}\n",
    "_process_time_ = {}\n",
    "\n",
    "_screenshot_dir_ = '../../../data/crossword_puzzle_screenshots/'\n",
    "_files_ = os.listdir(_screenshot_dir_)\n",
    "\n",
    "for _file_ in _files_:\n",
    "    break\n",
    "    screenshots = []\n",
    "    if _file_.endswith('.jpeg'): \n",
    "        screenshots.append(os.path.join(_screenshot_dir_, _file_))\n",
    "        print(screenshots)\n",
    "        t0 = time.time()\n",
    "        response = client.chat(model=model, messages=[\n",
    "            {\n",
    "                'role':    'user',\n",
    "                'content': _prompt_,\n",
    "                'images':  screenshots,\n",
    "            },],\n",
    "            format=CrosswordPuzzleEntries.model_json_schema(),\n",
    "            options={'num_ctx': 8192+2048}\n",
    "        )\n",
    "        t1 = time.time()\n",
    "        _items_ = CrosswordPuzzleEntries.model_validate_json(response['message']['content'])\n",
    "        _lu_[_file_], _process_time_[_file_] = _items_, t1-t0"
   ]
  },
  {
   "cell_type": "code",
   "execution_count": null,
   "metadata": {},
   "outputs": [],
   "source": [
    "#\n",
    "# Group By number and orientation -- and into a set to see where there are duplicates (or discrepancies)\n",
    "#\n",
    "entry_to_clues = {}\n",
    "entry_to_files = {}\n",
    "for x in _lu_:\n",
    "    for y in _lu_[x].items:\n",
    "        entry = (y.number, y.orientation)\n",
    "        if entry not in entry_to_clues: \n",
    "            entry_to_clues[entry] = set()\n",
    "            entry_to_files[entry] = set()\n",
    "        entry_to_clues[entry].add(y.clue)\n",
    "        entry_to_files[entry].add(x)"
   ]
  },
  {
   "cell_type": "code",
   "execution_count": null,
   "metadata": {},
   "outputs": [],
   "source": [
    "#\n",
    "# Just dump this to a file and fix by hand\n",
    "#\n",
    "_tuples_ = list(entry_to_clues.keys())\n",
    "#print('{')\n",
    "#for x in sorted(_tuples_, key=lambda x: (x[1], x[0])): print(x, ':', entry_to_clues[x], ',')\n",
    "#print('}')\n",
    "for _file_ in _files_:\n",
    "    if _file_.endswith('_entries.txt') and _file_.startswith('.') == False:\n",
    "        with open(os.path.join(_screenshot_dir_, _file_), 'rt') as f:\n",
    "            crossword_entries = eval(f.read())"
   ]
  },
  {
   "cell_type": "code",
   "execution_count": null,
   "metadata": {},
   "outputs": [],
   "source": [
    "#\n",
    "# No attempts with the smaller models was able to yield geometric results\n",
    "#\n",
    "_prompt_ = \"\"\"How many rows are in the crossword puzzle?\"\"\"\n",
    "for _file_ in _files_:\n",
    "    screenshots = []\n",
    "    if _file_.endswith('.jpeg'): \n",
    "        screenshots.append(os.path.join(_screenshot_dir_, _file_))\n",
    "        print(screenshots)\n",
    "        t0 = time.time()\n",
    "        response = client.chat(model=model, messages=[\n",
    "            {\n",
    "                'role':    'user',\n",
    "                'content': _prompt_,\n",
    "                'images':  screenshots,\n",
    "            },],\n",
    "            options={'num_ctx': 1024}\n",
    "        )\n",
    "        t1 = time.time()\n",
    "        print(response['message']['content'])\n",
    "        break"
   ]
  },
  {
   "cell_type": "code",
   "execution_count": null,
   "metadata": {},
   "outputs": [],
   "source": [
    "from PIL import Image"
   ]
  },
  {
   "cell_type": "code",
   "execution_count": null,
   "metadata": {},
   "outputs": [],
   "source": [
    "Image.open(os.path.join(_screenshot_dir_, _file_))"
   ]
  },
  {
   "cell_type": "code",
   "execution_count": null,
   "metadata": {},
   "outputs": [],
   "source": [
    "#\n",
    "# Try to find the lines / but this produces a lot of noise...\n",
    "# ... probably could minimize the bad lines via the angle test below\n",
    "# ... because we already know that the screenshot had a grid\n",
    "#\n",
    "from math import pi\n",
    "import cv2\n",
    "import numpy as np\n",
    "# Load the image\n",
    "image = cv2.imread(os.path.join(_screenshot_dir_, _file_), cv2.IMREAD_GRAYSCALE)\n",
    "# Apply Canny edge detection\n",
    "edges = cv2.Canny(image, 200, 220)\n",
    "# Apply Hough Line Transform\n",
    "lines = cv2.HoughLines(edges, 1, np.pi/180, 200)\n",
    "# Draw lines on the original image\n",
    "if lines is not None:\n",
    "    for rho, theta in lines[:, 0]:\n",
    "        # if abs(theta) > 0.005 and abs(pi + theta) > 0.01: continue\n",
    "        if abs(pi + theta) > 0.1: continue\n",
    "        a = np.cos(theta)\n",
    "        b = np.sin(theta)\n",
    "        x0 = a * rho\n",
    "        y0 = b * rho\n",
    "        x1 = int(x0 + 1000*(-b))\n",
    "        y1 = int(y0 + 1000*(a))\n",
    "        x2 = int(x0 - 1000*(-b))\n",
    "        y2 = int(y0 - 1000*(a))\n",
    "        cv2.line(image, (x1, y1), (x2, y2), (0, 0, 255), 2)\n",
    "\n",
    "# Display the result\n",
    "#cv2.imshow('Hough Lines', image)\n",
    "#cv2.waitKey(0)\n",
    "#cv2.destroyAllWindows()\n",
    "Image.fromarray(image.astype(np.uint8))"
   ]
  },
  {
   "cell_type": "code",
   "execution_count": null,
   "metadata": {},
   "outputs": [],
   "source": []
  }
 ],
 "metadata": {
  "kernelspec": {
   "display_name": ".venv",
   "language": "python",
   "name": "python3"
  },
  "language_info": {
   "codemirror_mode": {
    "name": "ipython",
    "version": 3
   },
   "file_extension": ".py",
   "mimetype": "text/x-python",
   "name": "python",
   "nbconvert_exporter": "python",
   "pygments_lexer": "ipython3",
   "version": "3.12.3"
  }
 },
 "nbformat": 4,
 "nbformat_minor": 2
}
