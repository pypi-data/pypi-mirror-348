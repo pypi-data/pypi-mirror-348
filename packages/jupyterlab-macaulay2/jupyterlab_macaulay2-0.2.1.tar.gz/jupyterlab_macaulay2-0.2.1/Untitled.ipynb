{
 "cells": [
  {
   "cell_type": "code",
   "execution_count": null,
   "id": "2168e798-dbb6-4907-b5da-3d3f8ae2191b",
   "metadata": {},
   "outputs": [],
   "source": []
  }
 ],
 "metadata": {
  "kernelspec": {
   "display_name": "M2",
   "language": "Macaulay2",
   "name": "m2"
  },
  "language_info": {
   "codemirror_mode": "macaulay2",
   "file_extension": ".m2",
   "mimetype": "text/x-macaulay2",
   "name": "Macaulay2"
  }
 },
 "nbformat": 4,
 "nbformat_minor": 5
}
