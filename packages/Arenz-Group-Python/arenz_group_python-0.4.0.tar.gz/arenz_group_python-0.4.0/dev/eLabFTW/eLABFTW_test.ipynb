{
 "cells": [
  {
   "cell_type": "markdown",
   "metadata": {},
   "source": [
    "# General installation from github\n",
    "This notebook creates a basic project structure. \n",
    "It is based on the article:\n",
    "https://github.com/elabftw/elabapi-python/tree/master/examples\n"
   ]
  },
  {
   "cell_type": "code",
   "execution_count": 1,
   "metadata": {},
   "outputs": [
    {
     "name": "stdout",
     "output_type": "stream",
     "text": [
      "\"data_treated\" could not be found as a branch of the folder tree form the notebook.\n",
      "Please use standard project structure.\n",
      "Project_Paths().create_project_structure()\n",
      "from the root of the project.\n",
      "\n"
     ]
    }
   ],
   "source": [
    "from arenz_group_python import Project_Paths\n",
    "from arenz_group_python import elabftw\n",
    "from arenz_group_python.elabftw.elabftw import API_HOST_URL\n",
    "import elabapi_python\n",
    "#Path of the file.\n"
   ]
  },
  {
   "cell_type": "code",
   "execution_count": 2,
   "metadata": {},
   "outputs": [],
   "source": [
    "from arenz_group_python import elabftw\n"
   ]
  },
  {
   "cell_type": "code",
   "execution_count": 3,
   "metadata": {},
   "outputs": [
    {
     "name": "stdout",
     "output_type": "stream",
     "text": [
      "Connection has not been established to the data base. Run 'connect' first.\n"
     ]
    }
   ],
   "source": [
    "elabftw.download_experiment(\"INK-JF060\")"
   ]
  },
  {
   "cell_type": "code",
   "execution_count": 4,
   "metadata": {},
   "outputs": [
    {
     "name": "stdout",
     "output_type": "stream",
     "text": [
      "Connected to DB.\n"
     ]
    }
   ],
   "source": [
    "elabftw.connect()\n"
   ]
  },
  {
   "cell_type": "code",
   "execution_count": 5,
   "metadata": {},
   "outputs": [
    {
     "name": "stdout",
     "output_type": "stream",
     "text": [
      "Experiment not found.\n"
     ]
    }
   ],
   "source": [
    "elabftw.download_experiment(\"Ia060\")"
   ]
  },
  {
   "cell_type": "code",
   "execution_count": 6,
   "metadata": {},
   "outputs": [
    {
     "name": "stdout",
     "output_type": "stream",
     "text": [
      "Found 3 experiments\n",
      "----1/3------------------ID= 8 \t<Project>\\Arenz_Group_Python\\data_raw\\INK-JF060\n",
      "\t\tSaving file \"INK-JF060.pdf\"\n",
      "\t\tSaving file \"INK-JF060.json\"\n",
      "\t\tNo uploads found\n",
      "----2/3------------------ID= 9 \t<Project>\\Arenz_Group_Python\\data_raw\\INK-JF060\\MWE-JF016\n",
      "\t\tSaving file \"MWE-JF016.pdf\"\n",
      "\t\tSaving file \"MWE-JF016.json\"\n",
      "\t\tNo uploads found\n",
      "----3/3------------------ID= 21 \t<Project>\\Arenz_Group_Python\\data_raw\\INK-JF060\\MWE-JF016\\MWE-JF016_Activity_Assessment\n",
      "\t\tSaving file \"MWE-JF016_Activity_Assessment.pdf\"\n",
      "\t\tSaving file \"MWE-JF016_Activity_Assessment.json\"\n",
      "\t\tFound 12 uploads\n",
      "\t\t 1 \t 63 CV_131930_10_MI.tdms None\n",
      "\t\t 2 \t 64 CV_131800_-9_MI.tdms None\n",
      "\t\t 3 \t 65 Macro.EC_Macro None\n",
      "\t\t 4 \t 66 Macro_Log.txt None\n",
      "\t\t 5 \t 67 CV_130600_-1_MI.tdms None\n",
      "\t\t 6 \t 68 CV_130730_-2_MI.tdms None\n",
      "\t\t 7 \t 69 CV_130900_-3_MI.tdms None\n",
      "\t\t 8 \t 70 CV_131030_-4_MI.tdms None\n",
      "\t\t 9 \t 71 CV_131200_-5_MI.tdms None\n",
      "\t\t 10 \t 72 CV_131330_-6_MI.tdms None\n",
      "\t\t 11 \t 73 CV_131500_-7_MI.tdms None\n",
      "\t\t 12 \t 74 CV_131630_-8_MI.tdms None\n"
     ]
    }
   ],
   "source": [
    "elabftw.download_experiment(\"INK-JF060\")"
   ]
  },
  {
   "cell_type": "code",
   "execution_count": 18,
   "metadata": {},
   "outputs": [
    {
     "name": "stdout",
     "output_type": "stream",
     "text": [
      "15\n",
      "ATS-JF061\n",
      "MWE-JF013 pre_capacitance\n",
      "MWE-JF013 post_capacitance\n",
      "INK-JF060\n",
      "MWE-JF016 Activity Assessment\n",
      "MWE-JF015 Activity Assessment\n",
      "MWE-JF014 Activity Assessment\n",
      "MWE-JF015\n",
      "MWE-JF014\n",
      "MWE-JF013 Activity Assessment\n",
      "MWE-JF013\n",
      "INK-JF059\n",
      "ATS-JF059\n",
      "ATS-JF060\n",
      "MWE-JF016\n"
     ]
    }
   ],
   "source": [
    "lista = elabftw.read_experiments(q=\"JF\")\n",
    "\n",
    "print(len(lista))\n",
    "for i in lista:\n",
    "    print(i.title)"
   ]
  }
 ],
 "metadata": {
  "kernelspec": {
   "display_name": "Python 3",
   "language": "python",
   "name": "python3"
  },
  "language_info": {
   "codemirror_mode": {
    "name": "ipython",
    "version": 3
   },
   "file_extension": ".py",
   "mimetype": "text/x-python",
   "name": "python",
   "nbconvert_exporter": "python",
   "pygments_lexer": "ipython3",
   "version": "3.11.5"
  }
 },
 "nbformat": 4,
 "nbformat_minor": 2
}
