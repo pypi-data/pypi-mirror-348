{
 "cells": [
  {
   "cell_type": "markdown",
   "metadata": {},
   "source": [
    "# Compound Mirror\n",
    "\n",
    "Author: A W Jones\n",
    "\n",
    "This notebook checks the ABCD matrix propergation for a compound mirror (i.e an ITM) which is made up of two optical surfaces seperated by space with a high refractive index.\n",
    "\n",
    "## Setup\n",
    "The following equations are the analytic resposne and are copied from `pykat/optics/ABCD.py`. They match Chapter 9 in Living Reviews in Relativity."
   ]
  },
  {
   "cell_type": "code",
   "execution_count": 1,
   "metadata": {},
   "outputs": [
    {
     "name": "stdout",
     "output_type": "stream",
     "text": [
      "Critical angle 16.84 deg\n"
     ]
    }
   ],
   "source": [
    "import finesse\n",
    "import finesse.gaussian as gaussian\n",
    "from finesse import BeamParam\n",
    "from finesse.utilities import refractive_index\n",
    "import numpy as np\n",
    "\n",
    "def apply(ABCD, q1, n1, n2):\n",
    "    \"\"\"\n",
    "    Applied the matrix ABCD to a complex beam parameter\n",
    "    \n",
    "    ABCD: Component matrix\n",
    "    q1: input beam parameter\n",
    "    n1: input refractive index\n",
    "    n2: output refractive index\n",
    "    \"\"\"\n",
    "    # make sure we have a complex here. We could have a beamParam object or a an actual complex value supplied\n",
    "    #_q1 = complex(q1)\n",
    "        \n",
    "    return BeamParam(nr=n2, q=n2 * (\n",
    "        ABCD[0,0] * q1/float(n1) + ABCD[0,1]) / (ABCD[1,0] * q1/float(n1) + ABCD[1,1]),\n",
    "        wavelength=q1.wavelength)\n",
    "\n",
    "def mirror_trans(n1, n2, Rc):\n",
    "    return np.matrix([[1.0,0.0],[(n2-n1)/float(Rc),1.0]])\n",
    "\n",
    "def space(n,L):\n",
    "    return np.matrix([[1.0, L/float(n)],[0.0,1.0]])\n",
    "\n",
    "# Refractive indicies\n",
    "nmedium = 3.451 # Silicon at 2u\n",
    "nvac = 1 \n",
    "\n",
    "print(f'Critical angle {180*np.arcsin(nvac/nmedium)/np.pi:.2f} deg')"
   ]
  },
  {
   "cell_type": "markdown",
   "metadata": {},
   "source": [
    "# Test 1 - Correct ABCD Matrix In/Out Matricies"
   ]
  },
  {
   "cell_type": "code",
   "execution_count": 2,
   "metadata": {},
   "outputs": [
    {
     "name": "stdout",
     "output_type": "stream",
     "text": [
      "○ ITM_HR\n",
      "╰──○ ITM_AR\n",
      "   ╰──○ PR3\n",
      "AR parsed ok\n",
      "HR parsed ok\n",
      "\n",
      "Debug infomation:\n",
      "n outside (HR): None\n",
      "n inside (HR): 3.451\n",
      "\n",
      "AR matrix ok\n",
      "HR matrix ok\n"
     ]
    }
   ],
   "source": [
    "Rc = 1\n",
    "\n",
    "IFO = finesse.Model()\n",
    "IFO.parse(f\"\"\"\n",
    "mirror ITM_HR Rc={Rc}\n",
    "space substrate portA=ITM_HR.p2 portB=ITM_AR.p1 nr={nmedium}\n",
    "mirror ITM_AR\n",
    "space lin portA=ITM_AR.p2 portB=PR3.p1 nr={nvac}\n",
    "mirror PR3\n",
    "\"\"\")\n",
    "\n",
    "print(IFO.component_tree(IFO.ITM_HR))\n",
    "\n",
    "# Check parsed ok\n",
    "try:\n",
    "    assert np.all(IFO.ITM_AR.Rc == [np.inf, np.inf])\n",
    "except:\n",
    "    print('AR surface not flat!')\n",
    "    import sys\n",
    "    sys.exit(10)\n",
    "else:\n",
    "    print('AR parsed ok')\n",
    "    \n",
    "# Check parsed ok\n",
    "try:\n",
    "    assert np.all(IFO.ITM_HR.Rc == [Rc, Rc])\n",
    "except:\n",
    "    print('HR surface not flat!')\n",
    "    import sys\n",
    "    sys.exit(10)\n",
    "else:\n",
    "    print('HR parsed ok')\n",
    "\n",
    "print('\\nDebug infomation:')\n",
    "print(f'n outside (HR): {refractive_index(IFO.ITM_HR.p1)}')\n",
    "print(f'n inside (HR): {refractive_index(IFO.ITM_HR.p2)}')\n",
    "print('')\n",
    "\n",
    "M_ana = mirror_trans(nmedium,nvac,np.inf)\n",
    "M_fin = IFO.ABCD(IFO.ITM_AR.p1.i,IFO.ITM_AR.p2.o).M\n",
    "try:\n",
    "    assert np.all(\n",
    "            np.isclose(M_ana,M_fin,atol=1e-15,rtol=1e-10))\n",
    "except:\n",
    "    print('Expected ABCD at AR surface: ')\n",
    "    print(M_ana)\n",
    "    print('Computed ABCD:')\n",
    "    print(M_fin)\n",
    "    import sys\n",
    "    sys.exit(10)\n",
    "else:\n",
    "    print('AR matrix ok')\n",
    "    \n",
    "M_ana = mirror_trans(nvac,nmedium,Rc)\n",
    "M_fin = IFO.ABCD(IFO.ITM_HR.p1.i,IFO.ITM_HR.p2.o).M\n",
    "try:\n",
    "    assert np.all(\n",
    "            np.isclose(M_ana,M_fin,atol=1e-15,rtol=1e-10))\n",
    "except:\n",
    "    print('Expected ABCD at HR surface: ')\n",
    "    print(M_ana)\n",
    "    print('Computed ABCD:')\n",
    "    print(M_fin)\n",
    "    import sys\n",
    "    sys.exit(10)\n",
    "else:\n",
    "    print('HR matrix ok')\n",
    "    \n"
   ]
  },
  {
   "cell_type": "markdown",
   "metadata": {},
   "source": [
    "# Test 2 - Check Beam Trace"
   ]
  },
  {
   "cell_type": "code",
   "execution_count": 3,
   "metadata": {},
   "outputs": [
    {
     "name": "stderr",
     "output_type": "stream",
     "text": [
      "            finesse.model [ WARNING]: Modal model enabled with only HG00. Call Model.select_modes to add modes.\n"
     ]
    },
    {
     "name": "stdout",
     "output_type": "stream",
     "text": [
      "ITM P2 attached to <'Larm' @ 0x7f311b50c580 (Space)>\n",
      "SC_itmAR P1 attached to <'input_space' @ 0x7f311b549f70 (Space)>\n",
      "bp itm in w: 1.050mm Rc: 1.0m\n"
     ]
    }
   ],
   "source": [
    "# Styled like the ligo file\n",
    "IFO = finesse.Model()\n",
    "IFO.parse_legacy(f\"\"\"\n",
    "\n",
    "l IO_l 1 0.0 0.0 nLaser\n",
    "s input_space 1 nLaser SC_ni\n",
    "\n",
    "# 20 ppm loss as in LIGO\n",
    "m2 SC_itmAR 0 20u 0 SC_ni SC_nSubAR\n",
    "s SC_itmSub 30m $nmedium SC_nSubAR SC_nSubHR\n",
    "m SC_itm 0.994 0.006 0.0 SC_nSubHR SC_n1\n",
    "attr SC_itm Rcx {-Rc}\n",
    "attr SC_itm Rcy {-Rc}\n",
    "\n",
    "s Larm 1.5 SC_n1 SC_n2\n",
    "\n",
    "m SC_etm 0.99999 1e-05 0.0 SC_n2 SC_no\n",
    "attr SC_etm Rcx {Rc}\n",
    "attr SC_etm Rcy {Rc}\n",
    "\n",
    "cav SC SC_etm SC_n2 SC_itm SC_n1\n",
    "const nmedium {nmedium}\n",
    "\n",
    "yaxis abs\n",
    "lambda 2e-06\n",
    "\"\"\")\n",
    "\n",
    "trace = IFO.beam_trace()\n",
    "\n",
    "print(f'ITM P2 attached to {IFO.SC_itm.p2.attached_to}')\n",
    "print(f'SC_itmAR P1 attached to {IFO.SC_itmAR.p1.attached_to}')\n",
    "\n",
    "bpin = trace[IFO.SC_itm.p2.i].qx\n",
    "print(f'bp itm in w: {1e3*bpin.w:.3f}mm Rc: {bpin.Rc}m')"
   ]
  },
  {
   "cell_type": "code",
   "execution_count": 4,
   "metadata": {
    "scrolled": false
   },
   "outputs": [
    {
     "name": "stdout",
     "output_type": "stream",
     "text": [
      "HR surface ok\n",
      "subtrate space ok\n",
      "AR surface ok\n"
     ]
    }
   ],
   "source": [
    "def check(expected,computed,name):\n",
    "    \"\"\" Quick function to contain the common code \"\"\"\n",
    "    try:\n",
    "        # check real physical numbers\n",
    "        assert np.isclose(expected.w,computed.w,atol=1e-15,rtol=1e-10)\n",
    "        assert np.isclose(expected.Rc,computed.Rc,atol=1e-15,rtol=1e-10)\n",
    "    except:\n",
    "        print(f'Expected beam radius after {name}: {1e3*expected.w} mm, computed: {1e3*computed.w}mm')\n",
    "        print(f'Expected Rc after {name}: {expected.Rc}m, computed: {computed.Rc}m')\n",
    "        print('Failed due to mismatch')\n",
    "        import sys\n",
    "        sys.exit(10)\n",
    "    else:\n",
    "        print(f'{name} ok')\n",
    "\n",
    "\n",
    "_1 = apply(mirror_trans(1,nmedium ,Rc),bpin,1,nmedium)\n",
    "check(_1,\n",
    "    trace[IFO.SC_itm.p1.o].qx,\n",
    "    'HR surface')\n",
    "\n",
    "_2 = apply(space(nmedium ,30e-3),_1,nmedium,nmedium)\n",
    "check(_2,\n",
    "    trace[IFO.SC_itmAR.p2.i].qx,\n",
    "    'subtrate space')\n",
    "\n",
    "_3 = apply(mirror_trans(nmedium,1,np.inf),_2,nmedium ,1)\n",
    "check(_3,\n",
    "    trace[IFO.SC_itmAR.p1.o].qx,\n",
    "    'AR surface')"
   ]
  },
  {
   "cell_type": "code",
   "execution_count": null,
   "metadata": {},
   "outputs": [],
   "source": []
  }
 ],
 "metadata": {
  "kernelspec": {
   "display_name": "finesse3",
   "language": "python",
   "name": "finesse3"
  },
  "language_info": {
   "codemirror_mode": {
    "name": "ipython",
    "version": 3
   },
   "file_extension": ".py",
   "mimetype": "text/x-python",
   "name": "python",
   "nbconvert_exporter": "python",
   "pygments_lexer": "ipython3",
   "version": "3.8.5"
  }
 },
 "nbformat": 4,
 "nbformat_minor": 4
}
