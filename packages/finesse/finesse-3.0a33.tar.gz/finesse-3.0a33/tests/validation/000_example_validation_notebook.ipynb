{
 "cells": [
  {
   "cell_type": "markdown",
   "metadata": {},
   "source": [
    "# Example Validation Notebook\n",
    "This is a notebook that will be tested by the Birmingham Enviroment for Software Testing (BEST). These validation tests are expensive and do not use the unittest framework at all. The idea is a user can open one up and immediatly see proof that the code works. We can run these nightly instead in a commit based mannor.\n",
    "\n",
    "Here we test (nothing to do with Finesse3) that our `energy` program (in this case a simple function) works in the limit that the particle is at rest. In that case the energy will be,\n",
    "\n",
    "\\begin{equation}\n",
    "E = mc^2.\n",
    "\\end{equation}\n",
    "\n",
    "\n",
    "## Test program\n",
    "Now we write our program, in our case `energy` calculates the relativitic energy of a particle,\n",
    "\\begin{equation}\n",
    "E^2 = p^2c^2 + m^2c^4.\n",
    "\\end{equation}"
   ]
  },
  {
   "cell_type": "code",
   "execution_count": 1,
   "metadata": {},
   "outputs": [],
   "source": [
    "import numpy\n",
    "c = 3e8\n",
    "def energy(momentum,rest_mass):\n",
    "    term1 = numpy.power(momentum,2)*numpy.power(c,2)\n",
    "    term2 = numpy.power(rest_mass,2)*numpy.power(c,4)\n",
    "    return numpy.sqrt(term1+term2)"
   ]
  },
  {
   "cell_type": "markdown",
   "metadata": {},
   "source": [
    "## Symbolic Comparison\n",
    "We want to compare this against some known analytic solution in the limit $p \\rightarrow 0$."
   ]
  },
  {
   "cell_type": "code",
   "execution_count": 2,
   "metadata": {},
   "outputs": [],
   "source": [
    "def f_E(m):\n",
    "    return m*c*c"
   ]
  },
  {
   "cell_type": "markdown",
   "metadata": {},
   "source": [
    "## Compare over some large range of values\n",
    "Now we have our two functions, we can compare them for some large range of masses."
   ]
  },
  {
   "cell_type": "code",
   "execution_count": 3,
   "metadata": {},
   "outputs": [
    {
     "name": "stdout",
     "output_type": "stream",
     "text": [
      "Mass energy equivelence within limits.\n"
     ]
    }
   ],
   "source": [
    "masses = numpy.logspace(-10,10,num=21)\n",
    "test_values = energy(0,masses)\n",
    "analytic_limit = f_E(masses)\n",
    "\n",
    "try:\n",
    "    assert numpy.isclose(test_values,analytic_limit,atol=1e-15,rtol=1e-15).all()\n",
    "except AssertionError:\n",
    "    # print a helpful debug message\n",
    "    print('The test function did not return E=mc**2 in the limit that momentum was zero')\n",
    "    \n",
    "    # describe what went wrong\n",
    "    print('The masses used were:')\n",
    "    print(masses)\n",
    "    print('The differance between the recorded values were (test-analytic):')\n",
    "    print(test_values-analytic_limit)\n",
    "    \n",
    "    # Exit with a return code that is not zero or one\n",
    "    # this helps differentiate between tests that crashed (exit code 1)\n",
    "    # and test that executed successfully, but found an error with the code\n",
    "    print('I will now exit with return code 10 to symbolise a differance error.')\n",
    "    import sys\n",
    "    sys.exit(10)\n",
    "else:\n",
    "    # Always print a debug message, so the logs clearly show it passed\n",
    "    # just in case it doesn't exit for some reason.\n",
    "    print('Mass energy equivelence within limits.')"
   ]
  },
  {
   "cell_type": "code",
   "execution_count": null,
   "metadata": {},
   "outputs": [],
   "source": []
  }
 ],
 "metadata": {
  "kernelspec": {
   "display_name": "Python 3",
   "language": "python",
   "name": "python3"
  },
  "language_info": {
   "codemirror_mode": {
    "name": "ipython",
    "version": 3
   },
   "file_extension": ".py",
   "mimetype": "text/x-python",
   "name": "python",
   "nbconvert_exporter": "python",
   "pygments_lexer": "ipython3",
   "version": "3.8.5"
  }
 },
 "nbformat": 4,
 "nbformat_minor": 2
}
