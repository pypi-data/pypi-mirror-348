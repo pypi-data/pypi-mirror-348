{
 "cells": [
  {
   "cell_type": "markdown",
   "metadata": {},
   "source": [
    "# palaestrAI in a Jupyter Notebook\n",
    "\n",
    "This is just the equivalent of a system test for the random action experiment.\n",
    "\n",
    "## Imports"
   ]
  },
  {
   "cell_type": "code",
   "execution_count": 1,
   "metadata": {},
   "outputs": [],
   "source": [
    "import palaestrai"
   ]
  },
  {
   "cell_type": "markdown",
   "metadata": {},
   "source": [
    "If the above line works without error, at least the import is done. Thats a first good starter. Now let's import the rest…"
   ]
  },
  {
   "cell_type": "code",
   "execution_count": 2,
   "metadata": {},
   "outputs": [],
   "source": [
    "import os\n",
    "import pprint\n",
    "import tempfile\n",
    "from pathlib import Path"
   ]
  },
  {
   "cell_type": "markdown",
   "metadata": {},
   "source": [
    "## Setting the Runtime Configuration\n",
    "\n",
    "Usually, this is not necessary like this. But because we're running a self-contained test, we want to have a new, fresh database where we want to put it. Which is, in a temporary directory."
   ]
  },
  {
   "cell_type": "code",
   "execution_count": null,
   "metadata": {},
   "outputs": [],
   "source": [
    "store_dir = tempfile.TemporaryDirectory()\n",
    "store_dir"
   ]
  },
  {
   "cell_type": "markdown",
   "metadata": {},
   "source": [
    "We're now going to change palaestrAI's runtime configuration to point to the new directory."
   ]
  },
  {
   "cell_type": "code",
   "execution_count": null,
   "metadata": {},
   "outputs": [],
   "source": [
    "from palaestrai.core import RuntimeConfig\n",
    "\n",
    "runtime_config = RuntimeConfig()\n",
    "runtime_config.reset()\n",
    "runtime_config.load(\n",
    "    {\"store_uri\": \"sqlite:///%s/palaestrai.db\" % store_dir.name}\n",
    ")\n",
    "pprint.pprint(runtime_config.to_dict())"
   ]
  },
  {
   "cell_type": "markdown",
   "metadata": {},
   "source": [
    "## Create the Database\n",
    "\n",
    "Next, we create the database at the given URI. It will complain that we're not using TimescaleDB, which is okay."
   ]
  },
  {
   "cell_type": "code",
   "execution_count": null,
   "metadata": {},
   "outputs": [],
   "source": [
    "from palaestrai.store.database_util import setup_database\n",
    "\n",
    "setup_database(runtime_config.store_uri)"
   ]
  },
  {
   "cell_type": "code",
   "execution_count": 6,
   "metadata": {},
   "outputs": [],
   "source": [
    "assert Path(\"%s/palaestrai.db\" % store_dir.name).is_file()"
   ]
  },
  {
   "cell_type": "markdown",
   "metadata": {},
   "source": [
    "## Run Experiment\n",
    "\n",
    "In this part, we load our Classic ARL experiment and run it."
   ]
  },
  {
   "cell_type": "code",
   "execution_count": 7,
   "metadata": {},
   "outputs": [],
   "source": [
    "experiment_file_path = (\n",
    "    Path().absolute() / \"..\" / \"fixtures\" / \"Classic-ARL-Experiment_run-0.yml\"\n",
    ")\n",
    "assert experiment_file_path.is_file()\n",
    "os.chdir(\"../../\") # Needed because of palaestrAI shenanigans"
   ]
  },
  {
   "cell_type": "code",
   "execution_count": null,
   "metadata": {
    "scrolled": true
   },
   "outputs": [],
   "source": [
    "rc = palaestrai.execute(str(experiment_file_path))\n",
    "assert rc[1].value == 4\n",
    "rc"
   ]
  },
  {
   "cell_type": "markdown",
   "metadata": {},
   "source": [
    "If you see something like `('Yo-ho, a dummy experiment run for me!', <ExecutorState.EXITED: 4>)` as output of the previous line, then congratulations, everything went well! Now onwards to the final step…\n",
    "\n",
    "## Verify Data from the Store\n",
    "\n",
    "Now that an experiment has been run, there should be something in the store. Note that we don't check whether something *meaningful* is in the store, only that there is *something* in the store."
   ]
  },
  {
   "cell_type": "code",
   "execution_count": 9,
   "metadata": {},
   "outputs": [],
   "source": [
    "from sqlalchemy import select\n",
    "\n",
    "import palaestrai.store\n",
    "import palaestrai.store.database_model as dbm"
   ]
  },
  {
   "cell_type": "code",
   "execution_count": 10,
   "metadata": {},
   "outputs": [],
   "source": [
    "dbh = palaestrai.store.Session()"
   ]
  },
  {
   "cell_type": "code",
   "execution_count": null,
   "metadata": {},
   "outputs": [],
   "source": [
    "q = select(dbm.Experiment)\n",
    "str(q)"
   ]
  },
  {
   "cell_type": "code",
   "execution_count": null,
   "metadata": {},
   "outputs": [],
   "source": [
    "experiment = dbh.execute(q).first()[dbm.Experiment]\n",
    "experiment.name"
   ]
  },
  {
   "cell_type": "code",
   "execution_count": null,
   "metadata": {},
   "outputs": [],
   "source": [
    "our_experiment_run = experiment.experiment_runs[0]\n",
    "str(our_experiment_run)"
   ]
  },
  {
   "cell_type": "markdown",
   "metadata": {},
   "source": [
    "The `document` property of the experiment run object should contain the YAML file, and we should be able to de-searialize it. Let's check that."
   ]
  },
  {
   "cell_type": "code",
   "execution_count": 14,
   "metadata": {},
   "outputs": [],
   "source": [
    "assert our_experiment_run.document"
   ]
  },
  {
   "cell_type": "code",
   "execution_count": null,
   "metadata": {},
   "outputs": [],
   "source": [
    "our_experiment_run._document_json"
   ]
  },
  {
   "cell_type": "code",
   "execution_count": null,
   "metadata": {},
   "outputs": [],
   "source": [
    "our_experiment_run.experiment_run_instances[0].uid"
   ]
  },
  {
   "cell_type": "markdown",
   "metadata": {},
   "source": [
    "… and so on. For a system test, this is enough."
   ]
  }
 ],
 "metadata": {
  "kernelspec": {
   "display_name": "Python 3",
   "language": "python",
   "name": "python3"
  },
  "language_info": {
   "codemirror_mode": {
    "name": "ipython",
    "version": 3
   },
   "file_extension": ".py",
   "mimetype": "text/x-python",
   "name": "python",
   "nbconvert_exporter": "python",
   "pygments_lexer": "ipython3",
   "version": "3.10.14"
  }
 },
 "nbformat": 4,
 "nbformat_minor": 4
}
