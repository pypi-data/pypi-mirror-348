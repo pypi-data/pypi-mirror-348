{
 "cells": [
  {
   "cell_type": "code",
   "execution_count": 3,
   "id": "a0d84300",
   "metadata": {},
   "outputs": [],
   "source": [
    "import portgeo\n",
    "import ipywidgets as widgets"
   ]
  },
  {
   "cell_type": "code",
   "execution_count": 12,
   "id": "adc02fac",
   "metadata": {},
   "outputs": [
    {
     "data": {
      "application/vnd.jupyter.widget-view+json": {
       "model_id": "ed1e9591248049699edac21f9024623e",
       "version_major": 2,
       "version_minor": 0
      },
      "text/plain": [
       "Map(center=[20, 0], controls=(ZoomControl(options=['position', 'zoom_in_text', 'zoom_in_title', 'zoom_out_text…"
      ]
     },
     "execution_count": 12,
     "metadata": {},
     "output_type": "execute_result"
    }
   ],
   "source": [
    "m = portgeo.Map()\n",
    "options = [\"OpenStreetMap.Mapnik\", \"CartoDB.DarkMatter\"]\n",
    "m.add_basemap_gui(options=options)\n",
    "m.add_layer_control()\n",
    "\n",
    "\n",
    "zoom_slider = widgets.IntSlider(\n",
    "    value=2,\n",
    "    min=1,\n",
    "    max=24,\n",
    "    step=1,\n",
    "    description=\"Zoom\",\n",
    "    style={\"description_width\": \"initial\"},\n",
    "    continuous_update=False,\n",
    ")\n",
    "\n",
    "zoom_slider.layout = widgets.Layout(width=\"250px\", height=\"38px\")\n",
    "widgets.jslink((zoom_slider, \"value\"), (m, \"zoom\"))\n",
    "\n",
    "m.add_widget(zoom_slider)\n",
    "\n",
    "m"
   ]
  }
 ],
 "metadata": {
  "kernelspec": {
   "display_name": "geo",
   "language": "python",
   "name": "python3"
  },
  "language_info": {
   "codemirror_mode": {
    "name": "ipython",
    "version": 3
   },
   "file_extension": ".py",
   "mimetype": "text/x-python",
   "name": "python",
   "nbconvert_exporter": "python",
   "pygments_lexer": "ipython3",
   "version": "3.12.9"
  }
 },
 "nbformat": 4,
 "nbformat_minor": 5
}
