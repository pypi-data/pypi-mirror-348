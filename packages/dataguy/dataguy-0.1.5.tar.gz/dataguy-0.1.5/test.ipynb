{
 "cells": [
  {
   "cell_type": "code",
   "execution_count": 1,
   "id": "18c3f077",
   "metadata": {},
   "outputs": [],
   "source": [
    "# Import necessary modules\n",
    "from dataguy.core import DataGuy\n",
    "import pandas as pd\n",
    "import numpy as np\n",
    "\n",
    "# Create a sample DataGuy instance\n",
    "data_guy = DataGuy()"
   ]
  },
  {
   "cell_type": "code",
   "execution_count": 2,
   "id": "a9767df6",
   "metadata": {},
   "outputs": [],
   "source": [
    "import importlib\n",
    "from dataguy import core\n",
    "importlib.reload(core)\n",
    "from dataguy.core import DataGuy\n",
    "data_guy = DataGuy()"
   ]
  },
  {
   "cell_type": "code",
   "execution_count": 1,
   "id": "944126a3",
   "metadata": {},
   "outputs": [],
   "source": [
    "# Imports\n",
    "import pandas as pd\n",
    "import numpy as np\n",
    "import matplotlib.pyplot as plt\n",
    "from claudette import Chat, models\n",
    "import re\n"
   ]
  },
  {
   "cell_type": "code",
   "execution_count": 2,
   "id": "fe35043e",
   "metadata": {},
   "outputs": [],
   "source": [
    "import builtins\n",
    "import types\n",
    "\n",
    "# Updated ContextManager for notebook: only show user‐relevant imports & variables\n",
    "class ContextManager:\n",
    "    def __init__(self, max_code_history=100):\n",
    "        self.imported_packages = set()\n",
    "        self.variables = {}\n",
    "        self.code_history = []\n",
    "        self.max_code_history = max_code_history\n",
    "    \n",
    "    def update_from_globals(self, globals_dict):\n",
    "        # Reset trackers\n",
    "        self.imported_packages.clear()\n",
    "        self.variables.clear()\n",
    "        \n",
    "        # Track non‐private module imports\n",
    "        for name, obj in globals_dict.items():\n",
    "            if isinstance(obj, types.ModuleType) and not name.startswith('_'):\n",
    "                self.imported_packages.add(name)\n",
    "        \n",
    "        # Track only meaningful variables\n",
    "        for name, obj in globals_dict.items():\n",
    "            if (\n",
    "                name.startswith('_') or\n",
    "                name in builtins.__dict__ or\n",
    "                isinstance(obj, types.ModuleType) or\n",
    "                callable(obj)\n",
    "            ):\n",
    "                continue\n",
    "            # Keep DataFrame, ndarray, list, dict, primitives\n",
    "            if isinstance(obj, (pd.DataFrame, np.ndarray, list, dict, int, float, str, bool)):\n",
    "                t = type(obj).__name__\n",
    "                if hasattr(obj, 'shape'):\n",
    "                    self.variables[name] = f\"{t}{obj.shape}\"\n",
    "                else:\n",
    "                    self.variables[name] = t\n",
    "    \n",
    "    def add_code(self, code):\n",
    "        lines = code.strip().split('\\n')\n",
    "        self.code_history.extend(lines)\n",
    "        if len(self.code_history) > self.max_code_history:\n",
    "            self.code_history = self.code_history[-self.max_code_history:]\n",
    "    \n",
    "    def get_context_summary(self):\n",
    "        lines = [\"# CONTEXT\", \"\"]\n",
    "        # Imports\n",
    "        lines.append(\"## Imports\")\n",
    "        lines.append(\", \".join(sorted(self.imported_packages)) or \"None\")\n",
    "        # Variables\n",
    "        lines.append(\"\\n## Variables\")\n",
    "        if self.variables:\n",
    "            for k, v in sorted(self.variables.items()):\n",
    "                lines.append(f\"- {k}: {v}\")\n",
    "        else:\n",
    "            lines.append(\"None\")\n",
    "        # Code history\n",
    "        lines.append(\"\\n## Code History\")\n",
    "        if self.code_history:\n",
    "            lines.append(\"```python\")\n",
    "            lines.extend(self.code_history)\n",
    "            lines.append(\"```\")\n",
    "        else:\n",
    "            lines.append(\"None\")\n",
    "        return \"\\n\".join(lines)\n"
   ]
  },
  {
   "cell_type": "code",
   "execution_count": 13,
   "id": "0fb40c52",
   "metadata": {},
   "outputs": [],
   "source": [
    "# %%\n",
    "# Updated helper to return only relevant namespace items, excluding __builtins__\n",
    "\n",
    "import re\n",
    "\n",
    "def run_llm_code(chat, context, data, task):\n",
    "    prompt = context.get_context_summary() + \"\\n# Task: \" + task\n",
    "    resp = chat(prompt)\n",
    "    raw = resp.content[0].text\n",
    "    \n",
    "    # Extract code block\n",
    "    match = re.search(r'```(?:python)?\\n(.*?)```', raw, re.S)\n",
    "    code = match.group(1).strip() if match else raw.strip()\n",
    "    \n",
    "    # Print only the code\n",
    "    print(code)\n",
    "    \n",
    "    # Prepare base namespace\n",
    "    ns = {'pd': pd, 'np': np, 'data': data, 'plt': plt}\n",
    "    base_keys = set(ns.keys())\n",
    "    \n",
    "    # Execute LLM code\n",
    "    exec(code, ns)\n",
    "    \n",
    "    # Update context\n",
    "    context.add_code(code)\n",
    "    context.update_from_globals(ns)\n",
    "    \n",
    "    # Determine new or updated items\n",
    "    diff_keys = set(ns.keys()) - base_keys\n",
    "    # Always include 'data' and exclude private keys\n",
    "    relevant_keys = {'data'} | {k for k in diff_keys if not k.startswith('_')}\n",
    "    \n",
    "    # Build filtered namespace without __builtins__\n",
    "    filtered_ns = {k: ns[k] for k in relevant_keys}\n",
    "    return filtered_ns\n"
   ]
  },
  {
   "cell_type": "code",
   "execution_count": 4,
   "id": "765936f5",
   "metadata": {},
   "outputs": [],
   "source": [
    "# %%\n",
    "# Initialize chat and context\n",
    "chat = Chat(models[-1], sp=\"You are a Python data assistant. Only respond with code. Do not add any explanations or comments. The code will be run.\")\n",
    "ctx = ContextManager()\n"
   ]
  },
  {
   "cell_type": "code",
   "execution_count": 35,
   "id": "b82a1ab8",
   "metadata": {},
   "outputs": [],
   "source": [
    "chat_plot = Chat(models[2], sp=\"You are a Python data assistant. Only respond with code. Do not add any explanations or comments. The code will be run.\")\n"
   ]
  },
  {
   "cell_type": "code",
   "execution_count": 5,
   "id": "0687fed4",
   "metadata": {},
   "outputs": [],
   "source": [
    "chat_language = Chat(models[-1], sp=\"You are a Python data assistant. You are concise and to the point, without any preamble. Do not write code.\")"
   ]
  },
  {
   "cell_type": "code",
   "execution_count": 6,
   "id": "22799e2b",
   "metadata": {},
   "outputs": [
    {
     "data": {
      "text/html": [
       "<div>\n",
       "<style scoped>\n",
       "    .dataframe tbody tr th:only-of-type {\n",
       "        vertical-align: middle;\n",
       "    }\n",
       "\n",
       "    .dataframe tbody tr th {\n",
       "        vertical-align: top;\n",
       "    }\n",
       "\n",
       "    .dataframe thead th {\n",
       "        text-align: right;\n",
       "    }\n",
       "</style>\n",
       "<table border=\"1\" class=\"dataframe\">\n",
       "  <thead>\n",
       "    <tr style=\"text-align: right;\">\n",
       "      <th></th>\n",
       "      <th>A</th>\n",
       "      <th>B</th>\n",
       "    </tr>\n",
       "  </thead>\n",
       "  <tbody>\n",
       "    <tr>\n",
       "      <th>0</th>\n",
       "      <td>1.0</td>\n",
       "      <td>5.0</td>\n",
       "    </tr>\n",
       "    <tr>\n",
       "      <th>1</th>\n",
       "      <td>2.0</td>\n",
       "      <td>NaN</td>\n",
       "    </tr>\n",
       "    <tr>\n",
       "      <th>2</th>\n",
       "      <td>NaN</td>\n",
       "      <td>7.0</td>\n",
       "    </tr>\n",
       "    <tr>\n",
       "      <th>3</th>\n",
       "      <td>4.0</td>\n",
       "      <td>8.0</td>\n",
       "    </tr>\n",
       "  </tbody>\n",
       "</table>\n",
       "</div>"
      ],
      "text/plain": [
       "     A    B\n",
       "0  1.0  5.0\n",
       "1  2.0  NaN\n",
       "2  NaN  7.0\n",
       "3  4.0  8.0"
      ]
     },
     "execution_count": 6,
     "metadata": {},
     "output_type": "execute_result"
    }
   ],
   "source": [
    "# %%\n",
    "# 1) Prepare raw data (static)\n",
    "data = pd.DataFrame({'A': [1, 2, None, 4], 'B': [5, None, 7, 8]})\n",
    "ctx.update_from_globals(globals())\n",
    "data\n"
   ]
  },
  {
   "cell_type": "code",
   "execution_count": 7,
   "id": "44dd7f5e",
   "metadata": {},
   "outputs": [],
   "source": [
    "def summarize_data(data):\n",
    "    \"\"\"\n",
    "    Return a summary dict with:\n",
    "      - shape\n",
    "      - columns\n",
    "      - missing counts per column\n",
    "      - means per numeric column\n",
    "    \"\"\"\n",
    "    summary = {\n",
    "        'shape': data.shape,\n",
    "        'columns': list(data.columns),\n",
    "        'missing_counts': data.isna().sum().to_dict(),\n",
    "        'means': data.mean(numeric_only=True).to_dict()\n",
    "    }\n",
    "    return summary"
   ]
  },
  {
   "cell_type": "code",
   "execution_count": 8,
   "id": "36571f6b",
   "metadata": {},
   "outputs": [],
   "source": [
    "# Cell: Define describe_data via LLM\n",
    "def describe_data(chat, context, data, summary):\n",
    "    \"\"\"\n",
    "    Use LLM to produce a textual description of the dataset.\n",
    "    \"\"\"\n",
    "    # Update context with summary variable\n",
    "    context.update_from_globals({'summary': summary})\n",
    "    prompt = (\n",
    "        context.get_context_summary()\n",
    "        + \"\\n# Task: Based on the summary below, describe the dataset in a few sentences.\\n\"\n",
    "        + f\"Summary: {summary}\"\n",
    "    )\n",
    "    resp = chat(prompt)\n",
    "    description = resp.content[0].text\n",
    "    print(description)\n",
    "    # update context\n",
    "    context.add_code(f\"# Description: {description}\")\n",
    "    return description"
   ]
  },
  {
   "cell_type": "code",
   "execution_count": 9,
   "id": "ec437f6d",
   "metadata": {},
   "outputs": [
    {
     "data": {
      "text/plain": [
       "{'shape': (4, 2),\n",
       " 'columns': ['A', 'B'],\n",
       " 'missing_counts': {'A': 1, 'B': 1},\n",
       " 'means': {'A': 2.3333333333333335, 'B': 6.666666666666667}}"
      ]
     },
     "execution_count": 9,
     "metadata": {},
     "output_type": "execute_result"
    }
   ],
   "source": [
    "summary = summarize_data(data)\n",
    "summary"
   ]
  },
  {
   "cell_type": "code",
   "execution_count": 10,
   "id": "cee8f9e8",
   "metadata": {},
   "outputs": [
    {
     "name": "stdout",
     "output_type": "stream",
     "text": [
      "{'columns': ['A', 'B'],\n",
      " 'means': {'A': 2.3333333333333335, 'B': 6.666666666666667},\n",
      " 'missing_counts': {'A': 1, 'B': 1},\n",
      " 'shape': (4, 2)}\n",
      "The dataset is a small DataFrame with 4 rows and 2 columns (A and B). It contains missing values in both columns (1 missing value each). The mean of column A is approximately 2.33, while the mean of column B is approximately 6.67.\n"
     ]
    },
    {
     "data": {
      "text/plain": [
       "'The dataset is a small DataFrame with 4 rows and 2 columns (A and B). It contains missing values in both columns (1 missing value each). The mean of column A is approximately 2.33, while the mean of column B is approximately 6.67.'"
      ]
     },
     "execution_count": 10,
     "metadata": {},
     "output_type": "execute_result"
    }
   ],
   "source": [
    "import pprint; pprint.pprint(summary)\n",
    "\n",
    "# Cell: Describe data via LLM\n",
    "description = describe_data(chat_language, ctx, data, summary)\n",
    "description"
   ]
  },
  {
   "cell_type": "code",
   "execution_count": 14,
   "id": "7449b693",
   "metadata": {},
   "outputs": [
    {
     "name": "stdout",
     "output_type": "stream",
     "text": [
      "def wrangler(df):\n",
      "    # Drop rows with missing values\n",
      "    df_cleaned = df.dropna()\n",
      "    \n",
      "    # Compute mean for each column and fill missing values\n",
      "    df_filled = df.fillna(df.mean())\n",
      "    \n",
      "    return df_filled\n"
     ]
    },
    {
     "data": {
      "text/plain": [
       "{'wrangler': <function wrangler(df)>,\n",
       " 'data':      A    B\n",
       " 0  1.0  5.0\n",
       " 1  2.0  NaN\n",
       " 2  NaN  7.0\n",
       " 3  4.0  8.0}"
      ]
     },
     "execution_count": 14,
     "metadata": {},
     "output_type": "execute_result"
    }
   ],
   "source": [
    "task = (\n",
    "    \"Write a function called 'wrangler' that takes a pandas dataframe and wrangles it for further analysis.\\n\" \n",
    "    \"using this summary and description to guide you.\\n\"\n",
    "    f\"Summary: {summary}\\nDescription: {description}\"\n",
    ")\n",
    "ns = run_llm_code(chat, ctx, data, task)\n",
    "ns"
   ]
  },
  {
   "cell_type": "code",
   "execution_count": 15,
   "id": "edccedcd",
   "metadata": {},
   "outputs": [
    {
     "data": {
      "text/plain": [
       "{'wrangler': <function wrangler(df)>,\n",
       " 'data':      A    B\n",
       " 0  1.0  5.0\n",
       " 1  2.0  NaN\n",
       " 2  NaN  7.0\n",
       " 3  4.0  8.0}"
      ]
     },
     "execution_count": 15,
     "metadata": {},
     "output_type": "execute_result"
    }
   ],
   "source": [
    "ns"
   ]
  },
  {
   "cell_type": "code",
   "execution_count": 16,
   "id": "4042d9e6",
   "metadata": {},
   "outputs": [],
   "source": [
    "# Extract the lambda from the namespace\n",
    "wrangler = ns.get('wrangler')\n",
    "assert callable(wrangler), \"LLM did not produce a callable `wrangler`\""
   ]
  },
  {
   "cell_type": "code",
   "execution_count": 17,
   "id": "fac02666",
   "metadata": {},
   "outputs": [
    {
     "data": {
      "text/html": [
       "<div>\n",
       "<style scoped>\n",
       "    .dataframe tbody tr th:only-of-type {\n",
       "        vertical-align: middle;\n",
       "    }\n",
       "\n",
       "    .dataframe tbody tr th {\n",
       "        vertical-align: top;\n",
       "    }\n",
       "\n",
       "    .dataframe thead th {\n",
       "        text-align: right;\n",
       "    }\n",
       "</style>\n",
       "<table border=\"1\" class=\"dataframe\">\n",
       "  <thead>\n",
       "    <tr style=\"text-align: right;\">\n",
       "      <th></th>\n",
       "      <th>A</th>\n",
       "      <th>B</th>\n",
       "    </tr>\n",
       "  </thead>\n",
       "  <tbody>\n",
       "    <tr>\n",
       "      <th>0</th>\n",
       "      <td>1.000000</td>\n",
       "      <td>5.000000</td>\n",
       "    </tr>\n",
       "    <tr>\n",
       "      <th>1</th>\n",
       "      <td>2.000000</td>\n",
       "      <td>6.666667</td>\n",
       "    </tr>\n",
       "    <tr>\n",
       "      <th>2</th>\n",
       "      <td>2.333333</td>\n",
       "      <td>7.000000</td>\n",
       "    </tr>\n",
       "    <tr>\n",
       "      <th>3</th>\n",
       "      <td>4.000000</td>\n",
       "      <td>8.000000</td>\n",
       "    </tr>\n",
       "  </tbody>\n",
       "</table>\n",
       "</div>"
      ],
      "text/plain": [
       "          A         B\n",
       "0  1.000000  5.000000\n",
       "1  2.000000  6.666667\n",
       "2  2.333333  7.000000\n",
       "3  4.000000  8.000000"
      ]
     },
     "execution_count": 17,
     "metadata": {},
     "output_type": "execute_result"
    }
   ],
   "source": [
    "data = wrangler(data)\n",
    "data"
   ]
  },
  {
   "cell_type": "code",
   "execution_count": 18,
   "id": "c8800ac4",
   "metadata": {},
   "outputs": [],
   "source": [
    "# %%\n",
    "# 1) Read your plot image into bytes\n",
    "from pathlib import Path\n",
    "\n",
    "img_path = Path(\"plot.png\")   # ← point this to your uploaded plot file\n",
    "img_bytes = img_path.read_bytes()\n"
   ]
  },
  {
   "cell_type": "code",
   "execution_count": 23,
   "id": "036fa158",
   "metadata": {},
   "outputs": [],
   "source": [
    "chat_image = Chat(models[2], sp=\"You are a Python data assistant. You describe images in detail, so it can be reproduced on different data. So details about the data don't matter much.\")"
   ]
  },
  {
   "cell_type": "code",
   "execution_count": 22,
   "id": "f57da072",
   "metadata": {},
   "outputs": [
    {
     "name": "stdout",
     "output_type": "stream",
     "text": [
      "Plot description:\n",
      " This is a scatter plot showing the relationship between Sepal length (x-axis) and Petal length (y-axis) for three different species of iris flowers. Here are the key details:\n",
      "\n",
      "1. Axes:\n",
      "- X-axis: Sepal length (cm), ranging from approximately 4 to 8 cm\n",
      "- Y-axis: Petal length (cm), ranging from approximately 1 to 7 cm\n",
      "\n",
      "2. Data points are color-coded by species:\n",
      "- setosa (pink/coral colored points): clustered at the bottom, petal length around 1-2 cm, sepal length 4-5.5 cm\n",
      "- versicolor (green points): middle cluster, petal length around 3-5 cm, sepal length 5-7 cm\n",
      "- virginica (blue points): upper cluster, petal length around 4.5-7 cm, sepal length 5.5-8 cm\n",
      "\n",
      "3. Plot characteristics:\n",
      "- White background\n",
      "- Black axes lines\n",
      "- Legend positioned on the right side showing \"Species\" with colored dots for each species\n",
      "- Points are solid circles of equal size\n",
      "- No grid lines visible\n",
      "\n",
      "4. Data distribution shows a clear positive correlation between sepal length and petal length, with distinct clustering by species. The setosa species is clearly separated from the other two, while versicolor and virginica show some overlap.\n",
      "\n",
      "This appears to be from the famous Iris dataset, commonly used in data science examples and teaching.\n"
     ]
    }
   ],
   "source": [
    "# %%\n",
    "# 2) Ask Claude to describe the plot\n",
    "# note: chat_image = Chat(models[2], sp=\"You are a Python data assistant. You describe images in detail, so it can be reproduced.\") must already be initialized\n",
    "resp = chat_image([img_bytes, \"This plot will be reproduced in python based on your description. Please describe it in detail.\"])\n",
    "description = resp.content[0].text\n",
    "print(\"Plot description:\\n\", description)\n"
   ]
  },
  {
   "cell_type": "code",
   "execution_count": 40,
   "id": "083bf7f1",
   "metadata": {},
   "outputs": [
    {
     "data": {
      "text/markdown": [
       "```python\n",
       "import matplotlib.pyplot as plt\n",
       "\n",
       "fig, ax = plt.subplots(figsize=(8,6))\n",
       "ax.set_facecolor('white')\n",
       "fig.patch.set_facecolor('white')\n",
       "\n",
       "colors = {'setosa':'coral', 'versicolor':'green', 'virginica':'blue'}\n",
       "for species in colors:\n",
       "    subset = data[data['species'] == species]\n",
       "    ax.scatter(subset['sepal_length'], subset['petal_length'], \n",
       "              c=colors[species], label=species, s=50)\n",
       "\n",
       "ax.set_xlabel('Sepal length (cm)')\n",
       "ax.set_ylabel('Petal length (cm)')\n",
       "ax.legend(title='Species', bbox_to_anchor=(1.05, 1), loc='upper left')\n",
       "\n",
       "ax.set_xlim(4, 8)\n",
       "ax.set_ylim(1, 7)\n",
       "ax.grid(False)\n",
       "\n",
       "plt.tight_layout()\n",
       "plt.show()\n",
       "```\n",
       "\n",
       "<details>\n",
       "\n",
       "- id: `msg_014Eo3z9ZM4Cz9omrxHFjHUg`\n",
       "- content: `[{'citations': None, 'text': \"```python\\nimport matplotlib.pyplot as plt\\n\\nfig, ax = plt.subplots(figsize=(8,6))\\nax.set_facecolor('white')\\nfig.patch.set_facecolor('white')\\n\\ncolors = {'setosa':'coral', 'versicolor':'green', 'virginica':'blue'}\\nfor species in colors:\\n    subset = data[data['species'] == species]\\n    ax.scatter(subset['sepal_length'], subset['petal_length'], \\n              c=colors[species], label=species, s=50)\\n\\nax.set_xlabel('Sepal length (cm)')\\nax.set_ylabel('Petal length (cm)')\\nax.legend(title='Species', bbox_to_anchor=(1.05, 1), loc='upper left')\\n\\nax.set_xlim(4, 8)\\nax.set_ylim(1, 7)\\nax.grid(False)\\n\\nplt.tight_layout()\\nplt.show()\\n```\", 'type': 'text'}]`\n",
       "- model: `claude-3-5-sonnet-20241022`\n",
       "- role: `assistant`\n",
       "- stop_reason: `end_turn`\n",
       "- stop_sequence: `None`\n",
       "- type: `message`\n",
       "- usage: `{'cache_creation_input_tokens': 0, 'cache_read_input_tokens': 0, 'input_tokens': 979, 'output_tokens': 236}`\n",
       "\n",
       "</details>"
      ],
      "text/plain": [
       "Message(id='msg_014Eo3z9ZM4Cz9omrxHFjHUg', content=[TextBlock(citations=None, text=\"```python\\nimport matplotlib.pyplot as plt\\n\\nfig, ax = plt.subplots(figsize=(8,6))\\nax.set_facecolor('white')\\nfig.patch.set_facecolor('white')\\n\\ncolors = {'setosa':'coral', 'versicolor':'green', 'virginica':'blue'}\\nfor species in colors:\\n    subset = data[data['species'] == species]\\n    ax.scatter(subset['sepal_length'], subset['petal_length'], \\n              c=colors[species], label=species, s=50)\\n\\nax.set_xlabel('Sepal length (cm)')\\nax.set_ylabel('Petal length (cm)')\\nax.legend(title='Species', bbox_to_anchor=(1.05, 1), loc='upper left')\\n\\nax.set_xlim(4, 8)\\nax.set_ylim(1, 7)\\nax.grid(False)\\n\\nplt.tight_layout()\\nplt.show()\\n```\", type='text')], model='claude-3-5-sonnet-20241022', role='assistant', stop_reason='end_turn', stop_sequence=None, type='message', usage=In: 979; Out: 236; Cache create: 0; Cache read: 0; Total: 1215)"
      ]
     },
     "execution_count": 40,
     "metadata": {},
     "output_type": "execute_result"
    }
   ],
   "source": [
    "# %%\n",
    "# 3) Ask Claude to write code that reproduces a similar plot on `data`\n",
    "import re\n",
    "\n",
    "plot_task = f\"\"\"\n",
    "# You do not generate image, only code.\n",
    "# Task: Write Python code using matplotlib (and pandas) to create a plot similar to the one described below,\n",
    "# applied to the DataFrame variable `data` in our session.\n",
    "# Description of original plot:\n",
    "{description}\n",
    "\"\"\"\n",
    "resp2 = chat_plot(prompt)\n",
    "resp2\n",
    "\n"
   ]
  },
  {
   "cell_type": "code",
   "execution_count": 39,
   "id": "a4cec535",
   "metadata": {},
   "outputs": [
    {
     "data": {
      "text/plain": [
       "\"```python\\nimport matplotlib.pyplot as plt\\n\\nplt.figure(figsize=(8,6))\\n\\ncolors = {'setosa':'coral', 'versicolor':'green', 'virginica':'blue'}\\nfor species in colors:\\n    subset = data[data['species'] == species]\\n    plt.scatter(subset['sepal_length'], subset['petal_length'], \\n                c=colors[species], label=species)\\n\\nplt.xlabel('Sepal length (cm)')\\nplt.ylabel('Petal length (cm)') \\nplt.legend(title='Species')\\n\\nplt.xlim(4, 8)\\nplt.ylim(1, 7)\\n\\nplt.show()\\n```\""
      ]
     },
     "execution_count": 39,
     "metadata": {},
     "output_type": "execute_result"
    }
   ],
   "source": [
    "resp2.content[0].text"
   ]
  },
  {
   "cell_type": "code",
   "execution_count": 41,
   "id": "9edac792",
   "metadata": {},
   "outputs": [
    {
     "name": "stdout",
     "output_type": "stream",
     "text": [
      "plt.figure(figsize=(8,6))\n",
      "plt.scatter(data['A'], data['B'], color='blue', s=50)\n",
      "plt.xlabel('A')\n",
      "plt.ylabel('B')\n",
      "plt.xlim(0, max(data['A'])*1.1)\n",
      "plt.ylim(0, max(data['B'])*1.1)\n",
      "plt.grid(False)\n",
      "plt.show()\n"
     ]
    },
    {
     "data": {
      "image/png": "[encoded data removed]",
      "text/plain": [
       "<Figure size 800x600 with 1 Axes>"
      ]
     },
     "metadata": {},
     "output_type": "display_data"
    },
    {
     "data": {
      "text/plain": [
       "{'data':           A         B\n",
       " 0  1.000000  5.000000\n",
       " 1  2.000000  6.666667\n",
       " 2  2.333333  7.000000\n",
       " 3  4.000000  8.000000}"
      ]
     },
     "execution_count": 41,
     "metadata": {},
     "output_type": "execute_result"
    }
   ],
   "source": [
    "ns = run_llm_code(chat_plot, ctx, data, plot_task)\n",
    "ns\n"
   ]
  }
 ],
 "metadata": {
  "kernelspec": {
   "display_name": "Python [conda env:env_dmml]",
   "language": "python",
   "name": "conda-env-env_dmml-py"
  },
  "language_info": {
   "codemirror_mode": {
    "name": "ipython",
    "version": 3
   },
   "file_extension": ".py",
   "mimetype": "text/x-python",
   "name": "python",
   "nbconvert_exporter": "python",
   "pygments_lexer": "ipython3",
   "version": "3.12.8"
  }
 },
 "nbformat": 4,
 "nbformat_minor": 5
}
