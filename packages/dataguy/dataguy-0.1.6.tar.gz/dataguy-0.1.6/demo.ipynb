{
 "cells": [
  {
   "cell_type": "markdown",
   "metadata": {},
   "source": [
    "# Demonstrating the `DataGuy` Package\n",
    "\n",
    "This notebook demonstrates the features and complexity of the `DataGuy` package. It includes examples of data loading, summarization, wrangling, visualization, and analysis, as well as insights into the background functionalities like LLM integration and safe code execution."
   ]
  },
  {
   "cell_type": "code",
   "execution_count": null,
   "metadata": {},
   "outputs": [],
   "source": [
    "# Install necessary packages\n",
    "!pip install pandas numpy matplotlib scikit-learn claudette anthropic\n",
    "!pip install dataguy"
   ]
  },
  {
   "cell_type": "markdown",
   "metadata": {},
   "source": [
    "## Step 1: Importing the Package\n",
    "\n",
    "We start by importing the `DataGuy` package and other necessary libraries."
   ]
  },
  {
   "cell_type": "code",
   "execution_count": null,
   "metadata": {},
   "outputs": [],
   "source": [
    "from dataguy import DataGuy\n",
    "import pandas as pd\n",
    "import numpy as np\n",
    "import matplotlib.pyplot as plt"
   ]
  },
  {
   "cell_type": "markdown",
   "metadata": {},
   "source": [
    "## Step 2: Initializing `DataGuy`\n",
    "\n",
    "We create an instance of `DataGuy` with a custom `max_code_history` parameter to demonstrate its configurability."
   ]
  },
  {
   "cell_type": "code",
   "execution_count": null,
   "metadata": {},
   "outputs": [],
   "source": [
    "# Initialize DataGuy\n",
    "data_guy = DataGuy(max_code_history=50)"
   ]
  },
  {
   "cell_type": "markdown",
   "metadata": {},
   "source": [
    "## Step 3: Loading Data\n",
    "\n",
    "`DataGuy` supports multiple data formats, including pandas DataFrames, dictionaries, lists, numpy arrays, and CSV files. Here, we load a sample dataset."
   ]
  },
  {
   "cell_type": "code",
   "execution_count": null,
   "metadata": {},
   "outputs": [],
   "source": [
    "# Create a sample dataset\n",
    "data = pd.DataFrame({\n",
    "    \"age\": [25, 30, None, 45, 50, None],\n",
    "    \"score\": [88, 92, 75, None, 85, 90]\n",
    "})\n",
    "\n",
    "# Load data into DataGuy\n",
    "data_guy.set_data(data)"
   ]
  },
  {
   "cell_type": "markdown",
   "metadata": {},
   "source": [
    "## Step 4: Summarizing Data\n",
    "\n",
    "`DataGuy` provides a summary of the dataset, including its shape, columns, missing values, and means."
   ]
  },
  {
   "cell_type": "code",
   "execution_count": null,
   "metadata": {},
   "outputs": [],
   "source": [
    "# Summarize the data\n",
    "summary = data_guy.summarize_data()\n",
    "print(\"Data Summary:\", summary)"
   ]
  },
  {
   "cell_type": "markdown",
   "metadata": {},
   "source": [
    "## Step 5: Wrangling Data\n",
    "\n",
    "`DataGuy` uses LLM-generated code to clean and preprocess the dataset. This demonstrates the integration of AI in data wrangling."
   ]
  },
  {
   "cell_type": "code",
   "execution_count": null,
   "metadata": {},
   "outputs": [],
   "source": [
    "# Wrangle the data\n",
    "cleaned_data = data_guy.wrangle_data()\n",
    "print(\"Cleaned Data:\")\n",
    "print(cleaned_data)"
   ]
  },
  {
   "cell_type": "markdown",
   "metadata": {},
   "source": [
    "## Step 6: Visualizing Data\n",
    "\n",
    "`DataGuy` can generate visualizations using matplotlib. Here, we create a scatter plot of two columns."
   ]
  },
  {
   "cell_type": "code",
   "execution_count": null,
   "metadata": {},
   "outputs": [],
   "source": [
    "# Plot the data\n",
    "data_guy.plot_data(\"age\", \"score\")"
   ]
  },
  {
   "cell_type": "markdown",
   "metadata": {},
   "source": [
    "## Step 7: Analyzing Data\n",
    "\n",
    "`DataGuy` performs automated analysis of the dataset, returning descriptive statistics and insights."
   ]
  },
  {
   "cell_type": "code",
   "execution_count": null,
   "metadata": {},
   "outputs": [],
   "source": [
    "# Analyze the data\n",
    "analysis_results = data_guy.analyze_data()\n",
    "print(\"Analysis Results:\", analysis_results)"
   ]
  },
  {
   "cell_type": "markdown",
   "metadata": {},
   "source": [
    "## Step 8: Exploring Background Functionalities\n",
    "\n",
    "### Safe Code Execution\n",
    "`DataGuy` ensures that only safe and trusted code is executed by analyzing the Abstract Syntax Tree (AST) of generated code.\n",
    "\n",
    "### LLM Integration\n",
    "The package uses Large Language Models (LLMs) to generate code for tasks like data wrangling and visualization. It retries with corrections if the initial code fails."
   ]
  },
  {
   "cell_type": "code",
   "execution_count": null,
   "metadata": {},
   "outputs": [],
   "source": [
    "# Example: Safe code execution\n",
    "try:\n",
    "    unsafe_code = \"import os; os.system('rm -rf /')\"\n",
    "    is_safe = data_guy._is_safe_code(unsafe_code)\n",
    "    print(\"Is the code safe?\", is_safe)\n",
    "except Exception as e:\n",
    "    print(\"Error during safety check:\", e)"
   ]
  },
  {
   "cell_type": "markdown",
   "metadata": {},
   "source": [
    "## Conclusion\n",
    "\n",
    "This notebook demonstrates the capabilities and complexity of the `DataGuy` package, highlighting its integration with LLMs, safe code execution, and automated data science workflows."
   ]
  }
 ],
 "metadata": {
  "kernelspec": {
   "display_name": "Python 3",
   "language": "python",
   "name": "python3"
  },
  "language_info": {
   "codemirror_mode": {
    "name": "ipython",
    "version": 3
   },
   "file_extension": ".py",
   "mimetype": "text/x-python",
   "name": "python",
   "nbconvert_exporter": "python",
   "pygments_lexer": "ipython3",
   "version": "3.8.10"
  }
 },
 "nbformat": 4,
 "nbformat_minor": 5
}
