{
 "cells": [
  {
   "cell_type": "code",
   "execution_count": 1,
   "metadata": {},
   "outputs": [],
   "source": [
    "import numpy as np\n",
    "from pathlib import Path\n",
    "\n",
    "from ec4py import *"
   ]
  },
  {
   "cell_type": "code",
   "execution_count": 2,
   "metadata": {},
   "outputs": [
    {
     "name": "stdout",
     "output_type": "stream",
     "text": [
      "[[0.99 0.98 0.97 0.96 0.95 0.94 0.93 0.92 0.91 0.9  0.89 0.88 0.87 0.86\n",
      "  0.85 0.84 0.83 0.82 0.81 0.8  0.79 0.78 0.77 0.76 0.75 0.74 0.73 0.72\n",
      "  0.71 0.7  0.69 0.68 0.67 0.66 0.65 0.64 0.63 0.62 0.61 0.6  0.59 0.58\n",
      "  0.57 0.56 0.55 0.54 0.53 0.52 0.51 0.5  0.49 0.48 0.47 0.46 0.45 0.44\n",
      "  0.43 0.42 0.41 0.4  0.39 0.38 0.37 0.36 0.35 0.34 0.33 0.32 0.31 0.3\n",
      "  0.29 0.28 0.27 0.26 0.25 0.24 0.23 0.22 0.21 0.2  0.19 0.18 0.17 0.16\n",
      "  0.15 0.14 0.13 0.12 0.11 0.1  0.09 0.08 0.07 0.06 0.05 0.04 0.03 0.02\n",
      "  0.01 0.   0.01 0.02 0.03 0.04 0.05 0.06 0.07 0.08 0.09 0.1  0.11 0.12\n",
      "  0.13 0.14 0.15 0.16 0.17 0.18 0.19 0.2  0.21 0.22 0.23 0.24 0.25 0.26\n",
      "  0.27 0.28 0.29 0.3  0.31 0.32 0.33 0.34 0.35 0.36 0.37 0.38 0.39 0.4\n",
      "  0.41 0.42 0.43 0.44 0.45 0.46 0.47 0.48 0.49 0.5  0.51 0.52 0.53 0.54\n",
      "  0.55 0.56 0.57 0.58 0.59 0.6  0.61 0.62 0.63 0.64 0.65 0.66 0.67 0.68\n",
      "  0.69 0.7  0.71 0.72 0.73 0.74 0.75 0.76 0.77 0.78 0.79 0.8  0.81 0.82\n",
      "  0.83 0.84 0.85 0.86 0.87 0.88 0.89 0.9  0.91 0.92 0.93 0.94 0.95 0.96\n",
      "  0.97 0.98 0.99 1.  ]]\n"
     ]
    }
   ],
   "source": [
    "\n",
    "gdata_u = np.array([range(0,101)])/100\n",
    "gdata_d = np.array([range(99,0,-1)])/100\n",
    "\n",
    "gdata_ud = np.concatenate((gdata_u, gdata_d),axis=1)\n",
    "gdata_du = np.concatenate((gdata_d, gdata_u),axis=1)\n",
    "\n",
    "\n",
    "print(gdata_du)"
   ]
  },
  {
   "cell_type": "code",
   "execution_count": 3,
   "metadata": {},
   "outputs": [
    {
     "name": "stdout",
     "output_type": "stream",
     "text": [
      "2001\n",
      "[-1.    -0.999 -0.998 ...  0.998  0.999  1.   ]\n"
     ]
    }
   ],
   "source": [
    "print(len(CV_Data().make_E_axis(-1, 1)))\n",
    "print((CV_Data().make_E_axis(-1, 1)))\n"
   ]
  },
  {
   "cell_type": "code",
   "execution_count": 4,
   "metadata": {},
   "outputs": [
    {
     "name": "stdout",
     "output_type": "stream",
     "text": [
      "c:\\Users\\gustav.wiberg\\Documents\\GitHub\\NordicEC\\EC4py\\test_data\\CV\n"
     ]
    }
   ],
   "source": [
    "paths = []\n",
    "path_to_dataSetFolder = Path(\".\").cwd().parent.parent / \"test_data\" /\"CV\"\n",
    "print(path_to_dataSetFolder)\n",
    "#paths.append( path_to_dataSetFolder / \"CV_144913_ 3.tdms\")\n",
    "paths.append( path_to_dataSetFolder / \"CV_153559_ 3.tdms\")\n",
    "paths.append( path_to_dataSetFolder / \"CV_153541_ 3.tdms\")\n",
    "paths.append( path_to_dataSetFolder / \"CV_153333_ 3.tdms\")\n",
    "paths.append( path_to_dataSetFolder / \"CV_151300_ 3.tdms\")\n",
    "paths.append( path_to_dataSetFolder / \"CV_151725_ 3.tdms\")\n",
    "paths.append( path_to_dataSetFolder / \"CV_151512_ 3.tdms\")\n",
    "\n"
   ]
  },
  {
   "cell_type": "code",
   "execution_count": null,
   "metadata": {},
   "outputs": [],
   "source": []
  }
 ],
 "metadata": {
  "kernelspec": {
   "display_name": ".venv",
   "language": "python",
   "name": "python3"
  },
  "language_info": {
   "codemirror_mode": {
    "name": "ipython",
    "version": 3
   },
   "file_extension": ".py",
   "mimetype": "text/x-python",
   "name": "python",
   "nbconvert_exporter": "python",
   "pygments_lexer": "ipython3",
   "version": "3.11.5"
  }
 },
 "nbformat": 4,
 "nbformat_minor": 2
}
