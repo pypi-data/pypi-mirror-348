{
 "cells": [
  {
   "cell_type": "markdown",
   "metadata": {},
   "source": [
    "# General installation from github\n",
    "pip install \"Package\" @ git+\"URL of the repository#subdirectory=path\"\n",
    "\n",
    "Here, we want to install Arenz_Group Python package."
   ]
  },
  {
   "cell_type": "code",
   "execution_count": 1,
   "metadata": {},
   "outputs": [
    {
     "name": "stdout",
     "output_type": "stream",
     "text": [
      "c:\\Users\\gustav.wiberg\\Documents\\GitHub\\Python\\EC4py\n",
      "\"c:\\Users\\gustav.wiberg\\AppData\\Local\\Programs\\Python\\Python311\\python.exe\"\n"
     ]
    }
   ],
   "source": [
    "%cd ..\n",
    "import sys\n",
    "from pathlib import Path\n",
    "path_to_executable = \"\\\"\" + str(sys.executable) +  \"\\\"\" #must be used if there are any spaces in the path\n",
    "print(path_to_executable)"
   ]
  },
  {
   "cell_type": "code",
   "execution_count": null,
   "metadata": {},
   "outputs": [],
   "source": [
    "%pip install --upgrade twine"
   ]
  },
  {
   "cell_type": "code",
   "execution_count": 1,
   "metadata": {},
   "outputs": [
    {
     "name": "stdout",
     "output_type": "stream",
     "text": [
      "Collecting sphinxNote: you may need to restart the kernel to use updated packages.\n",
      "\n",
      "  Downloading sphinx-8.0.2-py3-none-any.whl.metadata (6.2 kB)\n",
      "Collecting sphinxcontrib-applehelp (from sphinx)\n",
      "  Downloading sphinxcontrib_applehelp-2.0.0-py3-none-any.whl.metadata (2.3 kB)\n",
      "Collecting sphinxcontrib-devhelp (from sphinx)\n",
      "  Downloading sphinxcontrib_devhelp-2.0.0-py3-none-any.whl.metadata (2.3 kB)\n",
      "Collecting sphinxcontrib-jsmath (from sphinx)\n",
      "  Downloading sphinxcontrib_jsmath-1.0.1-py2.py3-none-any.whl.metadata (1.4 kB)\n",
      "Collecting sphinxcontrib-htmlhelp>=2.0.0 (from sphinx)\n",
      "  Downloading sphinxcontrib_htmlhelp-2.1.0-py3-none-any.whl.metadata (2.3 kB)\n",
      "Collecting sphinxcontrib-serializinghtml>=1.1.9 (from sphinx)\n",
      "  Downloading sphinxcontrib_serializinghtml-2.0.0-py3-none-any.whl.metadata (2.4 kB)\n",
      "Collecting sphinxcontrib-qthelp (from sphinx)\n",
      "  Downloading sphinxcontrib_qthelp-2.0.0-py3-none-any.whl.metadata (2.3 kB)\n",
      "Collecting Jinja2>=3.1 (from sphinx)\n",
      "  Downloading jinja2-3.1.4-py3-none-any.whl.metadata (2.6 kB)\n",
      "Requirement already satisfied: Pygments>=2.17 in c:\\users\\gustav.wiberg\\documents\\github\\python\\ec4py\\.conda\\lib\\site-packages (from sphinx) (2.18.0)\n",
      "Requirement already satisfied: docutils<0.22,>=0.20 in c:\\users\\gustav.wiberg\\documents\\github\\python\\ec4py\\.conda\\lib\\site-packages (from sphinx) (0.21.2)\n",
      "Collecting snowballstemmer>=2.2 (from sphinx)\n",
      "  Downloading snowballstemmer-2.2.0-py2.py3-none-any.whl.metadata (6.5 kB)\n",
      "Collecting babel>=2.13 (from sphinx)\n",
      "  Downloading babel-2.16.0-py3-none-any.whl.metadata (1.5 kB)\n",
      "Collecting alabaster>=0.7.14 (from sphinx)\n",
      "  Downloading alabaster-1.0.0-py3-none-any.whl.metadata (2.8 kB)\n",
      "Collecting imagesize>=1.3 (from sphinx)\n",
      "  Downloading imagesize-1.4.1-py2.py3-none-any.whl.metadata (1.5 kB)\n",
      "Requirement already satisfied: requests>=2.30.0 in c:\\users\\gustav.wiberg\\documents\\github\\python\\ec4py\\.conda\\lib\\site-packages (from sphinx) (2.32.3)\n",
      "Requirement already satisfied: packaging>=23.0 in c:\\users\\gustav.wiberg\\documents\\github\\python\\ec4py\\.conda\\lib\\site-packages (from sphinx) (24.1)\n",
      "Requirement already satisfied: colorama>=0.4.6 in c:\\users\\gustav.wiberg\\documents\\github\\python\\ec4py\\.conda\\lib\\site-packages (from sphinx) (0.4.6)\n",
      "Collecting MarkupSafe>=2.0 (from Jinja2>=3.1->sphinx)\n",
      "  Downloading MarkupSafe-2.1.5-cp312-cp312-win_amd64.whl.metadata (3.1 kB)\n",
      "Requirement already satisfied: charset-normalizer<4,>=2 in c:\\users\\gustav.wiberg\\documents\\github\\python\\ec4py\\.conda\\lib\\site-packages (from requests>=2.30.0->sphinx) (3.3.2)\n",
      "Requirement already satisfied: idna<4,>=2.5 in c:\\users\\gustav.wiberg\\documents\\github\\python\\ec4py\\.conda\\lib\\site-packages (from requests>=2.30.0->sphinx) (3.7)\n",
      "Requirement already satisfied: urllib3<3,>=1.21.1 in c:\\users\\gustav.wiberg\\documents\\github\\python\\ec4py\\.conda\\lib\\site-packages (from requests>=2.30.0->sphinx) (2.2.2)\n",
      "Requirement already satisfied: certifi>=2017.4.17 in c:\\users\\gustav.wiberg\\documents\\github\\python\\ec4py\\.conda\\lib\\site-packages (from requests>=2.30.0->sphinx) (2024.7.4)\n",
      "Downloading sphinx-8.0.2-py3-none-any.whl (3.5 MB)\n",
      "   ---------------------------------------- 0.0/3.5 MB ? eta -:--:--\n",
      "   ----------------------- ---------------- 2.1/3.5 MB 10.7 MB/s eta 0:00:01\n",
      "   ---------------------------------------- 3.5/3.5 MB 10.9 MB/s eta 0:00:00\n",
      "Downloading alabaster-1.0.0-py3-none-any.whl (13 kB)\n",
      "Downloading babel-2.16.0-py3-none-any.whl (9.6 MB)\n",
      "   ---------------------------------------- 0.0/9.6 MB ? eta -:--:--\n",
      "   --------- ------------------------------ 2.4/9.6 MB 12.2 MB/s eta 0:00:01\n",
      "   -------------------- ------------------- 5.0/9.6 MB 11.6 MB/s eta 0:00:01\n",
      "   ------------------------------ --------- 7.3/9.6 MB 11.9 MB/s eta 0:00:01\n",
      "   ---------------------------------------- 9.6/9.6 MB 11.5 MB/s eta 0:00:00\n",
      "Downloading imagesize-1.4.1-py2.py3-none-any.whl (8.8 kB)\n",
      "Downloading jinja2-3.1.4-py3-none-any.whl (133 kB)\n",
      "Downloading snowballstemmer-2.2.0-py2.py3-none-any.whl (93 kB)\n",
      "Downloading sphinxcontrib_htmlhelp-2.1.0-py3-none-any.whl (98 kB)\n",
      "Downloading sphinxcontrib_serializinghtml-2.0.0-py3-none-any.whl (92 kB)\n",
      "Downloading sphinxcontrib_applehelp-2.0.0-py3-none-any.whl (119 kB)\n",
      "Downloading sphinxcontrib_devhelp-2.0.0-py3-none-any.whl (82 kB)\n",
      "Downloading sphinxcontrib_jsmath-1.0.1-py2.py3-none-any.whl (5.1 kB)\n",
      "Downloading sphinxcontrib_qthelp-2.0.0-py3-none-any.whl (88 kB)\n",
      "Downloading MarkupSafe-2.1.5-cp312-cp312-win_amd64.whl (17 kB)\n",
      "Installing collected packages: snowballstemmer, sphinxcontrib-serializinghtml, sphinxcontrib-qthelp, sphinxcontrib-jsmath, sphinxcontrib-htmlhelp, sphinxcontrib-devhelp, sphinxcontrib-applehelp, MarkupSafe, imagesize, babel, alabaster, Jinja2, sphinx\n",
      "Successfully installed Jinja2-3.1.4 MarkupSafe-2.1.5 alabaster-1.0.0 babel-2.16.0 imagesize-1.4.1 snowballstemmer-2.2.0 sphinx-8.0.2 sphinxcontrib-applehelp-2.0.0 sphinxcontrib-devhelp-2.0.0 sphinxcontrib-htmlhelp-2.1.0 sphinxcontrib-jsmath-1.0.1 sphinxcontrib-qthelp-2.0.0 sphinxcontrib-serializinghtml-2.0.0\n"
     ]
    }
   ],
   "source": [
    "%pip install -U sphinx"
   ]
  },
  {
   "cell_type": "code",
   "execution_count": 1,
   "metadata": {},
   "outputs": [
    {
     "name": "stdout",
     "output_type": "stream",
     "text": [
      "Collecting toml\n",
      "  Downloading toml-0.10.2-py2.py3-none-any.whl.metadata (7.1 kB)\n",
      "Downloading toml-0.10.2-py2.py3-none-any.whl (16 kB)\n",
      "Installing collected packages: toml\n",
      "Successfully installed toml-0.10.2\n",
      "Note: you may need to restart the kernel to use updated packages.\n"
     ]
    }
   ],
   "source": [
    "%pip install --upgrade toml"
   ]
  },
  {
   "cell_type": "markdown",
   "metadata": {},
   "source": [
    "If you donot have pip or git installed in your conda env., run:\n",
    "conda install pip\n",
    "conda install git"
   ]
  }
 ],
 "metadata": {
  "kernelspec": {
   "display_name": "Python 3",
   "language": "python",
   "name": "python3"
  },
  "language_info": {
   "codemirror_mode": {
    "name": "ipython",
    "version": 3
   },
   "file_extension": ".py",
   "mimetype": "text/x-python",
   "name": "python",
   "nbconvert_exporter": "python",
   "pygments_lexer": "ipython3",
   "version": "3.12.1"
  }
 },
 "nbformat": 4,
 "nbformat_minor": 2
}
