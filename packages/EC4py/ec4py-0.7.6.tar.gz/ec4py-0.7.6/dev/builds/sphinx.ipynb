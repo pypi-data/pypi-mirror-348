{
 "cells": [
  {
   "cell_type": "code",
   "execution_count": 3,
   "metadata": {},
   "outputs": [
    {
     "name": "stdout",
     "output_type": "stream",
     "text": [
      "Requirement already satisfied: sphinx in c:\\users\\gusta\\documents\\github\\nordicec\\ec4py\\.venv\\lib\\site-packages (8.0.2)\n",
      "Requirement already satisfied: sphinxcontrib-applehelp in c:\\users\\gusta\\documents\\github\\nordicec\\ec4py\\.venv\\lib\\site-packages (from sphinx) (2.0.0)\n",
      "Requirement already satisfied: sphinxcontrib-devhelp in c:\\users\\gusta\\documents\\github\\nordicec\\ec4py\\.venv\\lib\\site-packages (from sphinx) (2.0.0)\n",
      "Requirement already satisfied: sphinxcontrib-jsmath in c:\\users\\gusta\\documents\\github\\nordicec\\ec4py\\.venv\\lib\\site-packages (from sphinx) (1.0.1)\n",
      "Requirement already satisfied: sphinxcontrib-htmlhelp>=2.0.0 in c:\\users\\gusta\\documents\\github\\nordicec\\ec4py\\.venv\\lib\\site-packages (from sphinx) (2.1.0)\n",
      "Requirement already satisfied: sphinxcontrib-serializinghtml>=1.1.9 in c:\\users\\gusta\\documents\\github\\nordicec\\ec4py\\.venv\\lib\\site-packages (from sphinx) (2.0.0)\n",
      "Requirement already satisfied: sphinxcontrib-qthelp in c:\\users\\gusta\\documents\\github\\nordicec\\ec4py\\.venv\\lib\\site-packages (from sphinx) (2.0.0)\n",
      "Requirement already satisfied: Jinja2>=3.1 in c:\\users\\gusta\\documents\\github\\nordicec\\ec4py\\.venv\\lib\\site-packages (from sphinx) (3.1.4)\n",
      "Requirement already satisfied: Pygments>=2.17 in c:\\users\\gusta\\documents\\github\\nordicec\\ec4py\\.venv\\lib\\site-packages (from sphinx) (2.18.0)\n",
      "Requirement already satisfied: docutils<0.22,>=0.20 in c:\\users\\gusta\\documents\\github\\nordicec\\ec4py\\.venv\\lib\\site-packages (from sphinx) (0.21.2)\n",
      "Requirement already satisfied: snowballstemmer>=2.2 in c:\\users\\gusta\\documents\\github\\nordicec\\ec4py\\.venv\\lib\\site-packages (from sphinx) (2.2.0)\n",
      "Requirement already satisfied: babel>=2.13 in c:\\users\\gusta\\documents\\github\\nordicec\\ec4py\\.venv\\lib\\site-packages (from sphinx) (2.16.0)\n",
      "Requirement already satisfied: alabaster>=0.7.14 in c:\\users\\gusta\\documents\\github\\nordicec\\ec4py\\.venv\\lib\\site-packages (from sphinx) (1.0.0)\n",
      "Requirement already satisfied: imagesize>=1.3 in c:\\users\\gusta\\documents\\github\\nordicec\\ec4py\\.venv\\lib\\site-packages (from sphinx) (1.4.1)\n",
      "Requirement already satisfied: requests>=2.30.0 in c:\\users\\gusta\\documents\\github\\nordicec\\ec4py\\.venv\\lib\\site-packages (from sphinx) (2.32.3)\n",
      "Requirement already satisfied: packaging>=23.0 in c:\\users\\gusta\\documents\\github\\nordicec\\ec4py\\.venv\\lib\\site-packages (from sphinx) (24.1)\n",
      "Requirement already satisfied: colorama>=0.4.6 in c:\\users\\gusta\\documents\\github\\nordicec\\ec4py\\.venv\\lib\\site-packages (from sphinx) (0.4.6)\n",
      "Requirement already satisfied: MarkupSafe>=2.0 in c:\\users\\gusta\\documents\\github\\nordicec\\ec4py\\.venv\\lib\\site-packages (from Jinja2>=3.1->sphinx) (2.1.5)\n",
      "Requirement already satisfied: charset-normalizer<4,>=2 in c:\\users\\gusta\\documents\\github\\nordicec\\ec4py\\.venv\\lib\\site-packages (from requests>=2.30.0->sphinx) (3.3.2)\n",
      "Requirement already satisfied: idna<4,>=2.5 in c:\\users\\gusta\\documents\\github\\nordicec\\ec4py\\.venv\\lib\\site-packages (from requests>=2.30.0->sphinx) (3.8)\n",
      "Requirement already satisfied: urllib3<3,>=1.21.1 in c:\\users\\gusta\\documents\\github\\nordicec\\ec4py\\.venv\\lib\\site-packages (from requests>=2.30.0->sphinx) (2.2.2)\n",
      "Requirement already satisfied: certifi>=2017.4.17 in c:\\users\\gusta\\documents\\github\\nordicec\\ec4py\\.venv\\lib\\site-packages (from requests>=2.30.0->sphinx) (2024.8.30)\n",
      "Note: you may need to restart the kernel to use updated packages.\n",
      "Collecting pickleshare\n",
      "  Downloading pickleshare-0.7.5-py2.py3-none-any.whl.metadata (1.5 kB)\n",
      "Downloading pickleshare-0.7.5-py2.py3-none-any.whl (6.9 kB)\n",
      "Installing collected packages: pickleshare\n",
      "Successfully installed pickleshare-0.7.5\n",
      "Note: you may need to restart the kernel to use updated packages.\n"
     ]
    }
   ],
   "source": [
    "%pip install sphinx\n",
    "%pip install pickleshare"
   ]
  },
  {
   "cell_type": "code",
   "execution_count": 1,
   "metadata": {},
   "outputs": [
    {
     "name": "stdout",
     "output_type": "stream",
     "text": [
      "c:\\Users\\gusta\\Documents\\GitHub\\NordicEC\\EC4py\\dev\n",
      "c:\\Users\\gusta\\Documents\\GitHub\\NordicEC\\EC4py\n",
      "c:\\Users\\gusta\\Documents\\GitHub\\NordicEC\\EC4py\\docs\n",
      "^C\n"
     ]
    }
   ],
   "source": [
    "%cd ..\n",
    "%cd ..\n",
    "%cd docs\n",
    "!sphinx-quickstart"
   ]
  },
  {
   "cell_type": "code",
   "execution_count": null,
   "metadata": {},
   "outputs": [],
   "source": []
  }
 ],
 "metadata": {
  "kernelspec": {
   "display_name": "Python 3",
   "language": "python",
   "name": "python3"
  },
  "language_info": {
   "codemirror_mode": {
    "name": "ipython",
    "version": 3
   },
   "file_extension": ".py",
   "mimetype": "text/x-python",
   "name": "python",
   "nbconvert_exporter": "python",
   "pygments_lexer": "ipython3",
   "version": "3.12.1"
  }
 },
 "nbformat": 4,
 "nbformat_minor": 2
}
