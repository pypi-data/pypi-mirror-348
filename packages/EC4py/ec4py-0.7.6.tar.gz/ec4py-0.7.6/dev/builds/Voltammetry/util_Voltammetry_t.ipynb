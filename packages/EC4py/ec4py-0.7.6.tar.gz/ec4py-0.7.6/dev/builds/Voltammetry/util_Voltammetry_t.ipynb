{
 "cells": [
  {
   "cell_type": "code",
   "execution_count": 1,
   "metadata": {},
   "outputs": [],
   "source": [
    "import numpy as np\n",
    "\n",
    "from ec4py.util_voltammetry import Voltammetry"
   ]
  },
  {
   "cell_type": "code",
   "execution_count": 2,
   "metadata": {},
   "outputs": [
    {
     "name": "stdout",
     "output_type": "stream",
     "text": [
      "[2000]\n"
     ]
    }
   ],
   "source": [
    "data = Voltammetry(E_min=-2,E_max=2)\n",
    "\n",
    "test_data = np.zeros(len(data.E))\n",
    "test_data[data.get_index_of_E(0)]=1\n",
    "larger_than = np.argwhere(test_data > 0.5)[0]\n",
    "print(larger_than)"
   ]
  },
  {
   "cell_type": "code",
   "execution_count": 3,
   "metadata": {},
   "outputs": [
    {
     "name": "stdout",
     "output_type": "stream",
     "text": [
      "[0. 0. 0. ... 1. 1. 1.]\n",
      "2000 4001\n",
      "[[   0]\n",
      " [   1]\n",
      " [   2]\n",
      " ...\n",
      " [1997]\n",
      " [1998]\n",
      " [1999]]\n",
      "1999 2000\n"
     ]
    }
   ],
   "source": [
    "data = Voltammetry(E_min=-2,E_max=2)\n",
    "test_data = np.ones(len(data.E))\n",
    "for i in range(data.get_index_of_E(0)):\n",
    "    test_data[i]=0\n",
    "\n",
    "print(test_data)\n",
    "print(data.get_index_of_E(0),len(data.E))\n",
    "current = test_data\n",
    "\n",
    "i_threashold =0.5\n",
    "options ={\"tolerance\": 0.1}\n",
    "\n",
    "options[\"tolerance\"] =0.1\n",
    "smaller_than = np.argwhere(current < i_threashold-options[\"tolerance\"])\n",
    "larger_than = np.argwhere(current > i_threashold +options[\"tolerance\"])\n",
    "print(smaller_than)\n",
    "start = np.max(smaller_than)\n",
    "end  = np.min(larger_than)\n",
    "print(start,end)       "
   ]
  },
  {
   "cell_type": "code",
   "execution_count": 4,
   "metadata": {},
   "outputs": [],
   "source": [
    "test_data = np.ones(len(data.E))\n",
    "for i in range(data.get_index_of_E(0)):\n",
    "    test_data[i]=0\n",
    "\n",
    "i = data._get_E_at_i(test_data,0.5,tolerance=0.1)"
   ]
  },
  {
   "cell_type": "code",
   "execution_count": 5,
   "metadata": {},
   "outputs": [
    {
     "name": "stdout",
     "output_type": "stream",
     "text": [
      "bbbshift 2000\n",
      "[-2.    -1.999 -1.998 ...  1.998  1.999  2.   ]\n",
      "4001\n",
      "2100 2000\n",
      "[-1.9   -1.899 -1.898 ...    nan    nan    nan]\n",
      "-0.10000000000000002\n"
     ]
    }
   ],
   "source": [
    "\n",
    "data = Voltammetry(E_min=-2,E_max=2)\n",
    "shift =data.get_index_of_E(0)\n",
    "shift_Voltage=.1\n",
    "print(\"bbbshift\", shift)\n",
    "print(data.E)\n",
    "print(len(data.E))\n",
    "print(data.get_index_of_E(shift_Voltage), data.get_index_of_E(0))\n",
    "test_data= data._shift_Current_Array(data.E, shift_Voltage)\n",
    "print(test_data)\n",
    "i = data._get_E_at_i(test_data,0,tolerance=0.101)\n",
    "print(i)"
   ]
  },
  {
   "cell_type": "code",
   "execution_count": 14,
   "metadata": {},
   "outputs": [
    {
     "name": "stdout",
     "output_type": "stream",
     "text": [
      "['AREA']\n",
      "None\n"
     ]
    },
    {
     "ename": "UnboundLocalError",
     "evalue": "cannot access local variable 'i_shifted' where it is not associated with a value",
     "output_type": "error",
     "traceback": [
      "\u001b[1;31m---------------------------------------------------------------------------\u001b[0m",
      "\u001b[1;31mUnboundLocalError\u001b[0m                         Traceback (most recent call last)",
      "Cell \u001b[1;32mIn[14], line 6\u001b[0m\n\u001b[0;32m      4\u001b[0m b\u001b[38;5;241m.\u001b[39mappend(\u001b[38;5;124m\"\u001b[39m\u001b[38;5;124mAREA\u001b[39m\u001b[38;5;124m\"\u001b[39m)\n\u001b[0;32m      5\u001b[0m \u001b[38;5;28mprint\u001b[39m(b)\n\u001b[1;32m----> 6\u001b[0m shift \u001b[38;5;241m=\u001b[39m\u001b[43mdata\u001b[49m\u001b[38;5;241;43m.\u001b[39;49m\u001b[43mnorm\u001b[49m\u001b[43m(\u001b[49m\u001b[43mb\u001b[49m\u001b[43m,\u001b[49m\u001b[43mccc\u001b[49m\u001b[43m)\u001b[49m\n",
      "File \u001b[1;32m~\\Documents\\GitHub\\NordicEC\\EC4py\\src\\ec4py\\util_voltammetry.py:267\u001b[0m, in \u001b[0;36mVoltammetry.norm\u001b[1;34m(self, norm_to, current)\u001b[0m\n\u001b[0;32m    265\u001b[0m     \u001b[38;5;28mself\u001b[39m\u001b[38;5;241m.\u001b[39mi_label \u001b[38;5;241m=\u001b[39m qv\u001b[38;5;241m.\u001b[39mquantity\n\u001b[0;32m    266\u001b[0m     \u001b[38;5;66;03m# print(\"aaaa-shifting\",self.i_unit)\u001b[39;00m\n\u001b[1;32m--> 267\u001b[0m \u001b[38;5;28;01mreturn\u001b[39;00m \u001b[43mi_shifted\u001b[49m, qv\n",
      "\u001b[1;31mUnboundLocalError\u001b[0m: cannot access local variable 'i_shifted' where it is not associated with a value"
     ]
    }
   ],
   "source": [
    "data = Voltammetry(E_min=-2,E_max=2)\n",
    "ccc =[1,2,3]\n",
    "b =list()\n",
    "b.append(\"AREA\")\n",
    "print(b)\n",
    "shift =data.norm(b,ccc)\n"
   ]
  }
 ],
 "metadata": {
  "kernelspec": {
   "display_name": ".venv",
   "language": "python",
   "name": "python3"
  },
  "language_info": {
   "codemirror_mode": {
    "name": "ipython",
    "version": 3
   },
   "file_extension": ".py",
   "mimetype": "text/x-python",
   "name": "python",
   "nbconvert_exporter": "python",
   "pygments_lexer": "ipython3",
   "version": "3.12.1"
  }
 },
 "nbformat": 4,
 "nbformat_minor": 2
}
