{
 "cells": [
  {
   "cell_type": "code",
   "execution_count": 1,
   "metadata": {},
   "outputs": [],
   "source": [
    "import numpy as np\n",
    "\n",
    "from ec4py.util_voltammetry import Voltammetry"
   ]
  },
  {
   "cell_type": "code",
   "execution_count": 2,
   "metadata": {},
   "outputs": [
    {
     "name": "stdout",
     "output_type": "stream",
     "text": [
      "[2000]\n"
     ]
    }
   ],
   "source": [
    "data = Voltammetry(E_min=-2,E_max=2)\n",
    "\n",
    "test_data = np.zeros(len(data.E))\n",
    "test_data[data.get_index_of_E(0)]=1\n",
    "larger_than = np.argwhere(test_data > 0.5)[0]\n",
    "print(larger_than)"
   ]
  },
  {
   "cell_type": "code",
   "execution_count": 3,
   "metadata": {},
   "outputs": [
    {
     "name": "stdout",
     "output_type": "stream",
     "text": [
      "[0. 0. 0. ... 1. 1. 1.]\n",
      "2000 4001\n",
      "[[   0]\n",
      " [   1]\n",
      " [   2]\n",
      " ...\n",
      " [1997]\n",
      " [1998]\n",
      " [1999]]\n",
      "1999 2000\n"
     ]
    }
   ],
   "source": [
    "data = Voltammetry(E_min=-2,E_max=2)\n",
    "test_data = np.ones(len(data.E))\n",
    "for i in range(data.get_index_of_E(0)):\n",
    "    test_data[i]=0\n",
    "\n",
    "print(test_data)\n",
    "print(data.get_index_of_E(0),len(data.E))\n",
    "current = test_data\n",
    "\n",
    "i_threashold =0.5\n",
    "options ={\"tolerance\": 0.1}\n",
    "\n",
    "options[\"tolerance\"] =0.1\n",
    "smaller_than = np.argwhere(current < i_threashold-options[\"tolerance\"])\n",
    "larger_than = np.argwhere(current > i_threashold +options[\"tolerance\"])\n",
    "print(smaller_than)\n",
    "start = np.max(smaller_than)\n",
    "end  = np.min(larger_than)\n",
    "print(start,end)       "
   ]
  },
  {
   "cell_type": "code",
   "execution_count": 4,
   "metadata": {},
   "outputs": [],
   "source": [
    "test_data = np.ones(len(data.E))\n",
    "for i in range(data.get_index_of_E(0)):\n",
    "    test_data[i]=0\n",
    "\n",
    "i = data._get_E_at_i(test_data,0.5,tolerance=0.1)"
   ]
  },
  {
   "cell_type": "code",
   "execution_count": 5,
   "metadata": {},
   "outputs": [
    {
     "name": "stdout",
     "output_type": "stream",
     "text": [
      "2000\n",
      "[-2.    -1.999 -1.998 ...  1.998  1.999  2.   ]\n",
      "shift_arrray 1000\n"
     ]
    },
    {
     "data": {
      "text/plain": [
       "array([-1.   , -0.999, -0.998, ...,    nan,    nan,    nan])"
      ]
     },
     "execution_count": 5,
     "metadata": {},
     "output_type": "execute_result"
    }
   ],
   "source": [
    "\n",
    "data = Voltammetry(E_min=-2,E_max=2)\n",
    "shift =data.get_index_of_E(0)\n",
    "print(shift)\n",
    "print(data.E)\n",
    "data._shift_Current_Array(data.E, 1.0)\n"
   ]
  }
 ],
 "metadata": {
  "kernelspec": {
   "display_name": ".venv",
   "language": "python",
   "name": "python3"
  },
  "language_info": {
   "codemirror_mode": {
    "name": "ipython",
    "version": 3
   },
   "file_extension": ".py",
   "mimetype": "text/x-python",
   "name": "python",
   "nbconvert_exporter": "python",
   "pygments_lexer": "ipython3",
   "version": "3.12.1"
  }
 },
 "nbformat": 4,
 "nbformat_minor": 2
}
