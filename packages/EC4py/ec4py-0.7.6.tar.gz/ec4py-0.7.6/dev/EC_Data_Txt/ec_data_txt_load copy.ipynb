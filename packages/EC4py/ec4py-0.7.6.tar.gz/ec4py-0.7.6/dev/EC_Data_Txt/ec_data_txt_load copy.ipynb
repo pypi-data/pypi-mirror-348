{
 "cells": [
  {
   "cell_type": "code",
   "execution_count": 19,
   "id": "69d5ea6b",
   "metadata": {},
   "outputs": [],
   "source": [
    "from io import StringIO\n",
    "import numpy as np\n",
    "from ec4py.ec_util.ec_data_txt import load_EC_file_TDMS,_s_load_txt\n",
    "from ec4py.ec_util.ec_data_base import EC_Data_Base\n",
    "\n"
   ]
  },
  {
   "cell_type": "code",
   "execution_count": 20,
   "id": "de062931",
   "metadata": {},
   "outputs": [],
   "source": [
    "a = \"\"\"[COMMON]\n",
    "\tPROG\tEC4 App\n",
    "\tDATE\t2025-05-03\n",
    "\tTIME\t15:46:26 (GMT +02:00)\n",
    "[POT_SETTINGS]\n",
    "\tIRANGE\t0\n",
    "\tMODE\tpot\n",
    "\tCELL_SW\t0\n",
    "[METHOD]\n",
    "\tEC Tech\tRamp\n",
    "\tNAME\tLinear Sweep Voltammetry\n",
    "\tStart\t0.500 V\n",
    "\tv1\t1.000 V\n",
    "\tv2\t0.000 V\n",
    "\tRate\t100.0 mV/s\n",
    "\tRamp\t1\n",
    "[DATA]\n",
    "Index\tTime(s)\tE(V)\ti(A)\n",
    "0\t0\t1\t1\n",
    "1\t0.1\t1\t3\n",
    "2\t0.2\t2\t-1\"\"\"\n"
   ]
  },
  {
   "cell_type": "code",
   "execution_count": null,
   "id": "d1024113",
   "metadata": {},
   "outputs": [
    {
     "name": "stdout",
     "output_type": "stream",
     "text": [
      "[]\n",
      "Time [0.  0.1 0.2]\n",
      "E [1. 1. 2.]\n",
      "i [ 1.  3. -1.]\n"
     ]
    }
   ],
   "source": [
    "\n",
    "obj = EC_Data_Base()\n",
    "print(obj.E)\n",
    "_s_load_txt(obj,a)\n",
    "print(\"Time\",obj.Time)\n",
    "print(\"E\",obj.E)\n",
    "print(\"i\",obj.i)"
   ]
  },
  {
   "cell_type": "code",
   "execution_count": null,
   "id": "3f5aea7b",
   "metadata": {},
   "outputs": [
    {
     "name": "stdout",
     "output_type": "stream",
     "text": [
      "[COMMON]\n",
      "\tPROG\tEC4 App\n",
      "\tDATE\t2025-05-03\n",
      "\tTIME\t15:46:26 (GMT +02:00)\n",
      "[POT_SETTINGS]\n",
      "\tIRANGE\t0\n",
      "\tMODE\tpot\n",
      "\tCELL_SW\t0\n",
      "[METHOD]\n",
      "\tEC Tech\tRamp\n",
      "\tNAME\tLinear Sweep Voltammetry\n",
      "\tStart\t0.500 V\n",
      "\tv1\t1.000 V\n",
      "\tv2\t0.000 V\n",
      "\tRate\t100.0 mV/s\n",
      "\tRamp\t1\n",
      "[DATA]\n",
      "Index\tTime(s)\tE(V)\ti(A)\n",
      "0\t0\t1\t1\n",
      "1\t0.1\t1\t3\n",
      "2\t0.2\t2\t-1\n"
     ]
    }
   ],
   "source": [
    "import tempfile\n",
    "print(a)\n",
    "with tempfile.TemporaryFile as f:\n",
    "    f."
   ]
  },
  {
   "cell_type": "code",
   "execution_count": 23,
   "id": "7e380e86",
   "metadata": {},
   "outputs": [
    {
     "name": "stdout",
     "output_type": "stream",
     "text": [
      "<_io.StringIO object at 0x000001D6616FA710>\n"
     ]
    },
    {
     "ename": "TypeError",
     "evalue": "expected str, bytes or os.PathLike object, not StringIO",
     "output_type": "error",
     "traceback": [
      "\u001b[31m---------------------------------------------------------------------------\u001b[39m",
      "\u001b[31mTypeError\u001b[39m                                 Traceback (most recent call last)",
      "\u001b[36mCell\u001b[39m\u001b[36m \u001b[39m\u001b[32mIn[23]\u001b[39m\u001b[32m, line 7\u001b[39m\n\u001b[32m      4\u001b[39m \u001b[38;5;66;03m#print(d)\u001b[39;00m\n\u001b[32m      5\u001b[39m \u001b[38;5;28mprint\u001b[39m(data_io)\n\u001b[32m----> \u001b[39m\u001b[32m7\u001b[39m \u001b[43mload_EC_file_TDMS\u001b[49m\u001b[43m(\u001b[49m\u001b[43mobj\u001b[49m\u001b[43m,\u001b[49m\u001b[43mdata_io\u001b[49m\u001b[43m)\u001b[49m\n",
      "\u001b[36mFile \u001b[39m\u001b[32mc:\\Users\\gusta\\Documents\\GitHub\\EC4py\\src\\ec4py\\ec_util\\ec_data_txt.py:79\u001b[39m, in \u001b[36mload_EC_file_TDMS\u001b[39m\u001b[34m(ec_data, path)\u001b[39m\n\u001b[32m     77\u001b[39m \u001b[38;5;28;01mdef\u001b[39;00m\u001b[38;5;250m \u001b[39m\u001b[34mload_EC_file_TDMS\u001b[39m(ec_data:EC_Data_Base,path:Path):\n\u001b[32m     78\u001b[39m    s = \u001b[38;5;28;01mNone\u001b[39;00m\n\u001b[32m---> \u001b[39m\u001b[32m79\u001b[39m    \u001b[38;5;28;01mwith\u001b[39;00m \u001b[38;5;28mopen\u001b[39m(path,\u001b[33m\"\u001b[39m\u001b[33mr\u001b[39m\u001b[33m\"\u001b[39m) \u001b[38;5;28;01mas\u001b[39;00m file:\n\u001b[32m     80\u001b[39m       s = file.read()\n\u001b[32m     81\u001b[39m       file.close()\n",
      "\u001b[31mTypeError\u001b[39m: expected str, bytes or os.PathLike object, not StringIO"
     ]
    }
   ],
   "source": [
    "data_io = StringIO(a)\n",
    "obj = EC_Data_Base()\n",
    "d = data_io.read()\n",
    "#print(d)\n",
    "print(data_io)\n",
    "\n",
    "load_EC_file_TDMS(obj,data_io)"
   ]
  }
 ],
 "metadata": {
  "kernelspec": {
   "display_name": "Python 3",
   "language": "python",
   "name": "python3"
  },
  "language_info": {
   "codemirror_mode": {
    "name": "ipython",
    "version": 3
   },
   "file_extension": ".py",
   "mimetype": "text/x-python",
   "name": "python",
   "nbconvert_exporter": "python",
   "pygments_lexer": "ipython3",
   "version": "3.11.9"
  }
 },
 "nbformat": 4,
 "nbformat_minor": 5
}
