{
 "cells": [
  {
   "cell_type": "code",
   "execution_count": 21,
   "id": "69d5ea6b",
   "metadata": {},
   "outputs": [],
   "source": [
    "from io import StringIO\n",
    "import numpy as np\n"
   ]
  },
  {
   "cell_type": "code",
   "execution_count": 22,
   "id": "de062931",
   "metadata": {},
   "outputs": [],
   "source": [
    "a = \"\"\"[COMMON]\n",
    "\tPROG\tEC4 App\n",
    "\tDATE\t2025-05-03\n",
    "\tTIME\t15:46:26 (GMT +02:00)\n",
    "[POT_SETTINGS]\n",
    "\tIRANGE\t0\n",
    "\tMODE\tpot\n",
    "\tCELL_SW\t0\n",
    "[METHOD]\n",
    "\tEC Tech\tRamp\n",
    "\tNAME\tLinear Sweep Voltammetry\n",
    "\tStart\t0.500 V\n",
    "\tv1\t1.000 V\n",
    "\tv2\t0.000 V\n",
    "\tRate\t100.0 mV/s\n",
    "\tRamp\t1\n",
    "[DATA]\n",
    "Index\tTime(s)\tE(V)\ti(A)\n",
    "0\t0\t1\t1\n",
    "1\t0.1\t1\t3\n",
    "2\t0.2\t2\t-1\"\"\"\n"
   ]
  },
  {
   "cell_type": "code",
   "execution_count": null,
   "id": "9a4ec2b2",
   "metadata": {},
   "outputs": [],
   "source": []
  },
  {
   "cell_type": "code",
   "execution_count": 23,
   "id": "630d408f",
   "metadata": {},
   "outputs": [
    {
     "name": "stdout",
     "output_type": "stream",
     "text": [
      "[COMMON]\n",
      "\tPROG\tEC4 App\n",
      "\tDATE\t2025-05-03\n",
      "\tTIME\t15:46:26 (GMT +02:00)\n",
      "[POT_SETTINGS]\n",
      "\tIRANGE\t0\n",
      "\tMODE\tpot\n",
      "\tCELL_SW\t0\n",
      "[METHOD]\n",
      "\tEC Tech\tRamp\n",
      "\tNAME\tLinear Sweep Voltammetry\n",
      "\tStart\t0.500 V\n",
      "\tv1\t1.000 V\n",
      "\tv2\t0.000 V\n",
      "\tRate\t100.0 mV/s\n",
      "\tRamp\t1\n",
      "[DATA]\n",
      "Index\tTime(s)\tE(V)\ti(A)\n",
      "0\t0\t1\t1\n",
      "1\t0.1\t1\t3\n",
      "2\t0.2\t2\t-1\n"
     ]
    }
   ],
   "source": [
    "print(a)"
   ]
  },
  {
   "cell_type": "code",
   "execution_count": 24,
   "id": "7fba3a31",
   "metadata": {},
   "outputs": [],
   "source": [
    "def parse_category(s,item):\n",
    "    b =s.split(f\"[{item}]\")\n",
    "    c= b[1].split(\"\\n[\")\n",
    "    return c[0]"
   ]
  },
  {
   "cell_type": "code",
   "execution_count": 25,
   "id": "63ecdfbb",
   "metadata": {},
   "outputs": [],
   "source": [
    "def toDict(s):\n",
    "    lines =s.strip().splitlines()\n",
    "    a= dict()\n",
    "    for line in lines:\n",
    "        items = line.strip().split(\"\\t\")\n",
    "        if len(items)>1:\n",
    "            a[items[0]]=items[1]\n",
    "        else:\n",
    "            a[items[0]]=None\n",
    "    return a"
   ]
  },
  {
   "cell_type": "code",
   "execution_count": 26,
   "id": "52ad437d",
   "metadata": {},
   "outputs": [
    {
     "name": "stdout",
     "output_type": "stream",
     "text": [
      "\n",
      "\tPROG\tEC4 App\n",
      "\tDATE\t2025-05-03\n",
      "\tTIME\t15:46:26 (GMT +02:00)\n",
      "{'PROG': 'EC4 App', 'DATE': '2025-05-03', 'TIME': '15:46:26 (GMT +02:00)'}\n",
      "3\n"
     ]
    }
   ],
   "source": [
    "from ec4py.ec_util.ec_data_txt import _parse_category,_category_to_dict,_parse_data_header\n",
    "print(_parse_category(a,\"COMMON\"))\n",
    "d =_category_to_dict(_parse_category(a,\"COMMON\"))\n",
    "\n",
    "print(d)\n",
    "print(len(d))\n"
   ]
  },
  {
   "cell_type": "code",
   "execution_count": 27,
   "id": "f22cef37",
   "metadata": {},
   "outputs": [
    {
     "name": "stdout",
     "output_type": "stream",
     "text": [
      "\n",
      "Index\tTime(s)\tE(V)\ti(A)\n",
      "0\t0\t1\t1\n",
      "1\t0.1\t1\t3\n",
      "2\t0.2\t2\t-1\n"
     ]
    }
   ],
   "source": [
    "print(_parse_category(a,\"DATA\"))\n"
   ]
  },
  {
   "cell_type": "code",
   "execution_count": 28,
   "id": "c6f8b87f",
   "metadata": {},
   "outputs": [
    {
     "name": "stdout",
     "output_type": "stream",
     "text": [
      "('0\\t0\\t1\\t1\\n1\\t0.1\\t1\\t3\\n2\\t0.2\\t2\\t-1', ['Index', 'Time', 'E', 'i'], ['', 's', 'V', 'A'])\n"
     ]
    },
    {
     "data": {
      "text/plain": [
       "({'Index': array([0., 1., 2.]),\n",
       "  'Time': array([0. , 0.1, 0.2]),\n",
       "  'E': array([1., 1., 2.]),\n",
       "  'i': array([ 1.,  3., -1.])},\n",
       " ['Index', 'Time', 'E', 'i'],\n",
       " ['', 's', 'V', 'A'])"
      ]
     },
     "execution_count": 28,
     "metadata": {},
     "output_type": "execute_result"
    }
   ],
   "source": [
    "from ec4py.ec_util.ec_data_txt import _parse_data_header,_parse_category,_parse_data\n",
    "print(_parse_data_header(_parse_category(a,\"DATA\")))\n",
    "\n",
    "_parse_data(a)\n",
    "\n"
   ]
  },
  {
   "cell_type": "code",
   "execution_count": 38,
   "id": "6967432e",
   "metadata": {},
   "outputs": [
    {
     "name": "stdout",
     "output_type": "stream",
     "text": [
      "[]\n",
      "Time [0.  0.1 0.2]\n",
      "E [1. 1. 2.]\n",
      "i [ 1.  3. -1.]\n"
     ]
    }
   ],
   "source": [
    "from ec4py.ec_util.ec_data_txt import _s_load_txt\n",
    "from ec4py.ec_util.ec_data_base import EC_Data_Base\n",
    "\n",
    "\n",
    "obj = EC_Data_Base()\n",
    "print(obj.E)\n",
    "_s_load_txt(obj,a)\n",
    "print(\"Time\",obj.Time)\n",
    "print(\"E\",obj.E)\n",
    "print(\"i\",obj.i)"
   ]
  },
  {
   "cell_type": "code",
   "execution_count": null,
   "id": "359ce0a7",
   "metadata": {},
   "outputs": [],
   "source": []
  },
  {
   "cell_type": "code",
   "execution_count": null,
   "id": "81018c54",
   "metadata": {},
   "outputs": [],
   "source": []
  },
  {
   "cell_type": "code",
   "execution_count": 33,
   "id": "d90316c4",
   "metadata": {},
   "outputs": [
    {
     "name": "stdout",
     "output_type": "stream",
     "text": [
      "[COMMON]\n",
      "\tPROG\tEC4 App\n",
      "\tDATE\t2025-05-03\n",
      "\tTIME\t15:46:26 (GMT +02:00)\n",
      "[POT_SETTINGS]\n",
      "\tIRANGE\t0\n",
      "\tMODE\tpot\n",
      "\tCELL_SW\t0\n",
      "[METHOD]\n",
      "\tEC Tech\tRamp\n",
      "\tNAME\tLinear Sweep Voltammetry\n",
      "\tStart\t0.500 V\n",
      "\tv1\t1.000 V\n",
      "\tv2\t0.000 V\n",
      "\tRate\t100.0 mV/s\n",
      "\tRamp\t1\n",
      "\n"
     ]
    }
   ],
   "source": [
    "b =a.split(\"[COMMON]\")\n",
    "coomon =a[1].split(\"\\n[\")\n",
    "coomon =a[1].split(\"\\n[DATA]\")\n",
    "\n",
    "\n",
    "b =a.split(\"[DATA]\")\n",
    "print(b[0])\n",
    "\n"
   ]
  },
  {
   "cell_type": "code",
   "execution_count": 34,
   "id": "ddfa1056",
   "metadata": {},
   "outputs": [],
   "source": [
    "def get_header(s:str):\n",
    "    h =s.strip().split(\"\\n\",maxsplit=2)\n",
    "    header =h[0].split(\"\\t\")\n",
    "    quantity=[]\n",
    "    unit = []\n",
    "    for h in header:\n",
    "        q = h.split(\"(\")\n",
    "        if len(q)>1:\n",
    "            u = q[1].split(\")\")\n",
    "            unit.append(u[0])\n",
    "        else:\n",
    "            unit.append(\"\")\n",
    "        quantity.append(q[0])\n",
    "    return quantity,unit\n"
   ]
  },
  {
   "cell_type": "code",
   "execution_count": 31,
   "id": "806a88bb",
   "metadata": {},
   "outputs": [
    {
     "name": "stdout",
     "output_type": "stream",
     "text": [
      "[]\n"
     ]
    }
   ],
   "source": [
    "quantity=[]\n",
    "print(quantity)\n"
   ]
  },
  {
   "cell_type": "code",
   "execution_count": 35,
   "id": "fbae3a11",
   "metadata": {},
   "outputs": [
    {
     "name": "stdout",
     "output_type": "stream",
     "text": [
      "['Index', 'Time(s)', 'E(V)', 'i(A)']\n",
      "['', 's', 'V', 'A']\n",
      "['Index', 'Time', 'E', 'i']\n"
     ]
    }
   ],
   "source": [
    "\n",
    "##Get header\n",
    "h =b[1].strip().split(\"\\n\",maxsplit=2)\n",
    "header =h[0].split(\"\\t\")\n",
    "print(header)\n",
    "quantity=[]\n",
    "unit = []\n",
    "for h in header:\n",
    "    q = h.split(\"(\")\n",
    "    if len(q)>1:\n",
    "        u = q[1].split(\")\")\n",
    "        unit.append(u[0])\n",
    "    else:\n",
    "        unit.append(\"\")\n",
    "    quantity.append(q[0])\n",
    "print(unit)\n",
    "print(quantity)\n"
   ]
  },
  {
   "cell_type": "code",
   "execution_count": null,
   "id": "869504b8",
   "metadata": {},
   "outputs": [],
   "source": []
  },
  {
   "cell_type": "code",
   "execution_count": 36,
   "id": "15c8a06f",
   "metadata": {},
   "outputs": [
    {
     "name": "stdout",
     "output_type": "stream",
     "text": [
      "<_io.StringIO object at 0x000002894671F0A0>\n",
      "{'Index': array([0., 1., 2.]), 'Time(s)': array([0. , 0.1, 0.2]), 'E(V)': array([1., 1., 2.]), 'i(A)': array([ 1.,  3., -1.])}\n"
     ]
    }
   ],
   "source": [
    "data_io = StringIO(b[1].strip())\n",
    "print(data_io)\n",
    "\n",
    "d=np.genfromtxt(data_io, delimiter= \"\\t\", skip_header=1, skip_footer=0)\n",
    "rawdata=dict()\n",
    "for i,h in enumerate(header):\n",
    "    rawdata[h]= d[:,i]\n",
    "print(rawdata)"
   ]
  },
  {
   "cell_type": "code",
   "execution_count": null,
   "id": "65b9dd12",
   "metadata": {},
   "outputs": [],
   "source": [
    "from ec4py.ec_util.ec_data_base import EC_Data_Base"
   ]
  },
  {
   "cell_type": "code",
   "execution_count": null,
   "id": "c90486d4",
   "metadata": {},
   "outputs": [],
   "source": [
    "from ec4py.ec_util.ec_data_txt import _parse_category"
   ]
  },
  {
   "cell_type": "code",
   "execution_count": null,
   "id": "09b4a382",
   "metadata": {},
   "outputs": [
    {
     "ename": "ImportError",
     "evalue": "cannot import name 'EC_Channels' from 'ec4py.ec_data_util' (c:\\Users\\gusta\\Documents\\GitHub\\EC4py\\src\\ec4py\\ec_data_util\\__init__.py)",
     "output_type": "error",
     "traceback": [
      "\u001b[31m---------------------------------------------------------------------------\u001b[39m",
      "\u001b[31mImportError\u001b[39m                               Traceback (most recent call last)",
      "\u001b[36mCell\u001b[39m\u001b[36m \u001b[39m\u001b[32mIn[9]\u001b[39m\u001b[32m, line 1\u001b[39m\n\u001b[32m----> \u001b[39m\u001b[32m1\u001b[39m \u001b[38;5;28;01mfrom\u001b[39;00m\u001b[38;5;250m \u001b[39m\u001b[34;01mec4py\u001b[39;00m\u001b[34;01m.\u001b[39;00m\u001b[34;01mec_data_util\u001b[39;00m\u001b[34;01m.\u001b[39;00m\u001b[34;01mec_data_base\u001b[39;00m\u001b[38;5;250m \u001b[39m\u001b[38;5;28;01mimport\u001b[39;00m EC_Data_Base\n\u001b[32m      2\u001b[39m \u001b[38;5;28;01mfrom\u001b[39;00m\u001b[38;5;250m \u001b[39m\u001b[34;01mec4py\u001b[39;00m\u001b[34;01m.\u001b[39;00m\u001b[34;01mec_data_util\u001b[39;00m\u001b[34;01m.\u001b[39;00m\u001b[34;01mec_data_txt\u001b[39;00m\u001b[38;5;250m \u001b[39m\u001b[38;5;28;01mimport\u001b[39;00m load_txt\n\u001b[32m      3\u001b[39m obj= EC_Data_Base()\n",
      "\u001b[36mFile \u001b[39m\u001b[32mc:\\Users\\gusta\\Documents\\GitHub\\EC4py\\src\\ec4py\\ec_data_util\\ec_data_base.py:5\u001b[39m\n\u001b[32m      2\u001b[39m \u001b[38;5;28;01mimport\u001b[39;00m\u001b[38;5;250m \u001b[39m\u001b[34;01mnumpy\u001b[39;00m\u001b[38;5;250m \u001b[39m\u001b[38;5;28;01mas\u001b[39;00m\u001b[38;5;250m \u001b[39m\u001b[34;01mnp\u001b[39;00m\n\u001b[32m      3\u001b[39m \u001b[38;5;28;01mimport\u001b[39;00m\u001b[38;5;250m \u001b[39m\u001b[34;01mmatplotlib\u001b[39;00m\u001b[34;01m.\u001b[39;00m\u001b[34;01mpyplot\u001b[39;00m\u001b[38;5;250m \u001b[39m\u001b[38;5;28;01mas\u001b[39;00m\u001b[38;5;250m \u001b[39m\u001b[34;01mplt\u001b[39;00m\n\u001b[32m----> \u001b[39m\u001b[32m5\u001b[39m \u001b[38;5;28;01mfrom\u001b[39;00m\u001b[38;5;250m \u001b[39m\u001b[34;01m.\u001b[39;00m\u001b[38;5;250m \u001b[39m\u001b[38;5;28;01mimport\u001b[39;00m EC_Channels\n\u001b[32m      8\u001b[39m \u001b[38;5;28;01mfrom\u001b[39;00m\u001b[38;5;250m \u001b[39m\u001b[34;01m.\u001b[39;00m\u001b[34;01m.\u001b[39;00m\u001b[34;01mec_setup\u001b[39;00m\u001b[38;5;250m \u001b[39m\u001b[38;5;28;01mimport\u001b[39;00m EC_Setup\n\u001b[32m     11\u001b[39m \u001b[38;5;28;01mclass\u001b[39;00m\u001b[38;5;250m \u001b[39m\u001b[34;01mEC_Data_Base\u001b[39;00m(EC_Setup):\n",
      "\u001b[31mImportError\u001b[39m: cannot import name 'EC_Channels' from 'ec4py.ec_data_util' (c:\\Users\\gusta\\Documents\\GitHub\\EC4py\\src\\ec4py\\ec_data_util\\__init__.py)"
     ]
    }
   ],
   "source": [
    "from ec4py.ec_util.ec_data_base import EC_Data_Base\n",
    "from ec4py.ec_util.ec_data_txt import load_txt\n",
    "obj= EC_Data_Base()\n",
    "load_txt(obj,a)"
   ]
  }
 ],
 "metadata": {
  "kernelspec": {
   "display_name": "Python 3",
   "language": "python",
   "name": "python3"
  },
  "language_info": {
   "codemirror_mode": {
    "name": "ipython",
    "version": 3
   },
   "file_extension": ".py",
   "mimetype": "text/x-python",
   "name": "python",
   "nbconvert_exporter": "python",
   "pygments_lexer": "ipython3",
   "version": "3.11.9"
  }
 },
 "nbformat": 4,
 "nbformat_minor": 5
}
