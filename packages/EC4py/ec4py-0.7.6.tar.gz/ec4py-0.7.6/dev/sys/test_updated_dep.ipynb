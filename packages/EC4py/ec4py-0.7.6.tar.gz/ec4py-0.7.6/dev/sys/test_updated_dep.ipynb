{
 "cells": [
  {
   "cell_type": "code",
   "execution_count": 2,
   "metadata": {},
   "outputs": [
    {
     "name": "stdout",
     "output_type": "stream",
     "text": [
      "Requirement already satisfied: pip in c:\\users\\gustav.wiberg\\appdata\\local\\programs\\python\\python311\\lib\\site-packages (24.2)Note: you may need to restart the kernel to use updated packages.\n",
      "\n",
      "Requirement already satisfied: build in c:\\users\\gustav.wiberg\\appdata\\local\\programs\\python\\python311\\lib\\site-packages (1.2.1)Note: you may need to restart the kernel to use updated packages.\n",
      "\n",
      "Requirement already satisfied: packaging>=19.1 in c:\\users\\gustav.wiberg\\appdata\\local\\programs\\python\\python311\\lib\\site-packages (from build) (23.1)\n",
      "Requirement already satisfied: pyproject_hooks in c:\\users\\gustav.wiberg\\appdata\\local\\programs\\python\\python311\\lib\\site-packages (from build) (1.1.0)\n",
      "Requirement already satisfied: colorama in c:\\users\\gustav.wiberg\\appdata\\local\\programs\\python\\python311\\lib\\site-packages (from build) (0.4.6)\n"
     ]
    }
   ],
   "source": [
    "%pip install --upgrade pip\n",
    "%pip install --upgrade build\n"
   ]
  },
  {
   "cell_type": "code",
   "execution_count": 3,
   "metadata": {},
   "outputs": [
    {
     "name": "stdout",
     "output_type": "stream",
     "text": [
      "Collecting matplotlib\n",
      "  Downloading matplotlib-3.9.2-cp312-cp312-win_amd64.whl.metadata (11 kB)\n",
      "Collecting contourpy>=1.0.1 (from matplotlib)\n",
      "  Using cached contourpy-1.2.1-cp312-cp312-win_amd64.whl.metadata (5.8 kB)\n",
      "Collecting cycler>=0.10 (from matplotlib)\n",
      "  Using cached cycler-0.12.1-py3-none-any.whl.metadata (3.8 kB)\n",
      "Collecting fonttools>=4.22.0 (from matplotlib)\n",
      "  Using cached fonttools-4.53.1-cp312-cp312-win_amd64.whl.metadata (165 kB)\n",
      "Collecting kiwisolver>=1.3.1 (from matplotlib)\n",
      "  Using cached kiwisolver-1.4.5-cp312-cp312-win_amd64.whl.metadata (6.5 kB)\n",
      "Requirement already satisfied: numpy>=1.23 in c:\\users\\gustav.wiberg\\documents\\github\\python\\ec4py\\.conda\\lib\\site-packages (from matplotlib) (2.1.0)\n",
      "Requirement already satisfied: packaging>=20.0 in c:\\users\\gustav.wiberg\\documents\\github\\python\\ec4py\\.conda\\lib\\site-packages (from matplotlib) (24.1)\n",
      "Collecting pillow>=8 (from matplotlib)\n",
      "  Using cached pillow-10.4.0-cp312-cp312-win_amd64.whl.metadata (9.3 kB)\n",
      "Collecting pyparsing>=2.3.1 (from matplotlib)\n",
      "  Using cached pyparsing-3.1.2-py3-none-any.whl.metadata (5.1 kB)\n",
      "Requirement already satisfied: python-dateutil>=2.7 in c:\\users\\gustav.wiberg\\documents\\github\\python\\ec4py\\.conda\\lib\\site-packages (from matplotlib) (2.9.0)\n",
      "Requirement already satisfied: six>=1.5 in c:\\users\\gustav.wiberg\\documents\\github\\python\\ec4py\\.conda\\lib\\site-packages (from python-dateutil>=2.7->matplotlib) (1.16.0)\n",
      "Downloading matplotlib-3.9.2-cp312-cp312-win_amd64.whl (7.8 MB)\n",
      "   ---------------------------------------- 0.0/7.8 MB ? eta -:--:--\n",
      "   ------------ --------------------------- 2.4/7.8 MB 11.2 MB/s eta 0:00:01\n",
      "   ------------------------ --------------- 4.7/7.8 MB 11.4 MB/s eta 0:00:01\n",
      "   ------------------------------------- -- 7.3/7.8 MB 11.6 MB/s eta 0:00:01\n",
      "   ---------------------------------------- 7.8/7.8 MB 11.3 MB/s eta 0:00:00\n",
      "Using cached contourpy-1.2.1-cp312-cp312-win_amd64.whl (189 kB)\n",
      "Using cached cycler-0.12.1-py3-none-any.whl (8.3 kB)\n",
      "Using cached fonttools-4.53.1-cp312-cp312-win_amd64.whl (2.2 MB)\n",
      "Using cached kiwisolver-1.4.5-cp312-cp312-win_amd64.whl (56 kB)\n",
      "Using cached pillow-10.4.0-cp312-cp312-win_amd64.whl (2.6 MB)\n",
      "Using cached pyparsing-3.1.2-py3-none-any.whl (103 kB)\n",
      "Installing collected packages: pyparsing, pillow, kiwisolver, fonttools, cycler, contourpy, matplotlib\n",
      "Successfully installed contourpy-1.2.1 cycler-0.12.1 fonttools-4.53.1 kiwisolver-1.4.5 matplotlib-3.9.2 pillow-10.4.0 pyparsing-3.1.2\n",
      "Note: you may need to restart the kernel to use updated packages.\n"
     ]
    }
   ],
   "source": [
    "pip install matplotlib"
   ]
  },
  {
   "cell_type": "code",
   "execution_count": 4,
   "metadata": {},
   "outputs": [
    {
     "name": "stdout",
     "output_type": "stream",
     "text": [
      "Collecting scipy\n",
      "  Downloading scipy-1.14.1-cp312-cp312-win_amd64.whl.metadata (60 kB)\n",
      "Requirement already satisfied: numpy<2.3,>=1.23.5 in c:\\users\\gustav.wiberg\\documents\\github\\python\\ec4py\\.conda\\lib\\site-packages (from scipy) (2.1.0)\n",
      "Downloading scipy-1.14.1-cp312-cp312-win_amd64.whl (44.5 MB)\n",
      "   ---------------------------------------- 0.0/44.5 MB ? eta -:--:--\n",
      "   - -------------------------------------- 2.1/44.5 MB 11.8 MB/s eta 0:00:04\n",
      "   --- ------------------------------------ 3.9/44.5 MB 9.4 MB/s eta 0:00:05\n",
      "   ----- ---------------------------------- 6.0/44.5 MB 11.5 MB/s eta 0:00:04\n",
      "   ------- -------------------------------- 8.7/44.5 MB 10.3 MB/s eta 0:00:04\n",
      "   --------- ------------------------------ 11.0/44.5 MB 10.6 MB/s eta 0:00:04\n",
      "   ----------- ---------------------------- 12.8/44.5 MB 10.7 MB/s eta 0:00:03\n",
      "   -------------- ------------------------- 16.0/44.5 MB 10.9 MB/s eta 0:00:03\n",
      "   ---------------- ----------------------- 18.6/44.5 MB 11.1 MB/s eta 0:00:03\n",
      "   ------------------- -------------------- 21.2/44.5 MB 11.2 MB/s eta 0:00:03\n",
      "   --------------------- ------------------ 23.6/44.5 MB 11.2 MB/s eta 0:00:02\n",
      "   ----------------------- ---------------- 26.0/44.5 MB 11.3 MB/s eta 0:00:02\n",
      "   ------------------------- -------------- 28.8/44.5 MB 11.4 MB/s eta 0:00:02\n",
      "   ---------------------------- ----------- 31.5/44.5 MB 11.4 MB/s eta 0:00:02\n",
      "   ------------------------------ --------- 33.8/44.5 MB 11.4 MB/s eta 0:00:01\n",
      "   -------------------------------- ------- 36.4/44.5 MB 11.5 MB/s eta 0:00:01\n",
      "   ---------------------------------- ----- 38.8/44.5 MB 11.5 MB/s eta 0:00:01\n",
      "   ------------------------------------- -- 41.4/44.5 MB 11.5 MB/s eta 0:00:01\n",
      "   ---------------------------------------  43.8/44.5 MB 11.5 MB/s eta 0:00:01\n",
      "   ---------------------------------------- 44.5/44.5 MB 11.2 MB/s eta 0:00:00\n",
      "Installing collected packages: scipy\n",
      "Successfully installed scipy-1.14.1\n",
      "Note: you may need to restart the kernel to use updated packages.\n"
     ]
    }
   ],
   "source": [
    "pip install scipy "
   ]
  }
 ],
 "metadata": {
  "kernelspec": {
   "display_name": "Python 3",
   "language": "python",
   "name": "python3"
  },
  "language_info": {
   "codemirror_mode": {
    "name": "ipython",
    "version": 3
   },
   "file_extension": ".py",
   "mimetype": "text/x-python",
   "name": "python",
   "nbconvert_exporter": "python",
   "pygments_lexer": "ipython3",
   "version": "3.12.4"
  }
 },
 "nbformat": 4,
 "nbformat_minor": 2
}
