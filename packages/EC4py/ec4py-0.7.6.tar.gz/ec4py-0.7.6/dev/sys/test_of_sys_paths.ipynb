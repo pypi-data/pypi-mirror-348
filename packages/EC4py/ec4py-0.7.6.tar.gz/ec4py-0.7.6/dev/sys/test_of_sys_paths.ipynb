{
 "cells": [
  {
   "cell_type": "code",
   "execution_count": 3,
   "metadata": {},
   "outputs": [
    {
     "name": "stdout",
     "output_type": "stream",
     "text": [
      "c:\\Users\\gustav.wiberg\\Documents\\GitHub\\Python\\EC4py\\dev\\sys\n",
      "C:\\Users\\gustav.wiberg\\Documents\\GitHub\\Python\\EC4py\\src\n",
      "c:\\Users\\gustav.wiberg\\Documents\\GitHub\\Python\\EC4py\\dev\\sys\n",
      "c:\\Users\\gustav.wiberg\\AppData\\Local\\Programs\\Python\\Python311\\python311.zip\n",
      "c:\\Users\\gustav.wiberg\\AppData\\Local\\Programs\\Python\\Python311\\DLLs\n",
      "c:\\Users\\gustav.wiberg\\AppData\\Local\\Programs\\Python\\Python311\\Lib\n",
      "c:\\Users\\gustav.wiberg\\AppData\\Local\\Programs\\Python\\Python311\n",
      "\n",
      "c:\\Users\\gustav.wiberg\\AppData\\Local\\Programs\\Python\\Python311\\Lib\\site-packages\n",
      "c:\\Users\\gustav.wiberg\\AppData\\Local\\Programs\\Python\\Python311\\Lib\\site-packages\\win32\n",
      "c:\\Users\\gustav.wiberg\\AppData\\Local\\Programs\\Python\\Python311\\Lib\\site-packages\\win32\\lib\n",
      "c:\\Users\\gustav.wiberg\\AppData\\Local\\Programs\\Python\\Python311\\Lib\\site-packages\\Pythonwin\n"
     ]
    }
   ],
   "source": [
    "import sys\n",
    "for x in sys.path:\n",
    "    print(x)\n",
    "    \n",
    "\n",
    "from ec4py import CV_Datas\n",
    "from ec4py import *\n",
    "import ec4py\n"
   ]
  }
 ],
 "metadata": {
  "kernelspec": {
   "display_name": "Python 3",
   "language": "python",
   "name": "python3"
  },
  "language_info": {
   "codemirror_mode": {
    "name": "ipython",
    "version": 3
   },
   "file_extension": ".py",
   "mimetype": "text/x-python",
   "name": "python",
   "nbconvert_exporter": "python",
   "pygments_lexer": "ipython3",
   "version": "3.11.5"
  }
 },
 "nbformat": 4,
 "nbformat_minor": 2
}
