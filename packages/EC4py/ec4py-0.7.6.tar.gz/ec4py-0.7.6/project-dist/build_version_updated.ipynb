{
 "cells": [
  {
   "cell_type": "markdown",
   "metadata": {},
   "source": [
    "# General installation from github\n",
    "pip install \"Package\" @ git+\"URL of the repository#subdirectory=path\"\n",
    "\n",
    "Here, we want to install Arenz_Group Python package."
   ]
  },
  {
   "cell_type": "code",
   "execution_count": 1,
   "metadata": {},
   "outputs": [
    {
     "name": "stdout",
     "output_type": "stream",
     "text": [
      "c:\\Users\\gustav.wiberg\\Documents\\GitHub\\Python\\EC4py\n",
      "\"c:\\Users\\gustav.wiberg\\AppData\\Local\\Programs\\Python\\Python311\\python.exe\"\n"
     ]
    }
   ],
   "source": [
    "%cd ..\n",
    "import sys\n",
    "from pathlib import Path\n",
    "path_to_executable = \"\\\"\" + str(sys.executable) +  \"\\\"\" #must be used if there are any spaces in the path\n",
    "print(path_to_executable)"
   ]
  },
  {
   "cell_type": "code",
   "execution_count": 1,
   "metadata": {},
   "outputs": [
    {
     "name": "stdout",
     "output_type": "stream",
     "text": [
      "Collecting buildNote: you may need to restart the kernel to use updated packages.\n",
      "\n",
      "  Downloading build-1.2.2-py3-none-any.whl.metadata (6.2 kB)\n",
      "Requirement already satisfied: packaging>=19.1 in c:\\users\\gusta\\documents\\github\\nordicec\\ec4py\\.venv\\lib\\site-packages (from build) (24.1)\n",
      "Collecting pyproject_hooks (from build)\n",
      "  Downloading pyproject_hooks-1.1.0-py3-none-any.whl.metadata (1.3 kB)\n",
      "Requirement already satisfied: colorama in c:\\users\\gusta\\documents\\github\\nordicec\\ec4py\\.venv\\lib\\site-packages (from build) (0.4.6)\n",
      "Downloading build-1.2.2-py3-none-any.whl (22 kB)\n",
      "Downloading pyproject_hooks-1.1.0-py3-none-any.whl (9.2 kB)\n",
      "Installing collected packages: pyproject_hooks, build\n",
      "Successfully installed build-1.2.2 pyproject_hooks-1.1.0\n"
     ]
    }
   ],
   "source": [
    "%pip install --upgrade build"
   ]
  },
  {
   "cell_type": "code",
   "execution_count": 2,
   "metadata": {},
   "outputs": [
    {
     "name": "stdout",
     "output_type": "stream",
     "text": [
      "Requirement already satisfied: toml in c:\\users\\gusta\\documents\\github\\nordicec\\ec4py\\.venv\\lib\\site-packages (0.10.2)Note: you may need to restart the kernel to use updated packages.\n",
      "\n"
     ]
    }
   ],
   "source": [
    "%pip install --upgrade toml"
   ]
  },
  {
   "cell_type": "code",
   "execution_count": 3,
   "metadata": {},
   "outputs": [
    {
     "name": "stdout",
     "output_type": "stream",
     "text": [
      "Collecting twineNote: you may need to restart the kernel to use updated packages.\n",
      "\n",
      "  Downloading twine-5.1.1-py3-none-any.whl.metadata (3.5 kB)\n",
      "Collecting pkginfo>=1.8.1 (from twine)\n",
      "  Downloading pkginfo-1.11.1-py3-none-any.whl.metadata (11 kB)\n",
      "Collecting readme-renderer>=35.0 (from twine)\n",
      "  Downloading readme_renderer-44.0-py3-none-any.whl.metadata (2.8 kB)\n",
      "Requirement already satisfied: requests>=2.20 in c:\\users\\gusta\\documents\\github\\nordicec\\ec4py\\.venv\\lib\\site-packages (from twine) (2.32.3)\n",
      "Collecting requests-toolbelt!=0.9.0,>=0.8.0 (from twine)\n",
      "  Downloading requests_toolbelt-1.0.0-py2.py3-none-any.whl.metadata (14 kB)\n",
      "Requirement already satisfied: urllib3>=1.26.0 in c:\\users\\gusta\\documents\\github\\nordicec\\ec4py\\.venv\\lib\\site-packages (from twine) (2.2.2)\n",
      "Collecting importlib-metadata>=3.6 (from twine)\n",
      "  Downloading importlib_metadata-8.5.0-py3-none-any.whl.metadata (4.8 kB)\n",
      "Collecting keyring>=15.1 (from twine)\n",
      "  Downloading keyring-25.3.0-py3-none-any.whl.metadata (20 kB)\n",
      "Collecting rfc3986>=1.4.0 (from twine)\n",
      "  Downloading rfc3986-2.0.0-py2.py3-none-any.whl.metadata (6.6 kB)\n",
      "Collecting rich>=12.0.0 (from twine)\n",
      "  Downloading rich-13.8.1-py3-none-any.whl.metadata (18 kB)\n",
      "Collecting pkginfo>=1.8.1 (from twine)\n",
      "  Downloading pkginfo-1.10.0-py3-none-any.whl.metadata (11 kB)\n",
      "Collecting zipp>=3.20 (from importlib-metadata>=3.6->twine)\n",
      "  Downloading zipp-3.20.1-py3-none-any.whl.metadata (3.7 kB)\n",
      "Collecting jaraco.classes (from keyring>=15.1->twine)\n",
      "  Downloading jaraco.classes-3.4.0-py3-none-any.whl.metadata (2.6 kB)\n",
      "Collecting jaraco.functools (from keyring>=15.1->twine)\n",
      "  Downloading jaraco.functools-4.0.2-py3-none-any.whl.metadata (2.8 kB)\n",
      "Collecting jaraco.context (from keyring>=15.1->twine)\n",
      "  Downloading jaraco.context-6.0.1-py3-none-any.whl.metadata (4.1 kB)\n",
      "Collecting pywin32-ctypes>=0.2.0 (from keyring>=15.1->twine)\n",
      "  Downloading pywin32_ctypes-0.2.3-py3-none-any.whl.metadata (3.9 kB)\n",
      "Collecting nh3>=0.2.14 (from readme-renderer>=35.0->twine)\n",
      "  Downloading nh3-0.2.18-cp37-abi3-win_amd64.whl.metadata (1.8 kB)\n",
      "Requirement already satisfied: docutils>=0.21.2 in c:\\users\\gusta\\documents\\github\\nordicec\\ec4py\\.venv\\lib\\site-packages (from readme-renderer>=35.0->twine) (0.21.2)\n",
      "Requirement already satisfied: Pygments>=2.5.1 in c:\\users\\gusta\\documents\\github\\nordicec\\ec4py\\.venv\\lib\\site-packages (from readme-renderer>=35.0->twine) (2.18.0)\n",
      "Requirement already satisfied: charset-normalizer<4,>=2 in c:\\users\\gusta\\documents\\github\\nordicec\\ec4py\\.venv\\lib\\site-packages (from requests>=2.20->twine) (3.3.2)\n",
      "Requirement already satisfied: idna<4,>=2.5 in c:\\users\\gusta\\documents\\github\\nordicec\\ec4py\\.venv\\lib\\site-packages (from requests>=2.20->twine) (3.8)\n",
      "Requirement already satisfied: certifi>=2017.4.17 in c:\\users\\gusta\\documents\\github\\nordicec\\ec4py\\.venv\\lib\\site-packages (from requests>=2.20->twine) (2024.8.30)\n",
      "Collecting markdown-it-py>=2.2.0 (from rich>=12.0.0->twine)\n",
      "  Downloading markdown_it_py-3.0.0-py3-none-any.whl.metadata (6.9 kB)\n",
      "Collecting mdurl~=0.1 (from markdown-it-py>=2.2.0->rich>=12.0.0->twine)\n",
      "  Downloading mdurl-0.1.2-py3-none-any.whl.metadata (1.6 kB)\n",
      "Collecting more-itertools (from jaraco.classes->keyring>=15.1->twine)\n",
      "  Downloading more_itertools-10.5.0-py3-none-any.whl.metadata (36 kB)\n",
      "Downloading twine-5.1.1-py3-none-any.whl (38 kB)\n",
      "Downloading importlib_metadata-8.5.0-py3-none-any.whl (26 kB)\n",
      "Downloading keyring-25.3.0-py3-none-any.whl (38 kB)\n",
      "Downloading pkginfo-1.10.0-py3-none-any.whl (30 kB)\n",
      "Downloading readme_renderer-44.0-py3-none-any.whl (13 kB)\n",
      "Downloading requests_toolbelt-1.0.0-py2.py3-none-any.whl (54 kB)\n",
      "Downloading rfc3986-2.0.0-py2.py3-none-any.whl (31 kB)\n",
      "Downloading rich-13.8.1-py3-none-any.whl (241 kB)\n",
      "Downloading markdown_it_py-3.0.0-py3-none-any.whl (87 kB)\n",
      "Downloading nh3-0.2.18-cp37-abi3-win_amd64.whl (579 kB)\n",
      "   ---------------------------------------- 0.0/579.0 kB ? eta -:--:--\n",
      "   ------------------ --------------------- 262.1/579.0 kB ? eta -:--:--\n",
      "   ---------------------------------------- 579.0/579.0 kB 1.4 MB/s eta 0:00:00\n",
      "Downloading pywin32_ctypes-0.2.3-py3-none-any.whl (30 kB)\n",
      "Downloading zipp-3.20.1-py3-none-any.whl (9.0 kB)\n",
      "Downloading jaraco.classes-3.4.0-py3-none-any.whl (6.8 kB)\n",
      "Downloading jaraco.context-6.0.1-py3-none-any.whl (6.8 kB)\n",
      "Downloading jaraco.functools-4.0.2-py3-none-any.whl (9.9 kB)\n",
      "Downloading mdurl-0.1.2-py3-none-any.whl (10.0 kB)\n",
      "Downloading more_itertools-10.5.0-py3-none-any.whl (60 kB)\n",
      "Installing collected packages: nh3, zipp, rfc3986, readme-renderer, pywin32-ctypes, pkginfo, more-itertools, mdurl, jaraco.context, requests-toolbelt, markdown-it-py, jaraco.functools, jaraco.classes, importlib-metadata, rich, keyring, twine\n",
      "Successfully installed importlib-metadata-8.5.0 jaraco.classes-3.4.0 jaraco.context-6.0.1 jaraco.functools-4.0.2 keyring-25.3.0 markdown-it-py-3.0.0 mdurl-0.1.2 more-itertools-10.5.0 nh3-0.2.18 pkginfo-1.10.0 pywin32-ctypes-0.2.3 readme-renderer-44.0 requests-toolbelt-1.0.0 rfc3986-2.0.0 rich-13.8.1 twine-5.1.1 zipp-3.20.1\n"
     ]
    }
   ],
   "source": [
    "%pip install --upgrade twine\n"
   ]
  },
  {
   "cell_type": "code",
   "execution_count": 4,
   "metadata": {},
   "outputs": [
    {
     "name": "stdout",
     "output_type": "stream",
     "text": [
      "c:\\Users\\gusta\\Documents\\GitHub\\NordicEC\\EC4py\\package.json\n",
      "Project Version 0.4.0\n",
      "{'build-system': {'requires': ['hatchling'], 'build-backend': 'hatchling.build'}, 'project': {'name': 'EC4py', 'version': '0.4.0', 'dependencies': ['nptdms', 'matplotlib', 'pathlib', 'scipy', 'numpy', 'pandas'], 'requires-python': '>=3.08', 'description': 'A package for data treatment of electrochemical data generated by EC4 DAQ. ', 'readme': 'README.md', 'keywords': ['python', 'EC4', 'tdms', 'Nordic Electorchemistry', 'electorchemistry'], 'classifiers': ['Development Status :: 4 - Beta', 'Operating System :: OS Independent', 'Programming Language :: Python'], 'authors': [{'name': 'Gustav Wiberg', 'email': 'g.wiberg@nordicec.com'}], 'maintainers': [{'name': 'Gustav Wiberg', 'email': 'g.wiberg@nordicec.com'}], 'license': {'file': 'LICENSE'}, 'urls': {'Homepage': 'https://github.com/Guswib/EC4py', 'Documentation': 'https://github.com/Guswib/EC4py', 'Repository': 'https://github.com/Guswib/EC4py', 'Issues': 'https://github.com/Guswib/EC4py', 'Changelog': 'https://github.com/Guswib/EC4py'}}, 'tool': {'setuptools': {'packages': {'find': {'where': ['src']}}}}}\n"
     ]
    }
   ],
   "source": [
    "from ver_update import version_updated\n",
    "\n",
    "version_updated()\n",
    "\n"
   ]
  },
  {
   "cell_type": "code",
   "execution_count": 5,
   "metadata": {},
   "outputs": [
    {
     "name": "stdout",
     "output_type": "stream",
     "text": [
      "c:\\Users\\gusta\\Documents\\GitHub\\NordicEC\\EC4py\\project-dist\n"
     ]
    }
   ],
   "source": [
    "from pathlib import Path\n",
    "print(Path().cwd())"
   ]
  },
  {
   "cell_type": "code",
   "execution_count": 2,
   "metadata": {},
   "outputs": [
    {
     "name": "stdout",
     "output_type": "stream",
     "text": [
      "0.2.1\n"
     ]
    }
   ],
   "source": [
    "import json\n",
    "\n",
    "# Opening JSON file\n",
    "pa = \"package.json\"\n",
    "f = open(pa)\n",
    "\n",
    "# returns JSON object as \n",
    "# a dictionary\n",
    "data = json.load(f)\n",
    "\n",
    "# Iterating through the json\n",
    "# list\n",
    "\n",
    "project_version =data[\"version\"]\n",
    "print(project_version)\n",
    "# Closing file\n",
    "f.close()\n"
   ]
  },
  {
   "cell_type": "code",
   "execution_count": 3,
   "metadata": {},
   "outputs": [
    {
     "name": "stdout",
     "output_type": "stream",
     "text": [
      "{'build-system': {'requires': ['hatchling'], 'build-backend': 'hatchling.build'}, 'project': {'name': 'EC4py', 'version': '0.2.1', 'dependencies': ['nptdms', 'matplotlib', 'pathlib', 'scipy', 'numpy', 'pandas'], 'requires-python': '>=3.08', 'description': 'A package for data treatment of electrochemical data generated by EC4 DAQ. ', 'readme': 'README.md', 'keywords': ['python', 'EC4', 'tdms', 'Nordic Electorchemistry', 'electorchemistry'], 'classifiers': ['Development Status :: 4 - Beta', 'Operating System :: OS Independent', 'Programming Language :: Python'], 'authors': [{'name': 'Gustav Wiberg', 'email': 'g.wiberg@nordicec.com'}], 'maintainers': [{'name': 'Gustav Wiberg', 'email': 'g.wiberg@nordicec.com'}], 'license': {'file': 'LICENSE'}, 'urls': {'Homepage': 'https://github.com/Guswib/EC4py', 'Documentation': 'https://github.com/Guswib/EC4py', 'Repository': 'https://github.com/Guswib/EC4py', 'Issues': 'https://github.com/Guswib/EC4py', 'Changelog': 'https://github.com/Guswib/EC4py'}}, 'tool': {'setuptools': {'packages': {'find': {'where': ['src']}}}}}\n"
     ]
    }
   ],
   "source": [
    "import toml\n",
    "with open(\"pyproject.toml\", \"r\") as f:\n",
    "    data = toml.load(f)\n",
    "print(data)\n",
    "data[\"project\"][\"version\"]=project_version\n",
    "with open('pyproject.toml', 'w') as f:\n",
    "    toml.dump(data, f)\n"
   ]
  }
 ],
 "metadata": {
  "kernelspec": {
   "display_name": "Python 3",
   "language": "python",
   "name": "python3"
  },
  "language_info": {
   "codemirror_mode": {
    "name": "ipython",
    "version": 3
   },
   "file_extension": ".py",
   "mimetype": "text/x-python",
   "name": "python",
   "nbconvert_exporter": "python",
   "pygments_lexer": "ipython3",
   "version": "3.12.1"
  }
 },
 "nbformat": 4,
 "nbformat_minor": 2
}
