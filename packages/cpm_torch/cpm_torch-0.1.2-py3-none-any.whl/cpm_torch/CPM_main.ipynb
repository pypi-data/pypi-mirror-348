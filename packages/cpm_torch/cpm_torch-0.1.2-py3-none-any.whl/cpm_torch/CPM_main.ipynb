{
 "cells": [
  {
   "cell_type": "code",
   "execution_count": 1,
   "id": "583930a8",
   "metadata": {},
   "outputs": [],
   "source": [
    "import torch\n",
    "from tqdm import tqdm"
   ]
  },
  {
   "cell_type": "code",
   "execution_count": 6,
   "id": "4a582378",
   "metadata": {},
   "outputs": [],
   "source": [
    "import os\n",
    "import sys\n",
    "\n",
    "sys.path.append(os.path.pardir)"
   ]
  },
  {
   "cell_type": "code",
   "execution_count": 7,
   "id": "1beb7770",
   "metadata": {},
   "outputs": [
    {
     "name": "stdout",
     "output_type": "stream",
     "text": [
      "GPUを利用します: NVIDIA H100 PCIe\n"
     ]
    }
   ],
   "source": [
    "# === デバイス設定 ===\n",
    "# CUDA (GPU) が利用可能ならGPUを、そうでなければCPUを使用\n",
    "if torch.cuda.is_available():\n",
    "    device = torch.device(\"cuda\")\n",
    "    print(f\"GPUを利用します: {torch.cuda.get_device_name(0)}\")\n",
    "else:\n",
    "    device = torch.device(\"cpu\")\n",
    "    print(\"CPUを利用します\")\n",
    "\n",
    "# === ハイパーパラメータ ===\n",
    "s_0 = 100.0  # 初期細胞密度（float型を使用）\n",
    "\n",
    "l_A = 1.0  # 面積エネルギー項の係数λ_A\n",
    "l_L = 1.0  # 周囲長エネルギー項の係数λ_L\n",
    "A_0 = 150.0  # 目標細胞面積 A_0\n",
    "L_0 = 82.0  # 目標細胞周囲長 L_0\n",
    "\n",
    "T = 1.0  # 温度パラメータ T (ボルツマン分布の計算に使用)\n"
   ]
  },
  {
   "cell_type": "code",
   "execution_count": 8,
   "id": "5a18a8f9",
   "metadata": {},
   "outputs": [
    {
     "name": "stdout",
     "output_type": "stream",
     "text": [
      "GPUを利用します: NVIDIA H100 PCIe\n",
      "GPUを利用します: NVIDIA H100 PCIe\n"
     ]
    }
   ],
   "source": [
    "from CPM_Image import *\n",
    "from CPM import *"
   ]
  },
  {
   "cell_type": "markdown",
   "id": "a006a3ec",
   "metadata": {},
   "source": [
    "### 初期条件"
   ]
  },
  {
   "cell_type": "markdown",
   "id": "1e15f990",
   "metadata": {},
   "source": [
    "map_tensor = torch.zeros((8, 8, 3), dtype=torch.float32, device=device)\n",
    "map_tensor, _ = add_cell(map_tensor, slice(3, 4), slice(3, 4), s_0)\n",
    "imshow_map(map_tensor) # 初期状態を表示"
   ]
  },
  {
   "cell_type": "code",
   "execution_count": 9,
   "id": "0f934191",
   "metadata": {},
   "outputs": [
    {
     "data": {
      "image/jpeg": "[encoded data removed]",
      "text/plain": [
       "<IPython.core.display.Image object>"
      ]
     },
     "metadata": {},
     "output_type": "display_data"
    }
   ],
   "source": [
    "map_tensor = torch.zeros((256, 256, 3), dtype=torch.float32, device=device)\n",
    "\n",
    "for x in range(10):\n",
    "    for y in range(10):\n",
    "        # 10x10のグリッドに細胞を配置\n",
    "        # 1つの細胞のサイズは25x25ピクセル\n",
    "        cell_x = x + 122\n",
    "        cell_y = y + 122\n",
    "        # 各細胞の初期密度をs_0に設定\n",
    "        map_tensor, _ = add_cell(\n",
    "            map_tensor, slice(cell_x, cell_x + 1), slice(cell_y, cell_y + 1), s_0\n",
    "        )\n",
    "imshow_map(map_tensor) # 初期状態を表示"
   ]
  },
  {
   "cell_type": "markdown",
   "id": "38bb9b63",
   "metadata": {},
   "source": [
    "map_tensor = torch.zeros((256, 256, 3), dtype=torch.float32, device=device)\n",
    "\n",
    "map_tensor, _ = add_cell(\n",
    "    map_tensor, slice(127,128), slice(127,128), s_0\n",
    ")\n",
    "imshow_map(map_tensor)  # 初期状態を表示"
   ]
  },
  {
   "cell_type": "markdown",
   "id": "495d27ea",
   "metadata": {},
   "source": [
    "### シュミレーション"
   ]
  },
  {
   "cell_type": "code",
   "execution_count": 10,
   "id": "2a181cc2",
   "metadata": {},
   "outputs": [
    {
     "name": "stdout",
     "output_type": "stream",
     "text": [
      "動画を results/cpm_torch_jp.mp4 に記録します。\n",
      "map shape  torch.Size([256, 256, 3])\n"
     ]
    },
    {
     "name": "stderr",
     "output_type": "stream",
     "text": [
      "エポック:   4%|▍         | 21/500 [00:00<00:14, 32.93it/s]"
     ]
    },
    {
     "name": "stdout",
     "output_type": "stream",
     "text": [
      "フレーム 21 の動画への追加中にエラー: [Errno 32] Broken pipe\n",
      "\n",
      "MoviePy error: FFMPEG encountered the following error while writing file results/cpm_torch_jp.mp4:\n",
      "\n",
      " [out#0/mp4 @ 0x1eb0c8c0] Error opening output results/cpm_torch_jp.mp4: No such file or directory\n",
      "Error opening output file results/cpm_torch_jp.mp4.\n",
      "Error opening output files: No such file or directory\n",
      "\n"
     ]
    },
    {
     "name": "stderr",
     "output_type": "stream",
     "text": [
      "エポック: 100%|██████████| 500/500 [00:12<00:00, 40.06it/s]"
     ]
    },
    {
     "name": "stdout",
     "output_type": "stream",
     "text": [
      "\n",
      "最終状態のマップ:\n"
     ]
    },
    {
     "name": "stderr",
     "output_type": "stream",
     "text": [
      "\n"
     ]
    },
    {
     "data": {
      "image/jpeg": "[encoded data removed]",
      "text/plain": [
       "<IPython.core.display.Image object>"
      ]
     },
     "metadata": {},
     "output_type": "display_data"
    },
    {
     "name": "stdout",
     "output_type": "stream",
     "text": [
      "\n",
      "シミュレーション完了。\n"
     ]
    }
   ],
   "source": [
    "\n",
    "\n",
    "\n",
    "num_epochs = 500      # シミュレーションのエポック数\n",
    "steps_per_epoch = 1 # 1エポックあたりのCPMステップ数\n",
    "diffusion_steps = 5 # 1 CPMステップあたりの拡散ステップ数\n",
    "\n",
    "# オプション: 動画記録用ライターの初期化\n",
    "video_filename = 'results/cpm_torch_jp.mp4'\n",
    "if moviepy_available:\n",
    "    try:\n",
    "        writer = LoopWriter(filename=video_filename, fps=10) # ループ動画ライター\n",
    "        print(f\"動画を {video_filename} に記録します。\")\n",
    "        record_video = True\n",
    "    except Exception as e:\n",
    "        print(f\"動画ライターの初期化に失敗しました: {e}\")\n",
    "        record_video = False\n",
    "else:\n",
    "    record_video = False\n",
    "    print(\"moviepyが利用できないため、動画は記録されません。\")\n",
    "\n",
    "print(\"map shape \", map_tensor.shape) # マップの形状を表示\n",
    "# --- シミュレーション実行 ---\n",
    "for i in tqdm(range(num_epochs), desc=\"エポック\"):\n",
    "    for k in tqdm(range(steps_per_epoch), desc=\"CPMステップ\", leave=False):\n",
    "\n",
    "        # --- 拡散ステップ ---\n",
    "        # 複数の拡散ステップを実行して密度を平滑化\n",
    "        #for _ in range(diffusion_steps):\n",
    "        #     map_tensor = diffusion_step(map_tensor, dt=0.1) # dtは拡散の速さ\n",
    "\n",
    "        # --- CPM更新ステップ ---\n",
    "        # チェッカーボードパターンで全セルを更新\n",
    "        for x_offset in range(3): # x方向オフセット (0 or 1)\n",
    "            for y_offset in range(3): # y方向オフセット (0 or 1)\n",
    "                with torch.no_grad():\n",
    "                  map_tensor, _ = cpm_checkerboard_step(map_tensor, l_A, A_0, l_L, L_0, T,\n",
    "                                                      x_offset, y_offset)\n",
    "\n",
    "        # 数値安定性のため、密度が負にならないようにクランプ\n",
    "        map_tensor[:, :, 1].clamp_(min=0.0)\n",
    "\n",
    "    # --- 各エポック終了時の可視化 ---\n",
    "    #if ipython_available:\n",
    "    #    clear_output(wait=True) # 出力をクリア\n",
    "    #print(f\"エポック {i+1}/{num_epochs}\")\n",
    "    #print(\"現在のマップ（中央部分）:\")\n",
    "    #imshow_map(map_tensor[110:140,110:140]) # IDに基づく色表示\n",
    "    #imshow_map(map_tensor)\n",
    "    #print_cpm_bins(map_tensor) # CPMのバイナリマップを表示\n",
    "    # imshow_map_area_autoRange(map_tensor[100:156, 100:156, 1]) # 密度表示\n",
    "\n",
    "    # デバッグ情報（コメントアウト）\n",
    "    # density_vals = map_tensor[:, :, 1]\n",
    "    # print(f\"密度統計: 最大={density_vals.max().item():.2f}, 最小={density_vals.min().item():.2f}, 合計={density_vals.sum().item():.2f}\")\n",
    "    # --- 動画フレーム追加 ---\n",
    "    if record_video:\n",
    "        try:\n",
    "            frame_rgb = map_tensor_to_rgb(map_tensor) # RGBフレームを取得\n",
    "            # ライターにフレームを追加（imshowと同様、テンソルを直接渡せるようにヘルパー側で処理）\n",
    "            writer.add(frame_rgb)\n",
    "        except Exception as e:\n",
    "            print(f\"フレーム {i+1} の動画への追加中にエラー: {e}\")\n",
    "            record_video = False # エラーが発生したら記録を中止\n",
    "\n",
    "# --- シミュレーション終了後 ---\n",
    "\n",
    "# 動画ライターを閉じる\n",
    "if record_video and writer:\n",
    "    try:\n",
    "        writer.close()\n",
    "        print(f\"動画を {video_filename} に保存しました。\")\n",
    "    except Exception as e:\n",
    "        print(f\"動画ライターのクローズ中にエラー: {e}\")\n",
    "\n",
    "# 最終状態を表示\n",
    "print(\"\\n最終状態のマップ:\")\n",
    "imshow_map(map_tensor)\n",
    "# imshow_map_area_autoRange(map_tensor[:, :, 1])\n",
    "\n",
    "print(\"\\nシミュレーション完了。\")\n",
    "\n",
    "# --- END OF FILE CPM_torch_jp.py ---"
   ]
  }
 ],
 "metadata": {
  "kernelspec": {
   "display_name": "Python 3",
   "language": "python",
   "name": "python3"
  },
  "language_info": {
   "codemirror_mode": {
    "name": "ipython",
    "version": 3
   },
   "file_extension": ".py",
   "mimetype": "text/x-python",
   "name": "python",
   "nbconvert_exporter": "python",
   "pygments_lexer": "ipython3",
   "version": "3.9.17"
  }
 },
 "nbformat": 4,
 "nbformat_minor": 5
}
