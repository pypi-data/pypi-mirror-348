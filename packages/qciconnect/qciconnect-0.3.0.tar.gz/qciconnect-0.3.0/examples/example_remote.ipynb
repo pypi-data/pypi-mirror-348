{
 "cells": [
  {
   "cell_type": "code",
   "execution_count": 1,
   "id": "2d6380b4-296a-4a41-a992-0dff11b9e86a",
   "metadata": {},
   "outputs": [],
   "source": [
    "# Configuration for auto-completion\n",
    "%config Completer.use_jedi = False\n",
    "%config Completer.greedy = True\n",
    "\n",
    "# Enable test mode for CI pipeline\n",
    "import sys\n",
    "if len(sys.argv) == 2 and sys.argv[1] == \"test\":\n",
    "    test_mode = True\n",
    "else:\n",
    "    test_mode = False\n"
   ]
  },
  {
   "cell_type": "code",
   "execution_count": 2,
   "id": "1d0dda97-097d-4378-aa68-9e16548fab31",
   "metadata": {},
   "outputs": [],
   "source": [
    "import time\n",
    "from qciconnect import Client\n",
    "\n",
    "# Load environment variables for logging in to  QCI Connect\n",
    "# Insert your credentials below\n",
    "user=%env CI_KEYCLOAK_USER\n",
    "pwd=%env CI_KEYCLOAK_PW"
   ]
  },
  {
   "cell_type": "code",
   "execution_count": 3,
   "id": "ea7cad88-277b-4551-8f26-1691484a9804",
   "metadata": {},
   "outputs": [],
   "source": [
    "client = Client(username=user, password=pwd, server=\"https://qc-plat-pro.dlr.de/\")"
   ]
  },
  {
   "cell_type": "code",
   "execution_count": 4,
   "id": "b308a6be-a217-4a8e-b0ab-951fc5626fae",
   "metadata": {},
   "outputs": [
    {
     "name": "stdout",
     "output_type": "stream",
     "text": [
      "transpilation_qiskit_compiler\n"
     ]
    }
   ],
   "source": [
    "client.methods.show()"
   ]
  },
  {
   "cell_type": "markdown",
   "id": "6b3f80e5-fc69-4e06-972f-b15c11e32f0d",
   "metadata": {},
   "source": [
    "## Compile Job Submission"
   ]
  },
  {
   "cell_type": "code",
   "execution_count": 5,
   "id": "c18d671e-152a-4ad7-8663-2c86be466632",
   "metadata": {},
   "outputs": [],
   "source": [
    "circuit = \"\"\"OPENQASM 3.0;\n",
    "include \"stdgates.inc\";\n",
    "qubit[2] q;\n",
    "h q[0];\n",
    "cx q[0], q[1];\"\"\""
   ]
  },
  {
   "cell_type": "code",
   "execution_count": 6,
   "id": "4bd8d549-5ec1-4d6c-b241-a413970b37e9",
   "metadata": {},
   "outputs": [
    {
     "name": "stdout",
     "output_type": "stream",
     "text": [
      "Job submitted with ID: 80b18ba3-eb06-4a45-b52e-742f404ff4a2\n",
      "Job was successful.\n"
     ]
    }
   ],
   "source": [
    "result = client.methods.transpilation_qiskit_compiler({\"circuit\": circuit})"
   ]
  },
  {
   "cell_type": "code",
   "execution_count": 7,
   "id": "4735dc34-6292-4698-a5f0-4cd29031c81d",
   "metadata": {},
   "outputs": [
    {
     "name": "stdout",
     "output_type": "stream",
     "text": [
      "OPENQASM 3.0;\n",
      "include \"stdgates.inc\";\n",
      "qubit[2] q;\n",
      "h q[0];\n",
      "cx q[0], q[1];\n",
      "\n"
     ]
    }
   ],
   "source": [
    "print(result.compiled_circuit)"
   ]
  },
  {
   "cell_type": "code",
   "execution_count": 8,
   "id": "943d0951-c49a-41b5-9428-f15021ef04f4",
   "metadata": {},
   "outputs": [
    {
     "name": "stdout",
     "output_type": "stream",
     "text": [
      "Job submitted with ID: f7019eff-1a2b-4c88-b863-4a5328a68a4b\n",
      "Job was successful.\n"
     ]
    }
   ],
   "source": [
    "result = client.methods.transpilation_qiskit_compiler({\"circuit\": circuit}, {\n",
    "      \"qubit_connectivity\": [[0,1]],\n",
    "      \"gate_set\": [\"h\", \"x\", \"cz\"],\n",
    "      \"optimization_level\": 2\n",
    "    })"
   ]
  },
  {
   "cell_type": "code",
   "execution_count": 9,
   "id": "11104e2c-75ab-4fd2-a12f-86d509b17df7",
   "metadata": {},
   "outputs": [
    {
     "name": "stdout",
     "output_type": "stream",
     "text": [
      "OPENQASM 3.0;\n",
      "include \"stdgates.inc\";\n",
      "h $0;\n",
      "h $1;\n",
      "cz $0, $1;\n",
      "h $0;\n",
      "\n"
     ]
    }
   ],
   "source": [
    "print(result.compiled_circuit)"
   ]
  },
  {
   "cell_type": "markdown",
   "id": "ef7a4673-21b7-42c6-9b15-1ab40622c0e3",
   "metadata": {},
   "source": [
    "## Non-blocking compile job submission"
   ]
  },
  {
   "cell_type": "code",
   "execution_count": 10,
   "id": "13797366-6f77-4eed-86cf-1e52a2344b98",
   "metadata": {},
   "outputs": [
    {
     "name": "stdout",
     "output_type": "stream",
     "text": [
      "Job submitted with ID: 5107b6e8-e9f3-4215-a6c1-4718aa4f6fa3\n",
      "Job was successful.\n"
     ]
    }
   ],
   "source": [
    "promise = client.methods.transpilation_qiskit_compiler({\"circuit\": circuit}, wait_for_results=False)\n"
   ]
  },
  {
   "cell_type": "code",
   "execution_count": 11,
   "id": "af41bd47-50e9-4ad3-9ebf-fc45921f0462",
   "metadata": {},
   "outputs": [],
   "source": [
    "if test_mode:\n",
    "    print(\"Waiting in test mode for job to complete...\")\n",
    "    time.sleep(5)\n",
    "    \n",
    "result = promise.result"
   ]
  },
  {
   "cell_type": "code",
   "execution_count": 12,
   "id": "7fc6c9bf-b2bb-43cb-a90d-5b61b45a40bd",
   "metadata": {},
   "outputs": [
    {
     "name": "stdout",
     "output_type": "stream",
     "text": [
      "OPENQASM 3.0;\n",
      "include \"stdgates.inc\";\n",
      "qubit[2] q;\n",
      "h q[0];\n",
      "cx q[0], q[1];\n",
      "\n"
     ]
    }
   ],
   "source": [
    "print(result.compiled_circuit)"
   ]
  },
  {
   "cell_type": "markdown",
   "id": "068c5e76-0522-4c6b-877c-9ab5a86809af",
   "metadata": {},
   "source": [
    "## QPU Job Submission"
   ]
  },
  {
   "cell_type": "code",
   "execution_count": 13,
   "id": "6320a3b1-51f3-46a4-8dec-078abbd609f4",
   "metadata": {},
   "outputs": [
    {
     "name": "stdout",
     "output_type": "stream",
     "text": [
      "Alias                    Qubits  Status\n",
      "---------------------  --------  -----------\n",
      "qsea_i_|_digital_twin        10  offline\n",
      "qsea_i                       10  offline\n",
      "qsea_ii                      20  coming_soon\n",
      "xq1i                          3  offline\n",
      "xq2i                          8  coming_soon\n",
      "redac                         8  coming_soon\n",
      "dinaqc                      100  coming_soon\n",
      "legato                       20  coming_soon\n",
      "toccata                      50  coming_soon\n",
      "xaphiro                      50  coming_soon\n",
      "sunqc                         8  coming_soon\n",
      "carina                        8  offline\n",
      "dedalo                       64  coming_soon\n",
      "comiqc                       50  coming_soon\n",
      "statevector_simulator        24  running\n",
      "saxonq_4qb_rt                 3  running\n"
     ]
    }
   ],
   "source": [
    "client.qpus.show()"
   ]
  },
  {
   "cell_type": "code",
   "execution_count": 14,
   "id": "5c2bc468-d61f-4dc8-9532-140ab4eb051d",
   "metadata": {},
   "outputs": [
    {
     "name": "stdout",
     "output_type": "stream",
     "text": [
      "Job submitted with ID: d5765812-de40-49c1-abf3-16f21e35d5d9\n",
      "Job was successful.\n"
     ]
    }
   ],
   "source": [
    "result = client.qpus.statevector_simulator.submit(circuit, \"sampling\", shots=10, name=\"API Demonstration\", comment=\"Submit algorithm X with parameters YZ\")"
   ]
  },
  {
   "cell_type": "code",
   "execution_count": 15,
   "id": "af1acb37-1ad2-4644-9aa3-f9cd0ca29cd7",
   "metadata": {},
   "outputs": [
    {
     "name": "stdout",
     "output_type": "stream",
     "text": [
      "[[0 0]\n",
      " [0 0]\n",
      " [0 0]\n",
      " [0 0]\n",
      " [1 1]\n",
      " [1 1]\n",
      " [1 1]\n",
      " [1 1]\n",
      " [1 1]\n",
      " [1 1]]\n"
     ]
    }
   ],
   "source": [
    "print(result.data)"
   ]
  },
  {
   "cell_type": "markdown",
   "id": "dfbcbf52-5e0e-4b27-bf59-24f5678629a2",
   "metadata": {},
   "source": [
    "## Non-blocking QPU job submission"
   ]
  },
  {
   "cell_type": "code",
   "execution_count": 16,
   "id": "78519bcb-e367-4d76-825e-7ff0f841f95d",
   "metadata": {},
   "outputs": [
    {
     "name": "stdout",
     "output_type": "stream",
     "text": [
      "Job submitted with ID: 43f446c6-520b-4203-8453-f4778ed8e2a4\n",
      "Job was successful.\n"
     ]
    }
   ],
   "source": [
    "promise = client.qpus.statevector_simulator.submit(circuit, \"sampling\", shots=10, wait_for_results=False, name=\"API Demonstration\", comment=\"Submit algorithm X with parameters YZ\")\n"
   ]
  },
  {
   "cell_type": "code",
   "execution_count": 17,
   "id": "a4c8fb6a-bb7c-42ff-a7bf-b9fa28f45d30",
   "metadata": {},
   "outputs": [
    {
     "name": "stdout",
     "output_type": "stream",
     "text": [
      "[[1 1]\n",
      " [0 0]\n",
      " [1 1]\n",
      " [1 1]\n",
      " [0 0]\n",
      " [0 0]\n",
      " [1 1]\n",
      " [1 1]\n",
      " [1 1]\n",
      " [1 1]]\n"
     ]
    }
   ],
   "source": [
    "if test_mode:\n",
    "    print(\"Waiting in test mode for job to complete...\")\n",
    "    time.sleep(5)\n",
    "    \n",
    "result = promise.result\n",
    "print(result.data)"
   ]
  },
  {
   "cell_type": "code",
   "execution_count": 18,
   "id": "0ede4921-d3b0-429a-aa46-39cdce47bf79",
   "metadata": {},
   "outputs": [
    {
     "name": "stdout",
     "output_type": "stream",
     "text": [
      "Job submitted with ID: 1df2e240-b850-41e7-bca1-c467b62c7fed\n",
      "Job is not finished yet.\n"
     ]
    }
   ],
   "source": [
    "if not test_mode:\n",
    "    promise = client.qpus.saxonq_4qb_rt.submit(circuit, \"sampling\", name=\"Default circuit on SaxonQ machine\", shots=600000, wait_for_results=False)\n",
    "    "
   ]
  },
  {
   "cell_type": "code",
   "execution_count": 19,
   "id": "b98e00c2-cafa-4349-9440-bbd95e79e320",
   "metadata": {},
   "outputs": [
    {
     "name": "stdout",
     "output_type": "stream",
     "text": [
      "Job is not finished yet.\n"
     ]
    }
   ],
   "source": [
    "if not test_mode:\n",
    "    result = promise.result"
   ]
  },
  {
   "cell_type": "code",
   "execution_count": null,
   "id": "84ff9a1c-3d6b-472a-abc9-44a2ce9ad18b",
   "metadata": {},
   "outputs": [],
   "source": [
    "print(result.data)"
   ]
  }
 ],
 "metadata": {
  "kernelspec": {
   "display_name": "Python 3 (ipykernel)",
   "language": "python",
   "name": "python3"
  },
  "language_info": {
   "codemirror_mode": {
    "name": "ipython",
    "version": 3
   },
   "file_extension": ".py",
   "mimetype": "text/x-python",
   "name": "python",
   "nbconvert_exporter": "python",
   "pygments_lexer": "ipython3",
   "version": "3.12.10"
  }
 },
 "nbformat": 4,
 "nbformat_minor": 5
}
