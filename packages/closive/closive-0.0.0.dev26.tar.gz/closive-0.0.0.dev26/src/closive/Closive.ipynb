{
 "cells": [
  {
   "cell_type": "markdown",
   "metadata": {},
   "source": [
    "# Closive\n",
    "\n",
    "## Interactive Workbook\n",
    "\n",
    "---\n",
    "\n",
    "### Overview\n",
    "\n",
    "**Closive** is a lightweight but powerful abstraction layer that facilitates the creation and execution of inspectable transformation _pipelines_."
   ]
  },
  {
   "cell_type": "code",
   "execution_count": 4,
   "metadata": {},
   "outputs": [],
   "source": [
    "# ─── Import statements ───────────────────────────────────────────────────────\n",
    "import os\n",
    "import sys\n",
    "\n",
    "import closive as cl\n",
    "import numpy as np\n",
    "import pandas as pd\n",
    "import seaborn as sns\n",
    "import seaborn.objects as so\n",
    "\n",
    "from closive import (\n",
    "    log,\n",
    "    as_tuple,\n",
    "    save_pipeline,\n",
    ")"
   ]
  },
  {
   "cell_type": "code",
   "execution_count": 13,
   "metadata": {},
   "outputs": [],
   "source": [
    "# ─── Define transformers for the pipeline ────────────────────────────────────\n",
    "def reciprocal(r, *a, **k):\n",
    "    if r == 0:\n",
    "        raise ZeroDivisionError(\"The reciprocal of zero is underfined.\")\n",
    "    elif not isinstance(r, int) and not isinstance(r, float):\n",
    "        raise TypeError(\"`reciprocal` only accepts floats and integers.\")\n",
    "    else:\n",
    "        return 1 / r"
   ]
  },
  {
   "cell_type": "code",
   "execution_count": 14,
   "metadata": {},
   "outputs": [],
   "source": [
    "# ─── Define an error handler ─────────────────────────────────────────────────\n",
    "def handle(r, *a, **k):\n",
    "    if isinstance(r, Exception):\n",
    "        raise r"
   ]
  },
  {
   "cell_type": "code",
   "execution_count": 15,
   "metadata": {},
   "outputs": [],
   "source": [
    "# ─── Create the pipeline ─────────────────────────────────────────────────────\n",
    "pipeline = (\n",
    "    (cl.closure(reciprocal) | handle)\n",
    "    >> (lambda r, *_: r * 50)\n",
    ")"
   ]
  },
  {
   "cell_type": "code",
   "execution_count": 16,
   "metadata": {},
   "outputs": [],
   "source": [
    "# ─── Define and decorate the commutator ──────────────────────────────────────\n",
    "@pipeline\n",
    "def identity(r, *a, **k): return r"
   ]
  },
  {
   "cell_type": "code",
   "execution_count": 20,
   "metadata": {},
   "outputs": [
    {
     "ename": "ZeroDivisionError",
     "evalue": "The reciprocal of zero is underfined.",
     "output_type": "error",
     "traceback": [
      "\u001b[31m---------------------------------------------------------------------------\u001b[39m",
      "\u001b[31mZeroDivisionError\u001b[39m                         Traceback (most recent call last)",
      "\u001b[36mCell\u001b[39m\u001b[36m \u001b[39m\u001b[32mIn[20]\u001b[39m\u001b[32m, line 2\u001b[39m\n\u001b[32m      1\u001b[39m \u001b[38;5;66;03m# ─── Invoke the closure ──────────────────────────────────────────────────────\u001b[39;00m\n\u001b[32m----> \u001b[39m\u001b[32m2\u001b[39m result = \u001b[43midentity\u001b[49m\u001b[43m(\u001b[49m\u001b[32;43m0\u001b[39;49m\u001b[43m)\u001b[49m\n\u001b[32m      3\u001b[39m \u001b[38;5;28mprint\u001b[39m(result)\n",
      "\u001b[36mFile \u001b[39m\u001b[32m~/workspaces/Python/closive/.venv/lib/python3.13/site-packages/closive/closures.py:149\u001b[39m, in \u001b[36m_Pipeline._decorate.<locals>.wrapped\u001b[39m\u001b[34m(*w_args, **w_kw)\u001b[39m\n\u001b[32m    147\u001b[39m     \u001b[38;5;28;01mreturn\u001b[39;00m \u001b[38;5;28mself\u001b[39m._execute(initial, *w_args, **w_kw)\n\u001b[32m    148\u001b[39m \u001b[38;5;28;01mexcept\u001b[39;00m \u001b[38;5;167;01mException\u001b[39;00m \u001b[38;5;28;01mas\u001b[39;00m exc:                       \u001b[38;5;66;03m# target failed\u001b[39;00m\n\u001b[32m--> \u001b[39m\u001b[32m149\u001b[39m     \u001b[38;5;28;01mreturn\u001b[39;00m \u001b[38;5;28;43mself\u001b[39;49m\u001b[43m.\u001b[49m\u001b[43m_execute\u001b[49m\u001b[43m(\u001b[49m\u001b[43mFailure\u001b[49m\u001b[43m(\u001b[49m\u001b[43mexc\u001b[49m\u001b[43m)\u001b[49m\u001b[43m,\u001b[49m\u001b[43m \u001b[49m\u001b[43m*\u001b[49m\u001b[43mw_args\u001b[49m\u001b[43m,\u001b[49m\u001b[43m \u001b[49m\u001b[43m*\u001b[49m\u001b[43m*\u001b[49m\u001b[43mw_kw\u001b[49m\u001b[43m)\u001b[49m\n",
      "\u001b[36mFile \u001b[39m\u001b[32m~/workspaces/Python/closive/.venv/lib/python3.13/site-packages/closive/closures.py:207\u001b[39m, in \u001b[36m_Pipeline._execute\u001b[39m\u001b[34m(self, initial_value, *args, **kwargs)\u001b[39m\n\u001b[32m    205\u001b[39m \u001b[38;5;28;01mif\u001b[39;00m \u001b[38;5;28misinstance\u001b[39m(result, Success):\n\u001b[32m    206\u001b[39m     \u001b[38;5;28;01mreturn\u001b[39;00m result.unwrap()\n\u001b[32m--> \u001b[39m\u001b[32m207\u001b[39m \u001b[38;5;28;01mraise\u001b[39;00m result.failure()\n",
      "\u001b[36mFile \u001b[39m\u001b[32m~/workspaces/Python/closive/.venv/lib/python3.13/site-packages/closive/closures.py:231\u001b[39m, in \u001b[36m_Pipeline._apply_error_handling\u001b[39m\u001b[34m(self, result)\u001b[39m\n\u001b[32m    229\u001b[39m         \u001b[38;5;28;01mreturn\u001b[39;00m Success((handler_result, error)), \u001b[38;5;28;01mTrue\u001b[39;00m\n\u001b[32m    230\u001b[39m     \u001b[38;5;28;01melse\u001b[39;00m:\n\u001b[32m--> \u001b[39m\u001b[32m231\u001b[39m         \u001b[38;5;28;01mreturn\u001b[39;00m Success(\u001b[38;5;28;43mself\u001b[39;49m\u001b[43m.\u001b[49m\u001b[43m_error_handler\u001b[49m\u001b[43m(\u001b[49m\u001b[43merror\u001b[49m\u001b[43m)\u001b[49m), \u001b[38;5;28;01mTrue\u001b[39;00m\n\u001b[32m    232\u001b[39m \u001b[38;5;28;01mexcept\u001b[39;00m \u001b[38;5;167;01mException\u001b[39;00m \u001b[38;5;28;01mas\u001b[39;00m handler_error:\n\u001b[32m    233\u001b[39m     \u001b[38;5;66;03m# If handler fails, fall back to static value\u001b[39;00m\n\u001b[32m    234\u001b[39m     \u001b[38;5;28;01mif\u001b[39;00m \u001b[38;5;28mself\u001b[39m._default_on_error \u001b[38;5;129;01mis\u001b[39;00m \u001b[38;5;129;01mnot\u001b[39;00m \u001b[38;5;28;01mNone\u001b[39;00m:\n",
      "\u001b[36mCell\u001b[39m\u001b[36m \u001b[39m\u001b[32mIn[14]\u001b[39m\u001b[32m, line 4\u001b[39m, in \u001b[36mhandle\u001b[39m\u001b[34m(r, *a, **k)\u001b[39m\n\u001b[32m      2\u001b[39m \u001b[38;5;28;01mdef\u001b[39;00m\u001b[38;5;250m \u001b[39m\u001b[34mhandle\u001b[39m(r, *a, **k):\n\u001b[32m      3\u001b[39m     \u001b[38;5;28;01mif\u001b[39;00m \u001b[38;5;28misinstance\u001b[39m(r, \u001b[38;5;167;01mException\u001b[39;00m):\n\u001b[32m----> \u001b[39m\u001b[32m4\u001b[39m         \u001b[38;5;28;01mraise\u001b[39;00m r\n",
      "\u001b[36mFile \u001b[39m\u001b[32m~/workspaces/Python/closive/.venv/lib/python3.13/site-packages/closive/closures.py:231\u001b[39m, in \u001b[36m_Pipeline._apply_error_handling\u001b[39m\u001b[34m(self, result)\u001b[39m\n\u001b[32m    229\u001b[39m         \u001b[38;5;28;01mreturn\u001b[39;00m Success((handler_result, error)), \u001b[38;5;28;01mTrue\u001b[39;00m\n\u001b[32m    230\u001b[39m     \u001b[38;5;28;01melse\u001b[39;00m:\n\u001b[32m--> \u001b[39m\u001b[32m231\u001b[39m         \u001b[38;5;28;01mreturn\u001b[39;00m Success(\u001b[38;5;28;43mself\u001b[39;49m\u001b[43m.\u001b[49m\u001b[43m_error_handler\u001b[49m\u001b[43m(\u001b[49m\u001b[43merror\u001b[49m\u001b[43m)\u001b[49m), \u001b[38;5;28;01mTrue\u001b[39;00m\n\u001b[32m    232\u001b[39m \u001b[38;5;28;01mexcept\u001b[39;00m \u001b[38;5;167;01mException\u001b[39;00m \u001b[38;5;28;01mas\u001b[39;00m handler_error:\n\u001b[32m    233\u001b[39m     \u001b[38;5;66;03m# If handler fails, fall back to static value\u001b[39;00m\n\u001b[32m    234\u001b[39m     \u001b[38;5;28;01mif\u001b[39;00m \u001b[38;5;28mself\u001b[39m._default_on_error \u001b[38;5;129;01mis\u001b[39;00m \u001b[38;5;129;01mnot\u001b[39;00m \u001b[38;5;28;01mNone\u001b[39;00m:\n",
      "\u001b[36mCell\u001b[39m\u001b[36m \u001b[39m\u001b[32mIn[14]\u001b[39m\u001b[32m, line 4\u001b[39m, in \u001b[36mhandle\u001b[39m\u001b[34m(r, *a, **k)\u001b[39m\n\u001b[32m      2\u001b[39m \u001b[38;5;28;01mdef\u001b[39;00m\u001b[38;5;250m \u001b[39m\u001b[34mhandle\u001b[39m(r, *a, **k):\n\u001b[32m      3\u001b[39m     \u001b[38;5;28;01mif\u001b[39;00m \u001b[38;5;28misinstance\u001b[39m(r, \u001b[38;5;167;01mException\u001b[39;00m):\n\u001b[32m----> \u001b[39m\u001b[32m4\u001b[39m         \u001b[38;5;28;01mraise\u001b[39;00m r\n",
      "\u001b[36mFile \u001b[39m\u001b[32m~/workspaces/Python/closive/.venv/lib/python3.13/site-packages/closive/closures.py:147\u001b[39m, in \u001b[36m_Pipeline._decorate.<locals>.wrapped\u001b[39m\u001b[34m(*w_args, **w_kw)\u001b[39m\n\u001b[32m    145\u001b[39m \u001b[38;5;28;01mtry\u001b[39;00m:\n\u001b[32m    146\u001b[39m     initial = target(*w_args, **w_kw)\n\u001b[32m--> \u001b[39m\u001b[32m147\u001b[39m     \u001b[38;5;28;01mreturn\u001b[39;00m \u001b[38;5;28;43mself\u001b[39;49m\u001b[43m.\u001b[49m\u001b[43m_execute\u001b[49m\u001b[43m(\u001b[49m\u001b[43minitial\u001b[49m\u001b[43m,\u001b[49m\u001b[43m \u001b[49m\u001b[43m*\u001b[49m\u001b[43mw_args\u001b[49m\u001b[43m,\u001b[49m\u001b[43m \u001b[49m\u001b[43m*\u001b[49m\u001b[43m*\u001b[49m\u001b[43mw_kw\u001b[49m\u001b[43m)\u001b[49m\n\u001b[32m    148\u001b[39m \u001b[38;5;28;01mexcept\u001b[39;00m \u001b[38;5;167;01mException\u001b[39;00m \u001b[38;5;28;01mas\u001b[39;00m exc:                       \u001b[38;5;66;03m# target failed\u001b[39;00m\n\u001b[32m    149\u001b[39m     \u001b[38;5;28;01mreturn\u001b[39;00m \u001b[38;5;28mself\u001b[39m._execute(Failure(exc), *w_args, **w_kw)\n",
      "\u001b[36mFile \u001b[39m\u001b[32m~/workspaces/Python/closive/.venv/lib/python3.13/site-packages/closive/closures.py:207\u001b[39m, in \u001b[36m_Pipeline._execute\u001b[39m\u001b[34m(self, initial_value, *args, **kwargs)\u001b[39m\n\u001b[32m    205\u001b[39m \u001b[38;5;28;01mif\u001b[39;00m \u001b[38;5;28misinstance\u001b[39m(result, Success):\n\u001b[32m    206\u001b[39m     \u001b[38;5;28;01mreturn\u001b[39;00m result.unwrap()\n\u001b[32m--> \u001b[39m\u001b[32m207\u001b[39m \u001b[38;5;28;01mraise\u001b[39;00m result.failure()\n",
      "\u001b[36mFile \u001b[39m\u001b[32m~/workspaces/Python/closive/.venv/lib/python3.13/site-packages/closive/closures.py:231\u001b[39m, in \u001b[36m_Pipeline._apply_error_handling\u001b[39m\u001b[34m(self, result)\u001b[39m\n\u001b[32m    229\u001b[39m         \u001b[38;5;28;01mreturn\u001b[39;00m Success((handler_result, error)), \u001b[38;5;28;01mTrue\u001b[39;00m\n\u001b[32m    230\u001b[39m     \u001b[38;5;28;01melse\u001b[39;00m:\n\u001b[32m--> \u001b[39m\u001b[32m231\u001b[39m         \u001b[38;5;28;01mreturn\u001b[39;00m Success(\u001b[38;5;28;43mself\u001b[39;49m\u001b[43m.\u001b[49m\u001b[43m_error_handler\u001b[49m\u001b[43m(\u001b[49m\u001b[43merror\u001b[49m\u001b[43m)\u001b[49m), \u001b[38;5;28;01mTrue\u001b[39;00m\n\u001b[32m    232\u001b[39m \u001b[38;5;28;01mexcept\u001b[39;00m \u001b[38;5;167;01mException\u001b[39;00m \u001b[38;5;28;01mas\u001b[39;00m handler_error:\n\u001b[32m    233\u001b[39m     \u001b[38;5;66;03m# If handler fails, fall back to static value\u001b[39;00m\n\u001b[32m    234\u001b[39m     \u001b[38;5;28;01mif\u001b[39;00m \u001b[38;5;28mself\u001b[39m._default_on_error \u001b[38;5;129;01mis\u001b[39;00m \u001b[38;5;129;01mnot\u001b[39;00m \u001b[38;5;28;01mNone\u001b[39;00m:\n",
      "\u001b[36mCell\u001b[39m\u001b[36m \u001b[39m\u001b[32mIn[14]\u001b[39m\u001b[32m, line 4\u001b[39m, in \u001b[36mhandle\u001b[39m\u001b[34m(r, *a, **k)\u001b[39m\n\u001b[32m      2\u001b[39m \u001b[38;5;28;01mdef\u001b[39;00m\u001b[38;5;250m \u001b[39m\u001b[34mhandle\u001b[39m(r, *a, **k):\n\u001b[32m      3\u001b[39m     \u001b[38;5;28;01mif\u001b[39;00m \u001b[38;5;28misinstance\u001b[39m(r, \u001b[38;5;167;01mException\u001b[39;00m):\n\u001b[32m----> \u001b[39m\u001b[32m4\u001b[39m         \u001b[38;5;28;01mraise\u001b[39;00m r\n",
      "\u001b[36mFile \u001b[39m\u001b[32m~/workspaces/Python/closive/.venv/lib/python3.13/site-packages/closive/closures.py:231\u001b[39m, in \u001b[36m_Pipeline._apply_error_handling\u001b[39m\u001b[34m(self, result)\u001b[39m\n\u001b[32m    229\u001b[39m         \u001b[38;5;28;01mreturn\u001b[39;00m Success((handler_result, error)), \u001b[38;5;28;01mTrue\u001b[39;00m\n\u001b[32m    230\u001b[39m     \u001b[38;5;28;01melse\u001b[39;00m:\n\u001b[32m--> \u001b[39m\u001b[32m231\u001b[39m         \u001b[38;5;28;01mreturn\u001b[39;00m Success(\u001b[38;5;28;43mself\u001b[39;49m\u001b[43m.\u001b[49m\u001b[43m_error_handler\u001b[49m\u001b[43m(\u001b[49m\u001b[43merror\u001b[49m\u001b[43m)\u001b[49m), \u001b[38;5;28;01mTrue\u001b[39;00m\n\u001b[32m    232\u001b[39m \u001b[38;5;28;01mexcept\u001b[39;00m \u001b[38;5;167;01mException\u001b[39;00m \u001b[38;5;28;01mas\u001b[39;00m handler_error:\n\u001b[32m    233\u001b[39m     \u001b[38;5;66;03m# If handler fails, fall back to static value\u001b[39;00m\n\u001b[32m    234\u001b[39m     \u001b[38;5;28;01mif\u001b[39;00m \u001b[38;5;28mself\u001b[39m._default_on_error \u001b[38;5;129;01mis\u001b[39;00m \u001b[38;5;129;01mnot\u001b[39;00m \u001b[38;5;28;01mNone\u001b[39;00m:\n",
      "\u001b[36mCell\u001b[39m\u001b[36m \u001b[39m\u001b[32mIn[14]\u001b[39m\u001b[32m, line 4\u001b[39m, in \u001b[36mhandle\u001b[39m\u001b[34m(r, *a, **k)\u001b[39m\n\u001b[32m      2\u001b[39m \u001b[38;5;28;01mdef\u001b[39;00m\u001b[38;5;250m \u001b[39m\u001b[34mhandle\u001b[39m(r, *a, **k):\n\u001b[32m      3\u001b[39m     \u001b[38;5;28;01mif\u001b[39;00m \u001b[38;5;28misinstance\u001b[39m(r, \u001b[38;5;167;01mException\u001b[39;00m):\n\u001b[32m----> \u001b[39m\u001b[32m4\u001b[39m         \u001b[38;5;28;01mraise\u001b[39;00m r\n",
      "\u001b[36mFile \u001b[39m\u001b[32m~/workspaces/Python/closive/.venv/lib/python3.13/site-packages/closive/closures.py:231\u001b[39m, in \u001b[36m_Pipeline._apply_error_handling\u001b[39m\u001b[34m(self, result)\u001b[39m\n\u001b[32m    229\u001b[39m         \u001b[38;5;28;01mreturn\u001b[39;00m Success((handler_result, error)), \u001b[38;5;28;01mTrue\u001b[39;00m\n\u001b[32m    230\u001b[39m     \u001b[38;5;28;01melse\u001b[39;00m:\n\u001b[32m--> \u001b[39m\u001b[32m231\u001b[39m         \u001b[38;5;28;01mreturn\u001b[39;00m Success(\u001b[38;5;28;43mself\u001b[39;49m\u001b[43m.\u001b[49m\u001b[43m_error_handler\u001b[49m\u001b[43m(\u001b[49m\u001b[43merror\u001b[49m\u001b[43m)\u001b[49m), \u001b[38;5;28;01mTrue\u001b[39;00m\n\u001b[32m    232\u001b[39m \u001b[38;5;28;01mexcept\u001b[39;00m \u001b[38;5;167;01mException\u001b[39;00m \u001b[38;5;28;01mas\u001b[39;00m handler_error:\n\u001b[32m    233\u001b[39m     \u001b[38;5;66;03m# If handler fails, fall back to static value\u001b[39;00m\n\u001b[32m    234\u001b[39m     \u001b[38;5;28;01mif\u001b[39;00m \u001b[38;5;28mself\u001b[39m._default_on_error \u001b[38;5;129;01mis\u001b[39;00m \u001b[38;5;129;01mnot\u001b[39;00m \u001b[38;5;28;01mNone\u001b[39;00m:\n",
      "\u001b[36mCell\u001b[39m\u001b[36m \u001b[39m\u001b[32mIn[14]\u001b[39m\u001b[32m, line 4\u001b[39m, in \u001b[36mhandle\u001b[39m\u001b[34m(r, *a, **k)\u001b[39m\n\u001b[32m      2\u001b[39m \u001b[38;5;28;01mdef\u001b[39;00m\u001b[38;5;250m \u001b[39m\u001b[34mhandle\u001b[39m(r, *a, **k):\n\u001b[32m      3\u001b[39m     \u001b[38;5;28;01mif\u001b[39;00m \u001b[38;5;28misinstance\u001b[39m(r, \u001b[38;5;167;01mException\u001b[39;00m):\n\u001b[32m----> \u001b[39m\u001b[32m4\u001b[39m         \u001b[38;5;28;01mraise\u001b[39;00m r\n",
      "\u001b[36mFile \u001b[39m\u001b[32m~/workspaces/Python/closive/.venv/lib/python3.13/site-packages/closive/closures.py:180\u001b[39m, in \u001b[36m_Pipeline._execute\u001b[39m\u001b[34m(self, initial_value, *args, **kwargs)\u001b[39m\n\u001b[32m    178\u001b[39m \u001b[38;5;28;01mif\u001b[39;00m \u001b[38;5;28misinstance\u001b[39m(result, Success):\n\u001b[32m    179\u001b[39m     \u001b[38;5;28;01mtry\u001b[39;00m:\n\u001b[32m--> \u001b[39m\u001b[32m180\u001b[39m         next_val = \u001b[43mfn\u001b[49m\u001b[43m(\u001b[49m\u001b[43mresult\u001b[49m\u001b[43m.\u001b[49m\u001b[43munwrap\u001b[49m\u001b[43m(\u001b[49m\u001b[43m)\u001b[49m\u001b[43m,\u001b[49m\u001b[43m \u001b[49m\u001b[43m*\u001b[49m\u001b[43margs\u001b[49m\u001b[43m,\u001b[49m\u001b[43m \u001b[49m\u001b[43m*\u001b[49m\u001b[43m*\u001b[49m\u001b[43mkwargs\u001b[49m\u001b[43m)\u001b[49m\n\u001b[32m    181\u001b[39m         result = (\n\u001b[32m    182\u001b[39m             next_val\n\u001b[32m    183\u001b[39m             \u001b[38;5;28;01mif\u001b[39;00m \u001b[38;5;28misinstance\u001b[39m(next_val, (Success, Failure))\n\u001b[32m    184\u001b[39m             \u001b[38;5;28;01melse\u001b[39;00m Success(next_val)\n\u001b[32m    185\u001b[39m         )\n\u001b[32m    186\u001b[39m     \u001b[38;5;28;01mexcept\u001b[39;00m \u001b[38;5;167;01mException\u001b[39;00m \u001b[38;5;28;01mas\u001b[39;00m exc:\n",
      "\u001b[36mCell\u001b[39m\u001b[36m \u001b[39m\u001b[32mIn[13]\u001b[39m\u001b[32m, line 4\u001b[39m, in \u001b[36mreciprocal\u001b[39m\u001b[34m(r, *a, **k)\u001b[39m\n\u001b[32m      2\u001b[39m \u001b[38;5;28;01mdef\u001b[39;00m\u001b[38;5;250m \u001b[39m\u001b[34mreciprocal\u001b[39m(r, *a, **k):\n\u001b[32m      3\u001b[39m     \u001b[38;5;28;01mif\u001b[39;00m r == \u001b[32m0\u001b[39m:\n\u001b[32m----> \u001b[39m\u001b[32m4\u001b[39m         \u001b[38;5;28;01mraise\u001b[39;00m \u001b[38;5;167;01mZeroDivisionError\u001b[39;00m(\u001b[33m\"\u001b[39m\u001b[33mThe reciprocal of zero is underfined.\u001b[39m\u001b[33m\"\u001b[39m)\n\u001b[32m      5\u001b[39m     \u001b[38;5;28;01melif\u001b[39;00m \u001b[38;5;129;01mnot\u001b[39;00m \u001b[38;5;28misinstance\u001b[39m(r, \u001b[38;5;28mint\u001b[39m) \u001b[38;5;129;01mand\u001b[39;00m \u001b[38;5;129;01mnot\u001b[39;00m \u001b[38;5;28misinstance\u001b[39m(r, \u001b[38;5;28mfloat\u001b[39m):\n\u001b[32m      6\u001b[39m         \u001b[38;5;28;01mraise\u001b[39;00m \u001b[38;5;167;01mTypeError\u001b[39;00m(\u001b[33m\"\u001b[39m\u001b[33m`reciprocal` only accepts floats and integers.\u001b[39m\u001b[33m\"\u001b[39m)\n",
      "\u001b[31mZeroDivisionError\u001b[39m: The reciprocal of zero is underfined."
     ]
    }
   ],
   "source": [
    "# ─── Invoke the closure ──────────────────────────────────────────────────────\n",
    "result = identity(0)\n",
    "print(result)"
   ]
  }
 ],
 "metadata": {
  "kernelspec": {
   "display_name": ".venv",
   "language": "python",
   "name": "python3"
  },
  "language_info": {
   "codemirror_mode": {
    "name": "ipython",
    "version": 3
   },
   "file_extension": ".py",
   "mimetype": "text/x-python",
   "name": "python",
   "nbconvert_exporter": "python",
   "pygments_lexer": "ipython3",
   "version": "3.13.2"
  }
 },
 "nbformat": 4,
 "nbformat_minor": 2
}
