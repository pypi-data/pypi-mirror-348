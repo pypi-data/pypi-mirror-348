{
 "cells": [
  {
   "cell_type": "code",
   "execution_count": null,
   "metadata": {},
   "outputs": [],
   "source": [
    "# test get_repo_full_name\n",
    "\n",
    "from codegen.cli.git.repo import get_git_repo\n",
    "from codegen.cli.git.url import get_repo_full_name\n",
    "\n",
    "\n",
    "git_repo = get_git_repo(\"/Users/christinewang/git/customer_repos/codegen-staging\")\n",
    "get_repo_full_name(git_repo)"
   ]
  }
 ],
 "metadata": {
  "kernelspec": {
   "display_name": ".venv",
   "language": "python",
   "name": "python3"
  },
  "language_info": {
   "codemirror_mode": {
    "name": "ipython",
    "version": 3
   },
   "file_extension": ".py",
   "mimetype": "text/x-python",
   "name": "python",
   "nbconvert_exporter": "python",
   "pygments_lexer": "ipython3",
   "version": "3.13.0"
  }
 },
 "nbformat": 4,
 "nbformat_minor": 2
}
