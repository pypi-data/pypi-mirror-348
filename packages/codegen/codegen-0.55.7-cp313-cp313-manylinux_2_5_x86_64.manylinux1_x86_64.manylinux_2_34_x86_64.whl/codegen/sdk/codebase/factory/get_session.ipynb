{
 "cells": [
  {
   "cell_type": "code",
   "execution_count": null,
   "metadata": {},
   "outputs": [],
   "source": [
    "# test get_codebase_session\n",
    "from codegen.sdk.codebase.factory.get_session import get_codebase_session\n",
    "import time\n",
    "\n",
    "with get_codebase_session(tmpdir=f\"/tmp/{int(time.time())}\", files={\"file.py\": \"a = 1 + 2\"}) as codebase:\n",
    "    file = codebase.get_file(\"file.py\")\n",
    "    owners = file.owners\n",
    "    assert len(owners) == 0"
   ]
  }
 ],
 "metadata": {
  "kernelspec": {
   "display_name": ".venv",
   "language": "python",
   "name": "python3"
  },
  "language_info": {
   "codemirror_mode": {
    "name": "ipython",
    "version": 3
   },
   "file_extension": ".py",
   "mimetype": "text/x-python",
   "name": "python",
   "nbconvert_exporter": "python",
   "pygments_lexer": "ipython3",
   "version": "3.12.7"
  }
 },
 "nbformat": 4,
 "nbformat_minor": 2
}
