{
 "cells": [
  {
   "cell_type": "code",
   "execution_count": null,
   "metadata": {},
   "outputs": [],
   "source": [
    "# test apply_patch\n",
    "from pygit2 import Diff\n",
    "from pygit2.repository import Repository\n",
    "\n",
    "from codegen.cli.git.patch import apply_patch\n",
    "\n",
    "observation = '''\n",
    "diff --git a/codegen-backend/app/utils/csv_utils.py b/codegen-backend/app/utils/csv_utils.py\n",
    "index 3cd4fd366f7a67a8e294ad3a4e6c6139305067d0..6f268a82218a74f652ded2ace909842f75a9ef54 100644\n",
    "--- a/codegen-backend/app/utils/csv_utils.py\n",
    "+++ b/codegen-backend/app/utils/csv_utils.py\n",
    "@@ -1,8 +1,3 @@\n",
    "-def list_to_comma_separated(items: list[str]) -> str:\n",
    "-    \"\"\"Given a list of items, returns a comma separated string of the items\"\"\"\n",
    "-    return \",\".join(items)\n",
    "-\n",
    "-\n",
    " def comma_separated_to_list(comma_separated: str) -> list[str]:\n",
    "     \"\"\"Given a comma separated string, returns a list of the comma separated items.\n",
    "     Strips whitespace from each item, drops any items that are whitespace only\n",
    "'''\n",
    "git_repo = Repository(\"/Users/christinewang/git/customer_repos/codegen-staging\")\n",
    "apply_patch(git_repo, observation)"
   ]
  }
 ],
 "metadata": {
  "kernelspec": {
   "display_name": ".venv",
   "language": "python",
   "name": "python3"
  },
  "language_info": {
   "codemirror_mode": {
    "name": "ipython",
    "version": 3
   },
   "file_extension": ".py",
   "mimetype": "text/x-python",
   "name": "python",
   "nbconvert_exporter": "python",
   "pygments_lexer": "ipython3",
   "version": "3.13.0"
  }
 },
 "nbformat": 4,
 "nbformat_minor": 2
}
