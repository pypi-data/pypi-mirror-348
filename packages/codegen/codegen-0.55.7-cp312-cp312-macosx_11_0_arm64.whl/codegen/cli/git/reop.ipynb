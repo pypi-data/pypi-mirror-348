{
 "cells": [
  {
   "cell_type": "code",
   "execution_count": null,
   "metadata": {},
   "outputs": [],
   "source": [
    "# test apply_patch\n",
    "from pygit2 import Diff\n",
    "from pygit2.repository import Repository\n",
    "\n",
    "from codegen.cli.git.patch import apply_patch\n",
    "\n",
    "git_repo = Repository(\"/Users/christinewang/git/customer_repos/codegen-staging\")\n",
    "print(git_repo.path)"
   ]
  }
 ],
 "metadata": {
  "kernelspec": {
   "display_name": ".venv",
   "language": "python",
   "name": "python3"
  },
  "language_info": {
   "codemirror_mode": {
    "name": "ipython",
    "version": 3
   },
   "file_extension": ".py",
   "mimetype": "text/x-python",
   "name": "python",
   "nbconvert_exporter": "python",
   "pygments_lexer": "ipython3",
   "version": "3.13.0"
  }
 },
 "nbformat": 4,
 "nbformat_minor": 2
}
